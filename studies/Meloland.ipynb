{
 "cells": [
  {
   "cell_type": "code",
   "execution_count": 1,
   "id": "1bcbec0b-7cd1-4821-93a5-4932945e00ec",
   "metadata": {},
   "outputs": [],
   "source": [
    "import numpy as np\n",
    "from girder import GirderSection\n",
    "from opensees import section, patch\n",
    "import opensees.render.mpl as render\n",
    "from opensees.units.english import inch, foot"
   ]
  },
  {
   "cell_type": "markdown",
   "id": "e1ee943c-208a-4ae3-9a9a-89087b250e7e",
   "metadata": {},
   "source": [
    "```\n",
    "     ^ y\n",
    "     |   104'    |    104'   |\n",
    "   _____________________________\n",
    "   ##o___________o___________o### __\n",
    "   ##\\          | |         /####  | 17'\n",
    "   z .\\_________|o|________/#####------> x\n",
    "\n",
    "```"
   ]
  },
  {
   "cell_type": "code",
   "execution_count": 2,
   "id": "3d34a14c-4d82-4871-83bc-dd77ac9c7af8",
   "metadata": {},
   "outputs": [
    {
     "data": {
      "image/png": "[encoded data removed]",
      "text/plain": [
       "<Figure size 432x288 with 1 Axes>"
      ]
     },
     "metadata": {
      "needs_background": "light"
     },
     "output_type": "display_data"
    }
   ],
   "source": [
    "sect = GirderSection(\n",
    "    thickness_top  = (7 + 1/3)  * inch,\n",
    "    thickness_bot  = (6 + 1/8)  * inch,\n",
    "    height         =     5.5    * foot,\n",
    "    width_top      =    2*17    * foot,\n",
    "    width_webs     = ([8.0]*4)  * inch,\n",
    "    web_spacing    = 8*foot + 9*inch,\n",
    "    overhang       = 3*foot + 10.5*inch\n",
    "    # web_slope = 0.5\n",
    ")\n",
    "render.section(sect, set_limits=True);#, fix_axes=False);"
   ]
  },
  {
   "cell_type": "code",
   "execution_count": 3,
   "id": "385052e4-fe1a-42ae-bf63-10d8f8b92c9d",
   "metadata": {},
   "outputs": [],
   "source": [
    "Lg    =         104*foot\n",
    "Jg    = 2000000000\n",
    "# Jg    = 364_445_475\n",
    "# Jg    =           np.nan\n",
    "Ag    =   sect.area*inch**2\n",
    "# Igx   =   4_074_000*inch**4\n",
    "# Igy   =  79_510_000*inch**4\n",
    "Igx = sect.ixc\n",
    "Igy = sect.iyc\n",
    "ygc = sect.centroid[1]\n",
    "\n",
    "Lc   =    17*foot + ygc + + 6.125/2*inch\n",
    "Ic   =   10_178_760*inch**4\n",
    "# Jc   =   20_357_520*inch**4\n",
    "Jc    = 2000000000\n",
    "Ac   =       11_310*inch**2\n",
    "\n",
    "E    =    4_074_000  # psi\n",
    "G    =    1_698_000"
   ]
  },
  {
   "cell_type": "markdown",
   "id": "e4b8b655-14a9-4382-8c45-586e9ca21135",
   "metadata": {},
   "source": [
    "### $K$ Matrix"
   ]
  },
  {
   "cell_type": "code",
   "execution_count": 4,
   "id": "840803bf-a354-42bc-b781-b937d67551ef",
   "metadata": {},
   "outputs": [],
   "source": [
    "K  =  np.empty((6,6)) * np.nan\n",
    "\n",
    "# Longitudinal translation\n",
    "K[0,0] = 2*E*Ag/Lg + 12*E*Ic/Lc**3\n",
    "K[0,1] = K[1,0] = 0.0\n",
    "K[0,2] = K[2,0] = 0.0\n",
    "K[0,3] = K[3,0] = 0.0\n",
    "K[0,4] = K[4,0] = 0.0\n",
    "K[0,5] = K[5,0] = 6*E*Ic/Lc**2\n",
    "\n",
    "# Vertical translation\n",
    "K[1,1] = E*Ac/Lc + 24*E*Igx/Lg**3\n",
    "K[1,2] = K[2,1] = 0.0\n",
    "K[1,3] = K[3,1] = 0.0\n",
    "K[1,4] = K[4,1] = 0.0\n",
    "K[1,5] = K[5,1] = 0.0\n",
    "\n",
    "# Transverse translation\n",
    "K[2,2] = 12*E*Ic/Lc**3 + 24*E*Igy/Lg**3\n",
    "K[2,3] = K[3,2] = -6*E*Ic/Lc**2\n",
    "K[2,4] = K[4,2] = 0.0\n",
    "K[2,5] = K[5,2] = 0.0\n",
    "\n",
    "# Section rotation\n",
    "K[3,3] = 2*G*Jg/Lg + 4*E*Ic/Lc\n",
    "K[3,4] = K[4,3] = 0.0\n",
    "K[3,5] = K[5,3] = 0.0\n",
    "\n",
    "# Plan rotation\n",
    "K[4,4] = G*Jc/Lc + 2*4*E*Igy/Lg\n",
    "K[4,5] = K[5,4] = 0.0\n",
    "\n",
    "# Elevation rotation\n",
    "K[5,5] = 4*E*Ic/Lc + 2*4*E*Igx/Lg"
   ]
  },
  {
   "cell_type": "code",
   "execution_count": 5,
   "id": "14807b91-2e8c-4d16-98ce-17cb1d47baf7",
   "metadata": {},
   "outputs": [
    {
     "data": {
      "text/html": [
       "<div>\n",
       "<style scoped>\n",
       "    .dataframe tbody tr th:only-of-type {\n",
       "        vertical-align: middle;\n",
       "    }\n",
       "\n",
       "    .dataframe tbody tr th {\n",
       "        vertical-align: top;\n",
       "    }\n",
       "\n",
       "    .dataframe thead th {\n",
       "        text-align: right;\n",
       "    }\n",
       "</style>\n",
       "<table border=\"1\" class=\"dataframe\">\n",
       "  <thead>\n",
       "    <tr style=\"text-align: right;\">\n",
       "      <th></th>\n",
       "      <th>0</th>\n",
       "      <th>1</th>\n",
       "      <th>2</th>\n",
       "      <th>3</th>\n",
       "      <th>4</th>\n",
       "      <th>5</th>\n",
       "    </tr>\n",
       "  </thead>\n",
       "  <tbody>\n",
       "    <tr>\n",
       "      <th>0</th>\n",
       "      <td>7.717329e+07</td>\n",
       "      <td>0.000000e+00</td>\n",
       "      <td>0.000000e+00</td>\n",
       "      <td>0.000000e+00</td>\n",
       "      <td>0.000000e+00</td>\n",
       "      <td>4.163673e+09</td>\n",
       "    </tr>\n",
       "    <tr>\n",
       "      <th>1</th>\n",
       "      <td>0.000000e+00</td>\n",
       "      <td>1.887206e+08</td>\n",
       "      <td>0.000000e+00</td>\n",
       "      <td>0.000000e+00</td>\n",
       "      <td>0.000000e+00</td>\n",
       "      <td>0.000000e+00</td>\n",
       "    </tr>\n",
       "    <tr>\n",
       "      <th>2</th>\n",
       "      <td>0.000000e+00</td>\n",
       "      <td>0.000000e+00</td>\n",
       "      <td>3.806892e+07</td>\n",
       "      <td>-4.163673e+09</td>\n",
       "      <td>0.000000e+00</td>\n",
       "      <td>0.000000e+00</td>\n",
       "    </tr>\n",
       "    <tr>\n",
       "      <th>3</th>\n",
       "      <td>0.000000e+00</td>\n",
       "      <td>0.000000e+00</td>\n",
       "      <td>-4.163673e+09</td>\n",
       "      <td>6.120856e+12</td>\n",
       "      <td>0.000000e+00</td>\n",
       "      <td>0.000000e+00</td>\n",
       "    </tr>\n",
       "    <tr>\n",
       "      <th>4</th>\n",
       "      <td>0.000000e+00</td>\n",
       "      <td>0.000000e+00</td>\n",
       "      <td>0.000000e+00</td>\n",
       "      <td>0.000000e+00</td>\n",
       "      <td>1.597084e+13</td>\n",
       "      <td>0.000000e+00</td>\n",
       "    </tr>\n",
       "    <tr>\n",
       "      <th>5</th>\n",
       "      <td>4.163673e+09</td>\n",
       "      <td>0.000000e+00</td>\n",
       "      <td>0.000000e+00</td>\n",
       "      <td>0.000000e+00</td>\n",
       "      <td>0.000000e+00</td>\n",
       "      <td>7.982410e+11</td>\n",
       "    </tr>\n",
       "  </tbody>\n",
       "</table>\n",
       "</div>"
      ],
      "text/plain": [
       "              0             1             2             3             4  \\\n",
       "0  7.717329e+07  0.000000e+00  0.000000e+00  0.000000e+00  0.000000e+00   \n",
       "1  0.000000e+00  1.887206e+08  0.000000e+00  0.000000e+00  0.000000e+00   \n",
       "2  0.000000e+00  0.000000e+00  3.806892e+07 -4.163673e+09  0.000000e+00   \n",
       "3  0.000000e+00  0.000000e+00 -4.163673e+09  6.120856e+12  0.000000e+00   \n",
       "4  0.000000e+00  0.000000e+00  0.000000e+00  0.000000e+00  1.597084e+13   \n",
       "5  4.163673e+09  0.000000e+00  0.000000e+00  0.000000e+00  0.000000e+00   \n",
       "\n",
       "              5  \n",
       "0  4.163673e+09  \n",
       "1  0.000000e+00  \n",
       "2  0.000000e+00  \n",
       "3  0.000000e+00  \n",
       "4  0.000000e+00  \n",
       "5  7.982410e+11  "
      ]
     },
     "execution_count": 5,
     "metadata": {},
     "output_type": "execute_result"
    }
   ],
   "source": [
    "import pandas as pd\n",
    "pd.DataFrame(K)"
   ]
  },
  {
   "cell_type": "code",
   "execution_count": 6,
   "id": "37b96f39-3fc7-4e4b-9a2c-a7c8c50d5366",
   "metadata": {},
   "outputs": [
    {
     "data": {
      "text/html": [
       "<div>\n",
       "<style scoped>\n",
       "    .dataframe tbody tr th:only-of-type {\n",
       "        vertical-align: middle;\n",
       "    }\n",
       "\n",
       "    .dataframe tbody tr th {\n",
       "        vertical-align: top;\n",
       "    }\n",
       "\n",
       "    .dataframe thead th {\n",
       "        text-align: right;\n",
       "    }\n",
       "</style>\n",
       "<table border=\"1\" class=\"dataframe\">\n",
       "  <thead>\n",
       "    <tr style=\"text-align: right;\">\n",
       "      <th></th>\n",
       "      <th>0</th>\n",
       "    </tr>\n",
       "  </thead>\n",
       "  <tbody>\n",
       "    <tr>\n",
       "      <th>0</th>\n",
       "      <td>0.000000e+00</td>\n",
       "    </tr>\n",
       "    <tr>\n",
       "      <th>1</th>\n",
       "      <td>0.000000e+00</td>\n",
       "    </tr>\n",
       "    <tr>\n",
       "      <th>2</th>\n",
       "      <td>2.837957e-08</td>\n",
       "    </tr>\n",
       "    <tr>\n",
       "      <th>3</th>\n",
       "      <td>1.930502e-11</td>\n",
       "    </tr>\n",
       "    <tr>\n",
       "      <th>4</th>\n",
       "      <td>0.000000e+00</td>\n",
       "    </tr>\n",
       "    <tr>\n",
       "      <th>5</th>\n",
       "      <td>-0.000000e+00</td>\n",
       "    </tr>\n",
       "  </tbody>\n",
       "</table>\n",
       "</div>"
      ],
      "text/plain": [
       "              0\n",
       "0  0.000000e+00\n",
       "1  0.000000e+00\n",
       "2  2.837957e-08\n",
       "3  1.930502e-11\n",
       "4  0.000000e+00\n",
       "5 -0.000000e+00"
      ]
     },
     "execution_count": 6,
     "metadata": {},
     "output_type": "execute_result"
    }
   ],
   "source": [
    "Pf = np.zeros(6)\n",
    "Pf[2] = 1.0\n",
    "pd.DataFrame(np.linalg.solve(K, Pf))"
   ]
  },
  {
   "cell_type": "markdown",
   "id": "36da0a40-3df3-40ae-b4bd-2d471603591a",
   "metadata": {},
   "source": [
    "## Model"
   ]
  },
  {
   "cell_type": "code",
   "execution_count": 7,
   "id": "b1244bdf-159b-44da-a6aa-14d9d9ebab88",
   "metadata": {},
   "outputs": [],
   "source": [
    "from meloland import meloland"
   ]
  },
  {
   "cell_type": "code",
   "execution_count": 8,
   "id": "a3edede4-0dd6-4735-9586-c1953d0d509e",
   "metadata": {},
   "outputs": [],
   "source": [
    "model = meloland(sect, section.FiberSection(\n",
    "    areas=[patch.circ(extRad=5.0*foot)]))"
   ]
  },
  {
   "cell_type": "code",
   "execution_count": 9,
   "id": "f806c297-a625-41e6-b783-48bc76f3cbb9",
   "metadata": {},
   "outputs": [],
   "source": [
    "import opensees.emit\n",
    "# script = opensees.emit.FEDEAS_Writer(model.apply({})).dump()\n",
    "script = opensees.emit.OpenSeesWriter(model.apply({})).dump()\n",
    "# print(script)"
   ]
  },
  {
   "cell_type": "code",
   "execution_count": 10,
   "id": "01c4b269-68b8-41c8-b4d1-9a4306988d5a",
   "metadata": {},
   "outputs": [
    {
     "data": {
      "text/plain": [
       "'12 13 14 15 16 17 '"
      ]
     },
     "execution_count": 10,
     "metadata": {},
     "output_type": "execute_result"
    }
   ],
   "source": [
    "import opensees.tcl\n",
    "builder = opensees.tcl.BasicBuilder(ndm=3, ndf=6)\n",
    "builder.eval(script)"
   ]
  },
  {
   "cell_type": "code",
   "execution_count": 11,
   "id": "4bed6453-1e3b-46fa-8899-0043c9fca9ec",
   "metadata": {},
   "outputs": [
    {
     "data": {
      "text/plain": [
       "''"
      ]
     },
     "execution_count": 11,
     "metadata": {},
     "output_type": "execute_result"
    }
   ],
   "source": [
    "builder.eval(\"printA -file A.txt\")"
   ]
  },
  {
   "cell_type": "markdown",
   "id": "240575b8-24cc-4bce-a009-a63061374201",
   "metadata": {},
   "source": [
    "## Analysis"
   ]
  },
  {
   "cell_type": "code",
   "execution_count": null,
   "id": "09af114b-6a48-42cc-a9e0-15ecbe690067",
   "metadata": {},
   "outputs": [],
   "source": [
    "def u_sin(t, omega, M):\n",
    "    pass"
   ]
  }
 ],
 "metadata": {
  "kernelspec": {
   "display_name": "Python (elle)",
   "language": "python",
   "name": "elle"
  },
  "language_info": {
   "codemirror_mode": {
    "name": "ipython",
    "version": 3
   },
   "file_extension": ".py",
   "mimetype": "text/x-python",
   "name": "python",
   "nbconvert_exporter": "python",
   "pygments_lexer": "ipython3",
   "version": "3.8.12"
  }
 },
 "nbformat": 4,
 "nbformat_minor": 5
}
