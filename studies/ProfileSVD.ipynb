{
 "cells": [
  {
   "cell_type": "code",
   "execution_count": 1,
   "id": "ff805e39-0a88-4e4f-90fe-75f5e3208289",
   "metadata": {},
   "outputs": [],
   "source": [
    "from pathlib import Path\n",
    "import quakeio\n",
    "# import ssid as si\n",
    "import OKID\n",
    "import numpy as np"
   ]
  },
  {
   "cell_type": "markdown",
   "id": "ac302a83-a15e-4e89-a1fc-5454641505de",
   "metadata": {},
   "source": [
    "The size of a system identification problem is generally characterized by\n",
    "the dimensions $r, \\ell, n, m, p, k_{max}$, where:\n",
    "\n",
    "| Dimension         | Description         |\n",
    "|-------------------|---------------------|\n",
    "| $m$               | number of outputs   |\n",
    "| $n$               | order of the system |\n",
    "| $r$               | number of inputs    |\n",
    "| $p$               | maximum order of the system    |\n",
    "| $n_{0}$           | number of zero singular values |\n",
    "\n",
    "\n",
    "\n",
    "| Structure         | Description         |\n",
    "|-------------------|---------------------|\n",
    "| $H_0$             | Hankel matrix, $mp \\times r (k_{max} - p - \\ell)$ |\n",
    "| $\\mathcal{O}_{p}$ | observability matrix, $p m \\times n$ |\n",
    "\n",
    "\n",
    "\n",
    "Identified bottlenecks for the SRIM algorithm are:\n",
    "1. assembly of the $O$ matrix, and \n",
    "2. solution of the least squares problem.\n",
    "\n",
    "Identified bottlenecks for the OKID-ERA-DC algorithm are:\n",
    "1. Singular value decomposition (SVD) of the Hankel matrix, $H_0$"
   ]
  },
  {
   "cell_type": "markdown",
   "id": "3f075a63-d438-4619-b8f2-7b4d3f40964d",
   "metadata": {},
   "source": [
    "    conda create -n intel intelpython3_core python=3.7"
   ]
  },
  {
   "cell_type": "markdown",
   "id": "dffcc1de-ee2b-4201-a720-9f8b4cce7363",
   "metadata": {},
   "source": [
    "### SVD Algorithms\n",
    "\n",
    "The SVD algorithm is typically quoted at $\\mathcal{O}(mn*\\max (m,n))$ for most practical problems."
   ]
  },
  {
   "cell_type": "markdown",
   "id": "11f3c12c-43f3-4d88-baf3-38c0bfa86dd6",
   "metadata": {},
   "source": [
    "In the `intel` environment, the output of the previous cell is\n",
    "\n",
    "    31.2 s ± 556 ms per loop (mean ± std. dev. of 7 runs, 1 loop each)\n",
    "    \n",
    "In the `elle` environment, the output of the operation is:\n",
    "\n",
    "    2min 52s ± 6.12 s per loop (mean ± std. dev. of 7 runs, 1 loop each)"
   ]
  },
  {
   "cell_type": "markdown",
   "id": "5b644f0f-1c97-43b0-b6e8-a486a6dfc771",
   "metadata": {
    "tags": []
   },
   "source": [
    "## Implementation Details\n",
    "\n",
    "The following command can be used to determine which LAPACK and BLAS libraries are being linked to:\n",
    "\n",
    "    ldd ~/miniconda3/envs/intel/lib/python3.7/site-packages/numpy/core/_multiarray_umath.cpython-37m-x86_64-linux-gnu.so\n",
    "\n"
   ]
  },
  {
   "cell_type": "code",
   "execution_count": 6,
   "id": "2d128b9f-21c4-4b49-8e08-323c75e0b368",
   "metadata": {
    "tags": []
   },
   "outputs": [],
   "source": [
    "channels = dict( # PAINTER RIO DELL\n",
    "    inputs  = [17, 3, 20],\n",
    "    outputs = [ 9, 7 , 4]\n",
    ")\n",
    "file = list(Path(\"painter\").glob(\"RioDell_P*.zip\"))[0]\n",
    "event = quakeio.read(file)\n",
    "inputs = [\n",
    "    event.match(\"r\", file_name=f\".*{chan}.*\").accel\n",
    "    for chan in channels[\"inputs\"]\n",
    "]\n",
    "outpts = [\n",
    "    event.match(\"r\", file_name=f\".*{chan}.*\").accel\n",
    "    for chan in channels[\"outputs\"]\n",
    "]\n",
    "dt = inputs[0][\"time_step\"]"
   ]
  },
  {
   "cell_type": "code",
   "execution_count": 4,
   "id": "22aec9a4-02b0-4bd8-872d-6a2aabe4c665",
   "metadata": {
    "tags": []
   },
   "outputs": [
    {
     "name": "stdout",
     "output_type": "stream",
     "text": [
      "Begin SVD\n",
      "End SVD\n",
      "Begin SVD\n",
      "End SVD\n",
      "Begin SVD\n",
      "End SVD\n",
      "Begin SVD\n",
      "End SVD\n",
      "Begin SVD\n",
      "End SVD\n",
      "Begin SVD\n",
      "End SVD\n",
      "Begin SVD\n",
      "End SVD\n",
      "Begin SVD\n",
      "End SVD\n",
      "2min 52s ± 6.12 s per loop (mean ± std. dev. of 7 runs, 1 loop each)\n"
     ]
    }
   ],
   "source": [
    "%timeit V = OKID.okid(inputs, outpts, dt=dt, kmax=500, mro=10, orm=4, verbose=True)\n",
    "# A,B,C,D = OKID.okid(inputs, outpts, dt=dt, kmax=500, mro=10, orm=4, verbose=True)"
   ]
  },
  {
   "cell_type": "code",
   "execution_count": null,
   "id": "d0f13af1-9577-4caa-bda4-59619057da7b",
   "metadata": {},
   "outputs": [],
   "source": []
  }
 ],
 "metadata": {
  "kernelspec": {
   "display_name": "Python (elle)",
   "language": "python",
   "name": "elle"
  },
  "language_info": {
   "codemirror_mode": {
    "name": "ipython",
    "version": 3
   },
   "file_extension": ".py",
   "mimetype": "text/x-python",
   "name": "python",
   "nbconvert_exporter": "python",
   "pygments_lexer": "ipython3",
   "version": "3.8.12"
  }
 },
 "nbformat": 4,
 "nbformat_minor": 5
}
