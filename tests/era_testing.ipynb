{
 "cells": [
  {
   "cell_type": "code",
   "execution_count": 11,
   "metadata": {},
   "outputs": [],
   "source": [
    "import numpy as np\n",
    "import scipy.io\n",
    "import scipy.linalg\n",
    "from scipy import signal\n",
    "from scipy.linalg import fractional_matrix_power as matpow\n",
    "from ssid import okid, ExtractModes\n",
    "from control.matlab import * #need for \"ss\"\n",
    "from control.matlab import impulse as _impulse\n",
    "def impulse(*args, **kwds):\n",
    "    a,t = _impulse(*args, **kwds)\n",
    "    return a.squeeze(),t \n",
    "from matplotlib import pyplot as plt\n"
   ]
  },
  {
   "attachments": {},
   "cell_type": "markdown",
   "metadata": {},
   "source": [
    "# Test ERA on Brunton Data"
   ]
  },
  {
   "cell_type": "code",
   "execution_count": 12,
   "metadata": {},
   "outputs": [
    {
     "name": "stdout",
     "output_type": "stream",
     "text": [
      "(2, 2, 52)\n"
     ]
    }
   ],
   "source": [
    "# Load data\n",
    "p = 2   # Number of outputs\n",
    "q = 2   # Number of inputs\n",
    "n = 100 # State dimension (Number of structural dofs x 2)\n",
    "r = 10  # Reduced model order ()\n",
    "dt = 1  # Timestep\n",
    "bruntondata = scipy.io.loadmat(\"./brunton_matlab/brunton_data.mat\")\n",
    "yImpulseFull = bruntondata['yFull']\n",
    "yImpulse = bruntondata['YY']\n",
    "uRandom = bruntondata['uRandom']\n",
    "yRandom = bruntondata['yRandom']\n",
    "print(yImpulse.shape)"
   ]
  },
  {
   "cell_type": "code",
   "execution_count": 13,
   "metadata": {},
   "outputs": [],
   "source": [
    "# okid.okid(yRandom,uRandom,dt=1,kmax=200,orm=52,mro=100)"
   ]
  },
  {
   "attachments": {},
   "cell_type": "markdown",
   "metadata": {},
   "source": [
    "Dimensions\n",
    "- p = Number of outputs (measured dof or ndof)\n",
    "- q = Number of inputs (ngdof)\n",
    "- n = State dimension (2ndof)\n",
    "- r = Reduced model order (choose)\n",
    "\n",
    "Full model\n",
    "- Dimensions of $\\mathbf{A}$: n x n\n",
    "- Dimensions of $\\mathbf{B}$: n x q\n",
    "- Dimensions of $\\mathbf{C}$: p x n\n",
    "- Dimensions of $\\mathbf{D}$: p x q\n",
    "\n",
    "Reduced model\n",
    "- Dimensions of $\\mathbf{\\tilde{A}}$: r x r\n",
    "- Dimensions of $\\mathbf{\\tilde{B}}$: r x q\n",
    "- Dimensions of $\\mathbf{\\tilde{C}}$: p x r\n",
    "- Dimensions of $\\mathbf{\\tilde{D}}$: p x q"
   ]
  },
  {
   "cell_type": "code",
   "execution_count": 14,
   "metadata": {},
   "outputs": [],
   "source": [
    "# example state evolution with unit impulse input\n",
    "\n",
    "from sympy.matrices import Matrix, eye\n",
    "B = Matrix(np.array([['a','b','c'],['d','e','f'],['g','h','i']]))\n",
    "u1 = Matrix([1,0,0])\n",
    "u2 = Matrix([0,1,0])\n",
    "u3 = Matrix([0,0,1])\n",
    "U = eye(3)\n",
    "\n",
    "Bu1 = Matrix(B*u1).T\n",
    "Bu2 = Matrix(B*u2).T\n",
    "Bu3 = Matrix(B*u3).T\n",
    "\n",
    "# display(\"B = \", B)\n",
    "# display(\"U = \", U)\n",
    "# display(\"u1 = \", u1)\n",
    "# display(\"u2 = \", u2)\n",
    "# display(\"u3 = \", u3)\n",
    "# display(\"[Bu1, Bu2, Bu3] = \", Bu1.T.row_join(Bu2.T.row_join(Bu3.T)))\n",
    "# display(\"BU = \", B*U)\n",
    "\n",
    "# print(\"this illustrates that the desired impulse response (Y) is the matrix\",\n",
    "#       \"where each column corresponds to the column vector of output response (yi)\",\n",
    "#       \"corresponding to an input column vector where the ith element is one\",\n",
    "#       \"and all others are zero (ui).\")"
   ]
  },
  {
   "cell_type": "code",
   "execution_count": 15,
   "metadata": {},
   "outputs": [
    {
     "name": "stdout",
     "output_type": "stream",
     "text": [
      "(2, 2, 52)\n"
     ]
    }
   ],
   "source": [
    "## Compute ERA from brunton's impulse response\n",
    "mco = int(np.floor((yImpulse.shape[2]-1)/2)) # m_o = m_c = (nt-1)/2\n",
    "print(yImpulse.shape)\n",
    "Ar,Br,Cr,Dr,HSVs = okid.era(yImpulse,mco,mco,p,q,r)\n",
    "sysERA = ss(Ar,Br,Cr,Dr,dt)"
   ]
  },
  {
   "attachments": {},
   "cell_type": "markdown",
   "metadata": {},
   "source": [
    "# Impulse Response Experiment 1: Single Column, Different Directions"
   ]
  },
  {
   "cell_type": "code",
   "execution_count": 16,
   "metadata": {},
   "outputs": [],
   "source": [
    "## Load impulse response data from hayward opensees\n",
    "# exp = \"changecol\"\n",
    "exp = \"changedof\"\n",
    "\n",
    "input11  = np.loadtxt(\"./hwd_ops_impulse/\"+exp+\"/u1_u1.txt\")\n",
    "input21  = np.loadtxt(\"./hwd_ops_impulse/\"+exp+\"/u2_u1.txt\")\n",
    "output11 = np.loadtxt(\"./hwd_ops_impulse/\"+exp+\"/y1_u2.txt\")\n",
    "output21 = np.loadtxt(\"./hwd_ops_impulse/\"+exp+\"/y2_u2.txt\")\n",
    "\n",
    "input12  = np.loadtxt(\"./hwd_ops_impulse/\"+exp+\"/u1_u2.txt\")\n",
    "input22  = np.loadtxt(\"./hwd_ops_impulse/\"+exp+\"/u2_u2.txt\")\n",
    "output12 = np.loadtxt(\"./hwd_ops_impulse/\"+exp+\"/y1_u2.txt\")\n",
    "output22 = np.loadtxt(\"./hwd_ops_impulse/\"+exp+\"/y2_u2.txt\")\n",
    "nt = len(input11)\n",
    "dt = 0.1\n"
   ]
  },
  {
   "cell_type": "code",
   "execution_count": 17,
   "metadata": {},
   "outputs": [
    {
     "data": {
      "image/png": "[encoded data removed]",
      "text/plain": [
       "<Figure size 576x432 with 4 Axes>"
      ]
     },
     "metadata": {
      "needs_background": "light"
     },
     "output_type": "display_data"
    }
   ],
   "source": [
    "fig, ax = plt.subplots(2,2, figsize=(8,6), constrained_layout=True)\n",
    "ax[0,0].plot(np.arange(start=0,stop=dt*nt,step=dt), input11)\n",
    "ax[0,0].set_ylabel(r\"$u_{1}$ from $u_{1}$\", fontsize=20)\n",
    "ax[0,1].plot(np.arange(start=0,stop=dt*nt,step=dt), input21)\n",
    "ax[0,1].set_ylabel(r\"$u_{2}$ from $u_{1}$\", fontsize=20)\n",
    "ax[1,0].plot(np.arange(start=0,stop=dt*nt,step=dt), output11)\n",
    "ax[1,0].set_ylabel(r\"$y_{1}$ from $u_{1}$\", fontsize=20)\n",
    "ax[1,1].plot(np.arange(start=0,stop=dt*nt,step=dt), output21)\n",
    "ax[1,1].set_ylabel(r\"$y_{2}$ from $u_{1}$\", fontsize=20);"
   ]
  },
  {
   "cell_type": "code",
   "execution_count": 18,
   "metadata": {},
   "outputs": [
    {
     "data": {
      "image/png": "[encoded data removed]",
      "text/plain": [
       "<Figure size 576x432 with 4 Axes>"
      ]
     },
     "metadata": {
      "needs_background": "light"
     },
     "output_type": "display_data"
    }
   ],
   "source": [
    "fig, ax = plt.subplots(2,2, figsize=(8,6), constrained_layout=True)\n",
    "ax[0,0].plot(np.arange(start=0,stop=dt*nt,step=dt), input12)\n",
    "ax[0,0].set_ylabel(r\"$u_{1}$ from $u_{2}$\", fontsize=20)\n",
    "ax[0,1].plot(np.arange(start=0,stop=dt*nt,step=dt), input22)\n",
    "ax[0,1].set_ylabel(r\"$u_{2}$ from $u_{2}$\", fontsize=20)\n",
    "ax[1,0].plot(np.arange(start=0,stop=dt*nt,step=dt), output12)\n",
    "ax[1,0].set_ylabel(r\"$y_{1}$ from $u_{2}$\", fontsize=20)\n",
    "ax[1,1].plot(np.arange(start=0,stop=dt*nt,step=dt), output22)\n",
    "ax[1,1].set_ylabel(r\"$y_{2}$ from $u_{2}$\", fontsize=20);"
   ]
  },
  {
   "cell_type": "code",
   "execution_count": 19,
   "metadata": {},
   "outputs": [
    {
     "name": "stdout",
     "output_type": "stream",
     "text": [
      "(2, 2, 1000)\n"
     ]
    }
   ],
   "source": [
    "# Construct output data array\n",
    "yOpsImpulse = np.array([[output11,output12],[output21,output22]])\n",
    "print(yOpsImpulse.shape)"
   ]
  },
  {
   "cell_type": "code",
   "execution_count": 23,
   "metadata": {},
   "outputs": [
    {
     "ename": "AssertionError",
     "evalue": "",
     "output_type": "error",
     "traceback": [
      "\u001b[1;31m---------------------------------------------------------------------------\u001b[0m",
      "\u001b[1;31mAssertionError\u001b[0m                            Traceback (most recent call last)",
      "\u001b[1;32m~\\AppData\\Local\\Temp/ipykernel_51808/1586163597.py\u001b[0m in \u001b[0;36m<module>\u001b[1;34m\u001b[0m\n\u001b[0;32m      7\u001b[0m \u001b[0msysERA2\u001b[0m \u001b[1;33m=\u001b[0m \u001b[0msignal\u001b[0m\u001b[1;33m.\u001b[0m\u001b[0mStateSpace\u001b[0m\u001b[1;33m(\u001b[0m\u001b[0mAr\u001b[0m\u001b[1;33m,\u001b[0m\u001b[0mBr\u001b[0m\u001b[1;33m,\u001b[0m\u001b[0mCr\u001b[0m\u001b[1;33m,\u001b[0m\u001b[0mDr\u001b[0m\u001b[1;33m,\u001b[0m \u001b[0mdt\u001b[0m\u001b[1;33m=\u001b[0m\u001b[0mdt\u001b[0m\u001b[1;33m)\u001b[0m\u001b[1;33m\u001b[0m\u001b[1;33m\u001b[0m\u001b[0m\n\u001b[0;32m      8\u001b[0m \u001b[0mY\u001b[0m \u001b[1;33m=\u001b[0m \u001b[0mmarkov\u001b[0m\u001b[1;33m.\u001b[0m\u001b[0mokid\u001b[0m\u001b[1;33m(\u001b[0m\u001b[0moutput22\u001b[0m\u001b[1;33m,\u001b[0m\u001b[0minput12\u001b[0m\u001b[1;33m,\u001b[0m\u001b[0mnt\u001b[0m\u001b[1;33m)\u001b[0m\u001b[1;33m\u001b[0m\u001b[1;33m\u001b[0m\u001b[0m\n\u001b[1;32m----> 9\u001b[1;33m \u001b[0mA\u001b[0m\u001b[1;33m,\u001b[0m\u001b[0mB\u001b[0m\u001b[1;33m,\u001b[0m\u001b[0mC\u001b[0m\u001b[1;33m,\u001b[0m\u001b[0mD\u001b[0m\u001b[1;33m,\u001b[0m\u001b[0mHSVs\u001b[0m \u001b[1;33m=\u001b[0m \u001b[0mokid\u001b[0m\u001b[1;33m.\u001b[0m\u001b[0mera\u001b[0m\u001b[1;33m(\u001b[0m\u001b[0mY\u001b[0m\u001b[1;33m,\u001b[0m\u001b[0mmco\u001b[0m\u001b[1;33m,\u001b[0m\u001b[0mmco\u001b[0m\u001b[1;33m,\u001b[0m\u001b[0mp\u001b[0m\u001b[1;33m,\u001b[0m\u001b[0mq\u001b[0m\u001b[1;33m,\u001b[0m\u001b[0mr\u001b[0m\u001b[1;33m)\u001b[0m\u001b[1;33m\u001b[0m\u001b[1;33m\u001b[0m\u001b[0m\n\u001b[0m\u001b[0;32m     10\u001b[0m \u001b[0msysOKIDERA\u001b[0m \u001b[1;33m=\u001b[0m \u001b[0mss\u001b[0m\u001b[1;33m(\u001b[0m\u001b[0mA\u001b[0m\u001b[1;33m,\u001b[0m\u001b[0mB\u001b[0m\u001b[1;33m,\u001b[0m\u001b[0mC\u001b[0m\u001b[1;33m,\u001b[0m\u001b[0mD\u001b[0m\u001b[1;33m,\u001b[0m\u001b[0mdt\u001b[0m\u001b[1;33m)\u001b[0m\u001b[1;33m\u001b[0m\u001b[1;33m\u001b[0m\u001b[0m\n",
      "\u001b[1;32m~\\Documents\\GitHub\\SystemIdentification\\src\\ssid\\okid.py\u001b[0m in \u001b[0;36mera\u001b[1;34m(Y, mo, mc, p, q, r)\u001b[0m\n\u001b[0;32m    102\u001b[0m     \u001b[0mDr\u001b[0m \u001b[1;33m=\u001b[0m \u001b[0mY\u001b[0m\u001b[1;33m[\u001b[0m\u001b[1;33m:\u001b[0m\u001b[1;33m,\u001b[0m\u001b[1;33m:\u001b[0m\u001b[1;33m,\u001b[0m\u001b[1;36m0\u001b[0m\u001b[1;33m]\u001b[0m  \u001b[1;31m# first block of output data\u001b[0m\u001b[1;33m\u001b[0m\u001b[1;33m\u001b[0m\u001b[0m\n\u001b[0;32m    103\u001b[0m \u001b[1;33m\u001b[0m\u001b[0m\n\u001b[1;32m--> 104\u001b[1;33m     \u001b[1;32massert\u001b[0m \u001b[0mY\u001b[0m\u001b[1;33m.\u001b[0m\u001b[0mshape\u001b[0m\u001b[1;33m[\u001b[0m\u001b[1;33m:\u001b[0m\u001b[1;36m2\u001b[0m\u001b[1;33m]\u001b[0m \u001b[1;33m==\u001b[0m \u001b[1;33m(\u001b[0m\u001b[0mp\u001b[0m\u001b[1;33m,\u001b[0m\u001b[0mq\u001b[0m\u001b[1;33m)\u001b[0m  \u001b[1;31m# sanity check that we're passing in the right output data\u001b[0m\u001b[1;33m\u001b[0m\u001b[1;33m\u001b[0m\u001b[0m\n\u001b[0m\u001b[0;32m    105\u001b[0m     \u001b[1;32massert\u001b[0m \u001b[0mY\u001b[0m\u001b[1;33m.\u001b[0m\u001b[0mshape\u001b[0m\u001b[1;33m[\u001b[0m\u001b[1;36m2\u001b[0m\u001b[1;33m]\u001b[0m \u001b[1;33m>=\u001b[0m \u001b[0mmo\u001b[0m\u001b[1;33m+\u001b[0m\u001b[0mmc\u001b[0m   \u001b[1;31m# make sure there are enough timesteps to assemble this size of Hankel matrix\u001b[0m\u001b[1;33m\u001b[0m\u001b[1;33m\u001b[0m\u001b[0m\n\u001b[0;32m    106\u001b[0m \u001b[1;33m\u001b[0m\u001b[0m\n",
      "\u001b[1;31mAssertionError\u001b[0m: "
     ]
    }
   ],
   "source": [
    "## Compute ERA from impulse response\n",
    "from ssid import markov\n",
    "r = 20\n",
    "mco = int(np.floor((yOpsImpulse.shape[2]-1)/2)) # m_o = m_c = (nt-1)/2\n",
    "Ar,Br,Cr,Dr,HSVs = okid.era(yOpsImpulse,mco,mco,p,q,r)\n",
    "sysERA = ss(Ar,Br,Cr,Dr,dt)\n",
    "sysERA2 = signal.StateSpace(Ar,Br,Cr,Dr, dt=dt)\n",
    "Y = markov.okid(output22,input12,nt)\n",
    "A,B,C,D,HSVs = okid.era(Y,mco,mco,p,q,r)\n",
    "sysOKIDERA = ss(A,B,C,D,dt)"
   ]
  },
  {
   "cell_type": "code",
   "execution_count": null,
   "metadata": {},
   "outputs": [],
   "source": [
    "dt = 0.1\n",
    "fig, ax = plt.subplots(2,2, figsize=(14,6), constrained_layout=True)\n",
    "yERA = np.zeros((1000,p,q))\n",
    "for i in range(q):\n",
    "    yERA[:,:,i],times = impulse(sysERA,np.arange(start=0,stop=100,step=dt),input=i)\n",
    "    # yERA[:,:,i],times = signal.impulse(sysERA2)\n",
    "\n",
    "ax[0,0].step(times, output11/dt, label='original')\n",
    "ax[0,0].step(times,yERA[:,0,0], '--')\n",
    "ax[0,0].set_ylabel(r\"$y_{1}$ from $u_{1}$\", fontsize=15)\n",
    "ax[0,1].step(times, output12/dt, label='original')\n",
    "ax[0,1].step(times,yERA[:,0,1], '--')\n",
    "ax[0,1].set_ylabel(r\"$y_{1}$ from $u_{2}$\", fontsize=15)\n",
    "ax[1,0].step(times, output21/dt, label='original')\n",
    "ax[1,0].step(times,yERA[:,1,0], '--')\n",
    "ax[1,0].set_ylabel(r\"$y_{2}$ from $u_{1}$\", fontsize=15)\n",
    "ax[1,1].step(times, output22/dt, label='original')\n",
    "ax[1,1].step(times,yERA[:,1,1], '--', label=f'ERA, {r=}')\n",
    "ax[1,1].set_ylabel(r\"$y_{2}$ from $u_{2}$\", fontsize=15)\n",
    "ax[1,1].legend(fontsize=15)\n",
    "for axi in ax:\n",
    "    for axj in axi:\n",
    "        axj.set_xlim(0,10)\n",
    "for i in range(2):\n",
    "    ax[-1,i].set_xlabel(\"time (s)\", fontsize=18)\n",
    "fig.supylabel(r\"acceleration (in/s$^2$)\", fontsize=18);"
   ]
  },
  {
   "cell_type": "code",
   "execution_count": null,
   "metadata": {},
   "outputs": [],
   "source": [
    "freqdmp, modeshape, _, _, _, = ExtractModes.ComposeModes(0.1, Ar, Br, Cr, Dr)\n",
    "print('Periods:', [1/f for f in sorted(freqdmp[:,0])])"
   ]
  },
  {
   "cell_type": "code",
   "execution_count": null,
   "metadata": {},
   "outputs": [],
   "source": [
    "modes = ExtractModes.modes(0.1, Ar, Cr)\n",
    "n_modes = 5\n",
    "\n",
    "from collections import defaultdict\n",
    "ImpulsePeriods = defaultdict(dict)\n",
    "ImpulsePeriods[exp] = [1/f for f in sorted([modes[str(i)]['freq'] for i in list(modes.keys())])]\n",
    "print('Periods:', ImpulsePeriods[exp])\n",
    "\n",
    "for i in list(modes.keys()):\n",
    "    print(\"Mode:\", str(i))\n",
    "    print(\"Condition Number:\", modes[str(i)]['cnd'])\n",
    "    print(\"Period:\", 1/modes[str(i)]['freq'])\n",
    "    print(\"Damping:\", modes[str(i)]['damp'])\n",
    "    print(\"Mode Shape:\", modes[str(i)]['modeshape'])\n",
    "\n",
    "\n",
    "print(ImpulsePeriods[exp])\n",
    "print(exp)"
   ]
  },
  {
   "cell_type": "code",
   "execution_count": null,
   "metadata": {},
   "outputs": [],
   "source": [
    "## ERA/DC\n",
    "r = 50\n",
    "l = 0\n",
    "g = 1\n",
    "a = 0\n",
    "b = 0\n",
    "mco = int(np.floor((yOpsImpulse.shape[2]-1-l-(a+1+b+1)*g)/2)) # m_o = m_c = (nt-1-l-(a+b)*g)/2\n",
    "print(mco)\n",
    "Ar,Br,Cr,Dr,HSVs = okid.era_dc(yOpsImpulse,mco,mco,p,q,r,l,g,a,b)\n",
    "sysERADC = ss(Ar,Br,Cr,Dr,dt)"
   ]
  },
  {
   "cell_type": "code",
   "execution_count": null,
   "metadata": {},
   "outputs": [],
   "source": [
    "dt = 0.1\n",
    "fig, ax = plt.subplots(2,2, figsize=(14,6), constrained_layout=True)\n",
    "yERADC = np.zeros((1000,p,q))\n",
    "for i in range(q):\n",
    "    yERADC[:,:,i],times = impulse(sysERADC,np.arange(start=0,stop=100,step=dt),input=i)\n",
    "    # yERA[:,:,i],times = signal.impulse(sysERA2)\n",
    "\n",
    "ax[0,0].step(times, output11/dt, label='original')\n",
    "ax[0,0].step(times,yERA[:,0,0], '--')\n",
    "ax[0,0].step(times,yERADC[:,0,0], '--')\n",
    "ax[0,0].set_ylabel(r\"$y_{1}$ from $u_{1}$\", fontsize=15)\n",
    "ax[0,1].step(times, output12/dt, label='original')\n",
    "ax[0,1].step(times,yERA[:,0,1], '--')\n",
    "ax[0,1].step(times,yERADC[:,0,1], '--')\n",
    "ax[0,1].set_ylabel(r\"$y_{1}$ from $u_{2}$\", fontsize=15)\n",
    "ax[1,0].step(times, output21/dt, label='original')\n",
    "ax[1,0].step(times,yERA[:,1,0], '--')\n",
    "ax[1,0].step(times,yERADC[:,1,0], '--')\n",
    "ax[1,0].set_ylabel(r\"$y_{2}$ from $u_{1}$\", fontsize=15)\n",
    "ax[1,1].step(times, output22/dt, label='original')\n",
    "ax[1,1].step(times,yERA[:,1,1], '--', label=f'ERA, {r=}')\n",
    "ax[1,1].step(times,yERADC[:,1,1], '--', label=f'ERA/DC, {r=}, {l=}, {g=}, {a=}, {b=}')\n",
    "ax[1,1].set_ylabel(r\"$y_{2}$ from $u_{2}$\", fontsize=15)\n",
    "ax[1,1].legend(fontsize=15)\n",
    "for axi in ax:\n",
    "    for axj in axi:\n",
    "        axj.set_xlim(0,10)\n",
    "for i in range(2):\n",
    "    ax[-1,i].set_xlabel(\"time (s)\", fontsize=18)\n",
    "fig.supylabel(r\"acceleration (in/s$^2$)\", fontsize=18);"
   ]
  },
  {
   "cell_type": "code",
   "execution_count": null,
   "metadata": {},
   "outputs": [],
   "source": [
    "modes = ExtractModes.modes(0.1, Ar, Cr)\n",
    "n_modes = 5\n",
    "periods = [1/f for f in sorted([modes[str(i)]['freq'] for i in list(modes.keys())])]\n",
    "print('Periods:', periods)\n",
    "periodsops = np.loadtxt(\"./hwd_ops_impulse/PeriodsPostG.txt\")[:8]\n",
    "print('Periods Opensees:', periodsops)\n",
    "ImpulsePeriods['changedof']"
   ]
  },
  {
   "attachments": {},
   "cell_type": "markdown",
   "metadata": {},
   "source": [
    "# Impulse Response Experiment 2: 2 Columns, Same Direction"
   ]
  },
  {
   "cell_type": "code",
   "execution_count": null,
   "metadata": {},
   "outputs": [],
   "source": [
    "## Load impulse response data from hayward opensees\n",
    "exp = \"changecol\"\n",
    "# exp = \"changedof\"\n",
    "\n",
    "input11  = np.loadtxt(\"./hwd_ops_impulse/\"+exp+\"/u1_u1.txt\")\n",
    "input21  = np.loadtxt(\"./hwd_ops_impulse/\"+exp+\"/u2_u1.txt\")\n",
    "output11 = np.loadtxt(\"./hwd_ops_impulse/\"+exp+\"/y1_u2.txt\")\n",
    "output21 = np.loadtxt(\"./hwd_ops_impulse/\"+exp+\"/y2_u2.txt\")\n",
    "\n",
    "input12  = np.loadtxt(\"./hwd_ops_impulse/\"+exp+\"/u1_u2.txt\")\n",
    "input22  = np.loadtxt(\"./hwd_ops_impulse/\"+exp+\"/u2_u2.txt\")\n",
    "output12 = np.loadtxt(\"./hwd_ops_impulse/\"+exp+\"/y1_u2.txt\")\n",
    "output22 = np.loadtxt(\"./hwd_ops_impulse/\"+exp+\"/y2_u2.txt\")\n",
    "nt = len(input11)\n",
    "dt = 0.1\n"
   ]
  },
  {
   "cell_type": "code",
   "execution_count": null,
   "metadata": {},
   "outputs": [],
   "source": [
    "fig, ax = plt.subplots(2,2, figsize=(8,6), constrained_layout=True)\n",
    "ax[0,0].plot(np.arange(start=0,stop=dt*nt,step=dt), input11)\n",
    "ax[0,0].set_ylabel(r\"$u_{1}$ from $u_{1}$\", fontsize=20)\n",
    "ax[0,1].plot(np.arange(start=0,stop=dt*nt,step=dt), input21)\n",
    "ax[0,1].set_ylabel(r\"$u_{2}$ from $u_{1}$\", fontsize=20)\n",
    "ax[1,0].plot(np.arange(start=0,stop=dt*nt,step=dt), output11)\n",
    "ax[1,0].set_ylabel(r\"$y_{1}$ from $u_{1}$\", fontsize=20)\n",
    "ax[1,1].plot(np.arange(start=0,stop=dt*nt,step=dt), output21)\n",
    "ax[1,1].set_ylabel(r\"$y_{2}$ from $u_{1}$\", fontsize=20);"
   ]
  },
  {
   "cell_type": "code",
   "execution_count": null,
   "metadata": {},
   "outputs": [],
   "source": [
    "fig, ax = plt.subplots(2,2, figsize=(8,6), constrained_layout=True)\n",
    "ax[0,0].plot(np.arange(start=0,stop=dt*nt,step=dt), input12)\n",
    "ax[0,0].set_ylabel(r\"$u_{1}$ from $u_{2}$\", fontsize=20)\n",
    "ax[0,1].plot(np.arange(start=0,stop=dt*nt,step=dt), input22)\n",
    "ax[0,1].set_ylabel(r\"$u_{2}$ from $u_{2}$\", fontsize=20)\n",
    "ax[1,0].plot(np.arange(start=0,stop=dt*nt,step=dt), output12)\n",
    "ax[1,0].set_ylabel(r\"$y_{1}$ from $u_{2}$\", fontsize=20)\n",
    "ax[1,1].plot(np.arange(start=0,stop=dt*nt,step=dt), output22)\n",
    "ax[1,1].set_ylabel(r\"$y_{2}$ from $u_{2}$\", fontsize=20);"
   ]
  },
  {
   "cell_type": "code",
   "execution_count": null,
   "metadata": {},
   "outputs": [],
   "source": [
    "# Construct output data array\n",
    "yOpsImpulse = np.array([[output11,output12],[output21,output22]])\n",
    "print(yOpsImpulse.shape)"
   ]
  },
  {
   "cell_type": "code",
   "execution_count": null,
   "metadata": {},
   "outputs": [],
   "source": [
    "## Compute ERA from impulse response\n",
    "r = 20\n",
    "mco = int(np.floor((yOpsImpulse.shape[2]-1)/2)) # m_o = m_c = (nt-1)/2\n",
    "Ar,Br,Cr,Dr,HSVs = okid.era(yOpsImpulse,mco,mco,p,q,r)\n",
    "sysERA = ss(Ar,Br,Cr,Dr,dt)"
   ]
  },
  {
   "cell_type": "code",
   "execution_count": null,
   "metadata": {},
   "outputs": [],
   "source": [
    "dt = 0.1\n",
    "fig, ax = plt.subplots(2,2, figsize=(14,6), constrained_layout=True)\n",
    "yERA = np.zeros((1000,p,q))\n",
    "for i in range(q):\n",
    "    yERA[:,:,i],times = impulse(sysERA,np.arange(start=0,stop=100,step=dt),input=i)\n",
    "\n",
    "ax[0,0].step(times, output11/dt, label='original')\n",
    "ax[0,0].step(times,yERA[:,0,0], '--')\n",
    "ax[0,0].set_ylabel(r\"$y_{1}$ from $u_{1}$\", fontsize=15)\n",
    "ax[0,1].step(times, output12/dt, label='original')\n",
    "ax[0,1].step(times,yERA[:,0,1], '--')\n",
    "ax[0,1].set_ylabel(r\"$y_{1}$ from $u_{2}$\", fontsize=15)\n",
    "ax[1,0].step(times, output21/dt, label='original')\n",
    "ax[1,0].step(times,yERA[:,1,0], '--')\n",
    "ax[1,0].set_ylabel(r\"$y_{2}$ from $u_{1}$\", fontsize=15)\n",
    "ax[1,1].step(times, output22/dt, label='original')\n",
    "ax[1,1].step(times,yERA[:,1,1], '--', label=f'ERA, {r=}')\n",
    "ax[1,1].set_ylabel(r\"$y_{2}$ from $u_{2}$\", fontsize=15)\n",
    "ax[1,1].legend(fontsize=15)\n",
    "for axi in ax:\n",
    "    for axj in axi:\n",
    "        axj.set_xlim(0,10)\n",
    "for i in range(2):\n",
    "    ax[-1,i].set_xlabel(\"time (s)\", fontsize=18)\n",
    "fig.supylabel(r\"acceleration (in/s$^2$)\", fontsize=18);"
   ]
  },
  {
   "cell_type": "code",
   "execution_count": null,
   "metadata": {},
   "outputs": [],
   "source": [
    "freqdmp, modeshape, _, _, _, = ExtractModes.ComposeModes(0.1, Ar, Br, Cr, Dr)\n",
    "print('Periods:', [1/f for f in sorted(freqdmp[:,0])])"
   ]
  },
  {
   "cell_type": "code",
   "execution_count": null,
   "metadata": {},
   "outputs": [],
   "source": [
    "modes = ExtractModes.modes(0.1, Ar, Cr)\n",
    "n_modes = 5\n",
    "\n",
    "ImpulsePeriods[exp] = [1/f for f in sorted([modes[str(i)]['freq'] for i in list(modes.keys())])]\n",
    "print('Periods:', ImpulsePeriods[exp])\n",
    "\n",
    "for i in list(modes.keys()):\n",
    "    print(\"Mode:\", str(i))\n",
    "    print(\"Condition Number:\", modes[str(i)]['cnd'])\n",
    "    print(\"Period:\", 1/modes[str(i)]['freq'])\n",
    "    print(\"Damping:\", modes[str(i)]['damp'])\n",
    "    print(\"Mode Shape:\", modes[str(i)]['modeshape'])"
   ]
  },
  {
   "attachments": {},
   "cell_type": "markdown",
   "metadata": {},
   "source": [
    "# Modal Identification from Impulse Response Experiments"
   ]
  },
  {
   "cell_type": "code",
   "execution_count": null,
   "metadata": {},
   "outputs": [],
   "source": [
    "# nModes = len(Periods['ops'])\n",
    "nModes = 5\n",
    "ImpulsePeriods['ops'] = np.loadtxt(\"./hwd_ops_impulse/PeriodsPostG.txt\")[:nModes]\n",
    "\n",
    "fig, ax = plt.subplots(figsize=(9,5), tight_layout=True)\n",
    "prop_cycle = plt.rcParams['axes.prop_cycle']\n",
    "colors = prop_cycle.by_key()['color']\n",
    "ind = np.arange(nModes)\n",
    "width = 0.25\n",
    "ax.bar(ind-width, ImpulsePeriods['ops'], width, label=\"original (numerical model eigensolution)\", color=\"lightgray\", edgecolor=\"k\", linewidth=0.5)\n",
    "ax.bar(ind, ImpulsePeriods['changedof'][:nModes], width, label=r\"predicted by ERA with IO$_{1}$\", color=colors[0], edgecolor=\"k\", linewidth=0.5)\n",
    "ax.bar(ind+width, ImpulsePeriods['changecol'][:nModes], width, label=r\"predicted by ERA with IO$_{2}$\", color=colors[1], edgecolor=\"k\", linewidth=0.5)\n",
    "ax.set_xticklabels(np.arange(nModes+1))\n",
    "ax.set_ylim((0,1.6))\n",
    "ax.set_xlabel('Mode', fontsize=15)\n",
    "ax.set_ylabel('Period (s)', fontsize=15)\n",
    "ax.tick_params(axis='x', labelsize=13, bottom=False)\n",
    "ax.tick_params(axis='y', labelsize=13)\n",
    "ax.legend(fontsize=13)\n",
    "rects = ax.patches\n",
    "height = rects[0].get_height()\n",
    "ax.text(rects[0].get_x() + 3*width/2, height+0.1, r\"IO$_{1}$\", ha=\"center\", va=\"bottom\", fontsize=14);\n",
    "ax.text(rects[0].get_x() + 5*width/2, height+0.1, r\"IO$_{2}$\", ha=\"center\", va=\"bottom\", fontsize=14);"
   ]
  },
  {
   "attachments": {},
   "cell_type": "markdown",
   "metadata": {},
   "source": [
    "# Real Time History Data"
   ]
  },
  {
   "cell_type": "code",
   "execution_count": null,
   "metadata": {},
   "outputs": [],
   "source": [
    "# See the real response data to test\n",
    "\n",
    "import pickle\n",
    "from numpy import pi\n",
    "from datetime import datetime\n",
    "from CE58658.utilities import husid\n",
    "\n",
    "with open('../../CalTrans.Hayward/Studies/rawRHs.dat', 'rb') as f:\n",
    "    rawRHs = pickle.load(f)\n",
    "\n",
    "def plotSensorRH(rawRHs, event_date, channel_numbers, dt, windowed=False):   \n",
    "    event = rawRHs[event_date]\n",
    "\n",
    "    accel_unit_label = r\"$\\ddot{u}$ (g)\"\n",
    "    accel_scale = 1/980.665\n",
    "    displ_unit_label = r\"$u$ (in)\"\n",
    "    displ_scale = 1/2.54\n",
    "\n",
    "    fig, ax = plt.subplots(len(channel_numbers), 2, figsize=(12,1.75*len(channel_numbers)), constrained_layout=True)\n",
    "    if dt is not None:\n",
    "        x_units = \"s\"\n",
    "    else:\n",
    "        dt = 1.0\n",
    "        x_units = \"timestep\"\n",
    "    sensorRH0 = event['24']['accel']*accel_scale\n",
    "    times = dt*np.arange(len(sensorRH0))\n",
    "    if windowed:\n",
    "        window = husid(sensorRH0, False, dt, lb=0.025, ub=0.975)\n",
    "        times = times[window[0]:window[1]]\n",
    "    else:\n",
    "        window = [0,len(sensorRH0)]\n",
    "        fig, ax = plt.subplots(1,2,figsize=(15,3))\n",
    "\n",
    "    accels = defaultdict(dict)\n",
    "    for i,nm in enumerate(channel_numbers):\n",
    "        accel_series = event[nm]['accel'][window[0]:window[1]]*accel_scale\n",
    "        accels[nm] = event[nm]['accel']*accel_scale\n",
    "        displ_series = event[nm]['displ'][window[0]:window[1]]*displ_scale\n",
    "        direction = event[nm]['direction']\n",
    "        channel_name = event[nm]['channel_name']\n",
    "        ax[i,0].plot(times, accel_series, linewidth=0.75)\n",
    "        ax[i,0].set_ylabel(f\"{accel_unit_label}\")\n",
    "        ax[i,0].set_title(f\"Channel {nm} ({channel_name}) ({direction})\")\n",
    "        ax[i,1].plot(times, displ_series, linewidth=0.75)\n",
    "        ax[i,1].set_ylabel(f\"{displ_unit_label}\")\n",
    "        ax[i,1].set_title(f\"Channel {nm} ({channel_name}) ({direction})\")\n",
    "    ax[-1,0].set_xlabel(f\"time ({x_units})\")\n",
    "    ax[-1,1].set_xlabel(f\"time ({x_units})\")\n",
    "    fig.suptitle(f\"Response History of {datetime.strptime(event_date, '%Y-%m-%dT%H:%M:%S')}\")\n",
    "    fig.align_labels()\n",
    "    plt.show()\n",
    "    return accels\n",
    "\n",
    "\n",
    "CHANNELS = {\n",
    "# channel node dof rotationangle locationname\n",
    "    \"1\": (1031, 3, 37.66*pi/180, \"abutment_1\"),\n",
    "    \"2\": (1031, 2, 37.66*pi/180, \"abutment_1\"),\n",
    "    \"3\": (1031, 1, 37.66*pi/180, \"abutment_1\"),\n",
    "    \"6\": (307, 1, 31.02*pi/180, \"bent_3_south_column_grnd_level\"),\n",
    "    \"7\": (307, 2, 31.02*pi/180, \"bent_3_south_column_grnd_level\"),\n",
    "    \"11\": (1030, 3, 37.66*pi/180, \"deck_level_near_abut_1\"),\n",
    "    \"12\": (1030, 1, 37.66*pi/180, \"deck_level_near_abut_1\"),\n",
    "    \"13\": (1030, 2, 37.66*pi/180, \"deck_level_near_abut_1\"),\n",
    "    \"14\": (304, 1, 31.02*pi/180, \"bent_3_deck_level\"),\n",
    "    \"15\": (304, 2, 31.02*pi/180, \"bent_3_deck_level\"),\n",
    "    # \"16\": (30003, 3, ((31.02+26.26)/2)*pi/180, \"midspan_between_bents_3_4_deck\"),\n",
    "    \"17\": (401, 1, 26.26*pi/180, \"bent_4_north_column_grnd_level\"),\n",
    "    \"18\": (401, 2, 26.26*pi/180, \"bent_4_north_column_grnd_level\"),\n",
    "    \"19\": (402, 1, 26.26*pi/180, \"bent_4_north_column_top\"),\n",
    "    \"20\": (402, 2, 26.26*pi/180, \"bent_4_north_column_top\"),\n",
    "    \"21\": (405, 3, 26.26*pi/180, \"bent_4_deck_level\"),\n",
    "    \"22\": (405, 1, 26.26*pi/180, \"bent_4_deck_level\"),\n",
    "    \"23\": (405, 2, 26.26*pi/180, \"bent_4_deck_level\"),\n",
    "    \"24\": (407, 1, 26.26*pi/180, \"bent_4_south_column_grnd_level\"),\n",
    "    \"25\": (407, 2, 26.26*pi/180, \"bent_4_south_column_grnd_level\")\n",
    "}\n",
    "\n",
    "full_channel_list = list(CHANNELS.keys())\n",
    "\n",
    "event_dates = ['2021-06-24T00:15:00', '2021-06-29T01:29:00', '2021-07-23T15:59:00', '2021-08-03T19:52:00']\n",
    "accelRHs = defaultdict(dict)\n",
    "for event_date in event_dates:\n",
    "    # accelRHs[event_date] = plotSensorRH(rawRHs, event_date, [\"18\", \"25\", \"20\", \"23\"], 0.01, windowed=True)\n",
    "    accelRHs[event_date] = plotSensorRH(rawRHs, event_date, full_channel_list, 0.01, windowed=True)"
   ]
  },
  {
   "attachments": {},
   "cell_type": "markdown",
   "metadata": {},
   "source": [
    "# TH Experiment: Event 1 (6/24)"
   ]
  },
  {
   "cell_type": "code",
   "execution_count": null,
   "metadata": {},
   "outputs": [],
   "source": [
    "## Load time history response data\n",
    "exp = \"exp1\" # 6/24\n",
    "i = 0\n",
    "print(event_dates[i])\n",
    "\n",
    "cgs_input   = accelRHs[event_dates[i]]['18']\n",
    "window = husid(cgs_input, False, dt, lb=0.03, ub=0.9)\n",
    "cgs_input = cgs_input[window[0]:window[1]]\n",
    "ops_input   = np.loadtxt(\"./hwd_ops_th/\"+exp+\"/u.txt\")[window[0]:window[1]]/386.088583\n",
    "cgs_output1 = accelRHs[event_dates[i]]['20'][window[0]:window[1]]\n",
    "ops_output1 = np.loadtxt(\"./hwd_ops_th/\"+exp+\"/y1.txt\")[window[0]:window[1]]/386.088583\n",
    "cgs_output2 = accelRHs[event_dates[i]]['23'][window[0]:window[1]]\n",
    "ops_output2 = np.loadtxt(\"./hwd_ops_th/\"+exp+\"/y2.txt\")[window[0]:window[1]]/386.088583\n",
    "\n",
    "nt = len(cgs_input)\n",
    "print(nt)\n",
    "dt = 0.01"
   ]
  },
  {
   "cell_type": "code",
   "execution_count": null,
   "metadata": {},
   "outputs": [],
   "source": [
    "fig, ax = plt.subplots(2,2, figsize=(8,6), constrained_layout=True)\n",
    "ax[0,0].plot(np.arange(start=0,stop=dt*nt,step=dt), cgs_input)\n",
    "ax[0,0].plot(np.arange(start=0,stop=dt*nt,step=dt), ops_input)\n",
    "ax[0,0].set_ylabel(r\"$u_{1}$ from $u_{1}$\", fontsize=14)\n",
    "ax[1,0].plot(np.arange(start=0,stop=dt*nt,step=dt), cgs_output1)\n",
    "ax[1,0].plot(np.arange(start=0,stop=dt*nt,step=dt), ops_output1)\n",
    "ax[1,0].set_ylabel(r\"$y_{1}$ from $u_{1}$\", fontsize=14)\n",
    "ax[1,1].plot(np.arange(start=0,stop=dt*nt,step=dt), cgs_output2, label='sensor')\n",
    "ax[1,1].plot(np.arange(start=0,stop=dt*nt,step=dt), ops_output2, label='numerical')\n",
    "ax[1,1].set_ylabel(r\"$y_{2}$ from $u_{1}$\", fontsize=14)\n",
    "ax[1,1].legend(fontsize=12)\n",
    "for i in range(2):\n",
    "    ax[-1,i].set_xlabel(\"time (s)\", fontsize=14)\n",
    "fig.supylabel(\"acceleration (g)\", fontsize=14);"
   ]
  },
  {
   "cell_type": "code",
   "execution_count": null,
   "metadata": {},
   "outputs": [],
   "source": [
    "# Construct output data array\n",
    "yOpsTH = np.array([[ops_output1],[ops_output2]])\n",
    "yCGSTH = np.array([[cgs_output1],[cgs_output2]])\n",
    "print(yOpsTH.shape)\n",
    "print(yCGSTH.shape)"
   ]
  },
  {
   "cell_type": "code",
   "execution_count": null,
   "metadata": {},
   "outputs": [],
   "source": [
    "StateSpaces = defaultdict(dict)"
   ]
  },
  {
   "cell_type": "code",
   "execution_count": null,
   "metadata": {},
   "outputs": [],
   "source": [
    "## Compute ERA from TH response\n",
    "r = 20\n",
    "p = 2\n",
    "q = 1\n",
    "print((p,q))\n",
    "mco = int(np.floor((yOpsTH.shape[2]-1)/2)) # m_o = m_c = (nt-1)/2\n",
    "print(mco)\n",
    "# mco=1000\n",
    "StateSpaces[exp]['ops'] = okid.era(yOpsTH,mco,mco,p,q,r)\n",
    "StateSpaces[exp]['cgs'] = okid.era(yCGSTH,mco,mco,p,q,r)"
   ]
  },
  {
   "cell_type": "code",
   "execution_count": null,
   "metadata": {},
   "outputs": [],
   "source": [
    "Ar,Br,Cr,Dr,HSVs = StateSpaces[exp]['ops']\n",
    "sysERA_ops = ss(Ar,Br,Cr,Dr,dt)\n",
    "Ar,Br,Cr,Dr,HSVs = StateSpaces[exp]['cgs']\n",
    "sysERA_cgs = ss(Ar,Br,Cr,Dr,dt)\n",
    "\n",
    "yERA_ops = np.zeros((nt,p,q))\n",
    "yERA_cgs = np.zeros((nt,p,q))\n",
    "for i in range(q):\n",
    "    yERA_ops[:,:,i],times = impulse(sysERA_ops,np.arange(start=0,stop=nt*dt,step=dt),input=i)\n",
    "    yERA_cgs[:,:,i],times = impulse(sysERA_cgs,np.arange(start=0,stop=nt*dt,step=dt),input=i)\n",
    "\n",
    "fig, ax = plt.subplots(1,2, figsize=(12,3), constrained_layout=True)\n",
    "ax[0].step(times, ops_output1/dt)\n",
    "ax[0].step(times, yERA_ops[:,0,0], '--')\n",
    "ax[0].set_ylabel(r\"$y_{1}$\", fontsize=14)\n",
    "ax[1].step(times, ops_output2/dt, label='numerical')\n",
    "ax[1].step(times, yERA_ops[:,1,0], '--', label=f'numerical ERA, {r=}')\n",
    "ax[1].set_ylabel(r\"$y_{2}$\", fontsize=14)\n",
    "ax[1].legend(fontsize=12)\n",
    "for axi in ax:\n",
    "    axi.set_xlim(0,nt*dt)\n",
    "    axi.set_xlabel(\"time (s)\", fontsize=14)\n",
    "fig.supylabel(\"acceleration (g)\", fontsize=14)\n",
    "\n",
    "fig, ax = plt.subplots(1,2, figsize=(12,3), constrained_layout=True)\n",
    "ax[0].step(times, cgs_output1/dt)\n",
    "ax[0].step(times, yERA_cgs[:,0,0], '--')\n",
    "ax[0].set_ylabel(r\"$y_{1}$\", fontsize=14)\n",
    "ax[1].step(times, cgs_output2/dt, label='sensor')\n",
    "ax[1].step(times, yERA_cgs[:,1,0], '--', label=f'sensor ERA, {r=}')\n",
    "ax[1].set_ylabel(r\"$y_{2}$\", fontsize=14)\n",
    "ax[1].legend(fontsize=12)\n",
    "for axi in ax:\n",
    "    axi.set_xlim(0,nt*dt)\n",
    "    axi.set_xlabel(\"time (s)\", fontsize=14)\n",
    "fig.supylabel(\"acceleration (g)\", fontsize=14);"
   ]
  },
  {
   "cell_type": "code",
   "execution_count": null,
   "metadata": {},
   "outputs": [],
   "source": [
    "Periods = defaultdict(dict)"
   ]
  },
  {
   "cell_type": "code",
   "execution_count": null,
   "metadata": {},
   "outputs": [],
   "source": [
    "Ar,Br,Cr,Dr,HSVs = StateSpaces[exp]['ops']\n",
    "modes_ops = ExtractModes.modes(dt, Ar, Cr)\n",
    "Periods[exp]['ops'] = [1/f for f in sorted([modes_ops[i]['freq'] for i in list(modes_ops.keys())])]\n",
    "# print([d for d in sorted([modes_ops[str(i)]['damp'] for i in list(modes_ops.keys())])])\n",
    "print('Opensees Periods:', Periods[exp]['ops'])\n",
    "Ar,Br,Cr,Dr,HSVs = StateSpaces[exp]['cgs']\n",
    "modes_cgs = ExtractModes.modes(dt, Ar, Cr)\n",
    "Periods[exp]['cgs'] = [1/f for f in sorted([modes_cgs[i]['freq'] for i in list(modes_cgs.keys())])]\n",
    "print('CGS Periods:', Periods[exp]['cgs'])"
   ]
  },
  {
   "attachments": {},
   "cell_type": "markdown",
   "metadata": {},
   "source": [
    "# TH Experiment: Event 2 (6/29)"
   ]
  },
  {
   "cell_type": "code",
   "execution_count": null,
   "metadata": {},
   "outputs": [],
   "source": [
    "## Load time history response data\n",
    "exp = \"exp2\" # 6/29\n",
    "i = 1\n",
    "print(event_dates[i])\n",
    "\n",
    "cgs_input   = accelRHs[event_dates[i]]['18']\n",
    "window = husid(cgs_input, False, dt, lb=0.02, ub=0.995)\n",
    "cgs_input = cgs_input[window[0]:window[1]]\n",
    "ops_input   = np.loadtxt(\"./hwd_ops_th/\"+exp+\"/u.txt\")[window[0]:window[1]]/386.088583\n",
    "cgs_output1 = accelRHs[event_dates[i]]['20'][window[0]:window[1]]\n",
    "ops_output1 = np.loadtxt(\"./hwd_ops_th/\"+exp+\"/y1.txt\")[window[0]:window[1]]/386.088583\n",
    "cgs_output2 = accelRHs[event_dates[i]]['23'][window[0]:window[1]]\n",
    "ops_output2 = np.loadtxt(\"./hwd_ops_th/\"+exp+\"/y2.txt\")[window[0]:window[1]]/386.088583\n",
    "\n",
    "nt = len(cgs_input)\n",
    "dt = 0.01"
   ]
  },
  {
   "cell_type": "code",
   "execution_count": null,
   "metadata": {},
   "outputs": [],
   "source": [
    "fig, ax = plt.subplots(2,2, figsize=(8,6), constrained_layout=True)\n",
    "ax[0,0].plot(np.arange(start=0,stop=dt*nt,step=dt), cgs_input)\n",
    "ax[0,0].plot(np.arange(start=0,stop=dt*nt,step=dt), ops_input)\n",
    "ax[0,0].set_ylabel(r\"$u_{1}$ from $u_{1}$\", fontsize=14)\n",
    "ax[1,0].plot(np.arange(start=0,stop=dt*nt,step=dt), cgs_output1)\n",
    "ax[1,0].plot(np.arange(start=0,stop=dt*nt,step=dt), ops_output1)\n",
    "ax[1,0].set_ylabel(r\"$y_{1}$ from $u_{1}$\", fontsize=14)\n",
    "ax[1,1].plot(np.arange(start=0,stop=dt*nt,step=dt), cgs_output2, label='sensor')\n",
    "ax[1,1].plot(np.arange(start=0,stop=dt*nt,step=dt), ops_output2, label='numerical')\n",
    "ax[1,1].set_ylabel(r\"$y_{2}$ from $u_{1}$\", fontsize=14)\n",
    "ax[1,1].legend(fontsize=12)\n",
    "for i in range(2):\n",
    "    ax[-1,i].set_xlabel(\"time (s)\", fontsize=14)\n",
    "fig.supylabel(\"acceleration (g)\", fontsize=14);"
   ]
  },
  {
   "cell_type": "code",
   "execution_count": null,
   "metadata": {},
   "outputs": [],
   "source": [
    "# Construct output data array\n",
    "yOpsTH = np.array([[ops_output1],[ops_output2]])\n",
    "yCGSTH = np.array([[cgs_output1],[cgs_output2]])\n",
    "print(yOpsTH.shape)\n",
    "print(yCGSTH.shape)"
   ]
  },
  {
   "cell_type": "code",
   "execution_count": null,
   "metadata": {},
   "outputs": [],
   "source": [
    "u = ops_input[None,:]\n",
    "plt.plot(u[0,:])\n",
    "\n",
    "y = yOpsTH.reshape(yOpsTH.shape[0],yOpsTH.shape[2])\n",
    "plt.plot(y[0,:])\n",
    "plt.plot(y[1,:]);"
   ]
  },
  {
   "cell_type": "code",
   "execution_count": null,
   "metadata": {},
   "outputs": [],
   "source": [
    "## Get impulse response (Markov parameters)\n",
    "\n",
    "yImpulseOps = okid.OKID_brunton(y, u, 300)\n",
    "\n",
    "yImpulseOps.shape\n"
   ]
  },
  {
   "cell_type": "code",
   "execution_count": null,
   "metadata": {},
   "outputs": [],
   "source": [
    "u = ops_input[None,:]\n",
    "plt.plot(u[0,:], label='input')\n",
    "\n",
    "y = yOpsTH.reshape(yOpsTH.shape[0],yOpsTH.shape[2])\n",
    "plt.plot(yImpulseOps[0,:], label='calculated output 1')\n",
    "plt.plot(yImpulseOps[1,:], label='calculated output 2')\n",
    "plt.plot(y[0,:], label='output 1')\n",
    "plt.plot(y[1,:], label='ouptut 2')\n",
    "plt.ylim((-0.03,0.03))\n",
    "plt.legend();"
   ]
  },
  {
   "cell_type": "code",
   "execution_count": null,
   "metadata": {},
   "outputs": [],
   "source": [
    "## Compute ERA from TH response\n",
    "r = 20\n",
    "p = 2\n",
    "q = 1\n",
    "print((p,q))\n",
    "mco = int(np.floor((yOpsTH.shape[2]-1)/2)) # m_o = m_c = (nt-1)/2\n",
    "StateSpaces[exp]['ops'] = okid.era(yOpsTH,mco,mco,p,q,r)\n",
    "StateSpaces[exp]['cgs'] = okid.era(yCGSTH,mco,mco,p,q,r)\n",
    "# StateSpaces[exp]['cgs2'] = okid._era_ya(mco,p,yCGSTH.shape[0],q,yCGSTH,r)"
   ]
  },
  {
   "cell_type": "code",
   "execution_count": null,
   "metadata": {},
   "outputs": [],
   "source": [
    "Ar,Br,Cr,Dr,HSVs = StateSpaces[exp]['ops']\n",
    "sysERA_ops = ss(Ar,Br,Cr,Dr,dt)\n",
    "Ar,Br,Cr,Dr,HSVs = StateSpaces[exp]['cgs']\n",
    "sysERA_cgs = ss(Ar,Br,Cr,Dr,dt)\n",
    "\n",
    "yERA_ops = np.zeros((nt,p,q))\n",
    "yERA_cgs = np.zeros((nt,p,q))\n",
    "for i in range(q):\n",
    "    yERA_ops[:,:,i],times = impulse(sysERA_ops,np.arange(start=0,stop=nt*dt,step=dt),input=i)\n",
    "    yERA_cgs[:,:,i],times = impulse(sysERA_cgs,np.arange(start=0,stop=nt*dt,step=dt),input=i)\n",
    "\n",
    "fig, ax = plt.subplots(1,2, figsize=(8,3), constrained_layout=True)\n",
    "ax[0].step(times, ops_output1/dt)\n",
    "ax[0].step(times, yERA_ops[:,0,0], '--')\n",
    "ax[0].set_ylabel(r\"$y_{1}$\", fontsize=14)\n",
    "ax[1].step(times, ops_output2/dt, label='numerical')\n",
    "ax[1].step(times, yERA_ops[:,1,0], '--', label=f'numerical ERA, {r=}')\n",
    "ax[1].set_ylabel(r\"$y_{2}$\", fontsize=14)\n",
    "ax[1].legend(fontsize=12)\n",
    "for axi in ax:\n",
    "    axi.set_xlim(0,nt*dt)\n",
    "    axi.set_xlabel(\"time (s)\", fontsize=14)\n",
    "fig.supylabel(\"acceleration (g)\", fontsize=14)\n",
    "\n",
    "fig, ax = plt.subplots(1,2, figsize=(8,3), constrained_layout=True)\n",
    "ax[0].step(times, cgs_output1/dt)\n",
    "ax[0].step(times, yERA_cgs[:,0,0], '--')\n",
    "ax[0].set_ylabel(r\"$y_{1}$\", fontsize=14)\n",
    "ax[1].step(times, cgs_output2/dt, label='sensor')\n",
    "ax[1].step(times, yERA_cgs[:,1,0], '--', label=f'sensor ERA, {r=}')\n",
    "ax[1].set_ylabel(r\"$y_{2}$\", fontsize=14)\n",
    "ax[1].legend(fontsize=12)\n",
    "\n",
    "for axi in ax:\n",
    "    axi.set_xlim(0,nt*dt)\n",
    "    axi.set_xlabel(\"time (s)\", fontsize=14)\n",
    "fig.supylabel(\"acceleration (g)\", fontsize=14);"
   ]
  },
  {
   "cell_type": "code",
   "execution_count": null,
   "metadata": {},
   "outputs": [],
   "source": [
    "Ar,Br,Cr,Dr,HSVs = StateSpaces[exp]['ops']\n",
    "modes_ops = ExtractModes.modes(dt, Ar, Cr)\n",
    "Periods[exp]['ops'] = [1/f for f in sorted([modes_ops[i]['freq'] for i in list(modes_ops.keys())])]\n",
    "# print([d for d in sorted([modes_ops[str(i)]['damp'] for i in list(modes_ops.keys())])])\n",
    "print('Opensees Periods:', Periods[exp]['ops'])\n",
    "Ar,Br,Cr,Dr,HSVs = StateSpaces[exp]['cgs']\n",
    "modes_cgs = ExtractModes.modes(dt, Ar, Cr)\n",
    "Periods[exp]['cgs'] = [1/f for f in sorted([modes_cgs[i]['freq'] for i in list(modes_cgs.keys())])]\n",
    "print('CGS Periods:', Periods[exp]['cgs'])\n",
    "# Ar,Br,Cr,Dr,HSVs = StateSpaces[exp]['cgs2']\n",
    "modes_cgs2 = ExtractModes.modes(dt, Ar, Cr)\n",
    "Periods[exp]['cgs2'] = [1/f for f in sorted([modes_cgs2[i]['freq'] for i in list(modes_cgs2.keys())])]\n",
    "# print('CGS Periods2:', Periods[exp]['cgs2'])"
   ]
  },
  {
   "attachments": {},
   "cell_type": "markdown",
   "metadata": {},
   "source": [
    "# TH Experiment: Event 3 (7/23)"
   ]
  },
  {
   "cell_type": "code",
   "execution_count": null,
   "metadata": {},
   "outputs": [],
   "source": [
    "## Load time history response data\n",
    "exp = \"exp3\" # 7/23\n",
    "i = 2\n",
    "print(event_dates[i])\n",
    "\n",
    "cgs_input   = accelRHs[event_dates[i]]['18']\n",
    "window = husid(cgs_input, False, dt, lb=0.1, ub=0.9)\n",
    "cgs_input = cgs_input[window[0]:window[1]]\n",
    "ops_input   = np.loadtxt(\"./hwd_ops_th/\"+exp+\"/u.txt\")[window[0]:window[1]]/386.088583\n",
    "cgs_output1 = accelRHs[event_dates[i]]['20'][window[0]:window[1]]\n",
    "ops_output1 = np.loadtxt(\"./hwd_ops_th/\"+exp+\"/y1.txt\")[window[0]:window[1]]/386.088583\n",
    "cgs_output2 = accelRHs[event_dates[i]]['23'][window[0]:window[1]]\n",
    "ops_output2 = np.loadtxt(\"./hwd_ops_th/\"+exp+\"/y2.txt\")[window[0]:window[1]]/386.088583\n",
    "\n",
    "nt = len(cgs_input)\n",
    "dt = 0.01"
   ]
  },
  {
   "cell_type": "code",
   "execution_count": null,
   "metadata": {},
   "outputs": [],
   "source": [
    "fig, ax = plt.subplots(2,2, figsize=(8,6), constrained_layout=True)\n",
    "ax[0,0].plot(np.arange(start=0,stop=dt*nt,step=dt), cgs_input)\n",
    "ax[0,0].plot(np.arange(start=0,stop=dt*nt,step=dt), ops_input)\n",
    "ax[0,0].set_ylabel(r\"$u_{1}$ from $u_{1}$\", fontsize=14)\n",
    "ax[1,0].plot(np.arange(start=0,stop=dt*nt,step=dt), cgs_output1)\n",
    "ax[1,0].plot(np.arange(start=0,stop=dt*nt,step=dt), ops_output1)\n",
    "ax[1,0].set_ylabel(r\"$y_{1}$ from $u_{1}$\", fontsize=14)\n",
    "ax[1,1].plot(np.arange(start=0,stop=dt*nt,step=dt), cgs_output2, label='sensor')\n",
    "ax[1,1].plot(np.arange(start=0,stop=dt*nt,step=dt), ops_output2, label='numerical')\n",
    "ax[1,1].set_ylabel(r\"$y_{2}$ from $u_{1}$\", fontsize=14)\n",
    "ax[1,1].legend(fontsize=12)\n",
    "for i in range(2):\n",
    "    ax[-1,i].set_xlabel(\"time (s)\", fontsize=14)\n",
    "fig.supylabel(\"acceleration (g)\", fontsize=14);"
   ]
  },
  {
   "cell_type": "code",
   "execution_count": null,
   "metadata": {},
   "outputs": [],
   "source": [
    "# Construct output data array\n",
    "yOpsTH = np.array([[ops_output1],[ops_output2]])\n",
    "yCGSTH = np.array([[cgs_output1],[cgs_output2]])\n",
    "print(yOpsTH.shape)\n",
    "print(yCGSTH.shape)"
   ]
  },
  {
   "cell_type": "code",
   "execution_count": null,
   "metadata": {},
   "outputs": [],
   "source": [
    "## Compute ERA from TH response\n",
    "r = 20\n",
    "p = 2\n",
    "q = 1\n",
    "print((p,q))\n",
    "mco = int(np.floor((yOpsTH.shape[2]-1)/2)) # m_o = m_c = (nt-1)/2\n",
    "StateSpaces[exp]['ops'] = okid.era(yOpsTH,mco,mco,p,q,r)\n",
    "StateSpaces[exp]['cgs'] = okid.era(yCGSTH,mco,mco,p,q,r)"
   ]
  },
  {
   "cell_type": "code",
   "execution_count": null,
   "metadata": {},
   "outputs": [],
   "source": [
    "Ar,Br,Cr,Dr,HSVs = StateSpaces['exp3']['ops']\n",
    "sysERA_ops = ss(Ar,Br,Cr,Dr,dt)\n",
    "Ar,Br,Cr,Dr,HSVs = StateSpaces['exp3']['cgs']\n",
    "sysERA_cgs = ss(Ar,Br,Cr,Dr,dt)\n",
    "Ar1,Br1,Cr1,Dr1,HSVs1 = StateSpaces['exp2']['ops']\n",
    "sysERA_ops1 = ss(Ar1,Br1,Cr1,Dr1,dt)\n",
    "\n",
    "yERA_ops = np.zeros((nt,p,q))\n",
    "yERA_ops1 = np.zeros((nt,p,q))\n",
    "yERA_cgs = np.zeros((nt,p,q))\n",
    "for i in range(q):\n",
    "    yERA_cgs[:,:,i],times = impulse(sysERA_cgs,np.arange(start=0,stop=nt*dt,step=dt),input=i)\n",
    "    yERA_ops[:,:,i],times = impulse(sysERA_ops,np.arange(start=0,stop=nt*dt,step=dt),input=i)\n",
    "    yERA_ops1[:,:,i],times = impulse(sysERA_ops1,np.arange(start=0,stop=nt*dt,step=dt),input=i)\n",
    "\n",
    "fig, ax = plt.subplots(1,2, figsize=(8,3), constrained_layout=True)\n",
    "ax[0].step(times, ops_output1/dt)\n",
    "ax[0].step(times, yERA_ops[:,0,0], '--')\n",
    "# ax[0].step(times, yERA_ops1[:,0,0], '--')\n",
    "ax[0].set_ylabel(r\"$y_{1}$\", fontsize=14)\n",
    "ax[1].step(times, ops_output2/dt, label='numerical')\n",
    "ax[1].step(times, yERA_ops[:,1,0], '--', label=f'numerical ERA, {r=}')\n",
    "# ax[1].step(times, yERA_ops1[:,1,0], '--', label=f'numerical ERA, {r=}')\n",
    "ax[1].set_ylabel(r\"$y_{2}$\", fontsize=14)\n",
    "ax[1].legend(fontsize=12)\n",
    "for axi in ax:\n",
    "    axi.set_xlim(0,13)\n",
    "    # axi.set_ylim(-1,1)\n",
    "    # axi.set_xlim(0,nt*dt)\n",
    "    axi.set_xlabel(\"time (s)\", fontsize=14)\n",
    "fig.supylabel(\"acceleration (g)\", fontsize=14)\n",
    "\n",
    "fig, ax = plt.subplots(1,2, figsize=(8,3), constrained_layout=True)\n",
    "ax[0].step(times, cgs_output1/dt)\n",
    "ax[0].step(times, yERA_cgs[:,0,0], '--')\n",
    "ax[0].set_ylabel(r\"$y_{1}$\", fontsize=14)\n",
    "ax[1].step(times, cgs_output2/dt, label='sensor')\n",
    "ax[1].step(times, yERA_cgs[:,1,0], '--', label=f'sensor ERA, {r=}')\n",
    "ax[1].set_ylabel(r\"$y_{2}$\", fontsize=14)\n",
    "ax[1].legend(fontsize=12)\n",
    "\n",
    "for axi in ax:\n",
    "    axi.set_xlim(0,nt*dt)\n",
    "    axi.set_xlabel(\"time (s)\", fontsize=14)\n",
    "fig.supylabel(\"acceleration (g)\", fontsize=14);"
   ]
  },
  {
   "cell_type": "code",
   "execution_count": null,
   "metadata": {},
   "outputs": [],
   "source": [
    "Ar,Br,Cr,Dr,HSVs = StateSpaces[exp]['ops']\n",
    "modes_ops = ExtractModes.modes(dt, Ar, Cr)\n",
    "Periods[exp]['ops'] = [1/f for f in sorted([modes_ops[i]['freq'] for i in list(modes_ops.keys())])]\n",
    "# print([d for d in sorted([modes_ops[str(i)]['damp'] for i in list(modes_ops.keys())])])\n",
    "print('Opensees Periods:', Periods[exp]['ops'])\n",
    "Ar,Br,Cr,Dr,HSVs = StateSpaces[exp]['cgs']\n",
    "modes_cgs = ExtractModes.modes(dt, Ar, Cr)\n",
    "Periods[exp]['cgs'] = [1/f for f in sorted([modes_cgs[i]['freq'] for i in list(modes_cgs.keys())])]\n",
    "print('CGS Periods:', Periods[exp]['cgs'])"
   ]
  },
  {
   "attachments": {},
   "cell_type": "markdown",
   "metadata": {},
   "source": [
    "# TH Experiment: Event 4 (8/3)"
   ]
  },
  {
   "cell_type": "code",
   "execution_count": null,
   "metadata": {},
   "outputs": [],
   "source": [
    "## Load time history response data\n",
    "exp = \"exp4\" # 8/3\n",
    "i = 3\n",
    "print(event_dates[i])\n",
    "\n",
    "cgs_input   = accelRHs[event_dates[i]]['18']\n",
    "window = husid(cgs_input, False, dt, lb=0.1, ub=0.9)\n",
    "cgs_input = cgs_input[window[0]:window[1]]\n",
    "ops_input   = np.loadtxt(\"./hwd_ops_th/\"+exp+\"/u.txt\")[window[0]:window[1]]/386.088583\n",
    "cgs_output1 = accelRHs[event_dates[i]]['20'][window[0]:window[1]]\n",
    "ops_output1 = np.loadtxt(\"./hwd_ops_th/\"+exp+\"/y1.txt\")[window[0]:window[1]]/386.088583\n",
    "cgs_output2 = accelRHs[event_dates[i]]['23'][window[0]:window[1]]\n",
    "ops_output2 = np.loadtxt(\"./hwd_ops_th/\"+exp+\"/y2.txt\")[window[0]:window[1]]/386.088583\n",
    "\n",
    "nt = len(cgs_input)\n",
    "dt = 0.01"
   ]
  },
  {
   "cell_type": "code",
   "execution_count": null,
   "metadata": {},
   "outputs": [],
   "source": [
    "fig, ax = plt.subplots(2,2, figsize=(8,6), constrained_layout=True)\n",
    "ax[0,0].plot(np.arange(start=0,stop=dt*nt,step=dt), cgs_input)\n",
    "ax[0,0].plot(np.arange(start=0,stop=dt*nt,step=dt), ops_input)\n",
    "ax[0,0].set_ylabel(r\"$u_{1}$ from $u_{1}$\", fontsize=14)\n",
    "ax[1,0].plot(np.arange(start=0,stop=dt*nt,step=dt), cgs_output1)\n",
    "ax[1,0].plot(np.arange(start=0,stop=dt*nt,step=dt), ops_output1)\n",
    "ax[1,0].set_ylabel(r\"$y_{1}$ from $u_{1}$\", fontsize=14)\n",
    "ax[1,1].plot(np.arange(start=0,stop=dt*nt,step=dt), cgs_output2, label='sensor')\n",
    "ax[1,1].plot(np.arange(start=0,stop=dt*nt,step=dt), ops_output2, label='numerical')\n",
    "ax[1,1].set_ylabel(r\"$y_{2}$ from $u_{1}$\", fontsize=14)\n",
    "ax[1,1].legend(fontsize=12)\n",
    "for i in range(2):\n",
    "    ax[-1,i].set_xlabel(\"time (s)\", fontsize=14)\n",
    "fig.supylabel(\"acceleration (g)\", fontsize=14);"
   ]
  },
  {
   "cell_type": "code",
   "execution_count": null,
   "metadata": {},
   "outputs": [],
   "source": [
    "# Construct output data array\n",
    "yOpsTH = np.array([[ops_output1],[ops_output2]])\n",
    "yCGSTH = np.array([[cgs_output1],[cgs_output2]])\n",
    "print(yOpsTH.shape)\n",
    "print(yCGSTH.shape)"
   ]
  },
  {
   "cell_type": "code",
   "execution_count": null,
   "metadata": {},
   "outputs": [],
   "source": [
    "## Compute ERA from TH response\n",
    "r = 20\n",
    "p = 2\n",
    "q = 1\n",
    "print((p,q))\n",
    "mco = int(np.floor((yOpsTH.shape[2]-1)/2)) # m_o = m_c = (nt-1)/2\n",
    "StateSpaces[exp]['ops'] = okid.era(yOpsTH,mco,mco,p,q,r)\n",
    "StateSpaces[exp]['cgs'] = okid.era(yCGSTH,mco,mco,p,q,r)"
   ]
  },
  {
   "cell_type": "code",
   "execution_count": null,
   "metadata": {},
   "outputs": [],
   "source": [
    "Ar,Br,Cr,Dr,HSVs = StateSpaces[exp]['ops']\n",
    "sysERA_ops = ss(Ar,Br,Cr,Dr,dt)\n",
    "Ar,Br,Cr,Dr,HSVs = StateSpaces[exp]['cgs']\n",
    "sysERA_cgs = ss(Ar,Br,Cr,Dr,dt)\n",
    "\n",
    "Ar,Br,Cr,Dr,HSVs = StateSpaces['exp4']['ops']\n",
    "sysERA_ops = ss(Ar,Br,Cr,Dr,dt)\n",
    "Ar,Br,Cr,Dr,HSVs = StateSpaces['exp4']['cgs']\n",
    "sysERA_cgs = ss(Ar,Br,Cr,Dr,dt)\n",
    "Ar1,Br1,Cr1,Dr1,HSVs1 = StateSpaces['exp2']['ops']\n",
    "sysERA_ops1 = ss(Ar1,Br1,Cr1,Dr1,dt)\n",
    "\n",
    "\n",
    "# yERA_ops = np.zeros((nt,p,q))\n",
    "# yERA_cgs = np.zeros((nt,p,q))\n",
    "# for i in range(q):\n",
    "#     yERA_ops[:,:,i],times = impulse(sysERA_ops,np.arange(start=0,stop=nt*dt,step=dt),input=i)\n",
    "#     yERA_cgs[:,:,i],times = impulse(sysERA_cgs,np.arange(start=0,stop=nt*dt,step=dt),input=i)\n",
    "\n",
    "# fig, ax = plt.subplots(1,2, figsize=(8,3), constrained_layout=True)\n",
    "# ax[0].step(times, ops_output1/dt)\n",
    "# ax[0].step(times, yERA_ops[:,0,0], '--')\n",
    "# ax[0].set_ylabel(r\"$y_{1}$\", fontsize=14)\n",
    "# ax[1].step(times, ops_output2/dt, label='numerical')\n",
    "# ax[1].step(times, yERA_ops[:,1,0], '--', label=f'numerical ERA, {r=}')\n",
    "\n",
    "yERA_ops = np.zeros((nt,p,q))\n",
    "yERA_ops1 = np.zeros((nt,p,q))\n",
    "yERA_cgs = np.zeros((nt,p,q))\n",
    "for i in range(q):\n",
    "    yERA_cgs[:,:,i],times = impulse(sysERA_cgs,np.arange(start=0,stop=nt*dt,step=dt),input=i)\n",
    "    yERA_ops[:,:,i],times = impulse(sysERA_ops,np.arange(start=0,stop=nt*dt,step=dt),input=i)\n",
    "    # yERA_ops1[:,:,i],times = impulse(sysERA_ops1,np.arange(start=0,stop=nt*dt,step=dt),input=i)\n",
    "\n",
    "fig, ax = plt.subplots(1,2, figsize=(8,3), constrained_layout=True)\n",
    "ax[0].step(times, ops_output1/dt)\n",
    "ax[0].step(times, yERA_ops[:,0,0], '--')\n",
    "# ax[0].step(times, yERA_ops1[:,0,0], '--')\n",
    "ax[0].set_ylabel(r\"$y_{1}$\", fontsize=14)\n",
    "ax[1].step(times, ops_output2/dt, label='numerical')\n",
    "ax[1].step(times, yERA_ops[:,1,0], '--', label=f'numerical ERA, {r=}')\n",
    "# ax[1].step(times, yERA_ops1[:,1,0], '--', label=f'numerical ERA, {r=}')\n",
    "ax[1].set_ylabel(r\"$y_{2}$\", fontsize=14)\n",
    "ax[1].legend(fontsize=12)\n",
    "for axi in ax:\n",
    "    axi.set_xlim(0,nt*dt)\n",
    "    axi.set_xlabel(\"time (s)\", fontsize=14)\n",
    "fig.supylabel(\"acceleration (g)\", fontsize=14)\n",
    "\n",
    "fig, ax = plt.subplots(1,2, figsize=(8,3), constrained_layout=True)\n",
    "ax[0].step(times, cgs_output1/dt)\n",
    "ax[0].step(times, yERA_cgs[:,0,0], '--')\n",
    "ax[0].set_ylabel(r\"$y_{1}$\", fontsize=14)\n",
    "ax[1].step(times, cgs_output2/dt, label='sensor')\n",
    "ax[1].step(times, yERA_cgs[:,1,0], '--', label=f'sensor ERA, {r=}')\n",
    "ax[1].set_ylabel(r\"$y_{2}$\", fontsize=14)\n",
    "ax[1].legend(fontsize=12)\n",
    "\n",
    "for axi in ax:\n",
    "    axi.set_xlim(0,nt*dt)\n",
    "    axi.set_xlabel(\"time (s)\", fontsize=14)\n",
    "fig.supylabel(\"acceleration (g)\", fontsize=14);"
   ]
  },
  {
   "cell_type": "code",
   "execution_count": null,
   "metadata": {},
   "outputs": [],
   "source": [
    "Ar,Br,Cr,Dr,HSVs = StateSpaces[exp]['ops']\n",
    "modes_ops = ExtractModes.modes(dt, Ar, Cr)\n",
    "Periods[exp]['ops'] = [1/f for f in sorted([modes_ops[i]['freq'] for i in list(modes_ops.keys())])]\n",
    "# print([d for d in sorted([modes_ops[str(i)]['damp'] for i in list(modes_ops.keys())])])\n",
    "print('Opensees Periods:', Periods[exp]['ops'])\n",
    "Ar,Br,Cr,Dr,HSVs = StateSpaces[exp]['cgs']\n",
    "modes_cgs = ExtractModes.modes(dt, Ar, Cr)\n",
    "Periods[exp]['cgs'] = [1/f for f in sorted([modes_cgs[i]['freq'] for i in list(modes_cgs.keys())])]\n",
    "print('CGS Periods:', Periods[exp]['cgs'])"
   ]
  },
  {
   "attachments": {},
   "cell_type": "markdown",
   "metadata": {},
   "source": [
    "# Modal Identification from Time History Experiments"
   ]
  },
  {
   "cell_type": "code",
   "execution_count": null,
   "metadata": {},
   "outputs": [],
   "source": [
    "Periods['eigen']['ops'] = np.loadtxt(\"./hwd_ops_impulse/PeriodsPostG.txt\")[:nModes]\n",
    "opsPds = defaultdict(dict)\n",
    "cgsPds = defaultdict(dict)\n",
    "# event_dates = ['2021-06-24', '2021-06-29', '2021-07-24', '2021-08-03']\n",
    "event_dates = ['2021-06-24', '2021-06-29', '2021-08-03']"
   ]
  },
  {
   "cell_type": "code",
   "execution_count": null,
   "metadata": {},
   "outputs": [],
   "source": [
    "for m in range(3):\n",
    "    # opsPds[str(m+1)] = [Periods['exp1']['ops'][m], Periods['exp2']['ops'][m], Periods['exp3']['ops'][m], Periods['exp4']['ops'][m]]\n",
    "    opsPds[str(m+1)] = [Periods['exp1']['ops'][m], Periods['exp2']['ops'][m], Periods['exp4']['ops'][m]]\n",
    "    # cgsPds[str(m+1)] = [Periods['exp1']['cgs'][m], Periods['exp2']['cgs'][m], Periods['exp3']['cgs'][m], Periods['exp4']['cgs'][m]]\n",
    "    cgsPds[str(m+1)] = [Periods['exp1']['cgs'][m], Periods['exp2']['cgs'][m], Periods['exp4']['cgs'][m]]\n",
    "\n",
    "fig, ax = plt.subplots(1,3, figsize=(11,4), tight_layout=True, sharey=True)\n",
    "ax[0].set_ylim((0,1.6))\n",
    "ax[0].set_ylabel(\"Period (s)\", fontsize=14)\n",
    "for m in range(3):\n",
    "    ax[m].plot(event_dates, Periods['eigen']['ops'][m]*np.ones(3), '--', color='gray', label='numerical eigensolution')\n",
    "    ax[m].plot(event_dates, opsPds[str(m+1)], '-o', label='numerical ERA prediction')\n",
    "    ax[m].plot(event_dates, cgsPds[str(m+1)], '--o', label='sensor ERA prediction')\n",
    "    ax[m].set_xlabel(\"Event Date\", fontsize=14)\n",
    "    ax[m].set_title(f\"Mode {m+1}\", fontsize=14)\n",
    "ax[2].legend(fontsize=11);"
   ]
  },
  {
   "cell_type": "markdown",
   "metadata": {},
   "source": [
    "# Event 2, OKID ERA DC"
   ]
  },
  {
   "cell_type": "code",
   "execution_count": null,
   "metadata": {},
   "outputs": [],
   "source": [
    "event_dates = ['2021-06-24T00:15:00', '2021-06-29T01:29:00', '2021-07-23T15:59:00', '2021-08-03T19:52:00']"
   ]
  },
  {
   "cell_type": "code",
   "execution_count": null,
   "metadata": {},
   "outputs": [],
   "source": [
    "## Load time history response data\n",
    "exp = \"okid_era_dc\"\n",
    "i = 1 # 6/29 date\n",
    "\n",
    "input_channel_numbers = ['2', '3', '6', '7', '17', '18', '24', '25']\n",
    "output_channel_numbers = ['12', '13', '14', '15', '19', '20', '22', '23']\n",
    "\n",
    "cgs_input = np.array([accelRHs[event_dates[i]][ch] for ch in input_channel_numbers]).T\n",
    "window = husid(cgs_input[:,0], False, dt, lb=0.02, ub=0.995)\n",
    "cgs_input = cgs_input[window[0]:window[1], :]\n",
    "cgs_output = np.array([accelRHs[event_dates[i]][ch][window[0]:window[1]] for ch in output_channel_numbers]).T\n",
    "\n",
    "nt = len(cgs_input)\n",
    "dt = 0.01"
   ]
  },
  {
   "cell_type": "code",
   "execution_count": null,
   "metadata": {},
   "outputs": [],
   "source": [
    "A,B,C,D = okid.okid(cgs_input, cgs_output, dt=0.01, kmax=500, orm=16, mro=40)"
   ]
  },
  {
   "cell_type": "code",
   "execution_count": null,
   "metadata": {},
   "outputs": [],
   "source": [
    "modes_cgs = ExtractModes.ComposeModes(dt, A, B, C, D)\n",
    "modes_cgs"
   ]
  },
  {
   "cell_type": "code",
   "execution_count": null,
   "metadata": {},
   "outputs": [],
   "source": [
    "modes_cgs = ExtractModes.modes(dt, A, C)\n",
    "periods = [1/f for f in sorted([modes_cgs[str(i)]['freq'] for i in list(modes_cgs.keys())])]\n",
    "periods"
   ]
  }
 ],
 "metadata": {
  "kernelspec": {
   "display_name": "base",
   "language": "python",
   "name": "python3"
  },
  "language_info": {
   "codemirror_mode": {
    "name": "ipython",
    "version": 3
   },
   "file_extension": ".py",
   "mimetype": "text/x-python",
   "name": "python",
   "nbconvert_exporter": "python",
   "pygments_lexer": "ipython3",
   "version": "3.9.7"
  },
  "orig_nbformat": 4,
  "vscode": {
   "interpreter": {
    "hash": "abc70983533595d4cf951946d335d6ad702b849687c3e7854dbbd98f20b673db"
   }
  }
 },
 "nbformat": 4,
 "nbformat_minor": 2
}
