{
 "cells": [
  {
   "cell_type": "code",
   "execution_count": 1,
   "metadata": {},
   "outputs": [],
   "source": [
    "import numpy as np\n",
    "import scipy.io\n",
    "import scipy.linalg\n",
    "from scipy.linalg import fractional_matrix_power as matpow\n",
    "from ssid import okid\n",
    "from control.matlab import * #need for \"ss\"\n"
   ]
  },
  {
   "cell_type": "code",
   "execution_count": 2,
   "metadata": {},
   "outputs": [
    {
     "name": "stdout",
     "output_type": "stream",
     "text": [
      "(2, 200)\n"
     ]
    }
   ],
   "source": [
    "# Load data\n",
    "p = 2   # Number of outputs\n",
    "q = 2   # Number of inputs\n",
    "n = 100 # State dimension (Number of structural dofs x 2)\n",
    "r = 10  # Reduced model order ()\n",
    "dt = 1  # Timestep\n",
    "bruntondata = scipy.io.loadmat(\"./brunton_matlab/brunton_data.mat\")\n",
    "yImpulseFull = bruntondata['yFull']\n",
    "yImpulse = bruntondata['YY']\n",
    "uRandom = bruntondata['uRandom']\n",
    "yRandom = bruntondata['yRandom']\n",
    "print(yRandom.shape)"
   ]
  },
  {
   "cell_type": "code",
   "execution_count": 3,
   "metadata": {},
   "outputs": [],
   "source": [
    "def _svd(*args):\n",
    "    U,S,V = scipy.linalg.svd(*args, lapack_driver=\"gesvd\")\n",
    "    return U,S,V.T.conj()"
   ]
  },
  {
   "cell_type": "code",
   "execution_count": 4,
   "metadata": {},
   "outputs": [],
   "source": [
    "# okid.okid(yRandom,uRandom,dt=1,kmax=200,orm=52,mro=100)"
   ]
  },
  {
   "attachments": {},
   "cell_type": "markdown",
   "metadata": {},
   "source": [
    "Dimensions\n",
    "- p = Number of outputs (measured dof or ndof)\n",
    "- q = Number of inputs (ngdof)\n",
    "- n = State dimension (2ndof)\n",
    "- r = Reduced model order (choose)\n",
    "\n",
    "Full model\n",
    "- Dimensions of $\\mathbf{A}$: n x n\n",
    "- Dimensions of $\\mathbf{B}$: n x q\n",
    "- Dimensions of $\\mathbf{C}$: p x n\n",
    "- Dimensions of $\\mathbf{D}$: p x q\n",
    "\n",
    "Reduced model\n",
    "- Dimensions of $\\mathbf{\\tilde{A}}$: r x r\n",
    "- Dimensions of $\\mathbf{\\tilde{B}}$: r x q\n",
    "- Dimensions of $\\mathbf{\\tilde{C}}$: p x r\n",
    "- Dimensions of $\\mathbf{\\tilde{D}}$: p x q"
   ]
  },
  {
   "cell_type": "code",
   "execution_count": 5,
   "metadata": {},
   "outputs": [
    {
     "data": {
      "text/plain": [
       "'B = '"
      ]
     },
     "metadata": {},
     "output_type": "display_data"
    },
    {
     "data": {
      "text/latex": [
       "$\\displaystyle \\left[\\begin{matrix}a & b & c\\\\d & e & f\\\\g & h & i\\end{matrix}\\right]$"
      ],
      "text/plain": [
       "Matrix([\n",
       "[a, b, c],\n",
       "[d, e, f],\n",
       "[g, h, i]])"
      ]
     },
     "metadata": {},
     "output_type": "display_data"
    },
    {
     "data": {
      "text/plain": [
       "'U = '"
      ]
     },
     "metadata": {},
     "output_type": "display_data"
    },
    {
     "data": {
      "text/latex": [
       "$\\displaystyle \\left[\\begin{matrix}1 & 0 & 0\\\\0 & 1 & 0\\\\0 & 0 & 1\\end{matrix}\\right]$"
      ],
      "text/plain": [
       "Matrix([\n",
       "[1, 0, 0],\n",
       "[0, 1, 0],\n",
       "[0, 0, 1]])"
      ]
     },
     "metadata": {},
     "output_type": "display_data"
    },
    {
     "data": {
      "text/plain": [
       "'u1 = '"
      ]
     },
     "metadata": {},
     "output_type": "display_data"
    },
    {
     "data": {
      "text/latex": [
       "$\\displaystyle \\left[\\begin{matrix}1\\\\0\\\\0\\end{matrix}\\right]$"
      ],
      "text/plain": [
       "Matrix([\n",
       "[1],\n",
       "[0],\n",
       "[0]])"
      ]
     },
     "metadata": {},
     "output_type": "display_data"
    },
    {
     "data": {
      "text/plain": [
       "'u2 = '"
      ]
     },
     "metadata": {},
     "output_type": "display_data"
    },
    {
     "data": {
      "text/latex": [
       "$\\displaystyle \\left[\\begin{matrix}0\\\\1\\\\0\\end{matrix}\\right]$"
      ],
      "text/plain": [
       "Matrix([\n",
       "[0],\n",
       "[1],\n",
       "[0]])"
      ]
     },
     "metadata": {},
     "output_type": "display_data"
    },
    {
     "data": {
      "text/plain": [
       "'u3 = '"
      ]
     },
     "metadata": {},
     "output_type": "display_data"
    },
    {
     "data": {
      "text/latex": [
       "$\\displaystyle \\left[\\begin{matrix}0\\\\0\\\\1\\end{matrix}\\right]$"
      ],
      "text/plain": [
       "Matrix([\n",
       "[0],\n",
       "[0],\n",
       "[1]])"
      ]
     },
     "metadata": {},
     "output_type": "display_data"
    },
    {
     "data": {
      "text/plain": [
       "'[Bu1, Bu2, Bu3] = '"
      ]
     },
     "metadata": {},
     "output_type": "display_data"
    },
    {
     "data": {
      "text/latex": [
       "$\\displaystyle \\left[\\begin{matrix}a & b & c\\\\d & e & f\\\\g & h & i\\end{matrix}\\right]$"
      ],
      "text/plain": [
       "Matrix([\n",
       "[a, b, c],\n",
       "[d, e, f],\n",
       "[g, h, i]])"
      ]
     },
     "metadata": {},
     "output_type": "display_data"
    },
    {
     "data": {
      "text/plain": [
       "'BU = '"
      ]
     },
     "metadata": {},
     "output_type": "display_data"
    },
    {
     "data": {
      "text/latex": [
       "$\\displaystyle \\left[\\begin{matrix}a & b & c\\\\d & e & f\\\\g & h & i\\end{matrix}\\right]$"
      ],
      "text/plain": [
       "Matrix([\n",
       "[a, b, c],\n",
       "[d, e, f],\n",
       "[g, h, i]])"
      ]
     },
     "metadata": {},
     "output_type": "display_data"
    },
    {
     "name": "stdout",
     "output_type": "stream",
     "text": [
      "this illustrates that the desired impulse response (Y) is the matrix where each column corresponds to the column vector of output response (yi) corresponding to an input column vector where the ith element is one and all others are zero (ui).\n"
     ]
    }
   ],
   "source": [
    "# example state evolution with unit impulse input\n",
    "\n",
    "from sympy.matrices import Matrix, eye\n",
    "B = Matrix(np.array([['a','b','c'],['d','e','f'],['g','h','i']]))\n",
    "u1 = Matrix([1,0,0])\n",
    "u2 = Matrix([0,1,0])\n",
    "u3 = Matrix([0,0,1])\n",
    "U = eye(3)\n",
    "\n",
    "Bu1 = Matrix(B*u1).T\n",
    "Bu2 = Matrix(B*u2).T\n",
    "Bu3 = Matrix(B*u3).T\n",
    "\n",
    "display(\"B = \", B)\n",
    "display(\"U = \", U)\n",
    "display(\"u1 = \", u1)\n",
    "display(\"u2 = \", u2)\n",
    "display(\"u3 = \", u3)\n",
    "display(\"[Bu1, Bu2, Bu3] = \", Bu1.T.row_join(Bu2.T.row_join(Bu3.T)))\n",
    "display(\"BU = \", B*U)\n",
    "\n",
    "print(\"this illustrates that the desired impulse response (Y) is the matrix\",\n",
    "      \"where each column corresponds to the column vector of output response (yi)\",\n",
    "      \"corresponding to an input column vector where the ith element is one\",\n",
    "      \"and all others are zero (ui).\")"
   ]
  },
  {
   "cell_type": "code",
   "execution_count": 9,
   "metadata": {},
   "outputs": [],
   "source": [
    "# Y = output data: response to unit impulse, or \"impulse response,\" or \"markov parameters\".\n",
    "    # dimensions of Y: p x q x nt, where nt = number of timesteps = number of markov parameters = number of blocks\n",
    "# mc = number of block rows in Hankel matrix\n",
    "# mo = number of block columns in Hankel matrix\n",
    "# p = number of outputs\n",
    "# q = number of inputs\n",
    "# r = reduced model order = dimension of reduced A = newly assumed dimension of state variable\n",
    "\n",
    "def era(Y,mo,mc,p,q,r,dt=1):\n",
    "    # get D from first input_dimension columns of impulse response\n",
    "    Dr = Y[:,:,0]  # first block of output data\n",
    "    \n",
    "    assert Y.shape[:2] == (p,q)  # sanity check that we're passing in the right output data\n",
    "    assert Y.shape[2] >= mo+mc   # make sure there are enough timesteps to assemble this size of Hankel matrix\n",
    "    \n",
    "    # make impulse response into hankel matrix and shifted hankel matrix\n",
    "    H0 = np.zeros((p*mo, q*mc))\n",
    "    H1 = np.zeros((p*mo, q*mc))\n",
    "    for i in range(mo):\n",
    "        for j in range(mc):\n",
    "            H0[p*i:p*(i+1), q*j:q*(j+1)] = Y[:,:,i+j+1]\n",
    "            H1[p*i:p*(i+1), q*j:q*(j+1)] = Y[:,:,i+j+2]\n",
    "\n",
    "    # reduced svd of hankel matrix\n",
    "    U,S,V = _svd(H0)\n",
    "    Sigma = np.diag(S[:r])\n",
    "    Ur = U[:,:r]\n",
    "    Vr = V[:,:r]\n",
    "\n",
    "    # get A from svd and shifted hankel matrix\n",
    "    Ar = matpow(Sigma,-0.5) @ Ur.T @ H1 @ Vr @ matpow(Sigma,-0.5)\n",
    "\n",
    "    # get B and C\n",
    "    Br = (matpow(Sigma,0.5) @ Vr.T)[:,:q]\n",
    "    Cr = (Ur @ matpow(Sigma,0.5))[:p,:]\n",
    "\n",
    "    # eigendecomp A\n",
    "    W,R = scipy.linalg.eig(Ar)\n",
    "\n",
    "    # get frequencies from eigendecomp of A\n",
    "    omega = np.log(W + 2*np.pi*i/dt)\n",
    "    # print(f\"{omega=}\")\n",
    "\n",
    "    # get modeshapes from C and eigendecomp of A\n",
    "    phi = Cr @ R\n",
    "    # print(f\"{phi=}\")    \n",
    "\n",
    "    # return (Ar,Br,Cr,Dr,omega,phi)\n",
    "    return (Ar,Br,Cr,Dr,S)"
   ]
  },
  {
   "cell_type": "code",
   "execution_count": 10,
   "metadata": {},
   "outputs": [],
   "source": [
    "def okid(output,input,r):\n",
    "    pass"
   ]
  },
  {
   "cell_type": "code",
   "execution_count": 11,
   "metadata": {},
   "outputs": [],
   "source": [
    "## Compute ERA from impulse response\n",
    "mco = int(np.floor((yImpulse.shape[2]-1)/2)) # m_c = m_o = (m-1)/2\n",
    "Ar,Br,Cr,Dr,HSVs = era(yImpulse,mco,mco,q,p,r)\n",
    "sysERA = ss(Ar,Br,Cr,Dr,dt)"
   ]
  },
  {
   "cell_type": "code",
   "execution_count": null,
   "metadata": {},
   "outputs": [],
   "source": []
  }
 ],
 "metadata": {
  "kernelspec": {
   "display_name": "base",
   "language": "python",
   "name": "python3"
  },
  "language_info": {
   "codemirror_mode": {
    "name": "ipython",
    "version": 3
   },
   "file_extension": ".py",
   "mimetype": "text/x-python",
   "name": "python",
   "nbconvert_exporter": "python",
   "pygments_lexer": "ipython3",
   "version": "3.9.7"
  },
  "orig_nbformat": 4,
  "vscode": {
   "interpreter": {
    "hash": "abc70983533595d4cf951946d335d6ad702b849687c3e7854dbbd98f20b673db"
   }
  }
 },
 "nbformat": 4,
 "nbformat_minor": 2
}
