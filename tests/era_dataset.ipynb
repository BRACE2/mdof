{
 "cells": [
  {
   "cell_type": "code",
   "execution_count": 1,
   "metadata": {},
   "outputs": [],
   "source": [
    "import numpy as np\n",
    "from numpy import pi\n",
    "from ssid import okid, ExtractModes\n",
    "from control.matlab import ss\n",
    "from control.matlab import impulse as _impulse\n",
    "def impulse(*args, **kwds):\n",
    "    a,t = _impulse(*args, **kwds)\n",
    "    return a.squeeze(),t \n",
    "from scipy import signal\n",
    "from scipy.signal import dimpulse as _dimpulse\n",
    "def dimpulse(*args, **kwds):\n",
    "    t,a = _dimpulse(*args, **kwds)\n",
    "    return [ai.squeeze() for ai in a],t \n",
    "from matplotlib import pyplot as plt\n",
    "from collections import defaultdict\n"
   ]
  },
  {
   "attachments": {},
   "cell_type": "markdown",
   "metadata": {},
   "source": [
    "# Real Time History Data"
   ]
  },
  {
   "cell_type": "code",
   "execution_count": 2,
   "metadata": {},
   "outputs": [],
   "source": [
    "# See the real response data to test\n",
    "\n",
    "import pickle\n",
    "from datetime import datetime\n",
    "from CE58658.utilities import husid\n",
    "\n",
    "with open('../../CalTrans.Hayward/Studies/rawRHs.dat', 'rb') as f:\n",
    "    rawRHs = pickle.load(f)\n",
    "\n",
    "def plotSensorRH(rawRHs, event_date, channel_numbers, dt, windowed=False):   \n",
    "    event = rawRHs[event_date]\n",
    "\n",
    "    accel_unit_label = r\"$\\ddot{u}$ [g]\"\n",
    "    accel_scale = 1/980.665\n",
    "    displ_unit_label = r\"$u$ [in]\"\n",
    "    displ_scale = 1/2.54\n",
    "\n",
    "    fig, ax = plt.subplots(len(channel_numbers), 2, figsize=(12,1.75*len(channel_numbers)), constrained_layout=True)\n",
    "    if dt is not None:\n",
    "        x_units = \"s\"\n",
    "    else:\n",
    "        dt = 1.0\n",
    "        x_units = \"timestep\"\n",
    "    sensorRH0 = event['24']['accel']*accel_scale\n",
    "    times = dt*np.arange(len(sensorRH0))\n",
    "    if windowed:\n",
    "        window = husid(sensorRH0, False, dt, lb=0.025, ub=0.975)\n",
    "        times = times[window[0]:window[1]]\n",
    "    else:\n",
    "        window = [0,len(sensorRH0)]\n",
    "        fig, ax = plt.subplots(1,2,figsize=(15,3))\n",
    "\n",
    "    accels = defaultdict(dict)\n",
    "    for i,nm in enumerate(channel_numbers):\n",
    "        accel_series = event[nm]['accel'][window[0]:window[1]]*accel_scale\n",
    "        accels[nm] = event[nm]['accel']*accel_scale\n",
    "        displ_series = event[nm]['displ'][window[0]:window[1]]*displ_scale\n",
    "        direction = event[nm]['direction']\n",
    "        channel_name = event[nm]['channel_name']\n",
    "        ax[i,0].plot(times, accel_series, linewidth=0.75)\n",
    "        ax[i,0].set_ylabel(f\"{accel_unit_label}\")\n",
    "        ax[i,0].set_title(f\"Channel {nm} ({channel_name}) ({direction})\")\n",
    "        ax[i,1].plot(times, displ_series, linewidth=0.75)\n",
    "        ax[i,1].set_ylabel(f\"{displ_unit_label}\")\n",
    "        ax[i,1].set_title(f\"Channel {nm} ({channel_name}) ({direction})\")\n",
    "    ax[-1,0].set_xlabel(f\"time [{x_units}]\")\n",
    "    ax[-1,1].set_xlabel(f\"time [{x_units}]\")\n",
    "    fig.suptitle(f\"Response History of {datetime.strptime(event_date, '%Y-%m-%dT%H:%M:%S')}\")\n",
    "    fig.align_labels()\n",
    "    plt.show()\n",
    "    return accels\n",
    "\n",
    "def getSensorRH(rawRHs, event_date, channel_numbers):   \n",
    "    event = rawRHs[event_date]\n",
    "    accel_scale = 1/980.665\n",
    "    accels = defaultdict(dict)\n",
    "    for nm in channel_numbers:\n",
    "        accels[nm] = event[nm]['accel']*accel_scale\n",
    "    return accels\n",
    "\n",
    "CHANNELS = {\n",
    "# channel node dof rotationangle locationname\n",
    "    \"1\": (1031, 3, 37.66*pi/180, \"abutment_1\"),\n",
    "    \"2\": (1031, 2, 37.66*pi/180, \"abutment_1\"),\n",
    "    \"3\": (1031, 1, 37.66*pi/180, \"abutment_1\"),\n",
    "    \"6\": (307, 1, 31.02*pi/180, \"bent_3_south_column_grnd_level\"),\n",
    "    \"7\": (307, 2, 31.02*pi/180, \"bent_3_south_column_grnd_level\"),\n",
    "    \"11\": (1030, 3, 37.66*pi/180, \"deck_level_near_abut_1\"),\n",
    "    \"12\": (1030, 1, 37.66*pi/180, \"deck_level_near_abut_1\"),\n",
    "    \"13\": (1030, 2, 37.66*pi/180, \"deck_level_near_abut_1\"),\n",
    "    \"14\": (304, 1, 31.02*pi/180, \"bent_3_deck_level\"),\n",
    "    \"15\": (304, 2, 31.02*pi/180, \"bent_3_deck_level\"),\n",
    "    # \"16\": (30003, 3, ((31.02+26.26)/2)*pi/180, \"midspan_between_bents_3_4_deck\"),\n",
    "    \"17\": (401, 1, 26.26*pi/180, \"bent_4_north_column_grnd_level\"),\n",
    "    \"18\": (401, 2, 26.26*pi/180, \"bent_4_north_column_grnd_level\"),\n",
    "    \"19\": (402, 1, 26.26*pi/180, \"bent_4_north_column_top\"),\n",
    "    \"20\": (402, 2, 26.26*pi/180, \"bent_4_north_column_top\"),\n",
    "    \"21\": (405, 3, 26.26*pi/180, \"bent_4_deck_level\"),\n",
    "    \"22\": (405, 1, 26.26*pi/180, \"bent_4_deck_level\"),\n",
    "    \"23\": (405, 2, 26.26*pi/180, \"bent_4_deck_level\"),\n",
    "    \"24\": (407, 1, 26.26*pi/180, \"bent_4_south_column_grnd_level\"),\n",
    "    \"25\": (407, 2, 26.26*pi/180, \"bent_4_south_column_grnd_level\")\n",
    "}\n",
    "\n",
    "NODE_INFO = {\n",
    "# key is node number, value is ((ch1,ch2,ch3), location name, rotation angle).\n",
    "    '1031':  ((3,2,1),        'abutment_1',                      -37.66*pi/180),\n",
    "    '1030':  ((12,13,11),     'deck_level_near_abut_1',          -37.66*pi/180),\n",
    "    '304':   ((14,15,None),   'bent_3_deck_level',               -31.02*pi/180),\n",
    "    '307':   ((6,7,None),     'bent_3_south_column_grnd_level',  -31.02*pi/180),\n",
    "    '30003': ((None,None,16), 'midspan_between_bents_3_4_deck',  -((31.02+26.26)/2)*pi/180), \n",
    "    '401':   ((17,18,None),   'bent_4_north_column_grnd_level',  -26.26*pi/180),\n",
    "    '402':   ((19,20,None),   'bent_4_north_column_top',         -26.26*pi/180),\n",
    "    '405':   ((22,23,None),   'bent_4_deck_level',               -26.26*pi/180),\n",
    "    '407':   ((24,25,None),   'bent_4_south_column_grnd_level',  -26.26*pi/180)\n",
    "}\n",
    "\n",
    "channel_numbers = CHANNELS.keys()\n",
    "channel_numbers = ['12', '13', '14', '15', '18', '19', '20', '22', '23']\n",
    "output_channel_numbers = ['12', '13', '14', '15', '19', '20', '22', '23']\n",
    "\n",
    "# event_dates = ['2021-06-24T00:15:00', '2021-06-29T01:29:00', '2021-07-23T15:59:00', '2021-08-03T19:52:00']\n",
    "event_dates = ['2022-02-16T01:46:00', '2022-02-16T05:05:00', '2022-02-16T14:20:00', '2022-02-16T15:50:00', '2021-10-11T16:22:00', '2022-02-16T00:08:00', '2022-02-16T06:09:00', '2022-02-16T08:35:00', '2022-02-16T09:36:00', '2022-02-16T12:58:00', '2022-02-16T14:05:00', '2022-02-16T15:39:00', '2022-02-16T15:56:00', '2022-02-16T17:57:00', '2022-03-01T15:29:00', '2022-04-05T23:10:00', '2022-06-07T14:22:00', '2022-12-28T19:52:00', '2023-01-30T17:55:00', '2021-10-20T19:01:00', '2022-02-16T16:03:00', '2022-03-15T18:12:00', '2022-04-14T14:26:00', '2022-06-14T18:35:00', '2023-02-01T18:22:00', '2021-05-18T20:38:00', '2022-03-17T01:13:00', '2022-05-25T19:45:00', '2022-06-20T16:12:00', '2021-10-29T22:43:00', '2022-03-18T18:46:00', '2022-07-07T20:31:00', '2021-10-07T18:51:00', '2021-11-03T16:28:00', '2022-07-25T19:09:00', '2021-11-05T19:07:00', '2022-08-15T01:55:00', '2021-04-26T17:09:00', '2022-09-06T19:28:00', '2021-11-17T02:00:00', '2022-09-12T10:26:00', '2021-11-17T19:43:00', '2022-09-27T21:49:00', '2022-01-17T15:38:00', '2022-01-24T19:12:00', '2022-11-04T18:31:00', '2022-02-07T00:01:00', '2022-02-12T03:13:00', '2022-02-15T20:01:00', '2022-12-13T21:40:00', '2021-05-12T16:31:00', '2021-06-24T00:15:00', '2021-06-29T01:29:00', '2021-10-02T19:22:00', '2021-07-23T15:59:00', '2021-10-05T19:19:00', '2021-08-03T19:52:00', '2021-08-03T23:45:00', '2021-08-19T15:30:00', '2021-11-05T22:20:00', '2021-04-30T16:40:00']\n",
    "accelRHs = defaultdict(dict)\n",
    "for event_date in event_dates:\n",
    "    accelRHs[event_date] = getSensorRH(rawRHs, event_date, channel_numbers)"
   ]
  },
  {
   "attachments": {},
   "cell_type": "markdown",
   "metadata": {},
   "source": [
    "# Dataset for each channel combination for each model order for each event"
   ]
  },
  {
   "cell_type": "code",
   "execution_count": 3,
   "metadata": {},
   "outputs": [
    {
     "name": "stdout",
     "output_type": "stream",
     "text": [
      "[0.75035914900215, 0.6374940570971698, 0.10064875998111791]\n",
      "[0.6756237368387938, 0.5829044938225867, 0.054612793812265366]\n",
      "[0.5387793907585837, 0.20967647253157537, 0.14829157605885415]\n",
      "[0.6794501088237791, 0.0692136773563472, 0.052985432849223475]\n",
      "[0.2781949605268357, 0.16322475847877718, 0.13559066954069374]\n",
      "[0.6414896902582521, 0.15946063008901992, 0.07112904104090058]\n",
      "[0.20647673272407646, 0.06464042020099196, 0.053976881227997583]\n",
      "[0.14889858925453497, 0.05767917615609687, 0.0541011485155685]\n",
      "[0.1394691789912919, 0.1353658748985561, 0.07233313076746595]\n",
      "[0.6738095892443571, 0.12195260444124838, 0.11819160377459631]\n",
      "[0.596168800710045, 0.15933057227755448, 0.14767786573369093]\n",
      "[0.13634155564562064, 0.06613794155735928, 0.052804888687778245]\n",
      "[0.08963719636797435, 0.08197087470020137, 0.0631935618408491]\n",
      "[0.5330228856615337, 0.47308474435233117, 0.08859868982649347]\n",
      "[0.16016730824381847, 0.10787202278180498, 0.07595709812073867]\n"
     ]
    },
    {
     "ename": "KeyboardInterrupt",
     "evalue": "",
     "output_type": "error",
     "traceback": [
      "\u001b[1;31m---------------------------------------------------------------------------\u001b[0m",
      "\u001b[1;31mKeyboardInterrupt\u001b[0m                         Traceback (most recent call last)",
      "\u001b[1;32m~\\AppData\\Local\\Temp/ipykernel_26524/2957347083.py\u001b[0m in \u001b[0;36m<module>\u001b[1;34m\u001b[0m\n\u001b[0;32m     12\u001b[0m             \u001b[0myCGSTHlist\u001b[0m \u001b[1;33m=\u001b[0m \u001b[1;33m[\u001b[0m\u001b[1;33m]\u001b[0m\u001b[1;33m\u001b[0m\u001b[1;33m\u001b[0m\u001b[0m\n\u001b[0;32m     13\u001b[0m             \u001b[0mcgs_input\u001b[0m \u001b[1;33m=\u001b[0m \u001b[0maccelRHs\u001b[0m\u001b[1;33m[\u001b[0m\u001b[0mevent_date\u001b[0m\u001b[1;33m]\u001b[0m\u001b[1;33m[\u001b[0m\u001b[1;34m'18'\u001b[0m\u001b[1;33m]\u001b[0m\u001b[1;33m\u001b[0m\u001b[1;33m\u001b[0m\u001b[0m\n\u001b[1;32m---> 14\u001b[1;33m             \u001b[0mwindow\u001b[0m \u001b[1;33m=\u001b[0m \u001b[0mhusid\u001b[0m\u001b[1;33m(\u001b[0m\u001b[0mcgs_input\u001b[0m\u001b[1;33m,\u001b[0m \u001b[1;32mFalse\u001b[0m\u001b[1;33m,\u001b[0m \u001b[0mdt\u001b[0m\u001b[1;33m,\u001b[0m \u001b[0mlb\u001b[0m\u001b[1;33m=\u001b[0m\u001b[1;36m0.03\u001b[0m\u001b[1;33m,\u001b[0m \u001b[0mub\u001b[0m\u001b[1;33m=\u001b[0m\u001b[1;36m0.9\u001b[0m\u001b[1;33m)\u001b[0m\u001b[1;33m\u001b[0m\u001b[1;33m\u001b[0m\u001b[0m\n\u001b[0m\u001b[0;32m     15\u001b[0m             \u001b[1;32mfor\u001b[0m \u001b[0mch\u001b[0m \u001b[1;32min\u001b[0m \u001b[0moutput_channels\u001b[0m\u001b[1;33m:\u001b[0m\u001b[1;33m\u001b[0m\u001b[1;33m\u001b[0m\u001b[0m\n\u001b[0;32m     16\u001b[0m                 \u001b[0myCGSTHlist\u001b[0m\u001b[1;33m.\u001b[0m\u001b[0mappend\u001b[0m\u001b[1;33m(\u001b[0m\u001b[0maccelRHs\u001b[0m\u001b[1;33m[\u001b[0m\u001b[0mevent_date\u001b[0m\u001b[1;33m]\u001b[0m\u001b[1;33m[\u001b[0m\u001b[0mch\u001b[0m\u001b[1;33m]\u001b[0m\u001b[1;33m[\u001b[0m\u001b[0mwindow\u001b[0m\u001b[1;33m[\u001b[0m\u001b[1;36m0\u001b[0m\u001b[1;33m]\u001b[0m\u001b[1;33m:\u001b[0m\u001b[0mwindow\u001b[0m\u001b[1;33m[\u001b[0m\u001b[1;36m1\u001b[0m\u001b[1;33m]\u001b[0m\u001b[1;33m]\u001b[0m\u001b[1;33m)\u001b[0m\u001b[1;33m\u001b[0m\u001b[1;33m\u001b[0m\u001b[0m\n",
      "\u001b[1;32mc:\\users\\16507\\documents\\github\\caltrans.hayward\\CE58658\\utilities.py\u001b[0m in \u001b[0;36mhusid\u001b[1;34m(accRH, plothusid, dt, lb, ub)\u001b[0m\n\u001b[0;32m    283\u001b[0m \u001b[1;33m\u001b[0m\u001b[0m\n\u001b[0;32m    284\u001b[0m \u001b[1;32mdef\u001b[0m \u001b[0mhusid\u001b[0m\u001b[1;33m(\u001b[0m\u001b[0maccRH\u001b[0m\u001b[1;33m,\u001b[0m \u001b[0mplothusid\u001b[0m\u001b[1;33m,\u001b[0m \u001b[0mdt\u001b[0m\u001b[1;33m,\u001b[0m \u001b[0mlb\u001b[0m\u001b[1;33m=\u001b[0m\u001b[1;36m0.05\u001b[0m\u001b[1;33m,\u001b[0m \u001b[0mub\u001b[0m\u001b[1;33m=\u001b[0m\u001b[1;36m0.95\u001b[0m\u001b[1;33m)\u001b[0m\u001b[1;33m:\u001b[0m\u001b[1;33m\u001b[0m\u001b[1;33m\u001b[0m\u001b[0m\n\u001b[1;32m--> 285\u001b[1;33m     \u001b[0mai\u001b[0m \u001b[1;33m=\u001b[0m \u001b[0mnp\u001b[0m\u001b[1;33m.\u001b[0m\u001b[0mtril\u001b[0m\u001b[1;33m(\u001b[0m\u001b[0mnp\u001b[0m\u001b[1;33m.\u001b[0m\u001b[0mones\u001b[0m\u001b[1;33m(\u001b[0m\u001b[0mlen\u001b[0m\u001b[1;33m(\u001b[0m\u001b[0maccRH\u001b[0m\u001b[1;33m)\u001b[0m\u001b[1;33m)\u001b[0m\u001b[1;33m)\u001b[0m\u001b[1;33m@\u001b[0m\u001b[0maccRH\u001b[0m\u001b[1;33m**\u001b[0m\u001b[1;36m2\u001b[0m\u001b[1;33m\u001b[0m\u001b[1;33m\u001b[0m\u001b[0m\n\u001b[0m\u001b[0;32m    286\u001b[0m     \u001b[0mhusid\u001b[0m \u001b[1;33m=\u001b[0m \u001b[0mai\u001b[0m\u001b[1;33m/\u001b[0m\u001b[0mai\u001b[0m\u001b[1;33m[\u001b[0m\u001b[1;33m-\u001b[0m\u001b[1;36m1\u001b[0m\u001b[1;33m]\u001b[0m\u001b[1;33m\u001b[0m\u001b[1;33m\u001b[0m\u001b[0m\n\u001b[0;32m    287\u001b[0m     \u001b[0milb\u001b[0m \u001b[1;33m=\u001b[0m \u001b[0mnext\u001b[0m\u001b[1;33m(\u001b[0m\u001b[0mx\u001b[0m \u001b[1;32mfor\u001b[0m \u001b[0mx\u001b[0m\u001b[1;33m,\u001b[0m \u001b[0mval\u001b[0m \u001b[1;32min\u001b[0m \u001b[0menumerate\u001b[0m\u001b[1;33m(\u001b[0m\u001b[0mhusid\u001b[0m\u001b[1;33m)\u001b[0m \u001b[1;32mif\u001b[0m \u001b[0mval\u001b[0m \u001b[1;33m>\u001b[0m \u001b[0mlb\u001b[0m\u001b[1;33m)\u001b[0m\u001b[1;33m\u001b[0m\u001b[1;33m\u001b[0m\u001b[0m\n",
      "\u001b[1;32m<__array_function__ internals>\u001b[0m in \u001b[0;36mtril\u001b[1;34m(*args, **kwargs)\u001b[0m\n",
      "\u001b[1;32mc:\\Users\\16507\\anaconda3\\lib\\site-packages\\numpy\\lib\\twodim_base.py\u001b[0m in \u001b[0;36mtril\u001b[1;34m(m, k)\u001b[0m\n\u001b[0;32m    465\u001b[0m     \u001b[0mmask\u001b[0m \u001b[1;33m=\u001b[0m \u001b[0mtri\u001b[0m\u001b[1;33m(\u001b[0m\u001b[1;33m*\u001b[0m\u001b[0mm\u001b[0m\u001b[1;33m.\u001b[0m\u001b[0mshape\u001b[0m\u001b[1;33m[\u001b[0m\u001b[1;33m-\u001b[0m\u001b[1;36m2\u001b[0m\u001b[1;33m:\u001b[0m\u001b[1;33m]\u001b[0m\u001b[1;33m,\u001b[0m \u001b[0mk\u001b[0m\u001b[1;33m=\u001b[0m\u001b[0mk\u001b[0m\u001b[1;33m,\u001b[0m \u001b[0mdtype\u001b[0m\u001b[1;33m=\u001b[0m\u001b[0mbool\u001b[0m\u001b[1;33m)\u001b[0m\u001b[1;33m\u001b[0m\u001b[1;33m\u001b[0m\u001b[0m\n\u001b[0;32m    466\u001b[0m \u001b[1;33m\u001b[0m\u001b[0m\n\u001b[1;32m--> 467\u001b[1;33m     \u001b[1;32mreturn\u001b[0m \u001b[0mwhere\u001b[0m\u001b[1;33m(\u001b[0m\u001b[0mmask\u001b[0m\u001b[1;33m,\u001b[0m \u001b[0mm\u001b[0m\u001b[1;33m,\u001b[0m \u001b[0mzeros\u001b[0m\u001b[1;33m(\u001b[0m\u001b[1;36m1\u001b[0m\u001b[1;33m,\u001b[0m \u001b[0mm\u001b[0m\u001b[1;33m.\u001b[0m\u001b[0mdtype\u001b[0m\u001b[1;33m)\u001b[0m\u001b[1;33m)\u001b[0m\u001b[1;33m\u001b[0m\u001b[1;33m\u001b[0m\u001b[0m\n\u001b[0m\u001b[0;32m    468\u001b[0m \u001b[1;33m\u001b[0m\u001b[0m\n\u001b[0;32m    469\u001b[0m \u001b[1;33m\u001b[0m\u001b[0m\n",
      "\u001b[1;32m<__array_function__ internals>\u001b[0m in \u001b[0;36mwhere\u001b[1;34m(*args, **kwargs)\u001b[0m\n",
      "\u001b[1;31mKeyboardInterrupt\u001b[0m: "
     ]
    }
   ],
   "source": [
    "dt = 0.01\n",
    "q = 1 # 1 input channel\n",
    "ylist = []\n",
    "for i in range(256):\n",
    "    channel_switches = [True, True, True, True, True, True, True, True]\n",
    "    output_channels = np.array(output_channel_numbers)[channel_switches]\n",
    "    p = len(output_channels)\n",
    "    ylist_rs = []\n",
    "    for r in [10, 20, 50]:\n",
    "        ylist_events = []\n",
    "        for event_date in event_dates:    \n",
    "            yCGSTHlist = []\n",
    "            cgs_input = accelRHs[event_date]['18']\n",
    "            window = husid(cgs_input, False, dt, lb=0.03, ub=0.9)\n",
    "            for ch in output_channels:\n",
    "                yCGSTHlist.append(accelRHs[event_date][ch][window[0]:window[1]])\n",
    "            yCGSTH = (np.array([yCGSTHlist]).transpose(1,0,2))\n",
    "            mco = min(300,int(np.floor((yCGSTH.shape[2]-1)/2))) # m_o = m_c = (nt-1)/2\n",
    "            # print(mco)\n",
    "            Ar,Br,Cr,Dr,HSVs = okid.era(yCGSTH,mco,mco,p,q,r)\n",
    "            modes = ExtractModes.modes(dt, Ar, Cr)\n",
    "            periods = [1/f for f in sorted([modes[str(i)]['freq'] for i in list(modes.keys())[:3]])]\n",
    "            ylist_events.append(periods)\n",
    "            print(periods)\n",
    "        ylist_rs.append(ylist_events)\n",
    "    ylist.append(ylist_rs)\n",
    "\n",
    "print(ylist)"
   ]
  },
  {
   "attachments": {},
   "cell_type": "markdown",
   "metadata": {},
   "source": [
    "# Modal Identification from Time History Experiments"
   ]
  },
  {
   "cell_type": "code",
   "execution_count": null,
   "metadata": {},
   "outputs": [],
   "source": [
    "opsperiods = np.loadtxt(\"./hwd_ops_impulse/PeriodsPostG.txt\")[:3]\n",
    "cgsPds = defaultdict(dict)"
   ]
  },
  {
   "cell_type": "code",
   "execution_count": null,
   "metadata": {},
   "outputs": [],
   "source": [
    "for m in range(3):\n",
    "    # opsPds[str(m+1)] = [Periods['exp1']['ops'][m], Periods['exp2']['ops'][m], Periods['exp3']['ops'][m], Periods['exp4']['ops'][m]]\n",
    "    opsPds[str(m+1)] = [Periods['exp1']['ops'][m], Periods['exp2']['ops'][m], Periods['exp4']['ops'][m]]\n",
    "    # cgsPds[str(m+1)] = [Periods['exp1']['cgs'][m], Periods['exp2']['cgs'][m], Periods['exp3']['cgs'][m], Periods['exp4']['cgs'][m]]\n",
    "    cgsPds[str(m+1)] = [Periods['exp1']['cgs'][m], Periods['exp2']['cgs'][m], Periods['exp4']['cgs'][m]]\n",
    "\n",
    "fig, ax = plt.subplots(1,3, figsize=(11,4), tight_layout=True, sharey=True)\n",
    "ax[0].set_ylim((0,1.6))\n",
    "ax[0].set_ylabel(\"Period (s)\", fontsize=14)\n",
    "for m in range(3):\n",
    "    ax[m].plot(event_dates, opsPds[str(m+1)], '-o', label='numerical ERA prediction')\n",
    "    ax[m].plot(event_dates, cgsPds[str(m+1)], '--o', label='sensor ERA prediction')\n",
    "    ax[m].plot(event_dates, Periods['eigen']['ops'][m]*np.ones(3), '--', color='gray', label='numerical eigensolution')\n",
    "    ax[m].set_xlabel(\"Event Date\", fontsize=14)\n",
    "    ax[m].set_title(f\"Mode {m+1}\", fontsize=14)\n",
    "ax[2].legend(fontsize=11);"
   ]
  }
 ],
 "metadata": {
  "kernelspec": {
   "display_name": "base",
   "language": "python",
   "name": "python3"
  },
  "language_info": {
   "codemirror_mode": {
    "name": "ipython",
    "version": 3
   },
   "file_extension": ".py",
   "mimetype": "text/x-python",
   "name": "python",
   "nbconvert_exporter": "python",
   "pygments_lexer": "ipython3",
   "version": "3.9.7"
  },
  "orig_nbformat": 4,
  "vscode": {
   "interpreter": {
    "hash": "abc70983533595d4cf951946d335d6ad702b849687c3e7854dbbd98f20b673db"
   }
  }
 },
 "nbformat": 4,
 "nbformat_minor": 2
}
