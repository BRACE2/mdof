{
 "cells": [
  {
   "cell_type": "code",
   "execution_count": 1,
   "metadata": {},
   "outputs": [],
   "source": [
    "import numpy as np\n",
    "import matplotlib.pyplot as plt\n",
    "from matplotlib import rcParams\n",
    "from control.matlab import *\n",
    "from control.matlab import impulse as _impulse\n",
    "\n",
    "def impulse(*args, **kwds):\n",
    "    a,t = _impulse(*args, **kwds)\n",
    "    return a.squeeze(),t \n",
    "\n",
    "# import slycot\n",
    "from scipy import signal,io\n",
    "import os\n",
    "from scipy.linalg import fractional_matrix_power\n",
    "from scipy.linalg import fractional_matrix_power as matpow\n",
    "import scipy.linalg\n",
    "\n",
    "# Python control toolbox available at https://python-control.readthedocs.io/\n",
    "\n",
    "plt.rcParams['figure.figsize'] = [8, 8]\n",
    "plt.rcParams.update({'font.size': 18})\n"
   ]
  },
  {
   "cell_type": "code",
   "execution_count": 2,
   "metadata": {},
   "outputs": [],
   "source": [
    "def _svd(*args):\n",
    "    U,S,V = scipy.linalg.svd(*args, lapack_driver=\"gesvd\")\n",
    "    return U,S,V.T.conj()"
   ]
  },
  {
   "cell_type": "code",
   "execution_count": 3,
   "metadata": {},
   "outputs": [],
   "source": [
    "q = 2   # Number of inputs\n",
    "p = 2   # Number of outputs\n",
    "n = 100 # State dimension\n",
    "r = 10 # Reduced model order\n",
    "dt = 1 # Timestep\n",
    "\n",
    "testSys_mat = io.loadmat(os.path.join('..','DATA','testSys_ABCD.mat'))\n",
    "A = testSys_mat['A']\n",
    "B = testSys_mat['B']\n",
    "C = testSys_mat['C']\n",
    "D = testSys_mat['D']\n",
    "\n",
    "sysFull = ss(A,B,C,D,dt)"
   ]
  },
  {
   "cell_type": "code",
   "execution_count": 4,
   "metadata": {},
   "outputs": [
    {
     "name": "stdout",
     "output_type": "stream",
     "text": [
      "(2, 2, 52)\n"
     ]
    }
   ],
   "source": [
    "yFull = np.zeros((r*5+2,p,q))\n",
    "tspan = np.arange(0,(r*5+2),1)\n",
    "m = len(tspan)\n",
    "\n",
    "for qi in range(q):\n",
    "    yFull[:,:,qi],t = impulse(sysFull,T=tspan,input=qi)\n",
    "\n",
    "YY = np.transpose(yFull,axes=(1,2,0)) # reorder to size p x q x m\n",
    "print(YY.shape)"
   ]
  },
  {
   "cell_type": "code",
   "execution_count": 5,
   "metadata": {},
   "outputs": [],
   "source": [
    "## ERA and OKID Function Definitions\n",
    "\n",
    "def era(Y,mo,mc,p,q,r,dt=1):\n",
    "    # get D from first input_dimension columns of impulse response\n",
    "    Dr = Y[:,:,0]  # first block of output data\n",
    "    \n",
    "    assert Y.shape[:2] == (p,q)  # sanity check that we're passing in the right output data\n",
    "    assert Y.shape[2] >= mo+mc   # make sure there are enough timesteps to assemble this size of Hankel matrix\n",
    "    \n",
    "    # make impulse response into hankel matrix and shifted hankel matrix\n",
    "    H0 = np.zeros((p*mo, q*mc))\n",
    "    H1 = np.zeros((p*mo, q*mc))\n",
    "    for i in range(mo):\n",
    "        for j in range(mc):\n",
    "            H0[p*i:p*(i+1), q*j:q*(j+1)] = Y[:,:,i+j+1]\n",
    "            H1[p*i:p*(i+1), q*j:q*(j+1)] = Y[:,:,i+j+2]\n",
    "    # reduced svd of hankel matrix\n",
    "    U,S,V = _svd(H0)\n",
    "    Sigma = np.diag(S[:r])\n",
    "    Ur = U[:,:r]\n",
    "    Vr = V[:,:r]\n",
    "\n",
    "    # get A from svd and shifted hankel matrix\n",
    "    Ar = matpow(Sigma,-0.5) @ Ur.T @ H1 @ Vr @ matpow(Sigma,-0.5)\n",
    "\n",
    "    # get B and C\n",
    "    Br = (matpow(Sigma,0.5) @ Vr.T)[:,:q]\n",
    "    Cr = (Ur @ matpow(Sigma,0.5))[:p,:]\n",
    "\n",
    "    # eigendecomp A\n",
    "    W,R = scipy.linalg.eig(Ar)\n",
    "\n",
    "    # get frequencies from eigendecomp of A\n",
    "    omega = np.log(W + 2*np.pi*1j/dt)\n",
    "    print(f\"{omega=}\")\n",
    "\n",
    "    # get modeshapes from C and eigendecomp of A\n",
    "    phi = Cr @ R\n",
    "    print(f\"{phi=}\")    \n",
    "\n",
    "    # return (Ar,Br,Cr,Dr,omega,phi)\n",
    "    return (Ar,Br,Cr,Dr,S)\n",
    "\n",
    "def ERA(YY,m,n,nin,nout,r):\n",
    "    Dr = np.zeros((nout,nin))\n",
    "    Y = np.zeros((nout,nin,YY.shape[2]-1))\n",
    "    # for i in range(nout):\n",
    "    #     for j in range(nin):\n",
    "    #         Dr[i,j] = YY[i,j,0]\n",
    "    #         Y[i,j,:] = YY[i,j,1:]\n",
    "    \n",
    "    Dr = YY[:,:,0]\n",
    "    Y = YY[:,:,1:]\n",
    "            \n",
    "    # assert len(Y[:,0,0]) == nout\n",
    "    # assert len(Y[0,:,0]) == nin\n",
    "    # assert len(Y[0,0,:]) >= m+n\n",
    "    \n",
    "    assert Y.shape[:2] == (nout,nin)\n",
    "    assert Y.shape[2] >= m+n \n",
    "\n",
    "    H = np.zeros((nout*m,nin*n))\n",
    "    H2 = np.zeros((nout*m,nin*n))\n",
    "    \n",
    "    # for i in range(m):\n",
    "    #     for j in range(n):\n",
    "    #         for Q in range(nout):\n",
    "    #             for P in range(nin):\n",
    "    #                 H[nout*i+Q,nin*j+P] = Y[Q,P,i+j]\n",
    "    #                 H2[nout*i+Q,nin*j+P] = Y[Q,P,i+j+1]\n",
    "    for i in range(m):\n",
    "        for j in range(n):\n",
    "            H[nout*i:nout*(i+1), nin*j:nin*(j+1)] = Y[:,:,i+j]\n",
    "            H2[nout*i:nout*(i+1), nin*j:nin*(j+1)] = Y[:,:,i+j+1]\n",
    "                    \n",
    "    # U,S,VT = np.linalg.svd(H,full_matrices=0)\n",
    "    # V = VT.T\n",
    "    U,S,V = _svd(H)\n",
    "    Sigma = np.diag(S[:r])\n",
    "    Ur = U[:,:r]\n",
    "    Vr = V[:,:r]\n",
    "    Ar = fractional_matrix_power(Sigma,-0.5) @ Ur.T @ H2 @ Vr @ fractional_matrix_power(Sigma,-0.5)\n",
    "    # Br = fractional_matrix_power(Sigma,-0.5) @ Ur.T @ H[:,:nin]\n",
    "    # Cr = H[:nout,:] @ Vr @ fractional_matrix_power(Sigma,-0.5)\n",
    "    Br = (fractional_matrix_power(Sigma,0.5) @ Vr.T)[:,:nin]\n",
    "    Cr = (Ur @ fractional_matrix_power(Sigma,0.5))[:nout,:]\n",
    "    HSVs = S\n",
    "    return Ar,Br,Cr,Dr,HSVs\n",
    "\n",
    "def OKID(y,u,r):\n",
    "    # inputs:  y (sampled output), u (sampled input), r (effective system order)\n",
    "    # outputs: H (Markov parameters), M (Observer gain)\n",
    "    \n",
    "    PP = y.shape[0] # number of outputs\n",
    "    MM = y.shape[1] # number of output samples\n",
    "    QQ = u.shape[0] # number of inputs\n",
    "    lu = u.shape[1] # number of input samples\n",
    "    \n",
    "    assert MM == lu\n",
    "    print(MM)\n",
    "    print(lu)\n",
    "    \n",
    "    LL = r*5\n",
    "    \n",
    "    # Form data matrices y and V\n",
    "    V = np.zeros((QQ+(QQ+PP)*LL,MM))\n",
    "    for i in range(MM):\n",
    "        V[:QQ,i] = u[:QQ,i]\n",
    "        \n",
    "    for i in range(1,LL+1):\n",
    "        for j in range(MM-i):\n",
    "            vtemp = np.concatenate((u[:,j],y[:,j]))\n",
    "            V[QQ+(i-1)*(QQ+PP):QQ+i*(QQ+PP),i+j] = vtemp\n",
    "    \n",
    "    # Solve for observer Markov parameters Ybar\n",
    "    Ybar = y @ np.linalg.pinv(V,rcond=10**(-3))\n",
    "    \n",
    "    # Isolate system Markov parameters H, and observer gain M\n",
    "    D = Ybar[:,:QQ] # feed-through term (or D matrix) is the first term\n",
    "    \n",
    "    Y = np.zeros((PP,QQ,LL))\n",
    "    Ybar1 = np.zeros((PP,QQ,LL))\n",
    "    Ybar2 = np.zeros((PP,QQ,LL))\n",
    "    \n",
    "    for i in range(LL):\n",
    "        Ybar1[:,:,i] = Ybar[:,QQ+(QQ+PP)*i : QQ+(QQ+PP)*i+QQ]\n",
    "        Ybar2[:,:,i] = Ybar[:,QQ+(QQ+PP)*i+QQ : QQ+(QQ+PP)*(i+1)]\n",
    "    \n",
    "    Y[:,:,0] = Ybar1[:,:,0] + Ybar2[:,:,0] @ D\n",
    "    for k in range(1,LL):\n",
    "        Y[:,:,k] = Ybar1[:,:,k] + Ybar2[:,:,k] @ D\n",
    "        for i in range(k-1):\n",
    "            Y[:,:,k] += Ybar2[:,:,i] @ Y[:,:,k-i-1]\n",
    "            \n",
    "    H = np.zeros((D.shape[0],D.shape[1],LL+1))\n",
    "    H[:,:,0] = D\n",
    "    \n",
    "    for k in range(1,LL+1):\n",
    "        H[:,:,k] = Y[:,:,k-1]\n",
    "        \n",
    "    return H"
   ]
  },
  {
   "cell_type": "code",
   "execution_count": 6,
   "metadata": {},
   "outputs": [
    {
     "name": "stdout",
     "output_type": "stream",
     "text": [
      "omega=array([1.96755033+1.62137549j, 1.69275515+1.63739255j,\n",
      "       1.84962919+1.72380714j, 1.8605711 +1.65582931j,\n",
      "       1.8223402 +1.65915162j, 1.88963547+1.4371106j ,\n",
      "       1.80382639+1.42505064j, 1.84332906+1.46646907j,\n",
      "       1.85005749+1.41503336j, 1.84910817+1.42120274j])\n",
      "phi=array([[-0.78799378-1.02287479j, -0.78799378+1.02287479j,\n",
      "         0.31239591+0.j        ,  2.13463838-0.10717162j,\n",
      "         2.13463838+0.10717162j, -1.41984137+0.64580042j,\n",
      "        -1.41984137-0.64580042j,  0.52160609+0.j        ,\n",
      "         0.37292667+0.j        ,  0.61445464+0.j        ],\n",
      "       [ 1.08380386+0.01695736j,  1.08380386-0.01695736j,\n",
      "         0.98607247+0.j        , -0.17421541-0.916869j  ,\n",
      "        -0.17421541+0.916869j  ,  0.33333002-0.13752255j,\n",
      "         0.33333002+0.13752255j,  1.95125281+0.j        ,\n",
      "        -0.60567734+0.j        , -0.52844194+0.j        ]])\n"
     ]
    }
   ],
   "source": [
    "## Compute ERA from impulse response\n",
    "mco = int(np.floor((yFull.shape[0]-1)/2)) # m_c = m_o = (m-1)/2\n",
    "Ar,Br,Cr,Dr,HSVs = era(YY,mco,mco,q,p,r)\n",
    "sysERA = ss(Ar,Br,Cr,Dr,dt)"
   ]
  },
  {
   "cell_type": "code",
   "execution_count": 7,
   "metadata": {},
   "outputs": [
    {
     "name": "stdout",
     "output_type": "stream",
     "text": [
      "(2, 200) (2, 200)\n"
     ]
    }
   ],
   "source": [
    "## Compute random input simulation for OKID\n",
    "uRandom = np.random.randn(q,200) # Random forcing input\n",
    "yRandom = lsim(sysFull,uRandom.T,range(200))[0].T # Output\n",
    "print(uRandom.shape, yRandom.shape)"
   ]
  },
  {
   "cell_type": "code",
   "execution_count": 8,
   "metadata": {},
   "outputs": [
    {
     "name": "stdout",
     "output_type": "stream",
     "text": [
      "200\n",
      "200\n",
      "omega=array([1.96825441+1.62168973j, 1.69188264+1.63791244j,\n",
      "       1.84971144+1.72433954j, 1.84197317+1.66124541j,\n",
      "       1.83830587+1.60007929j, 1.83853746+1.53445782j,\n",
      "       1.88606143+1.43871441j, 1.80708245+1.42778799j,\n",
      "       1.85216083+1.41227409j, 1.84890916+1.4117534j ])\n",
      "phi=array([[ 0.95014022+1.10958167j,  0.95014022-1.10958167j,\n",
      "         0.25595086+0.j        ,  0.71066519+0.j        ,\n",
      "         2.87933667+0.j        ,  0.95786942+0.j        ,\n",
      "         0.49970896+0.80949082j,  0.49970896-0.80949082j,\n",
      "        -0.11315706+0.24362173j, -0.11315706-0.24362173j],\n",
      "       [-1.15333763+0.01668017j, -1.15333763-0.01668017j,\n",
      "         0.58171318+0.j        ,  1.42472889+0.j        ,\n",
      "        -0.52441011+0.j        ,  2.57509794+0.j        ,\n",
      "         0.066938  -0.34304032j,  0.066938  +0.34304032j,\n",
      "        -0.12630985-0.43014177j, -0.12630985+0.43014177j]])\n"
     ]
    }
   ],
   "source": [
    "## Compute OKID and then ERA\n",
    "H = OKID(yRandom,uRandom,r)\n",
    "mco = int(np.floor((H.shape[2]-1)/2)) # m_c = m_o\n",
    "Ar,Br,Cr,Dr,HSVs = era(H,mco,mco,q,p,r)\n",
    "sysERAOKID = ss(Ar,Br,Cr,Dr,dt)"
   ]
  },
  {
   "cell_type": "code",
   "execution_count": 9,
   "metadata": {},
   "outputs": [
    {
     "data": {
      "image/png": "[encoded data removed]",
      "text/plain": [
       "<Figure size 576x576 with 4 Axes>"
      ]
     },
     "metadata": {
      "needs_background": "light"
     },
     "output_type": "display_data"
    }
   ],
   "source": [
    "## Plot impulse responses for all methods\n",
    "\n",
    "y1 = np.zeros((200,p,q))\n",
    "y2 = np.zeros((100,p,q))\n",
    "y3 = np.zeros((100,p,q))\n",
    "\n",
    "for qi in range(q):\n",
    "    y1[:,:,qi],t1 = impulse(sysFull,np.arange(200),input=qi)\n",
    "    y2[:,:,qi],t2 = impulse(sysERA,np.arange(100),input=qi)\n",
    "    y3[:,:,qi],t3 = impulse(sysERAOKID,np.arange(100),input=qi)\n",
    "\n",
    "fig,axs = plt.subplots(2,2)\n",
    "axs = axs.reshape(-1)\n",
    "\n",
    "axs[0].step(t1,y1[:,0,0],linewidth=2)\n",
    "axs[0].step(t2,y2[:,0,0],linewidth=1.2)\n",
    "# axs[0].step(t3,y3[:,0,0],linewidth=1)\n",
    "axs[0].set_ylabel('y1')\n",
    "axs[0].set_title('u1')\n",
    "\n",
    "axs[1].step(t1,y1[:,0,1],linewidth=2)\n",
    "axs[1].step(t2,y2[:,0,1],linewidth=1.2)\n",
    "# axs[1].step(t3,y3[:,0,1],linewidth=1)\n",
    "axs[1].set_title('u2')\n",
    "\n",
    "axs[2].step(t1,y1[:,1,0],linewidth=2)\n",
    "axs[2].step(t2,y2[:,1,0],linewidth=1.2)\n",
    "# axs[2].step(t3,y3[:,1,0],linewidth=1)\n",
    "axs[2].set_ylabel('y2')\n",
    "\n",
    "axs[3].step(t1,y1[:,1,1],linewidth=2,label='Full model, n=100')\n",
    "axs[3].step(t2,y2[:,1,1],linewidth=1.2,label='ERA, r={}'.format(r))\n",
    "# axs[3].step(t3,y3[:,1,1],linewidth=1,label='ERA/OKID, r={}'.format(r))\n",
    "axs[3].legend(prop={'size': 12})\n",
    "\n",
    "for ax in axs:\n",
    "    ax.set_xlim(0,60)\n",
    "\n",
    "plt.show()"
   ]
  },
  {
   "cell_type": "code",
   "execution_count": 10,
   "metadata": {},
   "outputs": [
    {
     "data": {
      "image/png": "[encoded data removed]",
      "text/plain": [
       "<Figure size 576x576 with 2 Axes>"
      ]
     },
     "metadata": {
      "needs_background": "light"
     },
     "output_type": "display_data"
    }
   ],
   "source": [
    "## Plot input/output pair for OKID\n",
    "fig,axs = plt.subplots(2)\n",
    "\n",
    "axs[0].set_title('Inputs')\n",
    "axs[0].step(range(uRandom.shape[1]),uRandom[0,:],label='u1')\n",
    "axs[0].step(range(uRandom.shape[1]),uRandom[1,:],label='u2')\n",
    "axs[0].set_xlabel('t')\n",
    "axs[0].set_ylabel('u')\n",
    "\n",
    "axs[1].set_title('Outputs')\n",
    "axs[1].step(range(yRandom.shape[1]),uRandom[0,:],label='y1')\n",
    "axs[1].step(range(yRandom.shape[1]),uRandom[1,:],label='y2')\n",
    "axs[1].set_xlabel('t')\n",
    "axs[1].set_ylabel('y')\n",
    "\n",
    "for ax in axs:\n",
    "    ax.legend(prop={'size': 12})\n",
    "\n",
    "\n",
    "plt.show()"
   ]
  }
 ],
 "metadata": {
  "kernelspec": {
   "display_name": "base",
   "language": "python",
   "name": "python3"
  },
  "language_info": {
   "codemirror_mode": {
    "name": "ipython",
    "version": 3
   },
   "file_extension": ".py",
   "mimetype": "text/x-python",
   "name": "python",
   "nbconvert_exporter": "python",
   "pygments_lexer": "ipython3",
   "version": "3.9.7"
  },
  "vscode": {
   "interpreter": {
    "hash": "abc70983533595d4cf951946d335d6ad702b849687c3e7854dbbd98f20b673db"
   }
  }
 },
 "nbformat": 4,
 "nbformat_minor": 2
}
