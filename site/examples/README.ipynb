{
 "cells": [
  {
   "attachments": {},
   "cell_type": "markdown",
   "id": "6cadac5c-e505-431c-9740-9268e17d2cf3",
   "metadata": {
    "tags": []
   },
   "source": [
    "# `mdof` examples"
   ]
  },
  {
   "attachments": {},
   "cell_type": "markdown",
   "id": "4c369c63",
   "metadata": {},
   "source": [
    "<h3 id=\"siso\">SISO</h3>\n",
    "<dl>\n",
    "<dt><a href=\"01_SISO_Intro.ipynb\"><code>01_SISO_Intro.ipynb</code></a></dt>\n",
    "<dd><p>Introduction to system identification using the <code>mdof</code> package, with an example SDOF system, input, and output as a demonstration.</p>\n",
    "</dd>\n",
    "<dt><a href=\"02_SISO_Event.ipynb\"><code>02_SISO_Event.ipynb</code></a></dt>\n",
    "<dd><p>Perform system identification for a single event for a Single Input, Single Output (SISO) system.</p>\n",
    "</dd>\n",
    "<dt><a href=\"03_SISO_History.ipynb\"><code>03_SISO_History.ipynb</code></a></dt>\n",
    "<dd><p>Perform system identification for a set of events over time for a SISO system.</p>\n",
    "</dd>\n",
    "</dl>\n",
    "<h3 id=\"mimo\">MIMO</h3>\n",
    "<dl>\n",
    "<dt><a href=\"04_SIMO_Event.ipynb\"><code>04_SIMO_Event.ipynb</code></a></dt>\n",
    "<dd><p>Perform system identification for a single event for a SIMO system.</p>\n",
    "</dd>\n",
    "<dt><a href=\"05_MIMO_Intro.ipynb\"><code>05_MIMO_Intro.ipynb</code></a></dt>\n",
    "<dd><p>Introduction to Multiple Input, Multiple Output (MIMO) system identification using the <code>mdof</code> package.</p>\n",
    "</dd>\n",
    "<dt><a href=\"06_MIMO_History.ipynb\"><code>06_MIMO_History.ipynb</code></a></dt>\n",
    "<dd><p>Perform system identification for a set of events over time for a MIMO system.</p>\n",
    "</dd>\n",
    "</dl>"
   ]
  },
  {
   "attachments": {},
   "cell_type": "markdown",
   "id": "a089497e",
   "metadata": {},
   "source": [
    "Run the following cell to install the BRACE2 packages:"
   ]
  },
  {
   "cell_type": "code",
   "execution_count": 1,
   "id": "cff7d6c5",
   "metadata": {
    "execution": {
     "iopub.execute_input": "2023-10-17T17:32:14.519734Z",
     "iopub.status.busy": "2023-10-17T17:32:14.519194Z",
     "iopub.status.idle": "2023-10-17T17:32:16.358890Z",
     "shell.execute_reply": "2023-10-17T17:32:16.356721Z"
    },
    "vscode": {
     "languageId": "plaintext"
    }
   },
   "outputs": [
    {
     "name": "stdout",
     "output_type": "stream",
     "text": [
      "Requirement already satisfied: numpy in /home/xstal/mambaforge/envs/mdof-dev/lib/python3.12/site-packages (from -r requirements.txt (line 1)) (1.26.1)\r\n"
     ]
    },
    {
     "name": "stdout",
     "output_type": "stream",
     "text": [
      "Requirement already satisfied: scipy in /home/xstal/mambaforge/envs/mdof-dev/lib/python3.12/site-packages (from -r requirements.txt (line 2)) (1.11.3)\r\n"
     ]
    },
    {
     "name": "stdout",
     "output_type": "stream",
     "text": [
      "Requirement already satisfied: tqdm in /home/xstal/mambaforge/envs/mdof-dev/lib/python3.12/site-packages (from -r requirements.txt (line 3)) (4.66.1)\r\n"
     ]
    },
    {
     "name": "stdout",
     "output_type": "stream",
     "text": [
      "Requirement already satisfied: quakeio in /home/xstal/mambaforge/envs/mdof-dev/lib/python3.12/site-packages (from -r requirements.txt (line 4)) (0.1.18)\r\n",
      "Requirement already satisfied: matplotlib in /home/xstal/mambaforge/envs/mdof-dev/lib/python3.12/site-packages (from -r requirements.txt (line 6)) (3.8.0)\r\n"
     ]
    },
    {
     "name": "stdout",
     "output_type": "stream",
     "text": [
      "Requirement already satisfied: plotly in /home/xstal/mambaforge/envs/mdof-dev/lib/python3.12/site-packages (from -r requirements.txt (line 7)) (5.17.0)\r\n",
      "Requirement already satisfied: pandas in /home/xstal/mambaforge/envs/mdof-dev/lib/python3.12/site-packages (from -r requirements.txt (line 8)) (2.1.1)\r\n"
     ]
    },
    {
     "name": "stdout",
     "output_type": "stream",
     "text": [
      "Requirement already satisfied: mdof in /home/xstal/mambaforge/envs/mdof-dev/lib/python3.12/site-packages (from -r requirements.txt (line 9)) (0.0.6)\r\n",
      "Requirement already satisfied: control in /home/xstal/mambaforge/envs/mdof-dev/lib/python3.12/site-packages (from -r requirements.txt (line 10)) (0.9.4)\r\n",
      "Requirement already satisfied: sdof in /home/xstal/mambaforge/envs/mdof-dev/lib/python3.12/site-packages (from -r requirements.txt (line 11)) (0.0.7)\r\n"
     ]
    },
    {
     "name": "stdout",
     "output_type": "stream",
     "text": [
      "Requirement already satisfied: SciencePlots in /home/xstal/mambaforge/envs/mdof-dev/lib/python3.12/site-packages (from -r requirements.txt (line 13)) (2.1.0)\r\n"
     ]
    },
    {
     "name": "stdout",
     "output_type": "stream",
     "text": [
      "Requirement already satisfied: pyyaml in /home/xstal/mambaforge/envs/mdof-dev/lib/python3.12/site-packages (from quakeio->-r requirements.txt (line 4)) (6.0.1)\r\n",
      "Requirement already satisfied: contourpy>=1.0.1 in /home/xstal/mambaforge/envs/mdof-dev/lib/python3.12/site-packages (from matplotlib->-r requirements.txt (line 6)) (1.1.1)\r\n",
      "Requirement already satisfied: cycler>=0.10 in /home/xstal/mambaforge/envs/mdof-dev/lib/python3.12/site-packages (from matplotlib->-r requirements.txt (line 6)) (0.12.1)\r\n",
      "Requirement already satisfied: fonttools>=4.22.0 in /home/xstal/mambaforge/envs/mdof-dev/lib/python3.12/site-packages (from matplotlib->-r requirements.txt (line 6)) (4.43.1)\r\n",
      "Requirement already satisfied: kiwisolver>=1.0.1 in /home/xstal/mambaforge/envs/mdof-dev/lib/python3.12/site-packages (from matplotlib->-r requirements.txt (line 6)) (1.4.5)\r\n"
     ]
    },
    {
     "name": "stdout",
     "output_type": "stream",
     "text": [
      "Requirement already satisfied: packaging>=20.0 in /home/xstal/mambaforge/envs/mdof-dev/lib/python3.12/site-packages (from matplotlib->-r requirements.txt (line 6)) (23.2)\r\n",
      "Requirement already satisfied: pillow>=6.2.0 in /home/xstal/mambaforge/envs/mdof-dev/lib/python3.12/site-packages (from matplotlib->-r requirements.txt (line 6)) (10.1.0)\r\n",
      "Requirement already satisfied: pyparsing>=2.3.1 in /home/xstal/mambaforge/envs/mdof-dev/lib/python3.12/site-packages (from matplotlib->-r requirements.txt (line 6)) (3.1.1)\r\n",
      "Requirement already satisfied: python-dateutil>=2.7 in /home/xstal/mambaforge/envs/mdof-dev/lib/python3.12/site-packages (from matplotlib->-r requirements.txt (line 6)) (2.8.2)\r\n",
      "Requirement already satisfied: tenacity>=6.2.0 in /home/xstal/mambaforge/envs/mdof-dev/lib/python3.12/site-packages (from plotly->-r requirements.txt (line 7)) (8.2.3)\r\n"
     ]
    },
    {
     "name": "stdout",
     "output_type": "stream",
     "text": [
      "Requirement already satisfied: pytz>=2020.1 in /home/xstal/mambaforge/envs/mdof-dev/lib/python3.12/site-packages (from pandas->-r requirements.txt (line 8)) (2023.3.post1)\r\n",
      "Requirement already satisfied: tzdata>=2022.1 in /home/xstal/mambaforge/envs/mdof-dev/lib/python3.12/site-packages (from pandas->-r requirements.txt (line 8)) (2023.3)\r\n"
     ]
    },
    {
     "name": "stdout",
     "output_type": "stream",
     "text": [
      "Requirement already satisfied: six>=1.5 in /home/xstal/mambaforge/envs/mdof-dev/lib/python3.12/site-packages (from python-dateutil>=2.7->matplotlib->-r requirements.txt (line 6)) (1.16.0)\r\n"
     ]
    }
   ],
   "source": [
    "!pip install -Ur requirements.txt"
   ]
  },
  {
   "attachments": {},
   "cell_type": "markdown",
   "id": "b2fd8aa9",
   "metadata": {},
   "source": [
    "### Getting Started\n"
   ]
  },
  {
   "attachments": {},
   "cell_type": "markdown",
   "id": "fafa29bc",
   "metadata": {},
   "source": [
    "To upload:\n",
    "\n",
    "![Upload button](figures/uploads.png)\n",
    "\n",
    "To run:\n",
    "\n",
    "![Run button](figures/run_cells.png)\n"
   ]
  }
 ],
 "metadata": {
  "kernelspec": {
   "display_name": "Python 3 (ipykernel)",
   "language": "python",
   "name": "python3"
  },
  "language_info": {
   "codemirror_mode": {
    "name": "ipython",
    "version": 3
   },
   "file_extension": ".py",
   "mimetype": "text/x-python",
   "name": "python",
   "nbconvert_exporter": "python",
   "pygments_lexer": "ipython3",
   "version": "3.8.10"
  },
  "toc-showtags": false
 },
 "nbformat": 4,
 "nbformat_minor": 5
}
