{
 "cells": [
  {
   "attachments": {},
   "cell_type": "markdown",
   "id": "6cadac5c-e505-431c-9740-9268e17d2cf3",
   "metadata": {
    "tags": []
   },
   "source": [
    "# BRACE2 Structural System Identification Library (`ssid`)"
   ]
  },
  {
   "attachments": {},
   "cell_type": "markdown",
   "id": "4c369c63",
   "metadata": {},
   "source": [
    "<h3 id=\"siso\">SISO</h3>\n",
    "<dl>\n",
    "<dt><a href=\"01_SISO_Intro.ipynb\"><code>01_SISO_Intro.ipynb</code></a></dt>\n",
    "<dd><p>Introduction to system identification using the <code>ssid</code> package, with an example SDOF system, input, and output as a demonstration.</p>\n",
    "</dd>\n",
    "<dt><a href=\"02_SISO_Event.ipynb\"><code>02_SISO_Event.ipynb</code></a></dt>\n",
    "<dd><p>Perform system identification for a single event for a Single Input, Single Output (SISO) system.</p>\n",
    "</dd>\n",
    "<dt><a href=\"03_SISO_History.ipynb\"><code>03_SISO_History.ipynb</code></a></dt>\n",
    "<dd><p>Perform system identification for a set of events over time for a SISO system.</p>\n",
    "</dd>\n",
    "</dl>\n",
    "<h3 id=\"mimo\">MIMO (Under development)</h3>\n",
    "<dl>\n",
    "<dt><a href=\"04_SIMO_Event.ipynb\"><code>04_SIMO_Event.ipynb</code></a></dt>\n",
    "<dd><p>Perform system identification for a single event for a MIMO system.</p>\n",
    "</dd>\n",
    "<dt><a href=\"05_MIMO_Intro.ipynb\"><code>05_MIMO_Intro.ipynb</code></a></dt>\n",
    "<dd><p>Introduction to Multiple Input, Multiple Output (MIMO) system identification using the <code>ssid</code> package.</p>\n",
    "</dd>\n",
    "<dt><a href=\"06_MIMO_History.ipynb\"><code>06_MIMO_History.ipynb</code></a></dt>\n",
    "<dd><p>Perform system identification for a set of events over time for a MIMO system.</p>\n",
    "</dd>\n",
    "</dl>"
   ]
  },
  {
   "attachments": {},
   "cell_type": "markdown",
   "id": "a089497e",
   "metadata": {},
   "source": [
    "Run the following cell to install the BRACE2 packages:"
   ]
  },
  {
   "cell_type": "code",
   "execution_count": 1,
   "id": "cff7d6c5",
   "metadata": {
    "execution": {
     "iopub.execute_input": "2023-08-25T06:12:20.724716Z",
     "iopub.status.busy": "2023-08-25T06:12:20.724409Z",
     "iopub.status.idle": "2023-08-25T06:12:21.512118Z",
     "shell.execute_reply": "2023-08-25T06:12:21.510823Z"
    },
    "vscode": {
     "languageId": "plaintext"
    }
   },
   "outputs": [
    {
     "name": "stdout",
     "output_type": "stream",
     "text": [
      "\u001b[31mERROR: Could not open requirements file: [Errno 2] No such file or directory: 'requirements.txt'\u001b[0m\u001b[31m\r\n",
      "\u001b[0m"
     ]
    }
   ],
   "source": [
    "!pip install -Ur requirements.txt"
   ]
  },
  {
   "attachments": {},
   "cell_type": "markdown",
   "id": "b2fd8aa9",
   "metadata": {},
   "source": [
    "### Getting Started\n"
   ]
  },
  {
   "attachments": {},
   "cell_type": "markdown",
   "id": "fafa29bc",
   "metadata": {},
   "source": [
    "To upload:\n",
    "\n",
    "![Upload button](figures/uploads.png)\n",
    "\n",
    "To run:\n",
    "\n",
    "![Run button](figures/run_cells.png)\n"
   ]
  }
 ],
 "metadata": {
  "kernelspec": {
   "display_name": "Python 3 (ipykernel)",
   "language": "python",
   "name": "python3"
  },
  "language_info": {
   "codemirror_mode": {
    "name": "ipython",
    "version": 3
   },
   "file_extension": ".py",
   "mimetype": "text/x-python",
   "name": "python",
   "nbconvert_exporter": "python",
   "pygments_lexer": "ipython3",
   "version": "3.9.16"
  },
  "toc-showtags": false
 },
 "nbformat": 4,
 "nbformat_minor": 5
}
