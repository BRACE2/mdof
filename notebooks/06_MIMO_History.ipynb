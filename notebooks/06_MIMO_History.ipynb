{
 "cells": [
  {
   "cell_type": "code",
   "execution_count": 7,
   "id": "a5714e1d-5706-4f80-b65c-f9d9faaee2e6",
   "metadata": {},
   "outputs": [],
   "source": [
    "import quakeio\n",
    "import ssid\n",
    "import ssid.srim\n",
    "\n",
    "from pathlib import Path\n",
    "import numpy as np\n",
    "import pandas as pd"
   ]
  },
  {
   "attachments": {},
   "cell_type": "markdown",
   "id": "af12ef54",
   "metadata": {},
   "source": [
    "### Data inputs"
   ]
  },
  {
   "cell_type": "code",
   "execution_count": 8,
   "id": "3f886615-f4a7-4415-aa43-212e1ec5bcca",
   "metadata": {},
   "outputs": [],
   "source": [
    "# channels = [\"22\", \"24\"]\n",
    "# channels = [\"23\", \"25\"]\n",
    "channels = dict( # PAINTER RIO DELL\n",
    "    inputs  = [17, 3, 20],\n",
    "    outputs = [ 9, 7 , 4]\n",
    ")\n",
    "# channels = dict(# Case 2\n",
    "#     inputs  = [3,6,17],\n",
    "#     outputs = [12, 14, 19]\n",
    "# )\n",
    "# channels = dict( # Case 5\n",
    "#     inputs  = [1],\n",
    "#     outputs = [16]\n",
    "# )\n",
    "# channels = dict(\n",
    "#     inputs  = \"2 7 25\".split(),\n",
    "#     outputs = \"18 13 15 23 20\".split()\n",
    "# )"
   ]
  },
  {
   "attachments": {},
   "cell_type": "markdown",
   "id": "755f4e2b",
   "metadata": {},
   "source": [
    "### Method Inputs"
   ]
  },
  {
   "cell_type": "code",
   "execution_count": null,
   "id": "e7c4782f",
   "metadata": {},
   "outputs": [],
   "source": [
    "conf = {\n",
    "    \n",
    "}"
   ]
  },
  {
   "cell_type": "code",
   "execution_count": 6,
   "id": "2374b59b-7239-4190-b64c-26b2615d7fbb",
   "metadata": {
    "tags": []
   },
   "outputs": [
    {
     "name": "stdout",
     "output_type": "stream",
     "text": [
      "nc73201181_ce89324p.zip\n",
      "\tFAILED (module 'ssid' has no attribute 'okid_era_dc')\n",
      "RioDell_Petrolia_Processed_Data.zip\n",
      "\tFAILED (module 'ssid' has no attribute 'okid_era_dc')\n",
      "Trinidad-Offshore_08Nov1980_CE89324p.zip\n",
      "\tFAILED (module 'ssid' has no attribute 'okid_era_dc')\n"
     ]
    }
   ],
   "source": [
    "for file in Path(\"./painter\").glob(\"*.zip\"):\n",
    "    event = quakeio.read(file, exclusions=[\"*filter*\", \"*date*\"])\n",
    "    print(f\"{file.name}\")\n",
    "    try:\n",
    "        inputs = [\n",
    "            event.match(\"r\", file_name=f\".*{chan}.*\").accel\n",
    "            for chan in channels[\"inputs\"]\n",
    "        ]\n",
    "        outpts = [\n",
    "            event.match(\"r\", file_name=f\".*{chan}.*\").accel\n",
    "            for chan in channels[\"outputs\"]\n",
    "        ]\n",
    "        dt = inputs[0][\"time_step\"]\n",
    "        V = ssid.system(inputs, outpts, dt=dt, kmax=500, mro=10, orm=4, verbose=True)\n",
    "        print(max(i[\"peak_accel\"] for i in inputs))\n",
    "    except Exception as e:\n",
    "        print(f\"\\tFAILED ({e})\")\n",
    "        \n",
    "    else:\n",
    "        print(ssid.IdentifiedSystem(dt, **V))\n",
    "        # break\n",
    "\n",
    "        # A,B,C,D = OKID.okid(inputs, outpts, dt=dt, kmax=500, mro=10, orm=4, verbose=True)\n",
    "        # freqdmpSRIM, modeshapeSRIM, *_ = si.ComposeModes(dt, A, B, C, D)\n",
    "        # Add validation\n",
    "        # print(si.IdentifiedSystem(dt, A, B, C, D))\n",
    "        # print(file, np.real(1/freqdmpSRIM[:,0]))"
   ]
  },
  {
   "cell_type": "code",
   "execution_count": 5,
   "id": "6eb66ef8-c153-4768-805a-9a4195bba941",
   "metadata": {},
   "outputs": [
    {
     "ename": "AttributeError",
     "evalue": "module 'ssid' has no attribute 'IdentifiedSystem'",
     "output_type": "error",
     "traceback": [
      "\u001b[0;31m---------------------------------------------------------------------------\u001b[0m",
      "\u001b[0;31mAttributeError\u001b[0m                            Traceback (most recent call last)",
      "\u001b[1;32m/mnt/c/Users/16507/Documents/GitHub/SystemIdentification/notebooks/06_MIMO_History.ipynb Cell 4\u001b[0m in \u001b[0;36m<cell line: 1>\u001b[0;34m()\u001b[0m\n\u001b[0;32m----> <a href='vscode-notebook-cell://wsl%2Bubuntu/mnt/c/Users/16507/Documents/GitHub/SystemIdentification/notebooks/06_MIMO_History.ipynb#W3sdnNjb2RlLXJlbW90ZQ%3D%3D?line=0'>1</a>\u001b[0m syst \u001b[39m=\u001b[39m ssid\u001b[39m.\u001b[39;49mIdentifiedSystem(dt, \u001b[39m*\u001b[39m\u001b[39m*\u001b[39mV)\n\u001b[1;32m      <a href='vscode-notebook-cell://wsl%2Bubuntu/mnt/c/Users/16507/Documents/GitHub/SystemIdentification/notebooks/06_MIMO_History.ipynb#W3sdnNjb2RlLXJlbW90ZQ%3D%3D?line=1'>2</a>\u001b[0m syst\u001b[39m.\u001b[39mfreqdmp\n",
      "\u001b[0;31mAttributeError\u001b[0m: module 'ssid' has no attribute 'IdentifiedSystem'"
     ]
    }
   ],
   "source": [
    "syst = ssid.IdentifiedSystem(dt, **V)\n",
    "syst.freqdmp"
   ]
  },
  {
   "cell_type": "code",
   "execution_count": null,
   "id": "d58a788e-9d93-4b50-abc6-604f0dca58f8",
   "metadata": {},
   "outputs": [],
   "source": [
    "ssid.condeig(V[\"A\"])"
   ]
  },
  {
   "cell_type": "code",
   "execution_count": null,
   "id": "dcf8e841-6dcf-4de9-b003-8adf92a91f23",
   "metadata": {},
   "outputs": [],
   "source": [
    "def hankel(Y, d, shift):\n",
    "    from numpy.lib.stride_tricks import as_strided\n",
    "    if shift:\n",
    "        Y = np.roll(Y,1)\n",
    "    return as_strided()\n",
    "    return np.lib.stride_tricks.sliding_window_view(\n",
    "            Y, (Y.shape[0], Y.shape[1]+1-d)\n",
    "    ).reshape(d*Y.shape[0], -1)"
   ]
  },
  {
   "cell_type": "code",
   "execution_count": null,
   "id": "9d567f5a-204c-4d52-ad66-bbd4c218eda9",
   "metadata": {},
   "outputs": [],
   "source": [
    "hankel(np.array(V[\"Y\"]), 10, 0)"
   ]
  },
  {
   "cell_type": "code",
   "execution_count": null,
   "id": "43741287-e34b-497e-b3df-8f6823e855ac",
   "metadata": {},
   "outputs": [],
   "source": [
    "np.array(V[\"dati\"]).shape"
   ]
  },
  {
   "cell_type": "code",
   "execution_count": null,
   "id": "c1c54b89-9fcd-419b-87e4-595ed4965f45",
   "metadata": {},
   "outputs": [],
   "source": [
    "print(si.IdentifiedSystem(dt, -V[\"A\"]))"
   ]
  },
  {
   "cell_type": "code",
   "execution_count": null,
   "id": "c430a95c-d868-4524-8e86-77990da92ea9",
   "metadata": {},
   "outputs": [],
   "source": []
  }
 ],
 "metadata": {
  "kernelspec": {
   "display_name": "Python 3.8.5 ('cs189sp22')",
   "language": "python",
   "name": "python3"
  },
  "language_info": {
   "codemirror_mode": {
    "name": "ipython",
    "version": 3
   },
   "file_extension": ".py",
   "mimetype": "text/x-python",
   "name": "python",
   "nbconvert_exporter": "python",
   "pygments_lexer": "ipython3",
   "version": "3.9.10"
  },
  "vscode": {
   "interpreter": {
    "hash": "b944da275fc40d5f9e33b056094a1f7a0fbd6b43847c12427d377e8ad9deab4f"
   }
  }
 },
 "nbformat": 4,
 "nbformat_minor": 5
}
