{
 "cells": [
  {
   "cell_type": "code",
   "execution_count": 1,
   "id": "a5714e1d-5706-4f80-b65c-f9d9faaee2e6",
   "metadata": {},
   "outputs": [],
   "source": [
    "import ssid\n",
    "import quakeio\n",
    "from ssid import modes\n",
    "from utilities import Config, extract_channels, list_files, print_modes, mode_statistics"
   ]
  },
  {
   "attachments": {},
   "cell_type": "markdown",
   "id": "af12ef54",
   "metadata": {},
   "source": [
    "### Data inputs"
   ]
  },
  {
   "cell_type": "code",
   "execution_count": 2,
   "id": "66b05cd1",
   "metadata": {},
   "outputs": [],
   "source": [
    "directory = \"uploads/painter\"\n",
    "pattern  = \"*.[zZ][iI][pP]\""
   ]
  },
  {
   "cell_type": "code",
   "execution_count": 3,
   "id": "3f886615-f4a7-4415-aa43-212e1ec5bcca",
   "metadata": {},
   "outputs": [],
   "source": [
    "data_conf = Config()\n",
    "data_conf.d = 8 # decimation factor\n",
    "\n",
    "# PAINTER RIO DELL TRANSVERSE (CASE 1)\n",
    "data_conf.inputs  = [17,3,20]\n",
    "data_conf.outputs = [9,7,4]\n",
    "# # PAINTER RIO DELL LONGITUDINAL (CASE 2)\n",
    "# data_conf.inputs  = [15,1,18]\n",
    "# data_conf.outputs = [11]\n",
    "\n",
    "# # HWY8/MELOLAND TRANSVERSE (CASE 1)\n",
    "# data_conf.inputs  = [2],\n",
    "# data_conf.outputs = [5,7,9]\n",
    "# # HWY8/MELOLAND TRANSVERSE (CASE 2)\n",
    "# data_conf.inputs  = [11,2,26],\n",
    "# data_conf.outputs = [5,7,9]\n",
    "# # HWY8/MELOLAND LONGITUDINAL (CASE 3)\n",
    "# data_conf.inputs  = [12,4,25],\n",
    "# data_conf.outputs = [27,8]\n",
    "\n",
    "# # CROWLEY TRANSVERSE (CASE 1)\n",
    "# data_conf.inputs = [4]\n",
    "# data_conf.outputs = [6,7,9]\n",
    "# # CROWLEY TRANSVERSE (CASE 2)\n",
    "# data_conf.inputs = [6,4,9]\n",
    "# data_conf.outputs = [7]\n",
    "# # CROWLEY TRANSVERSE (CASE 3)\n",
    "# data_conf.inputs = [4]\n",
    "# data_conf.outputs = [7]\n",
    "# # CROWLEY LONGITUDINAL (CASE 4)\n",
    "# data_conf.inputs = [5]\n",
    "# data_conf.outputs = [8]\n",
    "\n",
    "# # RIDGECREST TRANSVERSE (CASE 1)\n",
    "# data_conf.inputs  = [4]\n",
    "# data_conf.outputs = [6,7,9]\n",
    "\n",
    "# # CAPISTRANO TRANSVERSE (CASE 1)\n",
    "# data_conf.inputs  = [4]\n",
    "# data_conf.outputs = [10,7]\n",
    "\n",
    "# # HAYWARD TRANSVERSE (CASE 1)\n",
    "# data_conf.inputs  = [2,7,25,18]\n",
    "# data_conf.outputs = [13,15,23,20]\n",
    "# # HAYWARD LONGITUDINAL\n",
    "# data_conf.inputs  = [3,6,17],\n",
    "# data_conf.outputs = [12,14,19]\n",
    "\n",
    "# # BERNARDINO TRANSVERSE BENT 3 (CASE 1)\n",
    "# data_conf.inputs  = [6]\n",
    "# data_conf.outputs = [7,8]\n",
    "# # BERNARDINO TRANSVERSE BENT 8 (CASE 2)\n",
    "# data_conf.inputs  = [24]\n",
    "# data_conf.outputs = [19,20]\n",
    "# # BERNARDINO LONGITUDINAL BENT 3 (CASE 3)\n",
    "# data_conf.inputs  = [4]\n",
    "# data_conf.outputs = [10]\n",
    "# # BERNARDINO LONGITUDINAL BENT 8 (CASE 4)\n",
    "# data_conf.inputs  = [22]\n",
    "# data_conf.outputs = [17,18]\n"
   ]
  },
  {
   "attachments": {},
   "cell_type": "markdown",
   "id": "755f4e2b",
   "metadata": {},
   "source": [
    "### Method Inputs"
   ]
  },
  {
   "attachments": {},
   "cell_type": "markdown",
   "id": "8aad4938",
   "metadata": {},
   "source": [
    "### General Parameters\n",
    "parameter | value\n",
    "----------|-------\n",
    "`p ` | number of output channels\n",
    "`q ` | number of input channels\n",
    "`nt` | number of timesteps\n",
    "`dt` | timestep\n",
    "`d`  | decimation (downsampling) factor\n",
    "\n",
    "### Specific to Observer Kalman Identification (OKID)\n",
    "parameter | value\n",
    "----------|-------\n",
    "`m`  | number of Markov parameters to compute (at most = nt)\n",
    "\n",
    "### Specific to Eigensystem Realization Algorithm (ERA)\n",
    "parameter | value\n",
    "----------|-------\n",
    "`no` | number of observability parameters\n",
    "`nc` | number of controllability parameters\n",
    "`r ` | reduced model order\n",
    "\n",
    "### Specific to Data Correlations (DC)\n",
    "parameter | value\n",
    "----------|-------\n",
    "`a`  | (alpha) number of additional block rows in Hankel matrix of correlation matrices\n",
    "`b`  | (beta) number of additional block columns in Hankel matrix of correlation matrices\n",
    "`l`  | initial lag\n",
    "`g`  | lag (gap) between correlations\n",
    "\n",
    "### Specific to System Realization with Information Matrix (SRIM)\n",
    "parameter | value\n",
    "----------|-------\n",
    "`no` | number of steps used for identification (prediction horizon)"
   ]
  },
  {
   "cell_type": "code",
   "execution_count": 4,
   "id": "fb6ea3c5",
   "metadata": {},
   "outputs": [],
   "source": [
    "# Set Parameters\n",
    "conf = Config()\n",
    "conf.m  = 400\n",
    "conf.no = 50\n",
    "conf.nc = 50\n",
    "conf.r  = 10\n",
    "conf.a  = 0  \n",
    "conf.b  = 0  \n",
    "conf.l  = 10 \n",
    "conf.g  = 3"
   ]
  },
  {
   "cell_type": "code",
   "execution_count": 5,
   "id": "cddd66da",
   "metadata": {},
   "outputs": [
    {
     "name": "stdout",
     "output_type": "stream",
     "text": [
      "uploads/painter/nc73201181_ce89324p.zip\n",
      "peak acceleration (cm/s/s): 243.242\n",
      "Spectral quantities:\n",
      "         T(s)      ζ\n",
      "      0.2658     0.1054   \n",
      "      0.2641     0.003674 \n",
      "      0.2432     0.00376  \n",
      "      0.2289     0.01486  \n",
      "Mean Period(s): 0.2504793131254741\n",
      "Standard Dev(s): 0.015307510934595071\n",
      "uploads/painter/nc73821036_ce89324p.zip\n",
      "peak acceleration (cm/s/s): -1360.038\n",
      "Spectral quantities:\n",
      "         T(s)      ζ\n",
      "      0.358      0.02692  \n",
      "      0.3171     0.03952  \n",
      "      0.2871     -0.01661 \n",
      "      0.2766     0.1134   \n",
      "      0.1779     0.1052   \n",
      "Mean Period(s): 0.2833471835793703\n",
      "Standard Dev(s): 0.05981093831381329\n",
      "uploads/painter/RioDell_Petrolia_Processed_Data.zip\n",
      "peak acceleration (cm/s/s): 30.272\n",
      "Spectral quantities:\n",
      "         T(s)      ζ\n",
      "      0.2435     0.02224  \n",
      "      0.2298     0.01618  \n",
      "      0.2069     0.0246   \n",
      "      0.188      0.006616 \n",
      "      0.1653     0.00988  \n",
      "Mean Period(s): 0.20670472502500825\n",
      "Standard Dev(s): 0.02812064313428049\n"
     ]
    },
    {
     "data": {
      "text/plain": [
       "[{'freq': 4.112576952979431,\n",
       "  'damp': 0.00375999881536396,\n",
       "  'modeshape': array([0.00087506+0.05196234j, 0.02670332+0.12721886j,\n",
       "         0.01050769+0.12349344j]),\n",
       "  'cnd': 1.2898167916973897,\n",
       "  'distance': -0.14071242625493027},\n",
       " {'freq': 3.6148510483366842,\n",
       "  'damp': 0.11344683119901862,\n",
       "  'modeshape': array([ 0.09619339+0.24187151j,  0.1141495 +0.24351288j,\n",
       "         -0.03573611+0.15548571j]),\n",
       "  'cnd': 1.1588715822812645,\n",
       "  'distance': -0.6915422736363749},\n",
       " {'freq': 4.350942455849533,\n",
       "  'damp': 0.016176990439676905,\n",
       "  'modeshape': array([0.09339581-0.04797893j, 0.18150164-0.11840353j,\n",
       "         0.08595544-0.06274352j]),\n",
       "  'cnd': 1.2653873312414072,\n",
       "  'distance': 0.12308504207491686}]"
      ]
     },
     "execution_count": 5,
     "metadata": {},
     "output_type": "execute_result"
    }
   ],
   "source": [
    "files = list_files(directory, pattern)\n",
    "event_modes = []\n",
    "for file in files:\n",
    "    print(file)\n",
    "\n",
    "    try:\n",
    "        event = quakeio.read(file, exclusions=[\"*filter*\", \"*date*\"])\n",
    "        print(\"peak acceleration (cm/s/s):\", event[\"peak_accel\"])\n",
    "        inputs, dt = extract_channels(event, data_conf[\"inputs\"], decimate=data_conf[\"d\"])\n",
    "        outpts, dt = extract_channels(event, data_conf[\"outputs\"], decimate=data_conf[\"d\"])\n",
    "        realization = ssid.system(method=\"srim\", input=inputs, output=outpts, **conf)\n",
    "    except Exception as e:\n",
    "        print(e)\n",
    "        continue\n",
    "    ss_modes = modes.modes(realization,dt)\n",
    "    event_modes.append(list(ss_modes.values()))\n",
    "    print_modes(ss_modes)\n",
    "\n",
    "event_frequencies = mode_statistics(event_modes, \"freq\")\n",
    "event_frequencies"
   ]
  },
  {
   "attachments": {},
   "cell_type": "markdown",
   "id": "26cb9df2",
   "metadata": {},
   "source": [
    "### Painter St Rio Dell Hwy 101 89324\n",
    "![Painter St Rio Dell Hwy 101 89324 Sensors 1](./figures/89324_Page_1.png)\n",
    "![Painter St Rio Dell Hwy 101 89324 Sensors 2](./figures/89324_Page_2.png)"
   ]
  },
  {
   "attachments": {},
   "cell_type": "markdown",
   "id": "5aa3e0a4",
   "metadata": {},
   "source": [
    "### Meloland Hwy 8 El Centro 01336\n",
    "![Meloland Hwy 8 El Centro 01336 Sensors](./figures/01336.png)"
   ]
  },
  {
   "attachments": {},
   "cell_type": "markdown",
   "id": "9db25c05",
   "metadata": {},
   "source": [
    "### Lake Crowley Hwy 395 54730\n",
    "![Lake Crowley Hwy 395 54730 Sensors](./figures/54730.png)"
   ]
  },
  {
   "attachments": {},
   "cell_type": "markdown",
   "id": "95da6393",
   "metadata": {},
   "source": [
    "### Ridgecrest 33472\n",
    "![Ridgecrest 33472 Sensors](./figures/33742.png)"
   ]
  },
  {
   "attachments": {},
   "cell_type": "markdown",
   "id": "9a130455",
   "metadata": {},
   "source": [
    "### Capistrano 13795\n",
    "![Capistrano 13795 Sensors](./figures/13795.png)"
   ]
  },
  {
   "attachments": {},
   "cell_type": "markdown",
   "id": "7c3e633c",
   "metadata": {},
   "source": [
    "### Hayward Hwy 580-238 58658\n",
    "![Hayward Hwy 580-238 58658 Sensors 1](./figures/58658_Page_1.png)\n",
    "![Hayward Hwy 580-238 58658 Sensors 2](./figures/58658_Page_2.png)"
   ]
  },
  {
   "attachments": {},
   "cell_type": "markdown",
   "id": "ed0dbe00",
   "metadata": {},
   "source": [
    "### San Bernardino I10-215 23631\n",
    "![San Bernardino I10-215 Sensors](./figures/23631.png)"
   ]
  }
 ],
 "metadata": {
  "kernelspec": {
   "display_name": "Python 3.8.5 ('cs189sp22')",
   "language": "python",
   "name": "python3"
  },
  "language_info": {
   "codemirror_mode": {
    "name": "ipython",
    "version": 3
   },
   "file_extension": ".py",
   "mimetype": "text/x-python",
   "name": "python",
   "nbconvert_exporter": "python",
   "pygments_lexer": "ipython3",
   "version": "3.9.10"
  },
  "vscode": {
   "interpreter": {
    "hash": "b944da275fc40d5f9e33b056094a1f7a0fbd6b43847c12427d377e8ad9deab4f"
   }
  }
 },
 "nbformat": 4,
 "nbformat_minor": 5
}
