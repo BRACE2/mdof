{
 "cells": [
  {
   "cell_type": "code",
   "execution_count": 1,
   "id": "a5714e1d-5706-4f80-b65c-f9d9faaee2e6",
   "metadata": {},
   "outputs": [],
   "source": [
    "import ssid\n",
    "import quakeio\n",
    "from ssid import modes\n",
    "from utilities import Config, extract_channels, list_files, print_modes, mode_statistics"
   ]
  },
  {
   "attachments": {},
   "cell_type": "markdown",
   "id": "af12ef54",
   "metadata": {},
   "source": [
    "### Data inputs"
   ]
  },
  {
   "cell_type": "code",
   "execution_count": 2,
   "id": "66b05cd1",
   "metadata": {},
   "outputs": [],
   "source": [
    "directory = \"uploads/vincent\"\n",
    "pattern  = \"*.[zZ][iI][pP]\""
   ]
  },
  {
   "cell_type": "code",
   "execution_count": 3,
   "id": "3f886615-f4a7-4415-aa43-212e1ec5bcca",
   "metadata": {},
   "outputs": [],
   "source": [
    "data_conf = Config()\n",
    "data_conf.d = 8 # decimation factor\n",
    "\n",
    "# # PAINTER RIO DELL TRANSVERSE (CASE 1)\n",
    "# data_conf.inputs  = [17,3,20]\n",
    "# data_conf.outputs = [9,7,4]\n",
    "# # PAINTER RIO DELL LONGITUDINAL (CASE 2)\n",
    "# data_conf.inputs  = [15,1,18]\n",
    "# data_conf.outputs = [11]\n",
    "\n",
    "# # HWY8/MELOLAND TRANSVERSE (CASE 1)\n",
    "# data_conf.inputs  = [2],\n",
    "# data_conf.outputs = [5,7,9]\n",
    "# # HWY8/MELOLAND TRANSVERSE (CASE 2)\n",
    "# data_conf.inputs  = [11,2,26],\n",
    "# data_conf.outputs = [5,7,9]\n",
    "# # HWY8/MELOLAND LONGITUDINAL (CASE 3)\n",
    "# data_conf.inputs  = [12,4,25],\n",
    "# data_conf.outputs = [27,8]\n",
    "\n",
    "# # CROWLEY TRANSVERSE (CASE 1)\n",
    "# data_conf.inputs = [4]\n",
    "# data_conf.outputs = [6,7,9]\n",
    "# # CROWLEY TRANSVERSE (CASE 2)\n",
    "# data_conf.inputs = [6,4,9]\n",
    "# data_conf.outputs = [7]\n",
    "# # CROWLEY TRANSVERSE (CASE 3)\n",
    "# data_conf.inputs = [4]\n",
    "# data_conf.outputs = [7]\n",
    "# # CROWLEY LONGITUDINAL (CASE 4)\n",
    "# data_conf.inputs = [5]\n",
    "# data_conf.outputs = [8]\n",
    "\n",
    "# # RIDGECREST TRANSVERSE (CASE 1)\n",
    "# data_conf.inputs  = [4]\n",
    "# data_conf.outputs = [6,7,9]\n",
    "\n",
    "# # SAMOA TRANSVERSE (CASE 1)\n",
    "# data_conf.inputs  = [16]\n",
    "# data_conf.outputs = [10,12]\n",
    "\n",
    "# VINCENT TRANSVERSE (CASE 1)\n",
    "data_conf.inputs  = [1,9,24]\n",
    "data_conf.outputs = [2,5,6]\n",
    "\n",
    "# CAPISTRANO TRANSVERSE (CASE 1)\n",
    "\n",
    "\n",
    "# # HAYWARD TRANSVERSE (CASE 1)\n",
    "# data_conf.inputs  = [2,7,25,18]\n",
    "# data_conf.outputs = [13,15,23,20]\n",
    "# # HAYWARD LONGITUDINAL\n",
    "# data_conf.inputs  = [3,6,17],\n",
    "# data_conf.outputs = [12,14,19]\n",
    "\n",
    "# # BERNARDINO TRANSVERSE BENT 3 (CASE 1)\n",
    "# data_conf.inputs  = [6]\n",
    "# data_conf.outputs = [7,8]\n",
    "# # BERNARDINO TRANSVERSE BENT 8 (CASE 2)\n",
    "# data_conf.inputs  = [24]\n",
    "# data_conf.outputs = [19,20]\n",
    "# # BERNARDINO LONGITUDINAL BENT 3 (CASE 3)\n",
    "# data_conf.inputs  = [4]\n",
    "# data_conf.outputs = [10]\n",
    "# # BERNARDINO LONGITUDINAL BENT 8 (CASE 4)\n",
    "# data_conf.inputs  = [22]\n",
    "# data_conf.outputs = [17,18]\n"
   ]
  },
  {
   "attachments": {},
   "cell_type": "markdown",
   "id": "755f4e2b",
   "metadata": {},
   "source": [
    "### Method Inputs"
   ]
  },
  {
   "attachments": {},
   "cell_type": "markdown",
   "id": "8aad4938",
   "metadata": {},
   "source": [
    "### General Parameters\n",
    "parameter | value\n",
    "----------|-------\n",
    "`p ` | number of output channels\n",
    "`q ` | number of input channels\n",
    "`nt` | number of timesteps\n",
    "`dt` | timestep\n",
    "`d`  | decimation (downsampling) factor\n",
    "\n",
    "### Specific to Observer Kalman Identification (OKID)\n",
    "parameter | value\n",
    "----------|-------\n",
    "`m`  | number of Markov parameters to compute (at most = nt)\n",
    "\n",
    "### Specific to Eigensystem Realization Algorithm (ERA)\n",
    "parameter | value\n",
    "----------|-------\n",
    "`no` | number of observability parameters\n",
    "`nc` | number of controllability parameters\n",
    "`r ` | reduced model order\n",
    "\n",
    "### Specific to Data Correlations (DC)\n",
    "parameter | value\n",
    "----------|-------\n",
    "`a`  | (alpha) number of additional block rows in Hankel matrix of correlation matrices\n",
    "`b`  | (beta) number of additional block columns in Hankel matrix of correlation matrices\n",
    "`l`  | initial lag\n",
    "`g`  | lag (gap) between correlations\n",
    "\n",
    "### Specific to System Realization with Information Matrix (SRIM)\n",
    "parameter | value\n",
    "----------|-------\n",
    "`no` | number of steps used for identification (prediction horizon)"
   ]
  },
  {
   "cell_type": "code",
   "execution_count": 4,
   "id": "fb6ea3c5",
   "metadata": {},
   "outputs": [],
   "source": [
    "# Set Parameters\n",
    "conf = Config()\n",
    "conf.m  = 400\n",
    "conf.no = 190\n",
    "conf.nc = 190\n",
    "conf.r  = 12\n",
    "conf.a  = 0  \n",
    "conf.b  = 0  \n",
    "conf.l  = 10 \n",
    "conf.g  = 3"
   ]
  },
  {
   "cell_type": "code",
   "execution_count": 5,
   "id": "cddd66da",
   "metadata": {},
   "outputs": [
    {
     "name": "stdout",
     "output_type": "stream",
     "text": [
      "uploads/vincent/calexico_04apr2010_14607652_CE14406P.ZIP\n",
      "uploads/vincent/calexico_04apr2010_14607652_CE14406P.ZIP -92.529\n",
      "Spectral quantities:\n",
      "         T         ζ\n",
      "      1.599      0.008328 \n",
      "      0.8827     0.01184  \n",
      "      0.3757     0.01529  \n",
      "      0.3016     0.001356 \n",
      "      0.2959     0.001439 \n",
      "      0.2868     0.003245 \n",
      "Mean Period(s): 0.623696914079665\n",
      "Standard Dev(s): 0.48398550343957547\n",
      "uploads/vincent/chinohills_29jul2008_ce14406p.zip\n",
      "'max_rows' must be at least 1.\n",
      "uploads/vincent/ci38457511_ce14406p.zip\n",
      "uploads/vincent/ci38457511_ce14406p.zip 117.752\n",
      "No channels found\n",
      "uploads/vincent/Inglewood_17May2009_CE14406P.ZIP\n"
     ]
    },
    {
     "name": "stderr",
     "output_type": "stream",
     "text": [
      "Only extracted 2 channels, 1 missing.\n"
     ]
    },
    {
     "name": "stdout",
     "output_type": "stream",
     "text": [
      "uploads/vincent/Inglewood_17May2009_CE14406P.ZIP -211.549\n",
      "Spectral quantities:\n",
      "         T         ζ\n",
      "      0.9741     0.03007  \n",
      "      0.6989     0.03999  \n",
      "      0.5878     0.02382  \n",
      "      0.4551     0.009126 \n",
      "      0.3537     0.02349  \n",
      "      0.2938     0.002252 \n",
      "Mean Period(s): 0.5605565516872861\n",
      "Standard Dev(s): 0.22947653278780175\n",
      "uploads/vincent/lahabra_28mar2014_15481673_ce14406p.zip\n",
      "uploads/vincent/lahabra_28mar2014_15481673_ce14406p.zip 67.536\n"
     ]
    },
    {
     "name": "stderr",
     "output_type": "stream",
     "text": [
      "Only extracted 2 channels, 1 missing.\n"
     ]
    },
    {
     "name": "stdout",
     "output_type": "stream",
     "text": [
      "Spectral quantities:\n",
      "         T         ζ\n",
      "      0.8756     0.006875 \n",
      "      0.7778     0.001127 \n",
      "      0.3054     0.007299 \n",
      "      0.2516     0.004426 \n",
      "      0.2105     0.03518  \n",
      "      0.1807     0.05644  \n",
      "Mean Period(s): 0.43360376081583335\n",
      "Standard Dev(s): 0.28199443676078084\n",
      "uploads/vincent/northridge_17jan1994_ce14406p.zip\n",
      "uploads/vincent/northridge_17jan1994_ce14406p.zip 472.904\n",
      "Spectral quantities:\n",
      "         T         ζ\n",
      "      3.029      0.7676   \n",
      "      0.8937     0.3034   \n",
      "      0.5025     0.1688   \n",
      "      0.3366     0.08232  \n",
      "Mean Period(s): 1.1905320408490752\n",
      "Standard Dev(s): 1.0806869105621149\n",
      "uploads/vincent/Whittier87_CE14406P.ZIP\n",
      "uploads/vincent/Whittier87_CE14406P.ZIP -249.126\n",
      "tuple index out of range\n"
     ]
    },
    {
     "name": "stderr",
     "output_type": "stream",
     "text": [
      "/mnt/c/Users/16507/Documents/GitHub/SystemIdentification/notebooks/utilities/config.py:19: VisibleDeprecationWarning: Creating an ndarray from ragged nested sequences (which is a list-or-tuple of lists-or-tuples-or ndarrays with different lengths or shapes) is deprecated. If you meant to do this, you must specify 'dtype=object' when creating the ndarray.\n",
      "  data = np.asarray([\n"
     ]
    },
    {
     "data": {
      "text/plain": [
       "[{'freq': 2.6618432641381147,\n",
       "  'damp': 0.01529221745949096,\n",
       "  'modeshape': array([-0.00128361+0.0150647j ,  0.00077459-0.00611908j,\n",
       "          0.03723786-0.02550685j]),\n",
       "  'cnd': 1.000414196059899,\n",
       "  'distance': 0.16826669653195675},\n",
       " {'freq': 2.1973133062498653,\n",
       "  'damp': 0.009125609110742776,\n",
       "  'modeshape': array([ 0.06719501+0.04536164j, -0.02908757-0.00386029j,\n",
       "          0.01383012-0.02843941j]),\n",
       "  'cnd': 1.0013876633569962,\n",
       "  'distance': -0.17557611208142365},\n",
       " {'freq': 3.2742257991176857,\n",
       "  'damp': 0.007299045196383844,\n",
       "  'modeshape': array([ 0.00220296+0.08680165j, -0.01625104+0.03650694j]),\n",
       "  'cnd': 1.0041283296558279,\n",
       "  'distance': 0.6215492614075939},\n",
       " {'freq': 1.9900336252857027,\n",
       "  'damp': 0.16879553691048596,\n",
       "  'modeshape': array([-0.02277218-0.06993248j,  0.00458776-0.01860259j,\n",
       "          0.04034628+0.08722946j]),\n",
       "  'cnd': 1.11170827975445,\n",
       "  'distance': -0.3290035207144503}]"
      ]
     },
     "execution_count": 5,
     "metadata": {},
     "output_type": "execute_result"
    }
   ],
   "source": [
    "files = list_files(directory, pattern)\n",
    "event_modes = []\n",
    "for file in files:\n",
    "    print(file)\n",
    "\n",
    "    try:\n",
    "        event = quakeio.read(file, exclusions=[\"*filter*\", \"*date*\"])\n",
    "        print(file, event[\"peak_accel\"])\n",
    "        inputs, dt = extract_channels(event, data_conf[\"inputs\"], decimate=data_conf[\"d\"])\n",
    "        outpts, dt = extract_channels(event, data_conf[\"outputs\"], decimate=data_conf[\"d\"])\n",
    "        realization = ssid.system(method=\"srim\", input=inputs, output=outpts, **conf)\n",
    "    except Exception as e:\n",
    "        print(e)\n",
    "        continue\n",
    "    ss_modes = modes.modes(realization,dt)\n",
    "    event_modes.append(list(ss_modes.values()))\n",
    "    print_modes(ss_modes)\n",
    "\n",
    "event_frequencies = mode_statistics(event_modes, \"freq\")\n",
    "event_frequencies"
   ]
  },
  {
   "attachments": {},
   "cell_type": "markdown",
   "id": "26cb9df2",
   "metadata": {},
   "source": [
    "### Painter St Rio Dell Hwy 101 89324\n",
    "![Painter St Rio Dell Hwy 101 89324 Sensors 1](./figures/89324_Page_1.png)\n",
    "![Painter St Rio Dell Hwy 101 89324 Sensors 2](./figures/89324_Page_2.png)"
   ]
  },
  {
   "attachments": {},
   "cell_type": "markdown",
   "id": "5aa3e0a4",
   "metadata": {},
   "source": [
    "### Meloland Hwy 8 El Centro 01336\n",
    "![Meloland Hwy 8 El Centro 01336 Sensors](./figures/01336.png)"
   ]
  },
  {
   "attachments": {},
   "cell_type": "markdown",
   "id": "9db25c05",
   "metadata": {},
   "source": [
    "### Lake Crowley Hwy 395 54730\n",
    "![Lake Crowley Hwy 395 54730 Sensors](./figures/54730.png)"
   ]
  },
  {
   "attachments": {},
   "cell_type": "markdown",
   "id": "7c3e633c",
   "metadata": {},
   "source": [
    "### Hayward Hwy 580-238 58658\n",
    "![Hayward Hwy 580-238 58658 Sensors 1](./figures/58658_Page_1.png)\n",
    "![Hayward Hwy 580-238 58658 Sensors 2](./figures/58658_Page_2.png)"
   ]
  },
  {
   "attachments": {},
   "cell_type": "markdown",
   "id": "ed0dbe00",
   "metadata": {},
   "source": [
    "### San Bernardino I10-215\n",
    "![San Bernardino I10-215 Sensors](./figures/23631.png)"
   ]
  }
 ],
 "metadata": {
  "kernelspec": {
   "display_name": "Python 3.8.5 ('cs189sp22')",
   "language": "python",
   "name": "python3"
  },
  "language_info": {
   "codemirror_mode": {
    "name": "ipython",
    "version": 3
   },
   "file_extension": ".py",
   "mimetype": "text/x-python",
   "name": "python",
   "nbconvert_exporter": "python",
   "pygments_lexer": "ipython3",
   "version": "3.9.10"
  },
  "vscode": {
   "interpreter": {
    "hash": "b944da275fc40d5f9e33b056094a1f7a0fbd6b43847c12427d377e8ad9deab4f"
   }
  }
 },
 "nbformat": 4,
 "nbformat_minor": 5
}
