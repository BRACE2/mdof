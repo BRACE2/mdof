{
 "cells": [
  {
   "cell_type": "code",
   "execution_count": 1,
   "id": "a5714e1d-5706-4f80-b65c-f9d9faaee2e6",
   "metadata": {},
   "outputs": [],
   "source": [
    "import ssid\n",
    "import quakeio\n",
    "from ssid import modes\n",
    "from utilities import Config, extract_channels, list_files, print_modes, mode_statistics"
   ]
  },
  {
   "attachments": {},
   "cell_type": "markdown",
   "id": "af12ef54",
   "metadata": {},
   "source": [
    "### Data inputs"
   ]
  },
  {
   "cell_type": "code",
   "execution_count": 2,
   "id": "66b05cd1",
   "metadata": {},
   "outputs": [],
   "source": [
    "directory = \"uploads/meloland\"\n",
    "pattern  = \"*.zip\""
   ]
  },
  {
   "cell_type": "code",
   "execution_count": 3,
   "id": "3f886615-f4a7-4415-aa43-212e1ec5bcca",
   "metadata": {},
   "outputs": [],
   "source": [
    "data_conf = Config()\n",
    "data_conf.d = 8 # decimation factor\n",
    "\n",
    "# # HAYWARD TRANSVERSE\n",
    "# data_conf.inputs  = [2,7,25,18]\n",
    "# data_conf.outputs = [13,15,23,20]\n",
    "# # HAYWARD LONGITUDINAL\n",
    "# data_conf.inputs  = [3,6,17],\n",
    "# data_conf.outputs = [12,14,19]\n",
    "\n",
    "# # PAINTER RIO DELL TRANSVERSE\n",
    "# data_conf.inputs  = [17,3,20]\n",
    "# data_conf.outputs = [9,7,4]\n",
    "\n",
    "# HWY8/MELOLAND\n",
    "data_conf.inputs  = [2],\n",
    "data_conf.outputs = [5,7,9]\n",
    "\n",
    "# # CROWLEY\n",
    "# data_conf.inputs = [4,6]\n",
    "# data_conf.outputs = [7]"
   ]
  },
  {
   "attachments": {},
   "cell_type": "markdown",
   "id": "755f4e2b",
   "metadata": {},
   "source": [
    "### Method Inputs"
   ]
  },
  {
   "attachments": {},
   "cell_type": "markdown",
   "id": "8aad4938",
   "metadata": {},
   "source": [
    "### General Parameters\n",
    "parameter | value\n",
    "----------|-------\n",
    "`p ` | number of output channels\n",
    "`q ` | number of input channels\n",
    "`nt` | number of timesteps\n",
    "`dt` | timestep\n",
    "`d`  | decimation (downsampling) factor\n",
    "\n",
    "### Specific to Observer Kalman Identification (OKID)\n",
    "parameter | value\n",
    "----------|-------\n",
    "`m`  | number of Markov parameters to compute (at most = nt)\n",
    "\n",
    "### Specific to Eigensystem Realization Algorithm (ERA)\n",
    "parameter | value\n",
    "----------|-------\n",
    "`no` | number of observability parameters\n",
    "`nc` | number of controllability parameters\n",
    "`r ` | reduced model order\n",
    "\n",
    "### Specific to Data Correlations (DC)\n",
    "parameter | value\n",
    "----------|-------\n",
    "`a`  | (alpha) number of additional block rows in Hankel matrix of correlation matrices\n",
    "`b`  | (beta) number of additional block columns in Hankel matrix of correlation matrices\n",
    "`l`  | initial lag\n",
    "`g`  | lag (gap) between correlations\n",
    "\n",
    "### Specific to System Realization with Information Matrix (SRIM)\n",
    "parameter | value\n",
    "----------|-------\n",
    "`no` | number of steps used for identification (prediction horizon)"
   ]
  },
  {
   "cell_type": "code",
   "execution_count": 4,
   "id": "fb6ea3c5",
   "metadata": {},
   "outputs": [],
   "source": [
    "# Set Parameters\n",
    "conf = Config()\n",
    "conf.m  = 400\n",
    "conf.no = 190\n",
    "conf.nc = 190\n",
    "conf.r  = 20\n",
    "conf.a  = 0  \n",
    "conf.b  = 0  \n",
    "conf.l  = 10 \n",
    "conf.g  = 3"
   ]
  },
  {
   "cell_type": "code",
   "execution_count": 6,
   "id": "cddd66da",
   "metadata": {},
   "outputs": [
    {
     "name": "stdout",
     "output_type": "stream",
     "text": [
      "uploads/meloland/borregosprings_10jun2016_37374687_ce01336p.zip\n",
      "input.shape=(976, 1), output.shape=(976, 3)\n"
     ]
    },
    {
     "name": "stderr",
     "output_type": "stream",
     "text": [
      "100%|█████████▉| 786/787 [00:00<00:00, 3141.76it/s]\n"
     ]
    },
    {
     "name": "stdout",
     "output_type": "stream",
     "text": [
      "Spectral quantities:\n",
      "         T         ζ\n",
      "      0.3526     -0.0003253\n",
      "      0.3324     -0.001091\n",
      "      0.3248     0.005115 \n",
      "      0.3194     0.0001796\n",
      "      0.3138     0.02783  \n",
      "      0.308      0.001006 \n",
      "      0.3023     -0.001915\n",
      "      0.2978     0.0005866\n",
      "      0.2849     -0.002144\n",
      "      0.258      0.003753 \n",
      "uploads/meloland/Calexico_30Dec2009_CE01336P.zip\n",
      "input.shape=(1094, 1), output.shape=(1094, 3)\n"
     ]
    },
    {
     "name": "stderr",
     "output_type": "stream",
     "text": [
      "100%|█████████▉| 904/905 [00:00<00:00, 3347.01it/s]\n"
     ]
    },
    {
     "name": "stdout",
     "output_type": "stream",
     "text": [
      "Spectral quantities:\n",
      "         T         ζ\n",
      "      0.3944     0.004374 \n",
      "      0.3797     -0.001377\n",
      "      0.3724     -0.006232\n",
      "      0.3625     -0.00142 \n",
      "      0.3554     0.009258 \n",
      "      0.3516     0.001913 \n",
      "      0.3458     0.01335  \n",
      "      0.3388     0.001702 \n",
      "      0.3335     0.0001948\n",
      "      0.3251     0.002859 \n",
      "uploads/meloland/cerroprieto_08feb2008_ce01336p.zip\n",
      "input.shape=(1952, 1), output.shape=(1952, 3)\n"
     ]
    },
    {
     "name": "stderr",
     "output_type": "stream",
     "text": [
      "100%|█████████▉| 1762/1763 [00:00<00:00, 2398.20it/s]\n"
     ]
    },
    {
     "name": "stdout",
     "output_type": "stream",
     "text": [
      "Spectral quantities:\n",
      "         T         ζ\n",
      "      0.3779     0.002909 \n",
      "      0.3553     0.0009206\n",
      "      0.3379     0.0007845\n",
      "      0.3228     0.0008554\n",
      "      0.3133     0.001881 \n",
      "      0.3047     0.01459  \n",
      "      0.2982     -0.002172\n",
      "      0.2874     0.001036 \n",
      "      0.2758     0.0006914\n",
      "      0.2676     0.0004245\n",
      "uploads/meloland/imperialvalley79_ce01336p.zip\n",
      "input.shape=(143, 1), output.shape=(143, 3)\n",
      "negative dimensions are not allowed\n",
      "uploads/meloland/superstitionhills87_ce01336p.zip\n",
      "input.shape=(258, 1), output.shape=(258, 3)\n"
     ]
    },
    {
     "name": "stderr",
     "output_type": "stream",
     "text": [
      " 99%|█████████▊| 68/69 [00:00<00:00, 5480.12it/s]"
     ]
    },
    {
     "name": "stdout",
     "output_type": "stream",
     "text": [
      "Spectral quantities:\n",
      "         T         ζ\n",
      "      0.4742     0.9092   \n",
      "      0.4102     0.5511   \n",
      "      0.3883     0.3504   \n",
      "      0.3828     0.146    \n",
      "      0.36       0.1625   \n",
      "      0.3338     0.04463  \n",
      "      0.3324     0.01452  \n",
      "      0.3253     0.319    \n"
     ]
    },
    {
     "name": "stderr",
     "output_type": "stream",
     "text": [
      "\n"
     ]
    },
    {
     "data": {
      "text/plain": [
       "[{'freq': 3.0085943084282385,\n",
       "  'damp': -0.0010911704542309443,\n",
       "  'modeshape': array([0.01143441-0.02722316j, 0.01611891-0.03001859j,\n",
       "         0.01491777-0.0218324j ]),\n",
       "  'cnd': 1.027119930638705,\n",
       "  'distance': -0.012942784771112463},\n",
       " {'freq': 2.998269722513514,\n",
       "  'damp': 0.00019484350679511427,\n",
       "  'modeshape': array([0.01989706-0.029199j  , 0.02516285-0.03564788j,\n",
       "         0.02064731-0.03093364j]),\n",
       "  'cnd': 1.2779145867764048,\n",
       "  'distance': -0.041272546495940275},\n",
       " {'freq': 2.9591772413917248,\n",
       "  'damp': 0.0007844733389731709,\n",
       "  'modeshape': array([-0.0028182 -0.03771677j, -0.00353081-0.0463598j ,\n",
       "         -0.0010072 -0.03641465j]),\n",
       "  'cnd': 1.1000719492222781,\n",
       "  'distance': -0.14853889931239292},\n",
       " {'freq': 3.008162527195346,\n",
       "  'damp': 0.014519839786166689,\n",
       "  'modeshape': array([-0.02329237-0.0330473j , -0.02503588-0.04493998j,\n",
       "         -0.01923899-0.03695323j]),\n",
       "  'cnd': 1.243385386187685,\n",
       "  'distance': -0.014127554750860537}]"
      ]
     },
     "execution_count": 6,
     "metadata": {},
     "output_type": "execute_result"
    }
   ],
   "source": [
    "files = list_files(directory, pattern)\n",
    "event_modes = []\n",
    "for file in files:\n",
    "    print(file)\n",
    "    event = quakeio.read(file, exclusions=[\"*filter*\", \"*date*\"])\n",
    "\n",
    "    inputs, dt = extract_channels(event, data_conf[\"inputs\"], decimate=data_conf[\"d\"])\n",
    "    outpts, dt = extract_channels(event, data_conf[\"outputs\"], decimate=data_conf[\"d\"])\n",
    "    try:\n",
    "        realization = ssid.system(method=\"srim\", input=inputs, output=outpts, **conf)\n",
    "    except Exception as e:\n",
    "        print(e)\n",
    "        continue\n",
    "    ss_modes = modes.modes(realization,dt)\n",
    "    event_modes.append(list(ss_modes.values()))\n",
    "    print_modes(ss_modes)\n",
    "\n",
    "event_frequencies = mode_statistics(event_modes, \"freq\")\n",
    "event_frequencies"
   ]
  },
  {
   "attachments": {},
   "cell_type": "markdown",
   "id": "26cb9df2",
   "metadata": {},
   "source": [
    "![sensor_locations](./figures/ll89324_Page_1.png)\n",
    "![sensor_locations_2](./figures/ll89324_Page_2.png)"
   ]
  },
  {
   "attachments": {},
   "cell_type": "markdown",
   "id": "eb8c34de",
   "metadata": {},
   "source": []
  }
 ],
 "metadata": {
  "kernelspec": {
   "display_name": "Python 3.8.5 ('cs189sp22')",
   "language": "python",
   "name": "python3"
  },
  "language_info": {
   "codemirror_mode": {
    "name": "ipython",
    "version": 3
   },
   "file_extension": ".py",
   "mimetype": "text/x-python",
   "name": "python",
   "nbconvert_exporter": "python",
   "pygments_lexer": "ipython3",
   "version": "3.9.10"
  },
  "vscode": {
   "interpreter": {
    "hash": "b944da275fc40d5f9e33b056094a1f7a0fbd6b43847c12427d377e8ad9deab4f"
   }
  }
 },
 "nbformat": 4,
 "nbformat_minor": 5
}
