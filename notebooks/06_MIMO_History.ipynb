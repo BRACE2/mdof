{
 "cells": [
  {
   "cell_type": "code",
   "execution_count": 1,
   "id": "a5714e1d-5706-4f80-b65c-f9d9faaee2e6",
   "metadata": {},
   "outputs": [],
   "source": [
    "import ssid\n",
    "import quakeio\n",
    "from ssid import modes\n",
    "from utilities import Config, extract_channels, list_files, print_modes"
   ]
  },
  {
   "attachments": {},
   "cell_type": "markdown",
   "id": "af12ef54",
   "metadata": {},
   "source": [
    "### Data inputs"
   ]
  },
  {
   "cell_type": "code",
   "execution_count": null,
   "id": "66b05cd1",
   "metadata": {},
   "outputs": [],
   "source": [
    "directory = \"uploads/painter\"\n",
    "pattern  = \"*.zip\""
   ]
  },
  {
   "cell_type": "code",
   "execution_count": 2,
   "id": "3f886615-f4a7-4415-aa43-212e1ec5bcca",
   "metadata": {},
   "outputs": [],
   "source": [
    "data_conf = Config()\n",
    "data_conf.d = 8 # decimation factor\n",
    "# # HAYWARD TRANSVERSE\n",
    "# data_conf.inputs  = [2,7,25,18]\n",
    "# data_conf.outputs = [13,15,23,20]\n",
    "#\n",
    "# data_conf.inputs  = [22,24]\n",
    "# data_conf.outputs = [23,25]\n",
    "\n",
    "# PAINTER RIO DELL\n",
    "data_conf.inputs  = [17,3,20]\n",
    "data_conf.outputs = [9,7,4]\n",
    "\n",
    "\n",
    "# # Case 2\n",
    "# data_conf.inputs  = [3,6,17]\n",
    "# data_conf.outputs = [12,14,19]\n",
    "# # Case 5\n",
    "# data_conf.inputs  = [1]\n",
    "# data_conf.outputs = [16]\n",
    "# #\n",
    "# data_conf.inputs  = [2,7,25]\n",
    "# data_conf.outputs = [18,13,15,23,20]\n",
    "# # HAYWARD LONGITUDINAL\n",
    "# data_conf.inputs  = [3,6,17],\n",
    "# data_conf.outputs = [12,14,19]\n",
    "# # HWY8/MELOLAND\n",
    "# data_conf.inputs  = [2,4],\n",
    "# data_conf.outputs = [7,15,24]"
   ]
  },
  {
   "attachments": {},
   "cell_type": "markdown",
   "id": "755f4e2b",
   "metadata": {},
   "source": [
    "### Method Inputs"
   ]
  },
  {
   "attachments": {},
   "cell_type": "markdown",
   "id": "8aad4938",
   "metadata": {},
   "source": [
    "### General Parameters\n",
    "parameter | value\n",
    "----------|-------\n",
    "`p ` | number of output channels\n",
    "`q ` | number of input channels\n",
    "`nt` | number of timesteps\n",
    "`dt` | timestep\n",
    "`d`  | decimation (downsampling) factor\n",
    "\n",
    "### Specific to Observer Kalman Identification (OKID)\n",
    "parameter | value\n",
    "----------|-------\n",
    "`m`  | number of Markov parameters to compute (at most = nt)\n",
    "\n",
    "### Specific to Eigensystem Realization Algorithm (ERA)\n",
    "parameter | value\n",
    "----------|-------\n",
    "`no` | number of observability parameters\n",
    "`nc` | number of controllability parameters\n",
    "`r ` | reduced model order\n",
    "\n",
    "### Specific to Data Correlations (DC)\n",
    "parameter | value\n",
    "----------|-------\n",
    "`a`  | (alpha) number of additional block rows in Hankel matrix of correlation matrices\n",
    "`b`  | (beta) number of additional block columns in Hankel matrix of correlation matrices\n",
    "`l`  | initial lag\n",
    "`g`  | lag (gap) between correlations\n",
    "\n",
    "### Specific to System Realization with Information Matrix (SRIM)\n",
    "parameter | value\n",
    "----------|-------\n",
    "`no` | number of steps used for identification (prediction horizon)"
   ]
  },
  {
   "cell_type": "code",
   "execution_count": 3,
   "id": "fb6ea3c5",
   "metadata": {},
   "outputs": [],
   "source": [
    "# Set Parameters\n",
    "conf = Config()\n",
    "conf.m  = 300\n",
    "conf.no = 100\n",
    "conf.nc = 140\n",
    "conf.r  = 10\n",
    "conf.a  = 0  \n",
    "conf.b  = 0  \n",
    "conf.l  = 10 \n",
    "conf.g  = 3\n",
    "\n"
   ]
  },
  {
   "cell_type": "code",
   "execution_count": 4,
   "id": "cddd66da",
   "metadata": {},
   "outputs": [
    {
     "name": "stdout",
     "output_type": "stream",
     "text": [
      "uploads/painter/nc73201181_ce89324p.zip\n"
     ]
    },
    {
     "name": "stderr",
     "output_type": "stream",
     "text": [
      "100%|█████████▉| 921/922 [00:00<00:00, 4340.17it/s]\n",
      "/mnt/c/Users/16507/Documents/GitHub/SystemIdentification/src/ssid/modes.py:40: RuntimeWarning: invalid value encountered in true_divide\n",
      "  damp = -np.real(Lam)/Omega\n"
     ]
    },
    {
     "name": "stdout",
     "output_type": "stream",
     "text": [
      "Spectral quantities:\n",
      "         T         ζ\n",
      "      0.2617     0.007825 \n",
      "      0.2593     0.03062  \n",
      "      0.2445     0.0215   \n",
      "      0.2367     0.1178   \n",
      "      0.1984     0.01024  \n",
      "uploads/painter/nc73821036_ce89324p.zip\n"
     ]
    },
    {
     "name": "stderr",
     "output_type": "stream",
     "text": [
      "100%|█████████▉| 1319/1320 [00:00<00:00, 3570.74it/s]\n"
     ]
    },
    {
     "name": "stdout",
     "output_type": "stream",
     "text": [
      "Spectral quantities:\n",
      "         T         ζ\n",
      "      0.3631     0.02638  \n",
      "      0.3125     0.01635  \n",
      "      0.2992     0.07455  \n",
      "      0.2863     -0.01222 \n",
      "      0.2665     0.004589 \n",
      "uploads/painter/RioDell_Petrolia_Processed_Data.zip\n"
     ]
    },
    {
     "name": "stderr",
     "output_type": "stream",
     "text": [
      "100%|█████████▉| 721/722 [00:00<00:00, 4753.94it/s]"
     ]
    },
    {
     "name": "stdout",
     "output_type": "stream",
     "text": [
      "Spectral quantities:\n",
      "         T         ζ\n",
      "      0.2401     0.01769  \n",
      "      0.2282     0.01868  \n",
      "      0.1905     0.009411 \n",
      "      0.1681     0.009165 \n",
      "      0.1626     0.00857  \n"
     ]
    },
    {
     "name": "stderr",
     "output_type": "stream",
     "text": [
      "\n"
     ]
    }
   ],
   "source": [
    "files = list_files(directory, pattern)\n",
    "\n",
    "for file in files:\n",
    "    print(file)\n",
    "    event = quakeio.read(file, exclusions=[\"*filter*\", \"*date*\"])\n",
    "\n",
    "    inputs, dt = extract_channels(event, data_conf[\"inputs\"], decimate=data_conf[\"d\"])\n",
    "    outpts, dt = extract_channels(event, data_conf[\"outputs\"], decimate=data_conf[\"d\"])\n",
    "    realization = ssid.system(method=\"srim\", input=inputs, output=outpts, **conf)\n",
    "\n",
    "    print_modes(modes.modes(realization,dt))"
   ]
  },
  {
   "attachments": {},
   "cell_type": "markdown",
   "id": "26cb9df2",
   "metadata": {},
   "source": [
    "![sensor_locations](./figures/ll89324_Page_1.png)\n",
    "![sensor_locations_2](./figures/ll89324_Page_2.png)"
   ]
  }
 ],
 "metadata": {
  "kernelspec": {
   "display_name": "Python 3.8.5 ('cs189sp22')",
   "language": "python",
   "name": "python3"
  },
  "language_info": {
   "codemirror_mode": {
    "name": "ipython",
    "version": 3
   },
   "file_extension": ".py",
   "mimetype": "text/x-python",
   "name": "python",
   "nbconvert_exporter": "python",
   "pygments_lexer": "ipython3",
   "version": "3.9.10"
  },
  "vscode": {
   "interpreter": {
    "hash": "b944da275fc40d5f9e33b056094a1f7a0fbd6b43847c12427d377e8ad9deab4f"
   }
  }
 },
 "nbformat": 4,
 "nbformat_minor": 5
}
