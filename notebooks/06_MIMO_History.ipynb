{
 "cells": [
  {
   "cell_type": "code",
   "execution_count": 1,
   "id": "a5714e1d-5706-4f80-b65c-f9d9faaee2e6",
   "metadata": {},
   "outputs": [],
   "source": [
    "import numpy as np\n",
    "import ssid\n",
    "import quakeio\n",
    "from ssid import modal, spec\n",
    "from utilities import Config, extract_channels, list_files, print_modes, mode_statistics"
   ]
  },
  {
   "attachments": {},
   "cell_type": "markdown",
   "id": "af12ef54",
   "metadata": {},
   "source": [
    "### Data inputs"
   ]
  },
  {
   "cell_type": "code",
   "execution_count": 2,
   "id": "66b05cd1",
   "metadata": {},
   "outputs": [],
   "source": [
    "directory = \"../CESMD/CE58658/\"\n",
    "pattern  = \"????????*.[zZ][iI][pP]\"\n",
    "# pattern = \"sanlorenzo_28june2021.zip\"\n",
    "# pattern = \"*[sb][ae][nr][lk]*\""
   ]
  },
  {
   "cell_type": "code",
   "execution_count": 3,
   "id": "3f886615-f4a7-4415-aa43-212e1ec5bcca",
   "metadata": {},
   "outputs": [],
   "source": [
    "data_conf = Config()\n",
    "\n",
    "# # PAINTER RIO DELL TRANSVERSE (CASE 1)\n",
    "# data_conf.inputs  = [17,3,20]\n",
    "# data_conf.outputs = [9,7,4]\n",
    "# # PAINTER RIO DELL LONGITUDINAL (CASE 2)\n",
    "# data_conf.inputs  = [15,1,18]\n",
    "# data_conf.outputs = [11]\n",
    "\n",
    "# # HWY8/MELOLAND TRANSVERSE (CASE 1)\n",
    "# data_conf.inputs  = [2],\n",
    "# data_conf.outputs = [5,7,9]\n",
    "# # HWY8/MELOLAND TRANSVERSE (CASE 2)\n",
    "# data_conf.inputs  = [11,2,26],\n",
    "# data_conf.outputs = [5,7,9]\n",
    "# # HWY8/MELOLAND LONGITUDINAL (CASE 3)\n",
    "# data_conf.inputs  = [12,4,25],\n",
    "# data_conf.outputs = [27,8]\n",
    "\n",
    "# # CROWLEY TRANSVERSE (CASE 1)\n",
    "# data_conf.inputs = [4]\n",
    "# data_conf.outputs = [6,7,9]\n",
    "# # CROWLEY TRANSVERSE (CASE 2)\n",
    "# data_conf.inputs = [6,4,9]\n",
    "# data_conf.outputs = [7]\n",
    "# # CROWLEY TRANSVERSE (CASE 3)\n",
    "# data_conf.inputs = [4]\n",
    "# data_conf.outputs = [7]\n",
    "# # CROWLEY LONGITUDINAL (CASE 4)\n",
    "# data_conf.inputs = [5]\n",
    "# data_conf.outputs = [8]\n",
    "\n",
    "# # RIDGECREST TRANSVERSE (CASE 1)\n",
    "# data_conf.inputs  = [4]\n",
    "# data_conf.outputs = [6,7,9]\n",
    "\n",
    "# # CAPISTRANO TRANSVERSE (CASE 1)\n",
    "# data_conf.inputs  = [4]\n",
    "# data_conf.outputs = [10,7]\n",
    "\n",
    "# HAYWARD TRANSVERSE (CASE 1)\n",
    "data_conf.inputs  = [25,2,7,18]\n",
    "data_conf.outputs = [23,13,15,20]\n",
    "# # HAYWARD LONGITUDINAL\n",
    "# data_conf.inputs  = [6,3,17]\n",
    "# data_conf.outputs = [14,12,19]\n",
    "# # HAYWARD LONGITUDINAL\n",
    "# data_conf.inputs  = [3,6,17]\n",
    "# data_conf.outputs = [12,14,19]\n",
    "\n",
    "# # BERNARDINO TRANSVERSE BENT 3 (CASE 1)\n",
    "# data_conf.inputs  = [6]\n",
    "# data_conf.outputs = [7,8]\n",
    "# # BERNARDINO TRANSVERSE BENT 8 (CASE 2)\n",
    "# data_conf.inputs  = [24]\n",
    "# data_conf.outputs = [19,20]\n",
    "# # BERNARDINO LONGITUDINAL BENT 3 (CASE 3)\n",
    "# data_conf.inputs  = [4]\n",
    "# data_conf.outputs = [10]\n",
    "# # BERNARDINO LONGITUDINAL BENT 8 (CASE 4)\n",
    "# data_conf.inputs  = [22]\n",
    "# data_conf.outputs = [17,18]\n",
    "\n",
    "# # VINCENT THOMAS (CE14406) TRANSVERSE (CASE 1)\n",
    "# data_conf.inputs  = [1,9,24]\n",
    "# data_conf.outputs = [2,5,7]\n",
    "# # VINCENT THOMAS TRANSVERSE DENSE (CASE 2)\n",
    "# data_conf.inputs  = [1,9,24]\n",
    "# data_conf.outputs = [2,4,5,6,7]\n",
    "# # VINCENT THOMAS VERTICAL SOUTH DECK EDGE (CASE 3)\n",
    "# data_conf.inputs  = [14,19,26]\n",
    "# data_conf.outputs = [16,18,22]"
   ]
  },
  {
   "attachments": {},
   "cell_type": "markdown",
   "id": "755f4e2b",
   "metadata": {},
   "source": [
    "### Method Inputs"
   ]
  },
  {
   "attachments": {},
   "cell_type": "markdown",
   "id": "8aad4938",
   "metadata": {},
   "source": [
    "### General Parameters\n",
    "parameter | value\n",
    "----------|-------\n",
    "`p ` | number of output channels\n",
    "`q ` | number of input channels\n",
    "`nt` | number of timesteps\n",
    "`dt` | timestep\n",
    "`d`  | decimation (downsampling) factor\n",
    "\n",
    "### Specific to Observer Kalman Identification (OKID)\n",
    "parameter | value\n",
    "----------|-------\n",
    "`m`  | number of Markov parameters to compute (at most = nt)\n",
    "\n",
    "### Specific to Eigensystem Realization Algorithm (ERA)\n",
    "parameter | value\n",
    "----------|-------\n",
    "`no` | number of observability parameters\n",
    "`nc` | number of controllability parameters\n",
    "`r ` | reduced model order\n",
    "\n",
    "### Specific to Data Correlations (DC)\n",
    "parameter | value\n",
    "----------|-------\n",
    "`a`  | (alpha) number of additional block rows in Hankel matrix of correlation matrices\n",
    "`b`  | (beta) number of additional block columns in Hankel matrix of correlation matrices\n",
    "`l`  | initial lag\n",
    "`g`  | lag (gap) between correlations\n",
    "\n",
    "### Specific to System Realization with Information Matrix (SRIM)\n",
    "parameter | value\n",
    "----------|-------\n",
    "`no` | number of steps used for identification (prediction horizon)"
   ]
  },
  {
   "cell_type": "code",
   "execution_count": 4,
   "id": "fb6ea3c5",
   "metadata": {},
   "outputs": [],
   "source": [
    "# Set Parameters\n",
    "conf = Config()\n",
    "conf.m  = 500\n",
    "conf.no = 190\n",
    "conf.nc = 190\n",
    "conf.r  = 12\n",
    "conf.a  = 0  \n",
    "conf.b  = 0  \n",
    "conf.l  = 10 \n",
    "conf.g  = 3\n",
    "conf.period_band = (0.2,1.6)\n",
    "conf.damping = 0.06\n",
    "conf.pseudo = True"
   ]
  },
  {
   "cell_type": "code",
   "execution_count": 5,
   "id": "cddd66da",
   "metadata": {},
   "outputs": [
    {
     "ename": "ValueError",
     "evalue": "Number of rows must be a positive integer, not 0",
     "output_type": "error",
     "traceback": [
      "\u001b[0;31m---------------------------------------------------------------------------\u001b[0m",
      "\u001b[0;31mValueError\u001b[0m                                Traceback (most recent call last)",
      "Cell \u001b[0;32mIn[5], line 8\u001b[0m\n\u001b[1;32m      5\u001b[0m \u001b[39mfrom\u001b[39;00m \u001b[39mmatplotlib\u001b[39;00m \u001b[39mimport\u001b[39;00m pyplot \u001b[39mas\u001b[39;00m plt\n\u001b[1;32m      6\u001b[0m file_axes \u001b[39m=\u001b[39m {}\n\u001b[0;32m----> 8\u001b[0m fig, axs \u001b[39m=\u001b[39m plt\u001b[39m.\u001b[39;49msubplots(\u001b[39mlen\u001b[39;49m(files), figsize\u001b[39m=\u001b[39;49m(\u001b[39m6\u001b[39;49m,\u001b[39m2\u001b[39;49m\u001b[39m*\u001b[39;49m\u001b[39mlen\u001b[39;49m(files)), sharex\u001b[39m=\u001b[39;49m\u001b[39mTrue\u001b[39;49;00m)\n\u001b[1;32m      9\u001b[0m axi \u001b[39m=\u001b[39m \u001b[39miter\u001b[39m(axs)\n\u001b[1;32m     11\u001b[0m \u001b[39mfor\u001b[39;00m i, file \u001b[39min\u001b[39;00m \u001b[39menumerate\u001b[39m(files):\n",
      "File \u001b[0;32m~/mambaforge/envs/brace-platform/lib/python3.11/site-packages/matplotlib/pyplot.py:1502\u001b[0m, in \u001b[0;36msubplots\u001b[0;34m(nrows, ncols, sharex, sharey, squeeze, width_ratios, height_ratios, subplot_kw, gridspec_kw, **fig_kw)\u001b[0m\n\u001b[1;32m   1358\u001b[0m \u001b[39m\u001b[39m\u001b[39m\"\"\"\u001b[39;00m\n\u001b[1;32m   1359\u001b[0m \u001b[39mCreate a figure and a set of subplots.\u001b[39;00m\n\u001b[1;32m   1360\u001b[0m \n\u001b[0;32m   (...)\u001b[0m\n\u001b[1;32m   1499\u001b[0m \n\u001b[1;32m   1500\u001b[0m \u001b[39m\"\"\"\u001b[39;00m\n\u001b[1;32m   1501\u001b[0m fig \u001b[39m=\u001b[39m figure(\u001b[39m*\u001b[39m\u001b[39m*\u001b[39mfig_kw)\n\u001b[0;32m-> 1502\u001b[0m axs \u001b[39m=\u001b[39m fig\u001b[39m.\u001b[39;49msubplots(nrows\u001b[39m=\u001b[39;49mnrows, ncols\u001b[39m=\u001b[39;49mncols, sharex\u001b[39m=\u001b[39;49msharex, sharey\u001b[39m=\u001b[39;49msharey,\n\u001b[1;32m   1503\u001b[0m                    squeeze\u001b[39m=\u001b[39;49msqueeze, subplot_kw\u001b[39m=\u001b[39;49msubplot_kw,\n\u001b[1;32m   1504\u001b[0m                    gridspec_kw\u001b[39m=\u001b[39;49mgridspec_kw, height_ratios\u001b[39m=\u001b[39;49mheight_ratios,\n\u001b[1;32m   1505\u001b[0m                    width_ratios\u001b[39m=\u001b[39;49mwidth_ratios)\n\u001b[1;32m   1506\u001b[0m \u001b[39mreturn\u001b[39;00m fig, axs\n",
      "File \u001b[0;32m~/mambaforge/envs/brace-platform/lib/python3.11/site-packages/matplotlib/figure.py:916\u001b[0m, in \u001b[0;36mFigureBase.subplots\u001b[0;34m(self, nrows, ncols, sharex, sharey, squeeze, width_ratios, height_ratios, subplot_kw, gridspec_kw)\u001b[0m\n\u001b[1;32m    912\u001b[0m         \u001b[39mraise\u001b[39;00m \u001b[39mValueError\u001b[39;00m(\u001b[39m\"\u001b[39m\u001b[39m'\u001b[39m\u001b[39mwidth_ratios\u001b[39m\u001b[39m'\u001b[39m\u001b[39m must not be defined both as \u001b[39m\u001b[39m\"\u001b[39m\n\u001b[1;32m    913\u001b[0m                          \u001b[39m\"\u001b[39m\u001b[39mparameter and as key in \u001b[39m\u001b[39m'\u001b[39m\u001b[39mgridspec_kw\u001b[39m\u001b[39m'\u001b[39m\u001b[39m\"\u001b[39m)\n\u001b[1;32m    914\u001b[0m     gridspec_kw[\u001b[39m'\u001b[39m\u001b[39mwidth_ratios\u001b[39m\u001b[39m'\u001b[39m] \u001b[39m=\u001b[39m width_ratios\n\u001b[0;32m--> 916\u001b[0m gs \u001b[39m=\u001b[39m \u001b[39mself\u001b[39;49m\u001b[39m.\u001b[39;49madd_gridspec(nrows, ncols, figure\u001b[39m=\u001b[39;49m\u001b[39mself\u001b[39;49m, \u001b[39m*\u001b[39;49m\u001b[39m*\u001b[39;49mgridspec_kw)\n\u001b[1;32m    917\u001b[0m axs \u001b[39m=\u001b[39m gs\u001b[39m.\u001b[39msubplots(sharex\u001b[39m=\u001b[39msharex, sharey\u001b[39m=\u001b[39msharey, squeeze\u001b[39m=\u001b[39msqueeze,\n\u001b[1;32m    918\u001b[0m                   subplot_kw\u001b[39m=\u001b[39msubplot_kw)\n\u001b[1;32m    919\u001b[0m \u001b[39mreturn\u001b[39;00m axs\n",
      "File \u001b[0;32m~/mambaforge/envs/brace-platform/lib/python3.11/site-packages/matplotlib/figure.py:1544\u001b[0m, in \u001b[0;36mFigureBase.add_gridspec\u001b[0;34m(self, nrows, ncols, **kwargs)\u001b[0m\n\u001b[1;32m   1505\u001b[0m \u001b[39m\u001b[39m\u001b[39m\"\"\"\u001b[39;00m\n\u001b[1;32m   1506\u001b[0m \u001b[39mReturn a `.GridSpec` that has this figure as a parent.  This allows\u001b[39;00m\n\u001b[1;32m   1507\u001b[0m \u001b[39mcomplex layout of Axes in the figure.\u001b[39;00m\n\u001b[0;32m   (...)\u001b[0m\n\u001b[1;32m   1540\u001b[0m \n\u001b[1;32m   1541\u001b[0m \u001b[39m\"\"\"\u001b[39;00m\n\u001b[1;32m   1543\u001b[0m _ \u001b[39m=\u001b[39m kwargs\u001b[39m.\u001b[39mpop(\u001b[39m'\u001b[39m\u001b[39mfigure\u001b[39m\u001b[39m'\u001b[39m, \u001b[39mNone\u001b[39;00m)  \u001b[39m# pop in case user has added this...\u001b[39;00m\n\u001b[0;32m-> 1544\u001b[0m gs \u001b[39m=\u001b[39m GridSpec(nrows\u001b[39m=\u001b[39;49mnrows, ncols\u001b[39m=\u001b[39;49mncols, figure\u001b[39m=\u001b[39;49m\u001b[39mself\u001b[39;49m, \u001b[39m*\u001b[39;49m\u001b[39m*\u001b[39;49mkwargs)\n\u001b[1;32m   1545\u001b[0m \u001b[39mreturn\u001b[39;00m gs\n",
      "File \u001b[0;32m~/mambaforge/envs/brace-platform/lib/python3.11/site-packages/matplotlib/gridspec.py:379\u001b[0m, in \u001b[0;36mGridSpec.__init__\u001b[0;34m(self, nrows, ncols, figure, left, bottom, right, top, wspace, hspace, width_ratios, height_ratios)\u001b[0m\n\u001b[1;32m    376\u001b[0m \u001b[39mself\u001b[39m\u001b[39m.\u001b[39mhspace \u001b[39m=\u001b[39m hspace\n\u001b[1;32m    377\u001b[0m \u001b[39mself\u001b[39m\u001b[39m.\u001b[39mfigure \u001b[39m=\u001b[39m figure\n\u001b[0;32m--> 379\u001b[0m \u001b[39msuper\u001b[39;49m()\u001b[39m.\u001b[39;49m\u001b[39m__init__\u001b[39;49m(nrows, ncols,\n\u001b[1;32m    380\u001b[0m                  width_ratios\u001b[39m=\u001b[39;49mwidth_ratios,\n\u001b[1;32m    381\u001b[0m                  height_ratios\u001b[39m=\u001b[39;49mheight_ratios)\n",
      "File \u001b[0;32m~/mambaforge/envs/brace-platform/lib/python3.11/site-packages/matplotlib/gridspec.py:49\u001b[0m, in \u001b[0;36mGridSpecBase.__init__\u001b[0;34m(self, nrows, ncols, height_ratios, width_ratios)\u001b[0m\n\u001b[1;32m     34\u001b[0m \u001b[39m\u001b[39m\u001b[39m\"\"\"\u001b[39;00m\n\u001b[1;32m     35\u001b[0m \u001b[39mParameters\u001b[39;00m\n\u001b[1;32m     36\u001b[0m \u001b[39m----------\u001b[39;00m\n\u001b[0;32m   (...)\u001b[0m\n\u001b[1;32m     46\u001b[0m \u001b[39m    If not given, all rows will have the same height.\u001b[39;00m\n\u001b[1;32m     47\u001b[0m \u001b[39m\"\"\"\u001b[39;00m\n\u001b[1;32m     48\u001b[0m \u001b[39mif\u001b[39;00m \u001b[39mnot\u001b[39;00m \u001b[39misinstance\u001b[39m(nrows, Integral) \u001b[39mor\u001b[39;00m nrows \u001b[39m<\u001b[39m\u001b[39m=\u001b[39m \u001b[39m0\u001b[39m:\n\u001b[0;32m---> 49\u001b[0m     \u001b[39mraise\u001b[39;00m \u001b[39mValueError\u001b[39;00m(\n\u001b[1;32m     50\u001b[0m         \u001b[39mf\u001b[39m\u001b[39m\"\u001b[39m\u001b[39mNumber of rows must be a positive integer, not \u001b[39m\u001b[39m{\u001b[39;00mnrows\u001b[39m!r}\u001b[39;00m\u001b[39m\"\u001b[39m)\n\u001b[1;32m     51\u001b[0m \u001b[39mif\u001b[39;00m \u001b[39mnot\u001b[39;00m \u001b[39misinstance\u001b[39m(ncols, Integral) \u001b[39mor\u001b[39;00m ncols \u001b[39m<\u001b[39m\u001b[39m=\u001b[39m \u001b[39m0\u001b[39m:\n\u001b[1;32m     52\u001b[0m     \u001b[39mraise\u001b[39;00m \u001b[39mValueError\u001b[39;00m(\n\u001b[1;32m     53\u001b[0m         \u001b[39mf\u001b[39m\u001b[39m\"\u001b[39m\u001b[39mNumber of columns must be a positive integer, not \u001b[39m\u001b[39m{\u001b[39;00mncols\u001b[39m!r}\u001b[39;00m\u001b[39m\"\u001b[39m)\n",
      "\u001b[0;31mValueError\u001b[0m: Number of rows must be a positive integer, not 0"
     ]
    },
    {
     "data": {
      "text/plain": [
       "<Figure size 600x0 with 0 Axes>"
      ]
     },
     "metadata": {},
     "output_type": "display_data"
    }
   ],
   "source": [
    "files = list(list_files(directory, pattern))\n",
    "event_names = [\"Berkeley\", \"San Lorenzo\"]\n",
    "event_names = [str(file) for file in files]\n",
    "event_modes = []\n",
    "from matplotlib import pyplot as plt\n",
    "file_axes = {}\n",
    "\n",
    "fig, axs = plt.subplots(len(files), figsize=(6,2*len(files)), sharex=True)\n",
    "axi = iter(axs)\n",
    "\n",
    "for i, file in enumerate(files):\n",
    "    ax = next(axi)\n",
    "    # fig, ax = plt.subplots(figsize=(10,5))\n",
    "    print(file)\n",
    "    try:\n",
    "        event = quakeio.read(file, exclusions=[\"*filter*\", \"*date*\"])\n",
    "        print(\"peak acceleration (cm/s/s):\", event[\"peak_accel\"])\n",
    "        inputs, dt = extract_channels(event, data_conf[\"inputs\"])\n",
    "        outpts, dt = extract_channels(event, data_conf[\"outputs\"])\n",
    "        conf.decimation = 1 # decimation factor\n",
    "        realization = ssid.system(method=\"srim\", inputs=inputs, outputs=outpts, **conf)\n",
    "    except Exception as e:\n",
    "        # raise e\n",
    "        print(e)\n",
    "        continue\n",
    "    ss_modes = modal.system_modes(realization,dt,conf[\"decimation\"],nt=inputs.shape[1])\n",
    "    event_modes.append(list(ss_modes.values()))\n",
    "    print_modes(ss_modes)\n",
    "    conf.decimation = 1\n",
    "    periods, amplitudes = spec.fourier_transfer(inputs=inputs[0], outputs=outpts[0], step=dt, **conf)\n",
    "    amplitudes = amplitudes/max(amplitudes)\n",
    "    ax.plot(periods, amplitudes, label=\"fourier \"+event_names[i], color=\"blue\") #, alpha = (1/(len(files)+2))*(i+1))\n",
    "    periods, amplitudes = spec.response_transfer(inputs=inputs[0], outputs=outpts[0], step=dt, periods=periods, threads=8, **conf)\n",
    "    amplitudes = amplitudes/max(amplitudes)\n",
    "    ax.plot(periods, amplitudes, label=\"response spectrum \"+event_names[i], color=\"green\") #, alpha = (1/(len(files)+2))*(i+1))\n",
    "    ax.vlines([1/value[\"freq\"] for value in ss_modes.values() if value[\"energy_condensed_emaco\"]>0.5 and value[\"mpc\"]>0.5], 0, 1, color='r', linestyles='dashed', label=[\"State Space (OKID-ERA)\" if i==0 else None][0])\n",
    "fig.legend(bbox_to_anchor=(1.04,1))\n",
    "event_frequencies = mode_statistics(event_modes, \"freq\")\n",
    "# ax.set_title(\"Hayward Bridge Longitudinal Mode (In: Ch3, Out: Ch12)\");\n",
    "ax.set_title(\"Hayward Bridge Transverse Mode (In: Ch25, Out: Ch23)\");"
   ]
  }
 ],
 "metadata": {
  "kernelspec": {
   "display_name": "Python 3.8.5 ('cs189sp22')",
   "language": "python",
   "name": "python3"
  },
  "language_info": {
   "codemirror_mode": {
    "name": "ipython",
    "version": 3
   },
   "file_extension": ".py",
   "mimetype": "text/x-python",
   "name": "python",
   "nbconvert_exporter": "python",
   "pygments_lexer": "ipython3",
   "version": "3.11.0"
  },
  "vscode": {
   "interpreter": {
    "hash": "b944da275fc40d5f9e33b056094a1f7a0fbd6b43847c12427d377e8ad9deab4f"
   }
  }
 },
 "nbformat": 4,
 "nbformat_minor": 5
}
