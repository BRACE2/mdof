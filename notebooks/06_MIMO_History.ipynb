{
 "cells": [
  {
   "cell_type": "code",
   "execution_count": 1,
   "id": "a5714e1d-5706-4f80-b65c-f9d9faaee2e6",
   "metadata": {},
   "outputs": [],
   "source": [
    "import numpy as np\n",
    "import ssid\n",
    "import quakeio\n",
    "from ssid import modal, spec\n",
    "from utilities import Config, extract_channels, list_files, print_modes, mode_statistics"
   ]
  },
  {
   "attachments": {},
   "cell_type": "markdown",
   "id": "af12ef54",
   "metadata": {},
   "source": [
    "### Data inputs"
   ]
  },
  {
   "cell_type": "code",
   "execution_count": 2,
   "id": "66b05cd1",
   "metadata": {},
   "outputs": [],
   "source": [
    "directory = \"../CESMD/CE89324/\"\n",
    "pattern  = \"????????*.[zZ][iI][pP]\""
   ]
  },
  {
   "cell_type": "code",
   "execution_count": 3,
   "id": "3f886615-f4a7-4415-aa43-212e1ec5bcca",
   "metadata": {},
   "outputs": [],
   "source": [
    "data_conf = Config()\n",
    "data_conf.d = 8 # decimation factor\n",
    "\n",
    "# PAINTER RIO DELL TRANSVERSE (CASE 1)\n",
    "data_conf.inputs  = [17,3,20]\n",
    "data_conf.outputs = [9,7,4]\n",
    "# # PAINTER RIO DELL LONGITUDINAL (CASE 2)\n",
    "# data_conf.inputs  = [15,1,18]\n",
    "# data_conf.outputs = [11]\n",
    "\n",
    "# # HWY8/MELOLAND TRANSVERSE (CASE 1)\n",
    "# data_conf.inputs  = [2],\n",
    "# data_conf.outputs = [5,7,9]\n",
    "# # HWY8/MELOLAND TRANSVERSE (CASE 2)\n",
    "# data_conf.inputs  = [11,2,26],\n",
    "# data_conf.outputs = [5,7,9]\n",
    "# # HWY8/MELOLAND LONGITUDINAL (CASE 3)\n",
    "# data_conf.inputs  = [12,4,25],\n",
    "# data_conf.outputs = [27,8]\n",
    "\n",
    "# # CROWLEY TRANSVERSE (CASE 1)\n",
    "# data_conf.inputs = [4]\n",
    "# data_conf.outputs = [6,7,9]\n",
    "# # CROWLEY TRANSVERSE (CASE 2)\n",
    "# data_conf.inputs = [6,4,9]\n",
    "# data_conf.outputs = [7]\n",
    "# # CROWLEY TRANSVERSE (CASE 3)\n",
    "# data_conf.inputs = [4]\n",
    "# data_conf.outputs = [7]\n",
    "# # CROWLEY LONGITUDINAL (CASE 4)\n",
    "# data_conf.inputs = [5]\n",
    "# data_conf.outputs = [8]\n",
    "\n",
    "# # RIDGECREST TRANSVERSE (CASE 1)\n",
    "# data_conf.inputs  = [4]\n",
    "# data_conf.outputs = [6,7,9]\n",
    "\n",
    "# # CAPISTRANO TRANSVERSE (CASE 1)\n",
    "# data_conf.inputs  = [4]\n",
    "# data_conf.outputs = [10,7]\n",
    "\n",
    "# # HAYWARD TRANSVERSE (CASE 1)\n",
    "# data_conf.inputs  = [2,7,25,18]\n",
    "# data_conf.outputs = [13,15,23,20]\n",
    "# # HAYWARD LONGITUDINAL\n",
    "# data_conf.inputs  = [3,6,17],\n",
    "# data_conf.outputs = [12,14,19]\n",
    "\n",
    "# # BERNARDINO TRANSVERSE BENT 3 (CASE 1)\n",
    "# data_conf.inputs  = [6]\n",
    "# data_conf.outputs = [7,8]\n",
    "# # BERNARDINO TRANSVERSE BENT 8 (CASE 2)\n",
    "# data_conf.inputs  = [24]\n",
    "# data_conf.outputs = [19,20]\n",
    "# # BERNARDINO LONGITUDINAL BENT 3 (CASE 3)\n",
    "# data_conf.inputs  = [4]\n",
    "# data_conf.outputs = [10]\n",
    "# # BERNARDINO LONGITUDINAL BENT 8 (CASE 4)\n",
    "# data_conf.inputs  = [22]\n",
    "# data_conf.outputs = [17,18]\n",
    "\n",
    "# # VINCENT THOMAS (CE14406) TRANSVERSE (CASE 1)\n",
    "# data_conf.inputs  = [1,9,24]\n",
    "# data_conf.outputs = [2,5,7]\n",
    "# # VINCENT THOMAS TRANSVERSE DENSE (CASE 2)\n",
    "# data_conf.inputs  = [1,9,24]\n",
    "# data_conf.outputs = [2,4,5,6,7]\n",
    "# # VINCENT THOMAS VERTICAL SOUTH DECK EDGE (CASE 3)\n",
    "# data_conf.inputs  = [14,19,26]\n",
    "# data_conf.outputs = [16,18,22]"
   ]
  },
  {
   "attachments": {},
   "cell_type": "markdown",
   "id": "755f4e2b",
   "metadata": {},
   "source": [
    "### Method Inputs"
   ]
  },
  {
   "attachments": {},
   "cell_type": "markdown",
   "id": "8aad4938",
   "metadata": {},
   "source": [
    "### General Parameters\n",
    "parameter | value\n",
    "----------|-------\n",
    "`p ` | number of output channels\n",
    "`q ` | number of input channels\n",
    "`nt` | number of timesteps\n",
    "`dt` | timestep\n",
    "`d`  | decimation (downsampling) factor\n",
    "\n",
    "### Specific to Observer Kalman Identification (OKID)\n",
    "parameter | value\n",
    "----------|-------\n",
    "`m`  | number of Markov parameters to compute (at most = nt)\n",
    "\n",
    "### Specific to Eigensystem Realization Algorithm (ERA)\n",
    "parameter | value\n",
    "----------|-------\n",
    "`no` | number of observability parameters\n",
    "`nc` | number of controllability parameters\n",
    "`r ` | reduced model order\n",
    "\n",
    "### Specific to Data Correlations (DC)\n",
    "parameter | value\n",
    "----------|-------\n",
    "`a`  | (alpha) number of additional block rows in Hankel matrix of correlation matrices\n",
    "`b`  | (beta) number of additional block columns in Hankel matrix of correlation matrices\n",
    "`l`  | initial lag\n",
    "`g`  | lag (gap) between correlations\n",
    "\n",
    "### Specific to System Realization with Information Matrix (SRIM)\n",
    "parameter | value\n",
    "----------|-------\n",
    "`no` | number of steps used for identification (prediction horizon)"
   ]
  },
  {
   "cell_type": "code",
   "execution_count": 4,
   "id": "fb6ea3c5",
   "metadata": {},
   "outputs": [],
   "source": [
    "# Set Parameters\n",
    "conf = Config()\n",
    "conf.m  = 350\n",
    "conf.no = 190\n",
    "conf.nc = 190\n",
    "conf.r  = 12\n",
    "conf.a  = 0  \n",
    "conf.b  = 0  \n",
    "conf.l  = 10 \n",
    "conf.g  = 3\n",
    "conf.period_band = (0.1,0.6)\n",
    "conf.damping = 0.0001"
   ]
  },
  {
   "cell_type": "code",
   "execution_count": 5,
   "id": "cddd66da",
   "metadata": {},
   "outputs": [
    {
     "name": "stdout",
     "output_type": "stream",
     "text": [
      "../CESMD/CE89324/bayview_11oct2013_72086051_ce89324p.zip\n",
      "peak acceleration (cm/s/s): 87.954\n"
     ]
    },
    {
     "name": "stderr",
     "output_type": "stream",
     "text": [
      "100%|█████████▉| 1310/1311 [00:00<00:00, 2423.42it/s]\n"
     ]
    },
    {
     "name": "stdout",
     "output_type": "stream",
     "text": [
      "Spectral quantities:\n",
      "       T(s)        ζ        EMACO        MPC     EMACO*MPC\n",
      "      0.2709     0.001132   1.0        0.8338     0.8338   \n",
      "      0.2527     -0.003276  1.0        0.9749     0.9749   \n",
      "      0.2409     -0.0003217  1.0        0.8874     0.8874   \n",
      "      0.2337     -0.0001491  1.0        0.8368     0.8368   \n",
      "      0.2282     0.03774    0.0        0.9219     0.0      \n",
      "      0.2133     0.02379    1.938e-06  0.3374     6.54e-07 \n",
      "Mean Period(s): 0.2399499733578542\n",
      "Standard Dev(s): 0.018299795578288952\n",
      "../CESMD/CE89324/CapeMendocinoAftershock_21Nov1986_CE89324P.zip\n",
      "peak acceleration (cm/s/s): 343.36\n",
      "negative dimensions are not allowed\n",
      "../CESMD/CE89324/CapeMendocino_21Nov1986_CE89324P.zip\n",
      "peak acceleration (cm/s/s): -423.638\n",
      "setting an array element with a sequence. The requested array has an inhomogeneous shape after 1 dimensions. The detected shape was (3,) + inhomogeneous part.\n",
      "../CESMD/CE89324/CapeMendocino_31Jul1987_CE89324P.zip\n",
      "peak acceleration (cm/s/s): -328.629\n",
      "negative dimensions are not allowed\n",
      "../CESMD/CE89324/Eureka_24Aug1983_CE89324P.zip\n",
      "peak acceleration (cm/s/s): -260.344\n",
      "setting an array element with a sequence. The requested array has an inhomogeneous shape after 1 dimensions. The detected shape was (3,) + inhomogeneous part.\n",
      "../CESMD/CE89324/ferndaleoffshore_08dec2016_us20007z6r_ce89324p.zip\n"
     ]
    },
    {
     "name": "stderr",
     "output_type": "stream",
     "text": [
      "Only extracted 2 channels, 1 missing.\n"
     ]
    },
    {
     "name": "stdout",
     "output_type": "stream",
     "text": [
      "peak acceleration (cm/s/s): -30.371\n"
     ]
    },
    {
     "name": "stderr",
     "output_type": "stream",
     "text": [
      "100%|█████████▉| 686/687 [00:00<00:00, 3762.25it/s]\n",
      "/mnt/c/Users/16507/Documents/GitHub/SystemIdentification/src/ssid/validation.py:21: RuntimeWarning: divide by zero encountered in scalar divide\n",
      "  (abs(Phi_final[j,i])/abs(Phi_final_hat[j,i])),\n",
      "/mnt/c/Users/16507/Documents/GitHub/SystemIdentification/src/ssid/validation.py:24: RuntimeWarning: divide by zero encountered in scalar divide\n",
      "  Pij = np.angle(Phi_final[j,i]/Phi_final_hat[j,i])\n",
      "/mnt/c/Users/16507/Documents/GitHub/SystemIdentification/src/ssid/validation.py:24: RuntimeWarning: invalid value encountered in scalar divide\n",
      "  Pij = np.angle(Phi_final[j,i]/Phi_final_hat[j,i])\n",
      "/mnt/c/Users/16507/Documents/GitHub/SystemIdentification/src/ssid/validation.py:76: RuntimeWarning: divide by zero encountered in scalar divide\n",
      "  nu[i]    = (s22[i]-s11[i])/(2*s12[i])\n",
      "/mnt/c/Users/16507/Documents/GitHub/SystemIdentification/src/ssid/validation.py:77: RuntimeWarning: invalid value encountered in scalar multiply\n",
      "  lam[0,i] = (s11[i]+s22[i])/2 + s12[i]*np.sqrt(nu[i]**2+1)\n",
      "/mnt/c/Users/16507/Documents/GitHub/SystemIdentification/src/ssid/validation.py:78: RuntimeWarning: invalid value encountered in scalar multiply\n",
      "  lam[1,i] = (s11[i]+s22[i])/2 - s12[i]*np.sqrt(nu[i]**2+1)\n"
     ]
    },
    {
     "name": "stdout",
     "output_type": "stream",
     "text": [
      "Spectral quantities:\n",
      "       T(s)        ζ        EMACO        MPC     EMACO*MPC\n",
      "      0.2359     0.0038     1.0        0.9453     0.9453   \n",
      "      0.227      0.03918    0.0        0.9725     0.0      \n",
      "      0.2238     0.005151   1.0        0.9662     0.9662   \n",
      "      0.2093     0.009579   1.0        0.604      0.604    \n",
      "      0.2032     0.02393    0.0        0.9483     0.0      \n",
      "Mean Period(s): 0.2198378985029322\n",
      "Standard Dev(s): 0.011930582991560978\n",
      "../CESMD/CE89324/ferndale_28jan2015_72387946_ce89324p.zip\n",
      "peak acceleration (cm/s/s): -285.334\n"
     ]
    },
    {
     "name": "stderr",
     "output_type": "stream",
     "text": [
      "100%|█████████▉| 874/875 [00:00<00:00, 3129.23it/s]\n"
     ]
    },
    {
     "name": "stdout",
     "output_type": "stream",
     "text": [
      "Spectral quantities:\n",
      "       T(s)        ζ        EMACO        MPC     EMACO*MPC\n",
      "      0.3119     0.01321    0.9596     0.8887     0.8528   \n",
      "      0.2602     -0.004556  1.0        0.7266     0.7266   \n",
      "      0.2555     0.04334    0.0        0.972      0.0      \n",
      "      0.2482     0.01867    6.106e-09  0.878      5.361e-09\n",
      "      0.2299     0.008439   0.9996     0.7712     0.7709   \n",
      "Mean Period(s): 0.2611389841543779\n",
      "Standard Dev(s): 0.02738755108797363\n",
      "../CESMD/CE89324/nc73201181_ce89324p.zip\n",
      "peak acceleration (cm/s/s): 243.242\n"
     ]
    },
    {
     "name": "stderr",
     "output_type": "stream",
     "text": [
      "100%|█████████▉| 831/832 [00:00<00:00, 3429.07it/s]\n"
     ]
    },
    {
     "name": "stdout",
     "output_type": "stream",
     "text": [
      "Spectral quantities:\n",
      "       T(s)        ζ        EMACO        MPC     EMACO*MPC\n",
      "      0.7111     0.06989    0.564      0.2373     0.1338   \n",
      "      0.2911     0.4793     0.0        0.2207     0.0      \n",
      "      0.2839     0.01621    1.0        0.9861     0.9861   \n",
      "      0.2669     0.008783   1.0        0.8865     0.8865   \n",
      "      0.2449     0.02909    2.658e-05  0.9715     2.583e-05\n",
      "      0.2391     0.09027    1.444e-62  0.9734     1.406e-62\n",
      "Mean Period(s): 0.3394953575105517\n",
      "Standard Dev(s): 0.16723260983886604\n",
      "../CESMD/CE89324/nc73351710_ce89324p.zip\n",
      "peak acceleration (cm/s/s): -53.539\n"
     ]
    },
    {
     "name": "stderr",
     "output_type": "stream",
     "text": [
      "100%|█████████▉| 868/869 [00:00<00:00, 3619.18it/s]\n"
     ]
    },
    {
     "name": "stdout",
     "output_type": "stream",
     "text": [
      "Spectral quantities:\n",
      "       T(s)        ζ        EMACO        MPC     EMACO*MPC\n",
      "      0.2298     0.02758    0.0        0.9018     0.0      \n",
      "      0.2293     0.01291    1.0        0.6597     0.6597   \n",
      "      0.2141     0.005794   1.0        0.8125     0.8125   \n",
      "      0.198      0.01652    0.9717     0.954      0.927    \n",
      "      0.1856     0.007892   1.0        0.9607     0.9607   \n",
      "      0.1639     0.004047   1.0        0.953      0.953    \n",
      "Mean Period(s): 0.20345404869738515\n",
      "Standard Dev(s): 0.023751109375295305\n",
      "../CESMD/CE89324/nc73666231_ce89324p.zip\n",
      "peak acceleration (cm/s/s): 30.272\n"
     ]
    },
    {
     "name": "stderr",
     "output_type": "stream",
     "text": [
      "100%|█████████▉| 631/632 [00:00<00:00, 3972.03it/s]\n"
     ]
    },
    {
     "name": "stdout",
     "output_type": "stream",
     "text": [
      "Spectral quantities:\n",
      "       T(s)        ζ        EMACO        MPC     EMACO*MPC\n",
      "      0.2969     0.04186    0.0008127  0.3244     0.0002636\n",
      "      0.2725     0.03001    0.9996     0.8513     0.851    \n",
      "      0.2432     0.02007    1.0        0.9816     0.9816   \n",
      "      0.2255     0.03043    0.00293    0.8075     0.002366 \n",
      "      0.2231     0.0144     1.0        0.8528     0.8528   \n",
      "      0.1644     0.007564   1.0        0.9913     0.9913   \n",
      "Mean Period(s): 0.2376023967089322\n",
      "Standard Dev(s): 0.04178679196542861\n",
      "../CESMD/CE89324/nc73667866_ce89324p.zip\n",
      "peak acceleration (cm/s/s): 32.846\n"
     ]
    },
    {
     "name": "stderr",
     "output_type": "stream",
     "text": [
      "100%|█████████▉| 647/648 [00:00<00:00, 4117.57it/s]\n"
     ]
    },
    {
     "name": "stdout",
     "output_type": "stream",
     "text": [
      "Spectral quantities:\n",
      "       T(s)        ζ        EMACO        MPC     EMACO*MPC\n",
      "      0.2674     0.07844    0.0        0.2192     0.0      \n",
      "      0.2388     0.01897    1.0        0.08927    0.08927  \n",
      "      0.2295     0.06567    0.0        0.5181     0.0      \n",
      "      0.2229     0.03194    0.9985     0.1985     0.1982   \n",
      "      0.2029     0.0984     0.0        0.7416     0.0      \n",
      "Mean Period(s): 0.23230004145734545\n",
      "Standard Dev(s): 0.021121709869979223\n",
      "../CESMD/CE89324/nc73714181_ce89324p.zip\n",
      "peak acceleration (cm/s/s): 54.457\n"
     ]
    },
    {
     "name": "stderr",
     "output_type": "stream",
     "text": [
      "100%|█████████▉| 694/695 [00:00<00:00, 3540.46it/s]\n"
     ]
    },
    {
     "name": "stdout",
     "output_type": "stream",
     "text": [
      "Spectral quantities:\n",
      "       T(s)        ζ        EMACO        MPC     EMACO*MPC\n",
      "      0.3978     0.1306     0.0        0.7373     0.0      \n",
      "      0.3016     0.02847    0.9835     0.7979     0.7847   \n",
      "      0.2591     0.03579    7.457e-10  0.7103     5.297e-10\n",
      "      0.236      0.009554   1.0        0.8541     0.8541   \n",
      "      0.2        0.03356    8.919e-14  0.4057     3.619e-14\n",
      "      0.1853     0.004686   1.0        0.1831     0.1831   \n",
      "Mean Period(s): 0.26330029980418185\n",
      "Standard Dev(s): 0.07122094533937903\n",
      "../CESMD/CE89324/nc73821036_ce89324p.zip\n",
      "peak acceleration (cm/s/s): -1356.923\n"
     ]
    },
    {
     "name": "stderr",
     "output_type": "stream",
     "text": [
      "100%|█████████▉| 1229/1230 [00:00<00:00, 2585.49it/s]\n"
     ]
    },
    {
     "name": "stdout",
     "output_type": "stream",
     "text": [
      "Spectral quantities:\n",
      "       T(s)        ζ        EMACO        MPC     EMACO*MPC\n",
      "      0.4041     0.02136    0.9938     0.1498     0.1489   \n",
      "      0.3177     0.008901   1.0        0.8627     0.8627   \n",
      "      0.3006     0.00409    1.0        0.9268     0.9268   \n",
      "      0.2818     0.019      0.01087    0.9697     0.01054  \n",
      "      0.2801     0.007793   1.0        0.8783     0.8783   \n",
      "      0.2441     0.1093     0.0        0.9427     0.0      \n",
      "Mean Period(s): 0.3047263057823573\n",
      "Standard Dev(s): 0.04979492943920992\n",
      "../CESMD/CE89324/nc73821046_ce89324p.zip\n",
      "peak acceleration (cm/s/s): -139.897\n"
     ]
    },
    {
     "name": "stderr",
     "output_type": "stream",
     "text": [
      "100%|█████████▉| 662/663 [00:00<00:00, 3831.90it/s]\n"
     ]
    },
    {
     "name": "stdout",
     "output_type": "stream",
     "text": [
      "Spectral quantities:\n",
      "       T(s)        ζ        EMACO        MPC     EMACO*MPC\n",
      "      0.3001     0.04037    1.0        0.7879     0.7879   \n",
      "      0.2674     0.03467    1.0        0.1593     0.1593   \n",
      "      0.2591     0.06272    0.0        0.6758     0.0      \n",
      "      0.2469     0.03627    1.0        0.8245     0.8245   \n",
      "      0.2256     0.03078    1.0        0.7015     0.7015   \n",
      "      0.1745     0.03043    1.0        0.8787     0.8787   \n",
      "Mean Period(s): 0.24562036099103235\n",
      "Standard Dev(s): 0.03891069442681222\n",
      "../CESMD/CE89324/nc73821636_ce89324p.zip\n",
      "peak acceleration (cm/s/s): 50.951\n"
     ]
    },
    {
     "name": "stderr",
     "output_type": "stream",
     "text": [
      "100%|█████████▉| 673/674 [00:00<00:00, 3206.03it/s]\n"
     ]
    },
    {
     "name": "stdout",
     "output_type": "stream",
     "text": [
      "Spectral quantities:\n",
      "       T(s)        ζ        EMACO        MPC     EMACO*MPC\n",
      "      0.2833     0.009959   1.0        0.6816     0.6816   \n",
      "      0.2434     0.01689    1.0        0.8856     0.8856   \n",
      "      0.2357     0.0112     1.0        0.2451     0.2451   \n",
      "      0.2286     0.07124    0.0        0.5308     0.0      \n",
      "      0.2061     0.04924    0.0        0.9692     0.0      \n",
      "      0.1684     0.03321    4.136e-16  0.5699     2.357e-16\n",
      "Mean Period(s): 0.22757668980298384\n",
      "Standard Dev(s): 0.03510575192037083\n",
      "../CESMD/CE89324/nc73827571_ce89324p.zip\n",
      "peak acceleration (cm/s/s): -1012.657\n"
     ]
    },
    {
     "name": "stderr",
     "output_type": "stream",
     "text": [
      "100%|█████████▉| 914/915 [00:00<00:00, 3050.69it/s]\n"
     ]
    },
    {
     "name": "stdout",
     "output_type": "stream",
     "text": [
      "Spectral quantities:\n",
      "       T(s)        ζ        EMACO        MPC     EMACO*MPC\n",
      "      0.6212     0.09436    0.0        0.6528     0.0      \n",
      "      0.5406     0.009841   1.0        0.8737     0.8737   \n",
      "      0.4367     0.04506    1.803e-07  0.2452     4.42e-08 \n",
      "      0.317      0.01029    1.0        0.4412     0.4412   \n",
      "      0.2569     0.08572    2.289e-61  0.9454     2.164e-61\n",
      "Mean Period(s): 0.4344633802109589\n",
      "Standard Dev(s): 0.13524874602932183\n",
      "../CESMD/CE89324/nc73890906_ce89324p.zip\n",
      "peak acceleration (cm/s/s): 33.218\n"
     ]
    },
    {
     "name": "stderr",
     "output_type": "stream",
     "text": [
      "100%|█████████▉| 694/695 [00:00<00:00, 3573.05it/s]\n"
     ]
    },
    {
     "name": "stdout",
     "output_type": "stream",
     "text": [
      "Spectral quantities:\n",
      "       T(s)        ζ        EMACO        MPC     EMACO*MPC\n",
      "      0.2607     0.02224    0.0        0.003157   0.0      \n",
      "      0.2449     0.006788   1.0        0.9932     0.9932   \n",
      "      0.24       -0.0008864  1.0        0.8373     0.8373   \n",
      "      0.2263     0.02832    7.99e-11   0.7906     6.317e-11\n",
      "      0.2163     0.04559    3.907e-29  0.9555     3.733e-29\n",
      "      0.1748     0.001106   1.0        0.2454     0.2454   \n",
      "Mean Period(s): 0.2271612970332738\n",
      "Standard Dev(s): 0.02728389456215152\n",
      "../CESMD/CE89324/petrolia91_ce89324p.zip\n",
      "peak acceleration (cm/s/s): 77.736\n",
      "No channels found\n",
      "../CESMD/CE89324/PetroliaAftershock1_26Apr1992_CE89324P.zip\n",
      "peak acceleration (cm/s/s): 811.154\n",
      "setting an array element with a sequence. The requested array has an inhomogeneous shape after 1 dimensions. The detected shape was (3,) + inhomogeneous part.\n",
      "../CESMD/CE89324/PetroliaAftershock2_26Apr1992_CE89324P.zip\n",
      "peak acceleration (cm/s/s): 381.794\n",
      "setting an array element with a sequence. The requested array has an inhomogeneous shape after 1 dimensions. The detected shape was (3,) + inhomogeneous part.\n",
      "../CESMD/CE89324/petrolia_05dec2016_72733405_ce89324p.zip\n",
      "peak acceleration (cm/s/s): 165.262\n"
     ]
    },
    {
     "name": "stderr",
     "output_type": "stream",
     "text": [
      "100%|█████████▉| 1310/1311 [00:00<00:00, 2101.63it/s]\n"
     ]
    },
    {
     "name": "stdout",
     "output_type": "stream",
     "text": [
      "Spectral quantities:\n",
      "       T(s)        ζ        EMACO        MPC     EMACO*MPC\n",
      "      0.2964     0.01012    1.0        0.9602     0.9602   \n",
      "      0.2634     0.04313    3.047e-08  0.8054     2.454e-08\n",
      "      0.2474     0.0159     1.0        0.8673     0.8673   \n",
      "      0.2425     0.012      1.0        0.8418     0.8418   \n",
      "      0.2228     0.01331    1.0        0.4284     0.4284   \n",
      "      0.2051     0.005986   1.0        0.8064     0.8064   \n",
      "Mean Period(s): 0.24628060042194042\n",
      "Standard Dev(s): 0.02905011899351385\n",
      "../CESMD/CE89324/petrolia_25apr1992_ce89324p.zip\n",
      "local variable 'v1' referenced before assignment\n",
      "../CESMD/CE89324/RioDell82_CE89324P.zip\n",
      "peak acceleration (cm/s/s): 577.801\n",
      "setting an array element with a sequence. The requested array has an inhomogeneous shape after 1 dimensions. The detected shape was (3,) + inhomogeneous part.\n",
      "../CESMD/CE89324/riodell_14sep2012_71842075_ce89324p.zip\n"
     ]
    },
    {
     "name": "stderr",
     "output_type": "stream",
     "text": [
      "Only extracted 2 channels, 1 missing.\n"
     ]
    },
    {
     "name": "stdout",
     "output_type": "stream",
     "text": [
      "peak acceleration (cm/s/s): -219.633\n"
     ]
    },
    {
     "name": "stderr",
     "output_type": "stream",
     "text": [
      "100%|█████████▉| 1310/1311 [00:00<00:00, 2433.00it/s]\n"
     ]
    },
    {
     "name": "stdout",
     "output_type": "stream",
     "text": [
      "Spectral quantities:\n",
      "       T(s)        ζ        EMACO        MPC     EMACO*MPC\n",
      "      0.2735     0.03582    0.001036   0.94       0.0009736\n",
      "      0.2556     0.06232    0.0        0.998      0.0      \n",
      "      0.2391     0.005624   1.0        0.9759     0.9759   \n",
      "      0.2049     0.01358    1.0        0.8958     0.8958   \n",
      "      0.1772     0.0223     0.01632    0.8821     0.0144   \n",
      "      0.1482     0.01812    0.03249    0.3485     0.01132  \n",
      "Mean Period(s): 0.21639806443338494\n",
      "Standard Dev(s): 0.0440215039741954\n",
      "../CESMD/CE89324/RioDell_14Sep2012_71842255_ce89324p.zip\n",
      "peak acceleration (cm/s/s): -8.814\n",
      "No channels found\n",
      "../CESMD/CE89324/riodell_19oct2014_72330211_ce89324p.zip\n",
      "peak acceleration (cm/s/s): -60.641\n"
     ]
    },
    {
     "name": "stderr",
     "output_type": "stream",
     "text": [
      "100%|█████████▉| 671/672 [00:00<00:00, 2569.41it/s]\n"
     ]
    },
    {
     "name": "stdout",
     "output_type": "stream",
     "text": [
      "Spectral quantities:\n",
      "       T(s)        ζ        EMACO        MPC     EMACO*MPC\n",
      "      0.2918     0.01039    0.9998     0.9987     0.9986   \n",
      "      0.2418     -0.006623  1.0        0.3285     0.3285   \n",
      "      0.2226     0.02352    0.0        0.9517     0.0      \n",
      "      0.1945     0.1566     2.706e-141  0.9412     2.547e-141\n",
      "      0.1651     0.006289   0.9993     0.7292     0.7287   \n",
      "Mean Period(s): 0.2231605195055006\n",
      "Standard Dev(s): 0.04301403503131246\n",
      "../CESMD/CE89324/RioDell_Petrolia_Processed_Data.zip\n",
      "peak acceleration (cm/s/s): 30.272\n"
     ]
    },
    {
     "name": "stderr",
     "output_type": "stream",
     "text": [
      "100%|█████████▉| 631/632 [00:00<00:00, 2861.67it/s]\n"
     ]
    },
    {
     "name": "stdout",
     "output_type": "stream",
     "text": [
      "Spectral quantities:\n",
      "       T(s)        ζ        EMACO        MPC     EMACO*MPC\n",
      "      0.2969     0.04186    0.0008127  0.3244     0.0002636\n",
      "      0.2725     0.03001    0.9996     0.8513     0.851    \n",
      "      0.2432     0.02007    1.0        0.9816     0.9816   \n",
      "      0.2255     0.03043    0.00293    0.8075     0.002366 \n",
      "      0.2231     0.0144     1.0        0.8528     0.8528   \n",
      "      0.1644     0.007564   1.0        0.9913     0.9913   \n",
      "Mean Period(s): 0.2376023967089322\n",
      "Standard Dev(s): 0.04178679196542861\n",
      "../CESMD/CE89324/Trinidad-Offshore_08Nov1980_CE89324p.zip\n",
      "peak acceleration (cm/s/s): -326.247\n",
      "negative dimensions are not allowed\n"
     ]
    },
    {
     "name": "stderr",
     "output_type": "stream",
     "text": [
      "Only extracted 1 channels, 2 missing.\n"
     ]
    },
    {
     "data": {
      "image/png": "[encoded data removed]",
      "text/plain": [
       "<Figure size 1200x300 with 1 Axes>"
      ]
     },
     "metadata": {},
     "output_type": "display_data"
    }
   ],
   "source": [
    "files = list_files(directory, pattern)\n",
    "event_modes = []\n",
    "from matplotlib import pyplot as plt\n",
    "fig, ax = plt.subplots(figsize=(12,3))\n",
    "file_axes = {}\n",
    "for file in files:\n",
    "    print(file)\n",
    "    try:\n",
    "        event = quakeio.read(file, exclusions=[\"*filter*\", \"*date*\"])\n",
    "        print(\"peak acceleration (cm/s/s):\", event[\"peak_accel\"])\n",
    "        inputs, dt = extract_channels(event, data_conf[\"inputs\"], decimate=data_conf[\"d\"])\n",
    "        outpts, dt = extract_channels(event, data_conf[\"outputs\"], decimate=data_conf[\"d\"])\n",
    "        realization = ssid.system(method=\"srim\", inputs=inputs, outputs=outpts, **conf)\n",
    "    except Exception as e:\n",
    "        print(e)\n",
    "        continue\n",
    "    ss_modes = modal.system_modes(realization,dt,nt=inputs.shape[1])\n",
    "    event_modes.append(list(ss_modes.values()))\n",
    "    print_modes(ss_modes)\n",
    "    periods, amplitudes = spec.fourier_transfer(inputs=inputs[0], outputs=outpts[0], step=dt, **conf)\n",
    "    ax.plot(periods, 0.1*amplitudes, label=event[\"peak_accel\"]/980.7, color=\"blue\")\n",
    "    # periods, amplitudes = spec.response_transfer(inputs=inputs[0], outputs=outpts[0], step=dt, periods=np.linspace(*conf[\"period_band\"],50), **conf)\n",
    "    # ax.plot(periods, amplitudes, color=\"green\")\n",
    "    ax.vlines([1/value[\"freq\"] for value in ss_modes.values()][0],0,0.1*max(amplitudes),color='k',linestyles='dashed')\n",
    "ax.legend()\n",
    "event_frequencies = mode_statistics(event_modes, \"freq\")"
   ]
  }
 ],
 "metadata": {
  "kernelspec": {
   "display_name": "Python 3.8.5 ('cs189sp22')",
   "language": "python",
   "name": "python3"
  },
  "language_info": {
   "codemirror_mode": {
    "name": "ipython",
    "version": 3
   },
   "file_extension": ".py",
   "mimetype": "text/x-python",
   "name": "python",
   "nbconvert_exporter": "python",
   "pygments_lexer": "ipython3",
   "version": "3.10.5"
  },
  "vscode": {
   "interpreter": {
    "hash": "b944da275fc40d5f9e33b056094a1f7a0fbd6b43847c12427d377e8ad9deab4f"
   }
  }
 },
 "nbformat": 4,
 "nbformat_minor": 5
}
