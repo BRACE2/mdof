{
 "cells": [
  {
   "cell_type": "code",
   "execution_count": 1,
   "id": "a5714e1d-5706-4f80-b65c-f9d9faaee2e6",
   "metadata": {},
   "outputs": [],
   "source": [
    "import ssid\n",
    "import quakeio\n",
    "from ssid import modal\n",
    "from utilities import Config, extract_channels, list_files, print_modes, mode_statistics"
   ]
  },
  {
   "attachments": {},
   "cell_type": "markdown",
   "id": "af12ef54",
   "metadata": {},
   "source": [
    "### Data inputs"
   ]
  },
  {
   "cell_type": "code",
   "execution_count": 2,
   "id": "66b05cd1",
   "metadata": {},
   "outputs": [],
   "source": [
    "directory = \"uploads/painter\"\n",
    "pattern  = \"*.[zZ][iI][pP]\""
   ]
  },
  {
   "cell_type": "code",
   "execution_count": 3,
   "id": "3f886615-f4a7-4415-aa43-212e1ec5bcca",
   "metadata": {},
   "outputs": [],
   "source": [
    "data_conf = Config()\n",
    "data_conf.d = 8 # decimation factor\n",
    "\n",
    "# PAINTER RIO DELL TRANSVERSE (CASE 1)\n",
    "data_conf.inputs  = [17,3,20]\n",
    "data_conf.outputs = [9,7,4]\n",
    "# # PAINTER RIO DELL LONGITUDINAL (CASE 2)\n",
    "# data_conf.inputs  = [15,1,18]\n",
    "# data_conf.outputs = [11]\n",
    "\n",
    "# # HWY8/MELOLAND TRANSVERSE (CASE 1)\n",
    "# data_conf.inputs  = [2],\n",
    "# data_conf.outputs = [5,7,9]\n",
    "# # HWY8/MELOLAND TRANSVERSE (CASE 2)\n",
    "# data_conf.inputs  = [11,2,26],\n",
    "# data_conf.outputs = [5,7,9]\n",
    "# # HWY8/MELOLAND LONGITUDINAL (CASE 3)\n",
    "# data_conf.inputs  = [12,4,25],\n",
    "# data_conf.outputs = [27,8]\n",
    "\n",
    "# # CROWLEY TRANSVERSE (CASE 1)\n",
    "# data_conf.inputs = [4]\n",
    "# data_conf.outputs = [6,7,9]\n",
    "# # CROWLEY TRANSVERSE (CASE 2)\n",
    "# data_conf.inputs = [6,4,9]\n",
    "# data_conf.outputs = [7]\n",
    "# # CROWLEY TRANSVERSE (CASE 3)\n",
    "# data_conf.inputs = [4]\n",
    "# data_conf.outputs = [7]\n",
    "# # CROWLEY LONGITUDINAL (CASE 4)\n",
    "# data_conf.inputs = [5]\n",
    "# data_conf.outputs = [8]\n",
    "\n",
    "# # RIDGECREST TRANSVERSE (CASE 1)\n",
    "# data_conf.inputs  = [4]\n",
    "# data_conf.outputs = [6,7,9]\n",
    "\n",
    "# # CAPISTRANO TRANSVERSE (CASE 1)\n",
    "# data_conf.inputs  = [4]\n",
    "# data_conf.outputs = [10,7]\n",
    "\n",
    "# # HAYWARD TRANSVERSE (CASE 1)\n",
    "# data_conf.inputs  = [2,7,25,18]\n",
    "# data_conf.outputs = [13,15,23,20]\n",
    "# # HAYWARD LONGITUDINAL\n",
    "# data_conf.inputs  = [3,6,17],\n",
    "# data_conf.outputs = [12,14,19]\n",
    "\n",
    "# # BERNARDINO TRANSVERSE BENT 3 (CASE 1)\n",
    "# data_conf.inputs  = [6]\n",
    "# data_conf.outputs = [7,8]\n",
    "# # BERNARDINO TRANSVERSE BENT 8 (CASE 2)\n",
    "# data_conf.inputs  = [24]\n",
    "# data_conf.outputs = [19,20]\n",
    "# # BERNARDINO LONGITUDINAL BENT 3 (CASE 3)\n",
    "# data_conf.inputs  = [4]\n",
    "# data_conf.outputs = [10]\n",
    "# # BERNARDINO LONGITUDINAL BENT 8 (CASE 4)\n",
    "# data_conf.inputs  = [22]\n",
    "# data_conf.outputs = [17,18]\n"
   ]
  },
  {
   "attachments": {},
   "cell_type": "markdown",
   "id": "755f4e2b",
   "metadata": {},
   "source": [
    "### Method Inputs"
   ]
  },
  {
   "attachments": {},
   "cell_type": "markdown",
   "id": "8aad4938",
   "metadata": {},
   "source": [
    "### General Parameters\n",
    "parameter | value\n",
    "----------|-------\n",
    "`p ` | number of output channels\n",
    "`q ` | number of input channels\n",
    "`nt` | number of timesteps\n",
    "`dt` | timestep\n",
    "`d`  | decimation (downsampling) factor\n",
    "\n",
    "### Specific to Observer Kalman Identification (OKID)\n",
    "parameter | value\n",
    "----------|-------\n",
    "`m`  | number of Markov parameters to compute (at most = nt)\n",
    "\n",
    "### Specific to Eigensystem Realization Algorithm (ERA)\n",
    "parameter | value\n",
    "----------|-------\n",
    "`no` | number of observability parameters\n",
    "`nc` | number of controllability parameters\n",
    "`r ` | reduced model order\n",
    "\n",
    "### Specific to Data Correlations (DC)\n",
    "parameter | value\n",
    "----------|-------\n",
    "`a`  | (alpha) number of additional block rows in Hankel matrix of correlation matrices\n",
    "`b`  | (beta) number of additional block columns in Hankel matrix of correlation matrices\n",
    "`l`  | initial lag\n",
    "`g`  | lag (gap) between correlations\n",
    "\n",
    "### Specific to System Realization with Information Matrix (SRIM)\n",
    "parameter | value\n",
    "----------|-------\n",
    "`no` | number of steps used for identification (prediction horizon)"
   ]
  },
  {
   "cell_type": "code",
   "execution_count": 4,
   "id": "fb6ea3c5",
   "metadata": {},
   "outputs": [],
   "source": [
    "# Set Parameters\n",
    "conf = Config()\n",
    "conf.m  = 210\n",
    "conf.no = 100\n",
    "conf.nc = 100\n",
    "conf.r  = 12\n",
    "conf.a  = 0  \n",
    "conf.b  = 0  \n",
    "conf.l  = 10 \n",
    "conf.g  = 3"
   ]
  },
  {
   "cell_type": "code",
   "execution_count": 5,
   "id": "cddd66da",
   "metadata": {},
   "outputs": [
    {
     "name": "stdout",
     "output_type": "stream",
     "text": [
      "uploads/painter/bayview_11oct2013_72086051_ce89324p.zip\n",
      "peak acceleration (cm/s/s): 87.954\n"
     ]
    },
    {
     "name": "stderr",
     "output_type": "stream",
     "text": [
      "100%|█████████▉| 1400/1401 [00:00<00:00, 1448.36it/s]\n"
     ]
    },
    {
     "name": "stdout",
     "output_type": "stream",
     "text": [
      "Spectral quantities:\n",
      "       T(s)        ζ        EMACO        MPC     EMACO*MPC\n",
      "      0.2647     -0.00271   1.0        0.9978     0.9978   \n",
      "      0.2493     -0.004814  1.0        0.9839     0.9839   \n",
      "      0.234      0.003079   1.0        0.9816     0.9816   \n",
      "      0.2291     0.05486    0.0        0.9411     0.0      \n",
      "      0.2239     0.02438    0.0        0.7533     0.0      \n",
      "      0.207      0.007817   1.0        0.9403     0.9402   \n",
      "Mean Period(s): 0.23466418540798042\n",
      "Standard Dev(s): 0.018390282114705357\n",
      "uploads/painter/CapeMendocinoAftershock_21Nov1986_CE89324P.ZIP\n",
      "peak acceleration (cm/s/s): 343.36\n"
     ]
    },
    {
     "name": "stderr",
     "output_type": "stream",
     "text": [
      " 97%|█████████▋| 38/39 [00:00<00:00, 18797.45it/s]"
     ]
    },
    {
     "name": "stdout",
     "output_type": "stream",
     "text": [
      "Spectral quantities:\n",
      "       T(s)        ζ        EMACO        MPC     EMACO*MPC\n",
      "      0.6989     0.8668     0.0        0.4988     0.0      \n",
      "      0.5157     0.3334     0.0        0.5216     0.0      \n",
      "      0.4477     0.5711     0.0        0.7179     0.0      \n",
      "      0.3521     0.1801     0.0        0.8911     0.0      \n",
      "      0.3437     0.06236    1.0        0.9471     0.9471   \n",
      "Mean Period(s): 0.4716125302466416\n",
      "Standard Dev(s): 0.1302357300182834\n",
      "uploads/painter/CapeMendocino_21Nov1986_CE89324P.ZIP\n"
     ]
    },
    {
     "name": "stderr",
     "output_type": "stream",
     "text": [
      "\n",
      "/mnt/c/Users/16507/Documents/GitHub/SystemIdentification/src/ssid/validation.py:76: RuntimeWarning: divide by zero encountered in double_scalars\n",
      "  nu[i]    = (s22[i]-s11[i])/(2*s12[i])\n",
      "/mnt/c/Users/16507/Documents/GitHub/SystemIdentification/src/ssid/validation.py:77: RuntimeWarning: invalid value encountered in double_scalars\n",
      "  lam[0,i] = (s11[i]+s22[i])/2 + s12[i]*np.sqrt(nu[i]**2+1)\n",
      "/mnt/c/Users/16507/Documents/GitHub/SystemIdentification/src/ssid/validation.py:78: RuntimeWarning: invalid value encountered in double_scalars\n",
      "  lam[1,i] = (s11[i]+s22[i])/2 - s12[i]*np.sqrt(nu[i]**2+1)\n"
     ]
    },
    {
     "name": "stdout",
     "output_type": "stream",
     "text": [
      "peak acceleration (cm/s/s): -423.638\n",
      "negative dimensions are not allowed\n",
      "uploads/painter/CapeMendocino_31Jul1987_CE89324P.ZIP\n",
      "peak acceleration (cm/s/s): -328.629\n"
     ]
    },
    {
     "name": "stderr",
     "output_type": "stream",
     "text": [
      "/mnt/c/Users/16507/Documents/GitHub/SystemIdentification/notebooks/utilities/config.py:19: VisibleDeprecationWarning: Creating an ndarray from ragged nested sequences (which is a list-or-tuple of lists-or-tuples-or ndarrays with different lengths or shapes) is deprecated. If you meant to do this, you must specify 'dtype=object' when creating the ndarray.\n",
      "  data = np.asarray([\n",
      " 97%|█████████▋| 38/39 [00:00<00:00, 13373.35it/s]\n"
     ]
    },
    {
     "name": "stdout",
     "output_type": "stream",
     "text": [
      "Spectral quantities:\n",
      "       T(s)        ζ        EMACO        MPC     EMACO*MPC\n",
      "      0.4099     0.08487    1.0        0.3091     0.3091   \n",
      "      0.3929     0.286      5.754e-19  0.1237     7.117e-20\n",
      "      0.3482     0.8077     1.464e-116  0.78       1.142e-116\n",
      "      0.3432     0.2905     4.784e-25  0.765      3.659e-25\n",
      "      0.3294     0.06045    1.0        0.8347     0.8347   \n",
      "Mean Period(s): 0.36471641451251635\n",
      "Standard Dev(s): 0.031028661997470924\n",
      "uploads/painter/CE89324.zip\n",
      "list index out of range\n",
      "uploads/painter/Eureka_24Aug1983_CE89324P.ZIP\n",
      "peak acceleration (cm/s/s): -260.344\n",
      "\n",
      "uploads/painter/ferndaleoffshore_08dec2016_us20007z6r_ce89324p.zip\n"
     ]
    },
    {
     "name": "stderr",
     "output_type": "stream",
     "text": [
      "Only extracted 2 channels, 1 missing.\n"
     ]
    },
    {
     "name": "stdout",
     "output_type": "stream",
     "text": [
      "peak acceleration (cm/s/s): -30.371\n"
     ]
    },
    {
     "name": "stderr",
     "output_type": "stream",
     "text": [
      "100%|█████████▉| 776/777 [00:00<00:00, 1578.32it/s]\n"
     ]
    },
    {
     "name": "stdout",
     "output_type": "stream",
     "text": [
      "Spectral quantities:\n",
      "       T(s)        ζ        EMACO        MPC     EMACO*MPC\n",
      "      0.2408     0.007323   1.0        0.5695     0.5695   \n",
      "      0.2366     0.004247   1.0        0.9523     0.9523   \n",
      "      0.2284     0.02349    0.0        0.936      0.0      \n",
      "      0.2253     -2.715e-05  1.0        0.9468     0.9468   \n",
      "      0.2217     0.005129   1.0        0.9864     0.9864   \n",
      "      0.161      0.005327   1.0        0.9998     0.9998   \n",
      "Mean Period(s): 0.2189662401858364\n",
      "Standard Dev(s): 0.02672738096989932\n",
      "uploads/painter/ferndale_28jan2015_72387946_ce89324p.zip\n",
      "peak acceleration (cm/s/s): -285.334\n"
     ]
    },
    {
     "name": "stderr",
     "output_type": "stream",
     "text": [
      "100%|█████████▉| 964/965 [00:01<00:00, 936.15it/s]\n"
     ]
    },
    {
     "name": "stdout",
     "output_type": "stream",
     "text": [
      "Spectral quantities:\n",
      "       T(s)        ζ        EMACO        MPC     EMACO*MPC\n",
      "      0.3687     0.01405    1.0        0.5893     0.5893   \n",
      "      0.3018     0.04881    1.338e-14  0.9541     1.277e-14\n",
      "      0.2691     0.01713    1.0        0.5545     0.5545   \n",
      "      0.257      0.02378    0.9939     0.9492     0.9434   \n",
      "      0.2466     0.02104    1.0        0.998      0.998    \n",
      "      0.176      0.01175    1.0        0.9735     0.9735   \n",
      "Mean Period(s): 0.2698617478021251\n",
      "Standard Dev(s): 0.058190200935614576\n",
      "uploads/painter/nc73201181_ce89324p.zip\n",
      "peak acceleration (cm/s/s): 243.242\n"
     ]
    },
    {
     "name": "stderr",
     "output_type": "stream",
     "text": [
      "100%|█████████▉| 921/922 [00:00<00:00, 1685.78it/s]\n"
     ]
    },
    {
     "name": "stdout",
     "output_type": "stream",
     "text": [
      "Spectral quantities:\n",
      "       T(s)        ζ        EMACO        MPC     EMACO*MPC\n",
      "      0.2703     -2.579e-05  1.0        0.3981     0.3981   \n",
      "      0.2618     0.007842   1.0        0.9318     0.9318   \n",
      "      0.2467     0.02262    3.795e-06  0.8131     3.086e-06\n",
      "      0.2361     0.1017     9.685e-82  0.8797     8.52e-82 \n",
      "      0.2008     0.005787   1.0        0.005389   0.005389 \n",
      "Mean Period(s): 0.24315356281717498\n",
      "Standard Dev(s): 0.024243334052932726\n",
      "uploads/painter/nc73351710_ce89324p.zip\n",
      "peak acceleration (cm/s/s): -53.539\n"
     ]
    },
    {
     "name": "stderr",
     "output_type": "stream",
     "text": [
      "100%|█████████▉| 958/959 [00:00<00:00, 2226.54it/s]\n"
     ]
    },
    {
     "name": "stdout",
     "output_type": "stream",
     "text": [
      "Spectral quantities:\n",
      "       T(s)        ζ        EMACO        MPC     EMACO*MPC\n",
      "      0.2591     0.01328    0.9675     0.166      0.1606   \n",
      "      0.2289     0.02789    6.91e-15   0.9879     6.826e-15\n",
      "      0.2213     -0.001407  1.0        0.9769     0.9769   \n",
      "      0.1937     0.01178    0.2104     0.973      0.2047   \n",
      "      0.1845     0.05817    2.86e-59   0.8257     2.361e-59\n",
      "      0.1666     0.004173   1.0        0.8026     0.8026   \n",
      "Mean Period(s): 0.20902569363233295\n",
      "Standard Dev(s): 0.03080924556458349\n",
      "uploads/painter/nc73666231_ce89324p.zip\n",
      "peak acceleration (cm/s/s): 30.272\n"
     ]
    },
    {
     "name": "stderr",
     "output_type": "stream",
     "text": [
      "100%|█████████▉| 721/722 [00:00<00:00, 2365.06it/s]\n"
     ]
    },
    {
     "name": "stdout",
     "output_type": "stream",
     "text": [
      "Spectral quantities:\n",
      "       T(s)        ζ        EMACO        MPC     EMACO*MPC\n",
      "      0.2451     0.01403    1.0        0.9567     0.9567   \n",
      "      0.2306     0.01718    0.9997     0.9974     0.9971   \n",
      "      0.228      0.003574   1.0        0.9789     0.9789   \n",
      "      0.1901     0.009443   1.0        0.9935     0.9935   \n",
      "      0.1673     0.00475    1.0        0.9749     0.9749   \n",
      "      0.1632     0.002132   1.0        0.9267     0.9267   \n",
      "Mean Period(s): 0.20402535777743638\n",
      "Standard Dev(s): 0.032077922473309914\n",
      "uploads/painter/nc73667866_ce89324p.zip\n",
      "peak acceleration (cm/s/s): 32.846\n"
     ]
    },
    {
     "name": "stderr",
     "output_type": "stream",
     "text": [
      "100%|█████████▉| 737/738 [00:00<00:00, 2787.02it/s]\n"
     ]
    },
    {
     "name": "stdout",
     "output_type": "stream",
     "text": [
      "Spectral quantities:\n",
      "       T(s)        ζ        EMACO        MPC     EMACO*MPC\n",
      "      0.2853     0.00964    0.2633     0.9033     0.2378   \n",
      "      0.2559     0.02785    0.0        0.9856     0.0      \n",
      "      0.2408     -0.01225   1.0        0.8058     0.8058   \n",
      "      0.2328     0.00592    0.8713     0.789      0.6875   \n",
      "      0.2215     0.002273   0.9998     0.9816     0.9815   \n",
      "      0.2202     0.03014    0.0        0.9817     0.0      \n",
      "Mean Period(s): 0.24274841227439167\n",
      "Standard Dev(s): 0.02254007413061363\n",
      "uploads/painter/nc73714181_ce89324p.zip\n",
      "peak acceleration (cm/s/s): 54.457\n"
     ]
    },
    {
     "name": "stderr",
     "output_type": "stream",
     "text": [
      "100%|█████████▉| 784/785 [00:00<00:00, 1698.93it/s]\n"
     ]
    },
    {
     "name": "stdout",
     "output_type": "stream",
     "text": [
      "Spectral quantities:\n",
      "       T(s)        ζ        EMACO        MPC     EMACO*MPC\n",
      "      0.5212     0.09949    2.16e-12   0.6267     1.354e-12\n",
      "      0.2918     0.01962    1.0        0.8663     0.8663   \n",
      "      0.2445     0.01768    1.0        0.9998     0.9998   \n",
      "      0.2432     0.05641    1.666e-18  0.5908     9.844e-19\n",
      "      0.2319     0.01839    1.0        0.9951     0.9951   \n",
      "      0.1868     0.019      1.0        0.2765     0.2765   \n",
      "Mean Period(s): 0.2865766337212989\n",
      "Standard Dev(s): 0.10930126423069479\n",
      "uploads/painter/nc73821036_ce89324p.zip\n",
      "peak acceleration (cm/s/s): -1356.923\n"
     ]
    },
    {
     "name": "stderr",
     "output_type": "stream",
     "text": [
      "100%|█████████▉| 1319/1320 [00:00<00:00, 1981.80it/s]\n"
     ]
    },
    {
     "name": "stdout",
     "output_type": "stream",
     "text": [
      "Spectral quantities:\n",
      "       T(s)        ζ        EMACO        MPC     EMACO*MPC\n",
      "      0.358      0.05019    0.0        0.9536     0.0      \n",
      "      0.3208     0.008196   1.0        0.8336     0.8336   \n",
      "      0.2967     0.001566   1.0        0.7188     0.7188   \n",
      "      0.291      0.09239    0.0        0.9513     0.0      \n",
      "      0.2828     0.01214    0.9991     0.8206     0.8199   \n",
      "      0.2633     0.013      0.8746     0.7552     0.6605   \n",
      "Mean Period(s): 0.3020944897307591\n",
      "Standard Dev(s): 0.030281254759441642\n",
      "uploads/painter/nc73821046_ce89324p.zip\n",
      "peak acceleration (cm/s/s): -139.897\n"
     ]
    },
    {
     "name": "stderr",
     "output_type": "stream",
     "text": [
      "100%|█████████▉| 752/753 [00:00<00:00, 2606.42it/s]\n"
     ]
    },
    {
     "name": "stdout",
     "output_type": "stream",
     "text": [
      "Spectral quantities:\n",
      "       T(s)        ζ        EMACO        MPC     EMACO*MPC\n",
      "      0.2953     0.02018    1.0        0.1671     0.1671   \n",
      "      0.2743     0.004468   1.0        0.3771     0.3771   \n",
      "      0.2643     0.1191     0.0        0.9632     0.0      \n",
      "      0.2519     0.0151     1.0        0.7668     0.7668   \n",
      "      0.2372     0.02289    0.7934     0.9417     0.7472   \n",
      "      0.2038     0.1393     3.497e-111  0.4278     1.496e-111\n",
      "Mean Period(s): 0.2544692198065374\n",
      "Standard Dev(s): 0.028936506290964354\n",
      "uploads/painter/nc73821636_ce89324p.zip\n",
      "peak acceleration (cm/s/s): 50.951\n"
     ]
    },
    {
     "name": "stderr",
     "output_type": "stream",
     "text": [
      "100%|█████████▉| 763/764 [00:00<00:00, 2540.80it/s]\n"
     ]
    },
    {
     "name": "stdout",
     "output_type": "stream",
     "text": [
      "Spectral quantities:\n",
      "       T(s)        ζ        EMACO        MPC     EMACO*MPC\n",
      "      0.2909     0.0306     2.508e-10  0.5854     1.468e-10\n",
      "      0.2805     -0.005656  1.0        0.5424     0.5424   \n",
      "      0.2627     0.01269    0.9985     0.9465     0.945    \n",
      "      0.2441     0.01517    0.5892     0.9497     0.5595   \n",
      "      0.2084     0.02533    8.43e-12   0.993      8.371e-12\n",
      "      0.1749     0.1676     0.0        0.9783     0.0      \n",
      "Mean Period(s): 0.24359639401659283\n",
      "Standard Dev(s): 0.04066397312931412\n",
      "uploads/painter/nc73827571_ce89324p.zip\n",
      "peak acceleration (cm/s/s): -1012.657\n"
     ]
    },
    {
     "name": "stderr",
     "output_type": "stream",
     "text": [
      "100%|█████████▉| 1004/1005 [00:00<00:00, 2061.08it/s]\n"
     ]
    },
    {
     "name": "stdout",
     "output_type": "stream",
     "text": [
      "Spectral quantities:\n",
      "       T(s)        ζ        EMACO        MPC     EMACO*MPC\n",
      "      0.5681     0.002804   1.671e-05  0.8093     1.353e-05\n",
      "      0.5068     -0.03813   1.0        0.958      0.958    \n",
      "      0.3494     0.004191   2.153e-07  0.134      2.886e-08\n",
      "      0.3231     0.01409    0.0        0.905      0.0      \n",
      "      0.2975     0.01762    0.0        0.9912     0.0      \n",
      "      0.2765     -0.002872  0.2129     0.8818     0.1878   \n",
      "Mean Period(s): 0.3868937297587934\n",
      "Standard Dev(s): 0.11021212905976849\n",
      "uploads/painter/nc73890906_ce89324p.zip\n",
      "peak acceleration (cm/s/s): 33.218\n"
     ]
    },
    {
     "name": "stderr",
     "output_type": "stream",
     "text": [
      "100%|█████████▉| 784/785 [00:00<00:00, 2339.60it/s]\n"
     ]
    },
    {
     "name": "stdout",
     "output_type": "stream",
     "text": [
      "Spectral quantities:\n",
      "       T(s)        ζ        EMACO        MPC     EMACO*MPC\n",
      "      0.2619     0.006645   0.0        0.9044     0.0      \n",
      "      0.2436     0.0446     0.0        0.9387     0.0      \n",
      "      0.2389     -0.01331   1.0        0.5243     0.5243   \n",
      "      0.2025     0.07404    4.439e-66  0.9135     4.055e-66\n",
      "      0.1741     0.00406    0.3673     0.7395     0.2716   \n",
      "      0.166      0.07092    3.234e-78  0.983      3.179e-78\n",
      "Mean Period(s): 0.2145088284817788\n",
      "Standard Dev(s): 0.03608837842715488\n",
      "uploads/painter/petrolia91_ce89324p.zip\n",
      "peak acceleration (cm/s/s): 77.736\n",
      "No channels found\n",
      "uploads/painter/PetroliaAftershock1_26Apr1992_CE89324P.ZIP\n",
      "peak acceleration (cm/s/s): 811.154\n",
      "negative dimensions are not allowed\n",
      "uploads/painter/PetroliaAftershock2_26Apr1992_CE89324P.ZIP\n",
      "peak acceleration (cm/s/s): 381.794\n",
      "negative dimensions are not allowed\n",
      "uploads/painter/petrolia_05dec2016_72733405_ce89324p.zip\n",
      "peak acceleration (cm/s/s): 165.262\n"
     ]
    },
    {
     "name": "stderr",
     "output_type": "stream",
     "text": [
      "100%|█████████▉| 1400/1401 [00:01<00:00, 1370.69it/s]\n"
     ]
    },
    {
     "name": "stdout",
     "output_type": "stream",
     "text": [
      "Spectral quantities:\n",
      "       T(s)        ζ        EMACO        MPC     EMACO*MPC\n",
      "      0.2931     0.01175    1.559e-14  0.7691     1.199e-14\n",
      "      0.2528     -0.0273    1.0        0.9427     0.9427   \n",
      "      0.2429     0.05571    1.185e-41  0.9934     1.177e-41\n",
      "      0.2353     0.009679   4.613e-11  0.8353     3.854e-11\n",
      "      0.2116     0.0091     1.485e-10  0.9602     1.426e-10\n",
      "      0.2016     0.005184   1.885e-08  0.5671     1.069e-08\n",
      "Mean Period(s): 0.23954359537503578\n",
      "Standard Dev(s): 0.029701117395321983\n",
      "uploads/painter/petrolia_25apr1992_ce89324p.zip\n",
      "list index out of range\n",
      "uploads/painter/RioDell82_CE89324P.ZIP\n",
      "peak acceleration (cm/s/s): 577.801\n",
      "\n",
      "uploads/painter/riodell_14sep2012_71842075_ce89324p.zip\n"
     ]
    },
    {
     "name": "stderr",
     "output_type": "stream",
     "text": [
      "Only extracted 2 channels, 1 missing.\n"
     ]
    },
    {
     "name": "stdout",
     "output_type": "stream",
     "text": [
      "peak acceleration (cm/s/s): -219.633\n"
     ]
    },
    {
     "name": "stderr",
     "output_type": "stream",
     "text": [
      "100%|█████████▉| 1400/1401 [00:00<00:00, 1614.95it/s]\n"
     ]
    },
    {
     "name": "stdout",
     "output_type": "stream",
     "text": [
      "Spectral quantities:\n",
      "       T(s)        ζ        EMACO        MPC     EMACO*MPC\n",
      "      0.275      0.04702    3.295e-06  0.7965     2.625e-06\n",
      "      0.2452     0.02747    1.0        0.9995     0.9995   \n",
      "      0.24       0.01419    1.0        0.6604     0.6604   \n",
      "      0.2056     0.01041    1.0        0.8832     0.8832   \n",
      "      0.1761     0.08689    7.476e-58  0.7992     5.975e-58\n",
      "      0.1461     0.01121    1.0        0.6138     0.6138   \n",
      "Mean Period(s): 0.21467267280010374\n",
      "Standard Dev(s): 0.04376298304829307\n",
      "uploads/painter/RioDell_14Sep2012_71842255_ce89324p.zip\n",
      "peak acceleration (cm/s/s): -8.814\n",
      "No channels found\n",
      "uploads/painter/riodell_19oct2014_72330211_ce89324p.zip\n",
      "peak acceleration (cm/s/s): -60.641\n"
     ]
    },
    {
     "name": "stderr",
     "output_type": "stream",
     "text": [
      "100%|█████████▉| 761/762 [00:00<00:00, 2340.75it/s]\n"
     ]
    },
    {
     "name": "stdout",
     "output_type": "stream",
     "text": [
      "Spectral quantities:\n",
      "       T(s)        ζ        EMACO        MPC     EMACO*MPC\n",
      "      0.2923     0.008005   0.9995     0.9919     0.9914   \n",
      "      0.2452     0.0038     1.0        0.8573     0.8573   \n",
      "      0.2388     -0.008716  1.0        0.9738     0.9738   \n",
      "      0.2224     0.009194   0.6544     0.9585     0.6272   \n",
      "      0.1854     0.04633    0.0        0.05999    0.0      \n",
      "      0.1633     0.00426    0.9999     0.4923     0.4923   \n",
      "Mean Period(s): 0.22456439759691893\n",
      "Standard Dev(s): 0.041838722979218854\n",
      "uploads/painter/RioDell_Petrolia_Processed_Data.zip\n",
      "peak acceleration (cm/s/s): 30.272\n"
     ]
    },
    {
     "name": "stderr",
     "output_type": "stream",
     "text": [
      "100%|█████████▉| 721/722 [00:00<00:00, 2653.37it/s]\n"
     ]
    },
    {
     "name": "stdout",
     "output_type": "stream",
     "text": [
      "Spectral quantities:\n",
      "       T(s)        ζ        EMACO        MPC     EMACO*MPC\n",
      "      0.2451     0.01403    1.0        0.9567     0.9567   \n",
      "      0.2306     0.01718    0.9997     0.9974     0.9971   \n",
      "      0.228      0.003574   1.0        0.9789     0.9789   \n",
      "      0.1901     0.009443   1.0        0.9935     0.9935   \n",
      "      0.1673     0.00475    1.0        0.9749     0.9749   \n",
      "      0.1632     0.002132   1.0        0.9267     0.9267   \n",
      "Mean Period(s): 0.20402535777743638\n",
      "Standard Dev(s): 0.032077922473309914\n",
      "uploads/painter/Trinidad-Offshore_08Nov1980_CE89324p.ZIP\n",
      "peak acceleration (cm/s/s): -326.247\n"
     ]
    },
    {
     "name": "stderr",
     "output_type": "stream",
     "text": [
      "Only extracted 1 channels, 2 missing.\n",
      " 97%|█████████▋| 38/39 [00:00<00:00, 29993.14it/s]"
     ]
    },
    {
     "name": "stdout",
     "output_type": "stream",
     "text": [
      "Spectral quantities:\n",
      "       T(s)        ζ        EMACO        MPC     EMACO*MPC\n",
      "      0.5037     0.3051     0.0        1.0        0.0      \n",
      "      0.4376     0.08908    1.0        1.0        1.0      \n",
      "      0.4191     0.3924     8.053e-29  1.0        8.053e-29\n",
      "      0.3289     0.2036     0.0        1.0        0.0      \n",
      "Mean Period(s): 0.4223397844807927\n",
      "Standard Dev(s): 0.06243795472282476\n"
     ]
    },
    {
     "name": "stderr",
     "output_type": "stream",
     "text": [
      "\n"
     ]
    },
    {
     "data": {
      "text/plain": [
       "[{'freq': 4.011802053113038,\n",
       "  'damp': -0.004813843306062524,\n",
       "  'modeshape': array([-0.00505015+0.03837154j,  0.00012459+0.04997484j,\n",
       "         -0.00019496+0.01187357j]),\n",
       "  'cnd': 1.2053813503180704,\n",
       "  'energy_condensed_emaco': 0.9999999999994221,\n",
       "  'mpc': 0.9838660376058102,\n",
       "  'distance': -0.051443052746744024},\n",
       " {'freq': 2.9098305467567798,\n",
       "  'damp': 0.062363497407253415,\n",
       "  'modeshape': array([0.12751218+0.03323861j, 0.23356202-0.01276542j,\n",
       "         0.1661325 -0.00830496j]),\n",
       "  'cnd': 1.211285605782191,\n",
       "  'energy_condensed_emaco': 0.9999999999997208,\n",
       "  'mpc': 0.9471196459758631,\n",
       "  'distance': -1.077224677106074},\n",
       " {'freq': 3.035818273922013,\n",
       "  'damp': 0.06044690636110912,\n",
       "  'modeshape': array([0.00475533-0.04179163j, 0.10519837+0.07871083j,\n",
       "         0.08098019+0.06440362j]),\n",
       "  'cnd': 1.6036897391830875,\n",
       "  'energy_condensed_emaco': 0.9999999999997912,\n",
       "  'mpc': 0.8347097699703233,\n",
       "  'distance': -0.959947692469493},\n",
       " {'freq': 4.153023409466451,\n",
       "  'damp': 0.0073231523480792714,\n",
       "  'modeshape': array([-0.05209485-0.02026404j, -0.06061671-0.08110625j,\n",
       "          0.01107356-0.0378566j ]),\n",
       "  'cnd': 1.2418295825575818,\n",
       "  'energy_condensed_emaco': 0.9999999994293163,\n",
       "  'mpc': 0.5694792201667639,\n",
       "  'distance': 0.08001431387195265},\n",
       " {'freq': 4.0545992200220535,\n",
       "  'damp': 0.02103939640103981,\n",
       "  'modeshape': array([ 2.26771625e-05+0.10316166j,  6.45746931e-03+0.14593364j,\n",
       "         -2.31215229e-04+0.06059088j]),\n",
       "  'cnd': 1.5314352007708325,\n",
       "  'energy_condensed_emaco': 0.9999522523821507,\n",
       "  'mpc': 0.9980468572343963,\n",
       "  'distance': -0.01160486533746376},\n",
       " {'freq': 4.053009991306965,\n",
       "  'damp': 0.022620625431930858,\n",
       "  'modeshape': array([0.00077832-0.09138167j, 0.04791707-0.2045986j ,\n",
       "         0.08591956-0.10526155j]),\n",
       "  'cnd': 1.492110579419675,\n",
       "  'energy_condensed_emaco': 3.7953153224911696e-06,\n",
       "  'mpc': 0.8131323002238001,\n",
       "  'distance': -0.01308421539637096},\n",
       " {'freq': 3.8593737003335393,\n",
       "  'damp': 0.013278075833778859,\n",
       "  'modeshape': array([0.01629985-0.01014365j, 0.05043317-0.00964254j,\n",
       "         0.01075075-0.05492762j]),\n",
       "  'cnd': 1.0402024598283346,\n",
       "  'energy_condensed_emaco': 0.9674545200033748,\n",
       "  'mpc': 0.16603800310171374,\n",
       "  'distance': -0.1933325684108829},\n",
       " {'freq': 4.080684390381107,\n",
       "  'damp': 0.014031061861748571,\n",
       "  'modeshape': array([0.06861138+0.0091175j , 0.17260683+0.02377622j,\n",
       "         0.08255235+0.03553806j]),\n",
       "  'cnd': 1.1100115335753162,\n",
       "  'energy_condensed_emaco': 0.999999912452471,\n",
       "  'mpc': 0.9566626308904496,\n",
       "  'distance': 0.012676786473185625},\n",
       " {'freq': 4.153245587700852,\n",
       "  'damp': -0.012245826591912012,\n",
       "  'modeshape': array([ 0.01140239+0.01430086j,  0.00746257+0.02615288j,\n",
       "         -0.00882216-0.0071201j ]),\n",
       "  'cnd': 1.0506350038926704,\n",
       "  'energy_condensed_emaco': 0.9999999999992626,\n",
       "  'mpc': 0.8058041204960291,\n",
       "  'distance': 0.08022113078951001},\n",
       " {'freq': 4.089971729139893,\n",
       "  'damp': 0.017684482389776705,\n",
       "  'modeshape': array([-0.05004427+0.05645912j, -0.07678375+0.08403726j,\n",
       "         -0.01453582+0.01637308j]),\n",
       "  'cnd': 1.7552330430872156,\n",
       "  'energy_condensed_emaco': 0.9999999999997484,\n",
       "  'mpc': 0.9998026192131257,\n",
       "  'distance': 0.021322002236943218},\n",
       " {'freq': 3.7972971515787695,\n",
       "  'damp': 0.01299946467329703,\n",
       "  'modeshape': array([ 0.00605094+0.02480235j, -0.02230725-0.02120185j,\n",
       "         -0.00562947-0.06194398j]),\n",
       "  'cnd': 1.2658136692959452,\n",
       "  'energy_condensed_emaco': 0.8746237666751772,\n",
       "  'mpc': 0.7551858800384978,\n",
       "  'distance': -0.25111716869228323},\n",
       " {'freq': 3.9705235100206857,\n",
       "  'damp': 0.015100932203181443,\n",
       "  'modeshape': array([0.05051669-0.00070941j, 0.12464504-0.07643372j,\n",
       "         0.11687298-0.00540023j]),\n",
       "  'cnd': 1.162441794141805,\n",
       "  'energy_condensed_emaco': 0.9999999641135373,\n",
       "  'mpc': 0.7668315442400899,\n",
       "  'distance': -0.08986761340028465},\n",
       " {'freq': 4.096525164418632,\n",
       "  'damp': 0.015168424712426926,\n",
       "  'modeshape': array([0.11873219+0.01122767j, 0.17691426+0.0248737j ,\n",
       "         0.05746694-0.01852826j]),\n",
       "  'cnd': 1.111222207680357,\n",
       "  'energy_condensed_emaco': 0.5891821133147666,\n",
       "  'mpc': 0.9496691725640997,\n",
       "  'distance': 0.02742233554554864},\n",
       " {'freq': 3.6166128634468104,\n",
       "  'damp': -0.0028717732216729103,\n",
       "  'modeshape': array([-0.04171781-0.01121467j, -0.07107631-0.06294551j,\n",
       "         -0.04252302-0.05066528j]),\n",
       "  'cnd': 1.1279178710300366,\n",
       "  'energy_condensed_emaco': 0.2129486471466893,\n",
       "  'mpc': 0.8817770870253676,\n",
       "  'distance': -0.41930901531185494},\n",
       " {'freq': 4.104866379289975,\n",
       "  'damp': 0.04460157305033536,\n",
       "  'modeshape': array([-0.05019873-0.14019925j, -0.08908733-0.29133375j,\n",
       "          0.01058041-0.122748j  ]),\n",
       "  'cnd': 1.1249493923570402,\n",
       "  'energy_condensed_emaco': 0.0,\n",
       "  'mpc': 0.9387366961740349,\n",
       "  'distance': 0.03518684206001191},\n",
       " {'freq': 4.11661798404518,\n",
       "  'damp': 0.05571095909269089,\n",
       "  'modeshape': array([0.16523492+0.05309108j, 0.20307462+0.08380509j,\n",
       "         0.02900125+0.01447858j]),\n",
       "  'cnd': 1.272549544024243,\n",
       "  'energy_condensed_emaco': 1.185229004994817e-41,\n",
       "  'mpc': 0.9934149071006148,\n",
       "  'distance': 0.04612594542619839},\n",
       " {'freq': 4.077720330599852,\n",
       "  'damp': 0.027472186192189062,\n",
       "  'modeshape': array([-0.09089106+0.02580395j, -0.17512082+0.04552665j,\n",
       "         -0.08301399+0.02372952j]),\n",
       "  'cnd': 1.3166561059683906,\n",
       "  'energy_condensed_emaco': 0.999985261977733,\n",
       "  'mpc': 0.9995246015326891,\n",
       "  'distance': 0.009917660634108821},\n",
       " {'freq': 4.077982042719009,\n",
       "  'damp': 0.003799764760045227,\n",
       "  'modeshape': array([0.02680995+0.01118928j, 0.07886973+0.0497678j ,\n",
       "         0.06242146+0.00814311j]),\n",
       "  'cnd': 1.0414244599856481,\n",
       "  'energy_condensed_emaco': 0.9999943156053471,\n",
       "  'mpc': 0.8572569690024144,\n",
       "  'distance': 0.010161278078984114},\n",
       " {'freq': 4.080684390381107,\n",
       "  'damp': 0.014031061861748571,\n",
       "  'modeshape': array([0.06861138+0.0091175j , 0.17260683+0.02377622j,\n",
       "         0.08255235+0.03553806j]),\n",
       "  'cnd': 1.1100115335753162,\n",
       "  'energy_condensed_emaco': 0.999999912452471,\n",
       "  'mpc': 0.9566626308904496,\n",
       "  'distance': 0.012676786473185625},\n",
       " {'freq': 3.0401833919137533,\n",
       "  'damp': 0.20362203195226852,\n",
       "  'modeshape': array([0.06978781-0.01388505j]),\n",
       "  'cnd': 5.186651913384536,\n",
       "  'energy_condensed_emaco': 0.0,\n",
       "  'mpc': 1.0,\n",
       "  'distance': -0.9558843770405004}]"
      ]
     },
     "execution_count": 5,
     "metadata": {},
     "output_type": "execute_result"
    }
   ],
   "source": [
    "files = list_files(directory, pattern)\n",
    "event_modes = []\n",
    "for file in files:\n",
    "    print(file)\n",
    "    try:\n",
    "        event = quakeio.read(file, exclusions=[\"*filter*\", \"*date*\"])\n",
    "        print(\"peak acceleration (cm/s/s):\", event[\"peak_accel\"])\n",
    "        inputs, dt = extract_channels(event, data_conf[\"inputs\"], decimate=data_conf[\"d\"])\n",
    "        outpts, dt = extract_channels(event, data_conf[\"outputs\"], decimate=data_conf[\"d\"])\n",
    "        realization,Observability = ssid.system(method=\"srim\", inputs=inputs, outputs=outpts, **conf)\n",
    "    except Exception as e:\n",
    "        print(e)\n",
    "        continue\n",
    "    ss_modes = modal.system_modes(realization,dt,nt=inputs.shape[1])\n",
    "    event_modes.append(list(ss_modes.values()))\n",
    "    print_modes(ss_modes)\n",
    "\n",
    "event_frequencies = mode_statistics(event_modes, \"freq\")\n",
    "event_frequencies"
   ]
  },
  {
   "attachments": {},
   "cell_type": "markdown",
   "id": "26cb9df2",
   "metadata": {},
   "source": [
    "### Painter St Rio Dell Hwy 101 89324\n",
    "![Painter St Rio Dell Hwy 101 89324 Sensors 1](./figures/89324_Page_1.png)\n",
    "![Painter St Rio Dell Hwy 101 89324 Sensors 2](./figures/89324_Page_2.png)"
   ]
  },
  {
   "attachments": {},
   "cell_type": "markdown",
   "id": "5aa3e0a4",
   "metadata": {},
   "source": [
    "### Meloland Hwy 8 El Centro 01336\n",
    "![Meloland Hwy 8 El Centro 01336 Sensors](./figures/01336.png)"
   ]
  },
  {
   "attachments": {},
   "cell_type": "markdown",
   "id": "9db25c05",
   "metadata": {},
   "source": [
    "### Lake Crowley Hwy 395 54730\n",
    "![Lake Crowley Hwy 395 54730 Sensors](./figures/54730.png)"
   ]
  },
  {
   "attachments": {},
   "cell_type": "markdown",
   "id": "95da6393",
   "metadata": {},
   "source": [
    "### Ridgecrest 33472\n",
    "![Ridgecrest 33472 Sensors](./figures/33742.png)"
   ]
  },
  {
   "attachments": {},
   "cell_type": "markdown",
   "id": "9a130455",
   "metadata": {},
   "source": [
    "### Capistrano 13795\n",
    "![Capistrano 13795 Sensors](./figures/13795.png)"
   ]
  },
  {
   "attachments": {},
   "cell_type": "markdown",
   "id": "7c3e633c",
   "metadata": {},
   "source": [
    "### Hayward Hwy 580-238 58658\n",
    "![Hayward Hwy 580-238 58658 Sensors 1](./figures/58658_Page_1.png)\n",
    "![Hayward Hwy 580-238 58658 Sensors 2](./figures/58658_Page_2.png)"
   ]
  },
  {
   "attachments": {},
   "cell_type": "markdown",
   "id": "ed0dbe00",
   "metadata": {},
   "source": [
    "### San Bernardino I10-215 23631\n",
    "![San Bernardino I10-215 Sensors](./figures/23631.png)"
   ]
  }
 ],
 "metadata": {
  "kernelspec": {
   "display_name": "Python 3.8.5 ('cs189sp22')",
   "language": "python",
   "name": "python3"
  },
  "language_info": {
   "codemirror_mode": {
    "name": "ipython",
    "version": 3
   },
   "file_extension": ".py",
   "mimetype": "text/x-python",
   "name": "python",
   "nbconvert_exporter": "python",
   "pygments_lexer": "ipython3",
   "version": "3.9.10"
  },
  "vscode": {
   "interpreter": {
    "hash": "b944da275fc40d5f9e33b056094a1f7a0fbd6b43847c12427d377e8ad9deab4f"
   }
  }
 },
 "nbformat": 4,
 "nbformat_minor": 5
}
