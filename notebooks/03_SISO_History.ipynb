{
 "cells": [
  {
   "attachments": {},
   "cell_type": "markdown",
   "metadata": {},
   "source": [
    "# SISO System Identification for Ground Motion Events"
   ]
  },
  {
   "cell_type": "code",
   "execution_count": 1,
   "metadata": {},
   "outputs": [],
   "source": [
    "import numpy as np\n",
    "from utilities.printing import *\n",
    "import ssid\n",
    "from ssid import modal\n",
    "from utilities.config import Config"
   ]
  },
  {
   "attachments": {},
   "cell_type": "markdown",
   "metadata": {},
   "source": [
    "## Upload a Dataset and Identify Spectral Quantities"
   ]
  },
  {
   "cell_type": "code",
   "execution_count": 2,
   "metadata": {},
   "outputs": [],
   "source": [
    "inputs = np.loadtxt(\"./uploads/opensees_sdof/Accgrd_set1.csv\", delimiter=\",\")\n",
    "outputs = np.loadtxt(\"./uploads/opensees_sdof/Accrsp_set1.csv\", delimiter=\",\")\n",
    "# inputs = np.loadtxt(\"./uploads/opensees_sdof/Accgrd_set2.csv\", delimiter=\",\")\n",
    "# outputs = np.loadtxt(\"./uploads/opensees_sdof/Accrsp_set2.csv\", delimiter=\",\")\n",
    "t = inputs[0,:]\n",
    "dt = t[1] - t[0]"
   ]
  },
  {
   "attachments": {},
   "cell_type": "markdown",
   "metadata": {},
   "source": [
    "### Method Inputs\n",
    "\n",
    "See [`01_SISO_Intro`](01_SISO_Intro) for parameter definitions"
   ]
  },
  {
   "cell_type": "code",
   "execution_count": 3,
   "metadata": {},
   "outputs": [],
   "source": [
    "# Set parameters\n",
    "conf = Config()\n",
    "conf.m  = 300\n",
    "conf.no = 140\n",
    "conf.nc = 140\n",
    "conf.r  =   2\n",
    "conf.a  =   0\n",
    "conf.b  =   0\n",
    "conf.l  =  10\n",
    "conf.g  =   3"
   ]
  },
  {
   "attachments": {},
   "cell_type": "markdown",
   "metadata": {},
   "source": [
    "### Perform System Identification"
   ]
  },
  {
   "cell_type": "code",
   "execution_count": 5,
   "metadata": {},
   "outputs": [
    {
     "name": "stderr",
     "output_type": "stream",
     "text": [
      "100%|█████████▉| 8060/8061 [00:00<00:00, 60899.04it/s]\n",
      "100%|█████████▉| 8060/8061 [00:00<00:00, 66880.51it/s]\n",
      "100%|█████████▉| 8060/8061 [00:00<00:00, 70874.24it/s]\n",
      "100%|█████████▉| 8060/8061 [00:00<00:00, 73434.19it/s]\n",
      "100%|█████████▉| 8060/8061 [00:00<00:00, 59488.02it/s]\n",
      "100%|█████████▉| 8060/8061 [00:00<00:00, 63730.24it/s]\n",
      "100%|█████████▉| 8060/8061 [00:00<00:00, 65625.56it/s]\n",
      "100%|█████████▉| 8060/8061 [00:00<00:00, 61792.11it/s]\n",
      "100%|█████████▉| 8060/8061 [00:00<00:00, 65605.06it/s]\n",
      "100%|█████████▉| 8060/8061 [00:00<00:00, 70856.26it/s]\n",
      "100%|█████████▉| 8060/8061 [00:00<00:00, 59676.62it/s]\n"
     ]
    }
   ],
   "source": [
    "spred = np.empty((inputs.shape[0]-1, 2))\n",
    "\n",
    "for i,motion in enumerate(inputs[1:,:]):\n",
    "    A,B,C,D = ssid.system(method=\"srim\", inputs=motion, outputs=outputs[i+1,:], **conf)\n",
    "    ss_modes = modal.system_modes((A,B,C,D),dt)\n",
    "    spred[i,:] = [[1/v[\"freq\"], v[\"damp\"]] for v in ss_modes.values()][0]  # save predicted period and damping\n",
    "\n",
    "np.savetxt(\"output/set1_srim.csv\", spred)\n",
    "print(\"   period(s)  damping\\n\", spred)"
   ]
  }
 ],
 "metadata": {
  "kernelspec": {
   "display_name": "base",
   "language": "python",
   "name": "python3"
  },
  "language_info": {
   "codemirror_mode": {
    "name": "ipython",
    "version": 3
   },
   "file_extension": ".py",
   "mimetype": "text/x-python",
   "name": "python",
   "nbconvert_exporter": "python",
   "pygments_lexer": "ipython3",
   "version": "3.9.10"
  },
  "orig_nbformat": 4
 },
 "nbformat": 4,
 "nbformat_minor": 2
}
