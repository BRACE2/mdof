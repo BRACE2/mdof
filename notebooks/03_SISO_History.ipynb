{
 "cells": [
  {
   "attachments": {},
   "cell_type": "markdown",
   "metadata": {},
   "source": [
    "# SISO System Identification for Ground Motion Events"
   ]
  },
  {
   "cell_type": "code",
   "execution_count": 1,
   "metadata": {},
   "outputs": [],
   "source": [
    "import numpy as np\n",
    "from utilities.printing import *\n",
    "import ssid\n",
    "from ssid import modes\n",
    "from control.matlab import ss, lsim\n",
    "from collections import defaultdict\n",
    "import sdof\n",
    "from quakeio.elcentro import accel as elcentro"
   ]
  },
  {
   "attachments": {},
   "cell_type": "markdown",
   "metadata": {},
   "source": [
    "## Upload a Dataset and Identify Spectral Quantities"
   ]
  },
  {
   "cell_type": "code",
   "execution_count": 2,
   "metadata": {},
   "outputs": [],
   "source": [
    "input = np.loadtxt(\"./uploads/opensees_sdof/Accgrd_set1.csv\", delimiter=\",\")\n",
    "output = np.loadtxt(\"./uploads/opensees_sdof/Accrsp_set1.csv\", delimiter=\",\")\n",
    "# input = np.loadtxt(\"./uploads/opensees_sdof/Accgrd_set2.csv\", delimiter=\",\")\n",
    "# output = np.loadtxt(\"./uploads/opensees_sdof/Accrsp_set2.csv\", delimiter=\",\")\n",
    "t = input[0,:]\n",
    "dt = t[1] - t[0]"
   ]
  },
  {
   "attachments": {},
   "cell_type": "markdown",
   "metadata": {},
   "source": [
    "### Method Inputs\n",
    "\n",
    "See [`01_SISO_Intro`](01_SISO_Intro) for parameter definitions"
   ]
  },
  {
   "cell_type": "code",
   "execution_count": null,
   "metadata": {},
   "outputs": [],
   "source": [
    "# Set parameters\n",
    "conf = {\n",
    "    \"m\":  300,\n",
    "    \"no\": 140,\n",
    "    \"nc\": 140,\n",
    "    \"r\":  2,\n",
    "    \"a\":  0,\n",
    "    \"b\":  0,\n",
    "    \"l\":  10,\n",
    "    \"g\":  3,\n",
    "    \"ns\": 140\n",
    "}"
   ]
  },
  {
   "attachments": {},
   "cell_type": "markdown",
   "metadata": {},
   "source": [
    "### Perform System Identification"
   ]
  },
  {
   "cell_type": "code",
   "execution_count": 5,
   "metadata": {},
   "outputs": [
    {
     "name": "stdout",
     "output_type": "stream",
     "text": [
      "   period(s)  damping\n",
      " [[0.41080027 0.02340861]\n",
      " [0.41080028 0.02340847]\n",
      " [0.41080027 0.02340856]\n",
      " [0.41080019 0.02340856]\n",
      " [0.41080029 0.02340851]\n",
      " [0.41080029 0.02340858]\n",
      " [0.41080021 0.0234084 ]\n",
      " [0.41080027 0.02340857]\n",
      " [0.41080023 0.02340843]\n",
      " [0.41080023 0.02340838]\n",
      " [0.41080029 0.02340854]]\n"
     ]
    }
   ],
   "source": [
    "spred = np.empty((input.shape[0]-1, 2))\n",
    "\n",
    "for i,motion in enumerate(input[1:,:]):\n",
    "    A,B,C,D = ssid.system(method=\"srim\", input=motion, output=output[i+1,:], **conf)\n",
    "    ss_modes = modes.modes((A,B,C,D),dt)\n",
    "    spred[i,:] = [[1/v[\"freq\"], v[\"damp\"]] for v in ss_modes.values()][0]  # save predicted period and damping\n",
    "\n",
    "\n",
    "print(\"   period(s)  damping\\n\", spred)\n",
    "np.savetxt(\"output/set1_srim.csv\", spred)"
   ]
  },
  {
   "cell_type": "code",
   "execution_count": null,
   "metadata": {},
   "outputs": [],
   "source": []
  }
 ],
 "metadata": {
  "kernelspec": {
   "display_name": "base",
   "language": "python",
   "name": "python3"
  },
  "language_info": {
   "codemirror_mode": {
    "name": "ipython",
    "version": 3
   },
   "file_extension": ".py",
   "mimetype": "text/x-python",
   "name": "python",
   "nbconvert_exporter": "python",
   "pygments_lexer": "ipython3",
   "version": "3.9.10"
  },
  "orig_nbformat": 4
 },
 "nbformat": 4,
 "nbformat_minor": 2
}
