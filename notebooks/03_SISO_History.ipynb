{
 "cells": [
  {
   "attachments": {},
   "cell_type": "markdown",
   "metadata": {},
   "source": [
    "# SISO System Identification for Ground Motion Events"
   ]
  },
  {
   "cell_type": "code",
   "execution_count": 1,
   "metadata": {},
   "outputs": [],
   "source": [
    "import numpy as np\n",
    "from utilities.printing import *\n",
    "import ssid\n",
    "from ssid import modal, spec\n",
    "from utilities.config import Config"
   ]
  },
  {
   "attachments": {},
   "cell_type": "markdown",
   "metadata": {},
   "source": [
    "## Upload a Dataset and Identify Spectral Quantities"
   ]
  },
  {
   "cell_type": "code",
   "execution_count": 2,
   "metadata": {},
   "outputs": [],
   "source": [
    "inputs = np.loadtxt(\"./uploads/opensees_sdof/Accgrd_set1.csv\", delimiter=\",\")\n",
    "outputs = np.loadtxt(\"./uploads/opensees_sdof/Accrsp_set1.csv\", delimiter=\",\")\n",
    "# inputs = np.loadtxt(\"./uploads/opensees_sdof/Accgrd_set2.csv\", delimiter=\",\")\n",
    "# outputs = np.loadtxt(\"./uploads/opensees_sdof/Accrsp_set2.csv\", delimiter=\",\")\n",
    "t = inputs[0,:]\n",
    "dt = t[1] - t[0]"
   ]
  },
  {
   "attachments": {},
   "cell_type": "markdown",
   "metadata": {},
   "source": [
    "### Method Inputs\n",
    "\n",
    "See [`01_SISO_Intro`](01_SISO_Intro) for parameter definitions"
   ]
  },
  {
   "cell_type": "code",
   "execution_count": 3,
   "metadata": {},
   "outputs": [],
   "source": [
    "# Set parameters\n",
    "conf = Config()\n",
    "conf.m  = 300\n",
    "conf.no = 140\n",
    "conf.nc = 140\n",
    "conf.r  =   2\n",
    "conf.a  =   0\n",
    "conf.b  =   0\n",
    "conf.l  =  10\n",
    "conf.g  =   3\n",
    "conf.damping = 0.0001\n",
    "conf.period_band = (0.1, 3.0)"
   ]
  },
  {
   "attachments": {},
   "cell_type": "markdown",
   "metadata": {},
   "source": [
    "### Perform System Identification"
   ]
  },
  {
   "cell_type": "code",
   "execution_count": 4,
   "metadata": {},
   "outputs": [
    {
     "name": "stderr",
     "output_type": "stream",
     "text": [
      "100%|█████████▉| 8060/8061 [00:00<00:00, 28671.12it/s]\n",
      "/mnt/c/Users/16507/Documents/GitHub/SystemIdentification/src/ssid/spec.py:17: RuntimeWarning: divide by zero encountered in true_divide\n",
      "  return (1/input_transform[0], output_transform[1]/input_transform[1])\n",
      "100%|█████████▉| 8060/8061 [00:00<00:00, 32554.53it/s]\n",
      "100%|█████████▉| 8060/8061 [00:00<00:00, 33013.31it/s]\n",
      "100%|█████████▉| 8060/8061 [00:00<00:00, 24543.59it/s]\n",
      "100%|█████████▉| 8060/8061 [00:00<00:00, 31344.74it/s]\n",
      "100%|█████████▉| 8060/8061 [00:00<00:00, 29743.70it/s]\n",
      "100%|█████████▉| 8060/8061 [00:00<00:00, 19744.22it/s]\n",
      "100%|█████████▉| 8060/8061 [00:00<00:00, 32902.59it/s]\n",
      "100%|█████████▉| 8060/8061 [00:00<00:00, 30170.51it/s]\n",
      "100%|█████████▉| 8060/8061 [00:00<00:00, 32459.69it/s]\n",
      "100%|█████████▉| 8060/8061 [00:00<00:00, 35468.57it/s]\n"
     ]
    },
    {
     "name": "stdout",
     "output_type": "stream",
     "text": [
      "   period(s)  damping\n",
      " [[0.41080027 0.02340861]\n",
      " [0.41080028 0.02340847]\n",
      " [0.41080027 0.02340856]\n",
      " [0.41080019 0.02340856]\n",
      " [0.41080029 0.02340851]\n",
      " [0.41080029 0.02340858]\n",
      " [0.41080021 0.0234084 ]\n",
      " [0.41080027 0.02340857]\n",
      " [0.41080023 0.02340843]\n",
      " [0.41080023 0.02340838]\n",
      " [0.41080029 0.02340854]]\n"
     ]
    },
    {
     "data": {
      "image/png": "[encoded data removed]",
      "text/plain": [
       "<Figure size 432x288 with 1 Axes>"
      ]
     },
     "metadata": {
      "needs_background": "light"
     },
     "output_type": "display_data"
    }
   ],
   "source": [
    "mode_predictions = np.empty((inputs.shape[0]-1, 2))\n",
    "\n",
    "for i,motion in enumerate(inputs[1:,:]):\n",
    "    A,B,C,D = ssid.system(method=\"srim\", inputs=motion, outputs=outputs[i+1,:], **conf)\n",
    "    ss_modes = modal.system_modes((A,B,C,D),dt)\n",
    "    mode_predictions[i,:] = [[1/v[\"freq\"], v[\"damp\"]] for v in ss_modes.values()][0]  # save predicted period and damping\n",
    "    periods, amplitudes = spec.fourier_transfer(inputs=motion, outputs=outputs[i+1,:], step=dt, **conf)\n",
    "    plt.plot(periods, amplitudes, color=\"blue\", label=[\"Fourier\" if i==0 else None][0])\n",
    "    periods, amplitudes = spec.response_transfer(inputs=motion, outputs=outputs[i+1,:], step=dt, **conf)\n",
    "    plt.plot(periods, amplitudes, color=\"green\", label=[\"Response Spectrum\" if i==0 else None][0])\n",
    "plt.legend()\n",
    "np.savetxt(\"output/set1_srim.csv\", mode_predictions)\n",
    "print(\"   period(s)  damping\\n\", mode_predictions)"
   ]
  }
 ],
 "metadata": {
  "kernelspec": {
   "display_name": "base",
   "language": "python",
   "name": "python3"
  },
  "language_info": {
   "codemirror_mode": {
    "name": "ipython",
    "version": 3
   },
   "file_extension": ".py",
   "mimetype": "text/x-python",
   "name": "python",
   "nbconvert_exporter": "python",
   "pygments_lexer": "ipython3",
   "version": "3.9.10"
  },
  "orig_nbformat": 4
 },
 "nbformat": 4,
 "nbformat_minor": 2
}
