{
 "cells": [
  {
   "cell_type": "code",
   "execution_count": 1,
   "id": "ff805e39-0a88-4e4f-90fe-75f5e3208289",
   "metadata": {},
   "outputs": [],
   "source": [
    "import quakeio\n",
    "import ssid\n",
    "\n",
    "from pathlib import Path\n",
    "import numpy as np"
   ]
  },
  {
   "cell_type": "code",
   "execution_count": 2,
   "id": "3f886615-f4a7-4415-aa43-212e1ec5bcca",
   "metadata": {},
   "outputs": [],
   "source": [
    "# config = dict(\n",
    "#     # Transverse\n",
    "#     bridge  = \"meloland\",\n",
    "#     inputs  = [2],\n",
    "#     outputs = [7]\n",
    "# )\n",
    "config = dict(\n",
    "    # Transverse\n",
    "    bridge  = \"painter\",\n",
    "    # inputs  = [3],\n",
    "    # outputs = [7]    \n",
    "    inputs  = [17, 3, 20],\n",
    "    outputs = [ 9, 7 , 4]\n",
    ")\n",
    "# config = dict(# Case 2\n",
    "#     bridge  = \"hayward\",\n",
    "#     inputs  = [3,6,17],\n",
    "#     outputs = [12, 14, 19]\n",
    "# )\n",
    "# config = dict( # Case 5\n",
    "#     bridge  = \"hayward\",\n",
    "#     inputs  = [1],\n",
    "#     outputs = [16]\n",
    "# )\n",
    "# config = dict(\n",
    "#     inputs  = \"2 7 25\".split(),\n",
    "#     outputs = \"18 13 15 23 20\".split()\n",
    "# )"
   ]
  },
  {
   "cell_type": "code",
   "execution_count": 5,
   "id": "2374b59b-7239-4190-b64c-26b2615d7fbb",
   "metadata": {
    "tags": []
   },
   "outputs": [
    {
     "name": "stderr",
     "output_type": "stream",
     "text": [
      "100%|██████████████████████████████████████████████████████████████████████████████████████████████████████████████████████████████████████████████████████████████████████▉| 6461/6462 [00:06<00:00, 1046.65it/s]\n"
     ]
    },
    {
     "name": "stdout",
     "output_type": "stream",
     "text": [
      "\n",
      "Spectral quantities:\n",
      "       T      𝑓       ζ\n",
      "    0.1622  6.163   -0.02026\n",
      "    0.2056  4.865   0.01334\n",
      "    0.2441  4.097   -0.004798\n",
      "    0.2441  4.097   -0.004798\n",
      "    0.2315  4.32    0.04823\n",
      "    0.2315  4.32    0.04823\n",
      "    0.1954  5.119   0.02411\n",
      "    0.1954  5.119   0.02411\n",
      "\n",
      "failed Trinidad-Offshore_08Nov1980_CE89324p.zip\n"
     ]
    },
    {
     "name": "stderr",
     "output_type": "stream",
     "text": [
      "100%|███████████████████████████████████████████████████████████████████████████████████████████████████████████████████████████████████████████████████████████████████████▉| 8067/8068 [00:09<00:00, 890.15it/s]"
     ]
    },
    {
     "name": "stdout",
     "output_type": "stream",
     "text": [
      "\n",
      "Spectral quantities:\n",
      "       T      𝑓       ζ\n",
      "    0.1827  5.473   0.03533\n",
      "    0.2704  3.698   0.01837\n",
      "    0.1949  5.13    0.01672\n",
      "    0.1949  5.13    0.01672\n",
      "    0.2328  4.295   -0.01213\n",
      "    0.2328  4.295   -0.01213\n",
      "    0.2584  3.869   0.08433\n",
      "    0.2584  3.869   0.08433\n",
      "\n"
     ]
    },
    {
     "name": "stderr",
     "output_type": "stream",
     "text": [
      "\n"
     ]
    }
   ],
   "source": [
    "# for file in (Path(\"/mnt/d/CSMIP\")/config[\"bridge\"]).glob(\"*.zip\"):\n",
    "for file in (Path(\"./\")/config[\"bridge\"]).glob(\"*.zip\"):\n",
    "    event = quakeio.read(file)\n",
    "    try:\n",
    "        inputs = [\n",
    "            event.match(\"l\", station_channel=str(chan)).accel\n",
    "            for chan in config[\"inputs\"]\n",
    "        ]\n",
    "        outpts = [\n",
    "            event.match(\"l\", station_channel=str(chan)).accel\n",
    "            for chan in config[\"outputs\"]\n",
    "        ]\n",
    "        dt = inputs[0][\"time_step\"]\n",
    "        A,B,C,D = ssid.srim(inputs, outpts, dt=dt, mro=100,orm=10,verbose=True)\n",
    "    except:\n",
    "        print(f\"failed {file.name}\")\n",
    "        \n",
    "    else:\n",
    "        \n",
    "        freqdmpSRIM, modeshapeSRIM, *_ = ssid.ComposeModes(dt, A, B, C, D)\n",
    "        # Add validation\n",
    "        print(ssid.IdentifiedSystem(dt, A, B, C, D))\n",
    "        # print(file, np.real(1/freqdmpSRIM[:,0]))"
   ]
  },
  {
   "cell_type": "code",
   "execution_count": null,
   "id": "05325fd7-c62f-4621-bb6b-4ad1e093f13a",
   "metadata": {},
   "outputs": [],
   "source": []
  },
  {
   "cell_type": "code",
   "execution_count": null,
   "id": "c3c1919b-fee1-4e39-b1c9-5932e6eb1c02",
   "metadata": {},
   "outputs": [],
   "source": []
  }
 ],
 "metadata": {
  "kernelspec": {
   "display_name": "elle",
   "language": "python",
   "name": "elle"
  },
  "language_info": {
   "codemirror_mode": {
    "name": "ipython",
    "version": 3
   },
   "file_extension": ".py",
   "mimetype": "text/x-python",
   "name": "python",
   "nbconvert_exporter": "python",
   "pygments_lexer": "ipython3",
   "version": "3.10.5"
  }
 },
 "nbformat": 4,
 "nbformat_minor": 5
}
