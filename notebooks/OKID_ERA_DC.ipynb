{
 "cells": [
  {
   "cell_type": "code",
   "execution_count": 1,
   "id": "a5714e1d-5706-4f80-b65c-f9d9faaee2e6",
   "metadata": {},
   "outputs": [
    {
     "ename": "ModuleNotFoundError",
     "evalue": "No module named 'ssid'",
     "output_type": "error",
     "traceback": [
      "\u001b[1;31m---------------------------------------------------------------------------\u001b[0m",
      "\u001b[1;31mModuleNotFoundError\u001b[0m                       Traceback (most recent call last)",
      "\u001b[1;32mc:\\Users\\16507\\Documents\\GitHub\\SystemIdentification\\notebooks\\OKID_ERA_DC.ipynb Cell 1\u001b[0m in \u001b[0;36m<cell line: 2>\u001b[1;34m()\u001b[0m\n\u001b[0;32m      <a href='vscode-notebook-cell:/c%3A/Users/16507/Documents/GitHub/SystemIdentification/notebooks/OKID_ERA_DC.ipynb#W0sZmlsZQ%3D%3D?line=0'>1</a>\u001b[0m \u001b[39mimport\u001b[39;00m \u001b[39mquakeio\u001b[39;00m\n\u001b[1;32m----> <a href='vscode-notebook-cell:/c%3A/Users/16507/Documents/GitHub/SystemIdentification/notebooks/OKID_ERA_DC.ipynb#W0sZmlsZQ%3D%3D?line=1'>2</a>\u001b[0m \u001b[39mimport\u001b[39;00m \u001b[39mssid\u001b[39;00m\n\u001b[0;32m      <a href='vscode-notebook-cell:/c%3A/Users/16507/Documents/GitHub/SystemIdentification/notebooks/OKID_ERA_DC.ipynb#W0sZmlsZQ%3D%3D?line=3'>4</a>\u001b[0m \u001b[39mfrom\u001b[39;00m \u001b[39mpathlib\u001b[39;00m \u001b[39mimport\u001b[39;00m Path\n\u001b[0;32m      <a href='vscode-notebook-cell:/c%3A/Users/16507/Documents/GitHub/SystemIdentification/notebooks/OKID_ERA_DC.ipynb#W0sZmlsZQ%3D%3D?line=4'>5</a>\u001b[0m \u001b[39mimport\u001b[39;00m \u001b[39mnumpy\u001b[39;00m \u001b[39mas\u001b[39;00m \u001b[39mnp\u001b[39;00m\n",
      "\u001b[1;31mModuleNotFoundError\u001b[0m: No module named 'ssid'"
     ]
    }
   ],
   "source": [
    "import quakeio\n",
    "import ssid\n",
    "\n",
    "from pathlib import Path\n",
    "import numpy as np\n",
    "import pandas as pd"
   ]
  },
  {
   "cell_type": "code",
   "execution_count": 2,
   "id": "3f886615-f4a7-4415-aa43-212e1ec5bcca",
   "metadata": {},
   "outputs": [],
   "source": [
    "# channels = [\"22\", \"24\"]\n",
    "# channels = [\"23\", \"25\"]\n",
    "channels = dict( # PAINTER RIO DELL\n",
    "    inputs  = [17, 3, 20],\n",
    "    outputs = [ 9, 7 , 4]\n",
    ")\n",
    "# channels = dict(# Case 2\n",
    "#     inputs  = [3,6,17],\n",
    "#     outputs = [12, 14, 19]\n",
    "# )\n",
    "# channels = dict( # Case 5\n",
    "#     inputs  = [1],\n",
    "#     outputs = [16]\n",
    "# )\n",
    "# channels = dict(\n",
    "#     inputs  = \"2 7 25\".split(),\n",
    "#     outputs = \"18 13 15 23 20\".split()\n",
    "# )"
   ]
  },
  {
   "cell_type": "code",
   "execution_count": 6,
   "id": "2374b59b-7239-4190-b64c-26b2615d7fbb",
   "metadata": {
    "tags": []
   },
   "outputs": [
    {
     "name": "stdout",
     "output_type": "stream",
     "text": [
      "CapeMendocino_21Nov1986_CE89324P.zip\n",
      "\tFAILED (setting an array element with a sequence.)\n",
      "petrolia_05dec2016_72733405_ce89324p.zip\n",
      "113.204\n",
      "\n",
      "Spectral quantities:\n",
      "       T      𝑓       ζ\n",
      "    0.2353  4.25    0.02229\n",
      "    0.02182  45.83   0.07042\n",
      "\n",
      "RioDell82_CE89324P.zip\n",
      "\tFAILED ('NoneType' object has no attribute 'accel')\n",
      "CapeMendocino_31Jul1987_CE89324P.zip\n",
      "229.718\n",
      "\n",
      "Spectral quantities:\n",
      "       T      𝑓       ζ\n",
      "    0.2351  4.254   0.02096\n",
      "    0.2012  4.97    0.05834\n",
      "\n",
      "nc73201181_ce89324p.zip\n",
      "108.293\n",
      "Error extracting modes: too many indices for array: array is 1-dimensional, but 2 were indexed\n",
      "RioDell_Petrolia_Processed_Data.zip\n",
      "25.971\n",
      "\n",
      "Spectral quantities:\n",
      "       T      𝑓       ζ\n",
      "    0.2314  4.321   0.0435\n",
      "    0.1773  5.64    0.05128\n",
      "\n",
      "riodell_14sep2012_71842075_ce89324p.zip\n",
      "97.657\n",
      "\n",
      "Spectral quantities:\n",
      "       T      𝑓       ζ\n",
      "    0.2401  4.165   0.09522\n",
      "    0.1309  7.637   0.1544\n",
      "\n",
      "ferndale_28jan2015_72387946_ce89324p.zip\n",
      "125.244\n",
      "\n",
      "Spectral quantities:\n",
      "       T      𝑓       ζ\n",
      "    0.1774  5.638   0.005023\n",
      "    0.02393  41.79   0.04323\n",
      "\n",
      "PetroliaAftershock1_26Apr1992_CE89324P.zip\n",
      "\tFAILED (setting an array element with a sequence.)\n",
      "Eureka_24Aug1983_CE89324P.zip\n",
      "\tFAILED ('NoneType' object has no attribute 'accel')\n",
      "Trinidad-Offshore_08Nov1980_CE89324p.zip\n",
      "\tFAILED (could not broadcast input array from shape (3,1099) into shape (3,2))\n",
      "riodell_19oct2014_72330211_ce89324p.zip\n",
      "30.828\n",
      "\n",
      "Spectral quantities:\n",
      "       T      𝑓       ζ\n",
      "    0.2323  4.304   -0.003159\n",
      "    0.1737  5.756   0.2026\n",
      "\n",
      "ferndaleoffshore_08dec2016_us20007z6r_ce89324p.zip\n",
      "13.329\n",
      "\n",
      "Spectral quantities:\n",
      "       T      𝑓       ζ\n",
      "    0.2244  4.456   0.03577\n",
      "    0.209   4.785   0.2966\n",
      "\n",
      "CapeMendocinoAftershock_21Nov1986_CE89324P.zip\n",
      "219.632\n",
      "\n",
      "Spectral quantities:\n",
      "       T      𝑓       ζ\n",
      "    0.2536  3.944   0.01793\n",
      "    0.1464  6.833   0.06447\n",
      "\n",
      "bayview_11oct2013_72086051_ce89324p.zip\n",
      "33.433\n",
      "\n",
      "Spectral quantities:\n",
      "       T      𝑓       ζ\n",
      "    0.2391  4.182   0.0517\n",
      "    0.1746  5.727   0.1512\n",
      "\n"
     ]
    }
   ],
   "source": [
    "for file in Path(\"/mnt/d/CSMIP/painter\").glob(\"*.zip\"):\n",
    "    event = quakeio.read(file, exclusions=[\"*filter*\", \"*date*\"])\n",
    "    print(f\"{file.name}\")\n",
    "    try:\n",
    "        inputs = [\n",
    "            event.match(\"r\", file_name=f\".*{chan}.*\").accel\n",
    "            for chan in channels[\"inputs\"]\n",
    "        ]\n",
    "        outpts = [\n",
    "            event.match(\"r\", file_name=f\".*{chan}.*\").accel\n",
    "            for chan in channels[\"outputs\"]\n",
    "        ]\n",
    "        dt = inputs[0][\"time_step\"]\n",
    "        V = ssid.okid_era_dc(inputs, outpts, dt=dt, kmax=500, mro=10, orm=4, verbose=True)\n",
    "        print(max(i[\"peak_accel\"] for i in inputs))\n",
    "    except Exception as e:\n",
    "        print(f\"\\tFAILED ({e})\")\n",
    "        \n",
    "    else:\n",
    "        print(ssid.IdentifiedSystem(dt, **V))\n",
    "        # break\n",
    "\n",
    "        # A,B,C,D = OKID.okid(inputs, outpts, dt=dt, kmax=500, mro=10, orm=4, verbose=True)\n",
    "        # freqdmpSRIM, modeshapeSRIM, *_ = si.ComposeModes(dt, A, B, C, D)\n",
    "        # Add validation\n",
    "        # print(si.IdentifiedSystem(dt, A, B, C, D))\n",
    "        # print(file, np.real(1/freqdmpSRIM[:,0]))"
   ]
  },
  {
   "cell_type": "code",
   "execution_count": null,
   "id": "6eb66ef8-c153-4768-805a-9a4195bba941",
   "metadata": {},
   "outputs": [],
   "source": [
    "syst = ssid.IdentifiedSystem(dt, **V)\n",
    "syst.freqdmp"
   ]
  },
  {
   "cell_type": "code",
   "execution_count": null,
   "id": "d58a788e-9d93-4b50-abc6-604f0dca58f8",
   "metadata": {},
   "outputs": [],
   "source": [
    "ssid.condeig(V[\"A\"])"
   ]
  },
  {
   "cell_type": "code",
   "execution_count": null,
   "id": "dcf8e841-6dcf-4de9-b003-8adf92a91f23",
   "metadata": {},
   "outputs": [],
   "source": [
    "def hankel(Y, d, shift):\n",
    "    from numpy.lib.stride_tricks import as_strided\n",
    "    if shift:\n",
    "        Y = np.roll(Y,1)\n",
    "    return as_strided()\n",
    "    return np.lib.stride_tricks.sliding_window_view(\n",
    "            Y, (Y.shape[0], Y.shape[1]+1-d)\n",
    "    ).reshape(d*Y.shape[0], -1)"
   ]
  },
  {
   "cell_type": "code",
   "execution_count": null,
   "id": "9d567f5a-204c-4d52-ad66-bbd4c218eda9",
   "metadata": {},
   "outputs": [],
   "source": [
    "hankel(np.array(V[\"Y\"]), 10, 0)"
   ]
  },
  {
   "cell_type": "code",
   "execution_count": null,
   "id": "43741287-e34b-497e-b3df-8f6823e855ac",
   "metadata": {},
   "outputs": [],
   "source": [
    "np.array(V[\"dati\"]).shape"
   ]
  },
  {
   "cell_type": "code",
   "execution_count": null,
   "id": "c1c54b89-9fcd-419b-87e4-595ed4965f45",
   "metadata": {},
   "outputs": [],
   "source": [
    "print(si.IdentifiedSystem(dt, -V[\"A\"]))"
   ]
  },
  {
   "cell_type": "code",
   "execution_count": null,
   "id": "c430a95c-d868-4524-8e86-77990da92ea9",
   "metadata": {},
   "outputs": [],
   "source": []
  }
 ],
 "metadata": {
  "kernelspec": {
   "display_name": "Python 3.8.5 ('cs189sp22')",
   "language": "python",
   "name": "python3"
  },
  "language_info": {
   "codemirror_mode": {
    "name": "ipython",
    "version": 3
   },
   "file_extension": ".py",
   "mimetype": "text/x-python",
   "name": "python",
   "nbconvert_exporter": "python",
   "pygments_lexer": "ipython3",
   "version": "3.8.5"
  },
  "vscode": {
   "interpreter": {
    "hash": "b944da275fc40d5f9e33b056094a1f7a0fbd6b43847c12427d377e8ad9deab4f"
   }
  }
 },
 "nbformat": 4,
 "nbformat_minor": 5
}
