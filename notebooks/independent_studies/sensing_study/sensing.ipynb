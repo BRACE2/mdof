{
 "cells": [
  {
   "cell_type": "code",
   "execution_count": null,
   "metadata": {},
   "outputs": [],
   "source": [
    "import numpy as np \n",
    "from pathlib import Path\n",
    "import matplotlib.pyplot as plt\n",
    "import mdof\n",
    "from mdof.utilities.printing import plot_pred"
   ]
  },
  {
   "cell_type": "markdown",
   "metadata": {},
   "source": [
    "# Load Files"
   ]
  },
  {
   "cell_type": "code",
   "execution_count": null,
   "metadata": {},
   "outputs": [],
   "source": [
    "# Path to the directory where files are saved\n",
    "DATA_DIR = Path(\"../../uploads/mini_shake_table/Sienna's Trials\")\n",
    "# Get all the files ending in csv\n",
    "files = list(DATA_DIR.glob(\"**/*.csv\"))\n",
    "# Identify the row with the column labels\n",
    "header_row = 8\n",
    "# Get the column labels\n",
    "with open(files[0], \"r\") as readfile:\n",
    "    header_keys = readfile.readlines()[header_row-1].split(',')\n",
    "# Identify the column indices for each acceleration component\n",
    "x_index = header_keys.index('Acc_X')\n",
    "y_index = header_keys.index('Acc_Y')\n",
    "z_index = header_keys.index('Acc_Z')\n",
    "\n",
    "# Populate a dictionary with the data. Each file is its own item.\n",
    "data = {}\n",
    "for file in files:\n",
    "    filename = f\"{file.parent.name} - {file.name.split(':')[0]}\"\n",
    "    data[filename] = np.loadtxt(file,\n",
    "                                delimiter=\",\",\n",
    "                                skiprows=header_row, # Get all the rows after the header\n",
    "                                usecols=[x_index,y_index,z_index] # Get only the columns with acceleration data\n",
    "                               )"
   ]
  },
  {
   "cell_type": "markdown",
   "metadata": {},
   "source": [
    "## Print the filenames used as keys in the `data` dictionary"
   ]
  },
  {
   "cell_type": "code",
   "execution_count": null,
   "metadata": {},
   "outputs": [],
   "source": [
    "# We'll use this list of filenames as reference for the options \n",
    "# of records used in the system identification code down below.\n",
    "\n",
    "for filename in data.keys():\n",
    "    print(filename)"
   ]
  },
  {
   "cell_type": "markdown",
   "metadata": {},
   "source": [
    "# Plot the records"
   ]
  },
  {
   "cell_type": "code",
   "execution_count": null,
   "metadata": {},
   "outputs": [],
   "source": [
    "## TODO: Fill this part in to get the time array!\n",
    "SAMPLE_RATE = 60 #Hz\n",
    "# If there are sampling_rate samples taken per second, what is the amount of time between each sample?\n",
    "# That is, how many seconds per sample?\n",
    "TIME_STEP = ... \n",
    "# Create a function that returns a time array that starts at zero,\n",
    "# has a length of num_points, and has a step of time_step between\n",
    "# each point.\n",
    "# note: the syntax for np.linspace is np.linspace(start,stop,length)\n",
    "def time_array(time_step, num_points):\n",
    "    return np.linspace(...,...,...)"
   ]
  },
  {
   "cell_type": "code",
   "execution_count": null,
   "metadata": {},
   "outputs": [],
   "source": [
    "# Path to a directory where we'll save figures\n",
    "OUT_DIR = Path(\"out/\")\n",
    "if not OUT_DIR.exists():\n",
    "    OUT_DIR.mkdir()\n",
    "# TODO: Fill in this part to plot the records!\n",
    "for filename,record in data.items():\n",
    "    # Truncate the record to a shorter portion\n",
    "    num_points = int(record.shape[0]/3)\n",
    "    record = record[num_points:2*num_points,:]\n",
    "    # Create the time array\n",
    "    time = time_array(TIME_STEP,num_points)\n",
    "    # Create a plot\n",
    "    fig,ax = plt.subplots(3,1, figsize=(10,4), sharex=True)\n",
    "    # Plot the X direction, which is the first column of record\n",
    "    ax[0].plot(time, ...)\n",
    "    ax[0].set_ylabel('X direction')\n",
    "    # Plot the Y direction, which is the second column of record\n",
    "    ax[1].plot(..., ...)\n",
    "    ax[1].set_ylabel('Y direction')\n",
    "    # Plot the Z direction, which is the third column of record\n",
    "    ax[2].plot(..., ...)\n",
    "    ax[2].set_ylabel('Z direction')\n",
    "    # Labels, limits and title\n",
    "    ax[2].set_xlabel('Time (s)')\n",
    "    fig.suptitle(f\"{filename} \\n Acceleration Response ($m/s^2$)\")\n",
    "    # Save the figure\n",
    "    fig.savefig(OUT_DIR/f\"{filename}.png\")"
   ]
  },
  {
   "cell_type": "markdown",
   "metadata": {},
   "source": [
    "# Perform System Identification.\n",
    "\n",
    "Given a model trained on the Northridge earthquake record, can we predict the response to the sine wave?"
   ]
  },
  {
   "cell_type": "code",
   "execution_count": null,
   "metadata": {},
   "outputs": [],
   "source": [
    "# Train a model based on the Northridge earthquake record.\n",
    "\n",
    "# Load the X component of the bottom sensor from Northridge as input\n",
    "inputs = data['Bottom Sensor (86) - Trial C'][:,0]\n",
    "num_points = int(inputs.shape[0]/6)\n",
    "inputs = inputs[num_points:2*num_points]\n",
    "# Load the middle and top sensors from Northridge as outputs\n",
    "outputs = np.array([data['Middle Sensor (85) - Trial C'],\n",
    "                    data['Top Sensor (7B) - Trial C']])[:,num_points:2*num_points,0]\n",
    "# Construct the time array\n",
    "time = time_array(TIME_STEP, len(inputs))\n",
    "# Use the mdof package to perform system identification and construct a model\n",
    "realization = mdof.sysid(inputs,outputs)\n",
    "# Find the natural modes of vibration of this model\n",
    "modes = mdof.modal.system_modes(realization,TIME_STEP)\n",
    "mdof.utilities.print_modes(modes)\n",
    "# Stabilize the model in case it isn't already stable\n",
    "from mdof.validation import stabilize_discrete\n",
    "A_stable = stabilize_discrete(A=realization[0])\n",
    "realization = (A_stable,*realization[1:])\n",
    "# Plot the accuracy of the prediction from this model\n",
    "fig,ax = plt.subplots(figsize=(10,3))\n",
    "prediction = mdof.simulate.simulate(realization,inputs)\n",
    "pred_fig = plot_pred(ytrue=outputs,\n",
    "                     models=prediction,\n",
    "                     t=time,\n",
    "                     figax=(fig,ax),\n",
    "                     title=\"Prediction of Northridge from model trained on Northridge\")"
   ]
  },
  {
   "cell_type": "code",
   "execution_count": null,
   "metadata": {},
   "outputs": [],
   "source": [
    "# Test the model on the sine wave record.\n",
    "\n",
    "# Load the X component of the bottom sensor from SINE WAVE as input\n",
    "inputs = data['Bottom Sensor (86) - Trial A'][:,0]\n",
    "num_points = int(inputs.shape[0]/3)\n",
    "inputs = inputs[num_points:2*num_points]\n",
    "# Construct the time array\n",
    "time = time_array(TIME_STEP, len(inputs))\n",
    "# Plot the accuracy of the prediction from this model\n",
    "fig,ax = plt.subplots(figsize=(10,3))\n",
    "prediction = mdof.simulate.simulate(realization,inputs)\n",
    "# Note that the prediction is made using the inputs and the model trained on Northridge.\n",
    "# The outputs were not known at the time of prediction.\n",
    "# Load the middle and top sensors from SINE WAVE as outputs\n",
    "outputs = np.array([data['Middle Sensor (85) - Trial A'],\n",
    "                    data['Top Sensor (7B) - Trial A']])[:,num_points:2*num_points,0]\n",
    "pred_fig = plot_pred(ytrue=outputs,\n",
    "                     models=prediction,\n",
    "                     t=time,\n",
    "                     figax=(fig,ax),\n",
    "                     title=\"Prediction of Sine Wave from model trained on Northridge\")"
   ]
  }
 ],
 "metadata": {
  "kernelspec": {
   "display_name": "mdof-dev-brew",
   "language": "python",
   "name": "python3"
  },
  "language_info": {
   "codemirror_mode": {
    "name": "ipython",
    "version": 3
   },
   "file_extension": ".py",
   "mimetype": "text/x-python",
   "name": "python",
   "nbconvert_exporter": "python",
   "pygments_lexer": "ipython3",
   "version": "3.12.9"
  }
 },
 "nbformat": 4,
 "nbformat_minor": 2
}
