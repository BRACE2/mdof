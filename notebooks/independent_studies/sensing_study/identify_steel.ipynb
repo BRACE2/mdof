{
 "cells": [
  {
   "cell_type": "markdown",
   "metadata": {},
   "source": [
    "# (0) Packages"
   ]
  },
  {
   "cell_type": "code",
   "execution_count": null,
   "metadata": {},
   "outputs": [],
   "source": [
    "# Run this cell to make sure the mdof module is installed.\n",
    "!pip install mdof"
   ]
  },
  {
   "cell_type": "code",
   "execution_count": null,
   "metadata": {},
   "outputs": [],
   "source": [
    "# Import the required packages.\n",
    "import numpy as np \n",
    "from pathlib import Path\n",
    "import matplotlib.pyplot as plt\n",
    "import mdof"
   ]
  },
  {
   "cell_type": "markdown",
   "metadata": {},
   "source": [
    "# (1) Load Files"
   ]
  },
  {
   "cell_type": "code",
   "execution_count": null,
   "metadata": {},
   "outputs": [],
   "source": [
    "# Path to the directory where files are saved\n",
    "DATA_DIR = Path(\"../../uploads/mini_shake_table/Flexible vs. Stiff\")\n",
    "# Get all the files ending in csv\n",
    "files = list(DATA_DIR.glob(\"**/*.csv\"))\n",
    "# Identify the row with the column labels\n",
    "header_row = 8\n",
    "# Get the column labels\n",
    "with open(files[0], \"r\") as readfile:\n",
    "    header_keys = readfile.readlines()[header_row-1].split(',')\n",
    "# Identify the column indices for each acceleration component\n",
    "x_index = header_keys.index('Acc_X')\n",
    "y_index = header_keys.index('Acc_Y')\n",
    "z_index = header_keys.index('Acc_Z')\n",
    "\n",
    "# Populate a dictionary with the data. Each file is its own item.\n",
    "data = {}\n",
    "for file in files:\n",
    "    filename = f\"{file.parent.parent.name} {file.parent.name} - {file.name.split(')')[0]})\"\n",
    "    data[filename] = np.loadtxt(file,\n",
    "                                delimiter=\",\",\n",
    "                                skiprows=header_row, # Get all the rows after the header\n",
    "                                usecols=[x_index,y_index,z_index] # Get only the columns with acceleration data\n",
    "                               )"
   ]
  },
  {
   "cell_type": "markdown",
   "metadata": {},
   "source": [
    "## Print the filenames used as keys in the `data` dictionary"
   ]
  },
  {
   "cell_type": "code",
   "execution_count": null,
   "metadata": {},
   "outputs": [],
   "source": [
    "# We'll use this list of filenames as reference for the options \n",
    "# of records used in the system identification code down below.\n",
    "\n",
    "for filename in data.keys():\n",
    "    print(filename)"
   ]
  },
  {
   "cell_type": "markdown",
   "metadata": {},
   "source": [
    "# (2) Plot the records\n",
    "\n",
    "- top floor only\n",
    "- x direction only"
   ]
  },
  {
   "cell_type": "code",
   "execution_count": null,
   "metadata": {},
   "outputs": [],
   "source": [
    "# Get the time array!\n",
    "SAMPLE_RATE = 120 #Hz\n",
    "# If there are sampling_rate samples taken per second, what is the amount of time between each sample?\n",
    "# That is, how many seconds per sample?\n",
    "TIME_STEP = 1/SAMPLE_RATE \n",
    "# Create a function that returns a time array that starts at zero,\n",
    "# has a length of num_points, and has a step of time_step between\n",
    "# each point.\n",
    "# note: the syntax for np.linspace is np.linspace(start,stop,length)\n",
    "def time_array(time_step, num_points):\n",
    "    return np.linspace(0,time_step*num_points,num_points)"
   ]
  },
  {
   "cell_type": "markdown",
   "metadata": {},
   "source": [
    "### Compare the stiff to the flexible three story model."
   ]
  },
  {
   "cell_type": "code",
   "execution_count": null,
   "metadata": {},
   "outputs": [],
   "source": [
    "# Path to a directory where we'll save figures\n",
    "OUT_DIR = Path(\"out/\")\n",
    "if not OUT_DIR.exists():\n",
    "    OUT_DIR.mkdir()\n",
    "\n",
    "event_names = [\"Northridge\", \"Sine 1.0\", \"Sine 1.5\", \"Sine 2.0\", \"Bonus Event\"]\n",
    "\n",
    "# Loop through all events\n",
    "for event_name in event_names:\n",
    "    # Plot the records!\n",
    "    # Only plot the top floor response.\n",
    "    # Plot stiff 3 story and flexible 3 story steel side-by-side.\n",
    "    outputs_stiff = data[f'Stiff 3 story 3rd Floor (Top floor) - ({event_name})']\n",
    "    outputs_flex = data[f'Flexible 3 story 3rd Floor (Top floor) - ({event_name})']\n",
    "    # Make the records the same length.\n",
    "    npts = min(outputs_stiff.shape[0], outputs_flex.shape[0])\n",
    "    outputs_stiff = outputs_stiff[:npts]\n",
    "    outputs_flex = outputs_flex[:npts]\n",
    "    # Construct the time array\n",
    "    time = time_array(TIME_STEP, npts)\n",
    "    # Create a figure with two subplots stacked vertically (2 rows, 1 column of subplots)\n",
    "    fig,ax = plt.subplots(2, 1, figsize=(6,3), sharex=True, constrained_layout=True)\n",
    "    # Plot the X direction, which is the first column of record\n",
    "    ax[0].plot(time, outputs_stiff[:,0])\n",
    "    ax[1].plot(time, outputs_flex[:,0])\n",
    "    # Labels, limits and title\n",
    "    ax[0].set_ylabel('Stiff Steel')\n",
    "    ax[1].set_ylabel('Flexible Steel')\n",
    "    ax[1].set_xlabel('Time (s)')\n",
    "    ax[1].set_xlim((20,25))\n",
    "    if \"Bonus\" in event_name:\n",
    "        ax[1].set_xlim((17,20))\n",
    "    fig.suptitle(f\"{event_name} \\n Top Floor Acceleration Response, X Direction ($m/s^2$)\")\n",
    "    # Save the figure\n",
    "    fig.savefig(OUT_DIR/f\"{event_name}.png\")"
   ]
  },
  {
   "cell_type": "markdown",
   "metadata": {},
   "source": [
    "### Plot the stiff one story model.\n",
    "\n",
    "Just plot a preview of the Sine Wave record."
   ]
  },
  {
   "cell_type": "code",
   "execution_count": null,
   "metadata": {},
   "outputs": [],
   "source": [
    "event_names = [\n",
    "    # \"El Centro Trial 1\", \"El Centro Trial 2\", \"Northridge Trial 1\", \"Northridge Trial 2\",\n",
    "    \"Sine Wave Trial 1\",\n",
    "    # \"Sine Wave Trial 2\",\n",
    "               ]\n",
    "\n",
    "# Loop through all events\n",
    "for event_name in event_names:\n",
    "    # Plot the records!\n",
    "    # Only plot the top floor response.\n",
    "    outputs = data[f'Stiff 1 story Top Floor - ({event_name})']\n",
    "    # Construct the time array\n",
    "    npts = outputs.shape[0]\n",
    "    time = time_array(TIME_STEP, npts)\n",
    "    # Create a figure\n",
    "    fig,ax = plt.subplots(figsize=(6,2), sharex=True, constrained_layout=True)\n",
    "    # Plot the X direction, which is the first column of record\n",
    "    ax.plot(time, outputs[:,0])\n",
    "    # Labels, limits and title\n",
    "    ax.set_xlabel('Time (s)')\n",
    "    if \"Sine\" in event_name:\n",
    "        ax.set_xlim((18,20))\n",
    "    elif \"El Centro\" in event_name:\n",
    "        ax.set_xlim((8,15))\n",
    "    else:\n",
    "        ax.set_xlim((5,12))\n",
    "    fig.suptitle(f\"{event_name} \\n Top Floor Acceleration Response, X Direction ($m/s^2$)\")\n",
    "    # Save the figure\n",
    "    fig.savefig(OUT_DIR/f\"{event_name}.png\")"
   ]
  },
  {
   "cell_type": "markdown",
   "metadata": {},
   "source": [
    "# (3) Discussion: what can we say about how ***frequency of oscillation*** varies with ***stiffness*** of the steel walls?\n",
    "\n",
    "How does this make sense with the relation, $\\omega_{n} = \\sqrt{\\frac{k}{m}}$ ?\n",
    "\n",
    "Write your observations below."
   ]
  },
  {
   "cell_type": "markdown",
   "metadata": {},
   "source": [
    "...\n",
    "\n",
    "...\n",
    "\n",
    "..."
   ]
  },
  {
   "cell_type": "markdown",
   "metadata": {},
   "source": [
    "# (4) Obtain natural frequencies with system identification"
   ]
  },
  {
   "cell_type": "markdown",
   "metadata": {},
   "source": [
    "## Unknown system with one input and one output\n",
    "\n",
    "Let's treat these building models as single-degree-of-freedom oscillators with concentrated mass at the top, like the \"lollipop\" shown below.\n",
    "\n",
    "This is a very common idealization for structural systems.\n",
    "\n",
    "There are two parameters that define how this system moves: natural frequency and damping ratio.\n",
    "\n",
    "parameter | value\n",
    "----------|-------\n",
    "$\\omega_n$  | natural frequency\n",
    "$\\zeta$  | damping ratio\n",
    "\n",
    "These two parameters can be determined experimentally by system identification of the structure's vibrations."
   ]
  },
  {
   "cell_type": "markdown",
   "metadata": {},
   "source": [
    "![sdof2](../../figures/sdof2.png)"
   ]
  },
  {
   "cell_type": "markdown",
   "metadata": {},
   "source": [
    "## 3 Story Stiff Steel"
   ]
  },
  {
   "cell_type": "code",
   "execution_count": null,
   "metadata": {},
   "outputs": [],
   "source": [
    "event_names = [\"Northridge\", \"Sine 1.0\", \"Sine 1.5\", \"Sine 2.0\", \"Bonus Event\"]\n",
    "\n",
    "# Loop through all events\n",
    "for event_name in event_names:\n",
    "    # Load the X component of the bottom sensor as input\n",
    "    inputs = data[f'Stiff 3 story Ground Floor - ({event_name})'][:,0]\n",
    "    # Don't use the entire time series. Start halfway through the record and end at 5/6 through.\n",
    "    sixth_points = int(inputs.shape[0]/6)\n",
    "    inputs = inputs[3*sixth_points:5*sixth_points]\n",
    "    # Load the top sensor as output\n",
    "    outputs = data[f'Stiff 3 story 3rd Floor (Top floor) - ({event_name})'][:,0][3*sixth_points:5*sixth_points]\n",
    "    # Construct the time array\n",
    "    time = time_array(TIME_STEP, len(inputs))\n",
    "    # Use the mdof package to perform system identification and determine the natural periods\n",
    "    P, Phi = mdof.modes(inputs, outputs, dt=TIME_STEP)\n",
    "    # The fundamental natural period is the longest period.\n",
    "    print(f\"Event: {event_name} - Fundamental Period: {max(P):.3f} seconds\")"
   ]
  },
  {
   "cell_type": "markdown",
   "metadata": {},
   "source": [
    "## 3 Story Flexible Steel"
   ]
  },
  {
   "cell_type": "code",
   "execution_count": null,
   "metadata": {},
   "outputs": [],
   "source": [
    "event_names = [\"Northridge\", \"Sine 1.0\", \"Sine 1.5\", \"Sine 2.0\", \"Bonus Event\"]\n",
    "\n",
    "# Loop through all events\n",
    "for event_name in event_names:\n",
    "    # Load the X component of the bottom sensor as input\n",
    "    inputs = data[f'Flexible 3 story Ground Floor - ({event_name})'][:,0]\n",
    "    # Don't use the entire time series. Start halfway through the record and end at 5/6 through.\n",
    "    sixth_points = int(inputs.shape[0]/6)\n",
    "    inputs = inputs[3*sixth_points:5*sixth_points]\n",
    "    # Load the top sensor as output\n",
    "    outputs = data[f'Flexible 3 story 3rd Floor (Top floor) - ({event_name})'][:,0][3*sixth_points:5*sixth_points]\n",
    "    # Construct the time array\n",
    "    time = time_array(TIME_STEP, len(inputs))\n",
    "    # Use the mdof package to perform system identification and determine the natural periods\n",
    "    P, Phi = mdof.modes(inputs, outputs, dt=TIME_STEP)\n",
    "    # The fundamental natural period is the longest period.\n",
    "    realization = mdof.sysid(inputs, outputs)\n",
    "    print(f\"Event: {event_name} - Fundamental Period: {max(P):.3f} seconds\")"
   ]
  },
  {
   "cell_type": "markdown",
   "metadata": {},
   "source": [
    "## 1 Story Stiff Steel"
   ]
  },
  {
   "cell_type": "code",
   "execution_count": null,
   "metadata": {},
   "outputs": [],
   "source": [
    "event_names = [\"El Centro Trial 1\", \"El Centro Trial 2\", \"Northridge Trial 1\", \"Northridge Trial 2\", \"Sine Wave Trial 1\",  \"Sine Wave Trial 2\"]\n",
    "\n",
    "# Loop through all events\n",
    "for event_name in event_names:\n",
    "    # Load the X component of the bottom sensor as input\n",
    "    inputs = data[f'Stiff 1 story Ground Floor - ({event_name})'][:,0]\n",
    "    # Don't use the entire time series. Start halfway through the record and end at 5/6 through.\n",
    "    sixth_points = int(inputs.shape[0]/6)\n",
    "    inputs = inputs[3*sixth_points:5*sixth_points]\n",
    "    # Load the top sensor as output\n",
    "    outputs = data[f'Stiff 1 story Top Floor - ({event_name})'][:,0][3*sixth_points:5*sixth_points]\n",
    "    # Construct the time array\n",
    "    time = time_array(TIME_STEP, len(inputs))\n",
    "    # Use the mdof package to perform system identification and determine the natural periods\n",
    "    P, Phi = mdof.modes(inputs, outputs, dt=TIME_STEP)\n",
    "    # The fundamental natural period is the longest period.\n",
    "    realization = mdof.sysid(inputs, outputs)\n",
    "    print(f\"Event: {event_name} - Fundamental Period: {max(P):.3f} seconds\")"
   ]
  },
  {
   "cell_type": "markdown",
   "metadata": {},
   "source": [
    "# (5) Fundamental periods of the three steel models\n",
    "\n",
    "What is your estimate of the fundamental period, in seconds, of the 3 story stiff steel model? of the 3 story flexible steel model? of the 1 story stiff steel model?\n",
    "\n",
    "Save these values as `period_stiff3`, `period_flex3`, and `period_flex1`."
   ]
  },
  {
   "cell_type": "code",
   "execution_count": null,
   "metadata": {},
   "outputs": [],
   "source": [
    "period_stiff3 = ... # fundamental period of 3 story stiff steel model, in seconds\n",
    "period_flex3 = ... # fundamental period of 3 story flexible steel model, in seconds\n",
    "period_stiff1 = ... # fundamental period of one story stiff steel model, in seconds"
   ]
  },
  {
   "cell_type": "markdown",
   "metadata": {},
   "source": [
    "# (6) Stiffness of each type of steel\n",
    "\n",
    "Remember the relations, $\\omega_{n} = \\sqrt{\\frac{k}{m}}$ and $T_{n} = \\frac{2\\pi}{\\omega_{n}}$. Note that $T_{n}$ is the natural period.\n",
    "\n",
    "1. Derive the relation $\\omega_{n} = \\sqrt{\\frac{k}{m}}$ from the governing differential equation of motion for a single degree of freedom (undamped) harmonic oscillator in free vibration, $m\\ddot{u} + ku = 0$.\n",
    "\n",
    "2. Use the relations above, along with the mass of the model materials, to determine the stiffness of each model. Assume the mass is \"lumped\" at the top floor, and equal to the mass of one polycarbonate block with sensor attached plus a half story of steel wall. Note: the units of stiffness should be a unit of force per unit displacement, such as kg/cm.\n",
    "\n",
    "<p align=\"center\">\n",
    "<img src=\"../../figures/model_lumped_mass.png\" alt=\"model_lumped_mass\" width=\"400\"/>\n",
    "</p>\n",
    "\n",
    "Write your answers below, or in a separate document."
   ]
  },
  {
   "cell_type": "markdown",
   "metadata": {},
   "source": [
    "1. If $m\\ddot{u} + ku = 0$, then $u(t) = c_{1}\\cos{\\omega_{n} t} +  c_{2}\\sin{\\omega_{n} t}$.\n",
    "\n",
    "How do we solve for $\\omega_{n}$ in terms of the values of $m$ and $k$?\n",
    "\n",
    "\n",
    "...\n",
    "\n",
    "...\n",
    "\n",
    "...\n",
    "\n",
    "\n",
    "\n",
    "2. Start by calculating the \"lumped mass.\"\n",
    "\n",
    "$m$ = (mass of 1 polycarb block with sensor attached) + 0.5(mass of 6 inches (1 floor) of 2 steel walls).\n",
    "\n",
    "Then compute $k$ from the relations $\\omega_{n} = \\sqrt{\\frac{k}{m}}$ and $T_{n} = \\frac{2\\pi}{\\omega_{n}}$.\n",
    "\n",
    "\n",
    "...\n",
    "\n",
    "...\n",
    "\n",
    "...\n",
    "\n",
    "\n"
   ]
  },
  {
   "cell_type": "markdown",
   "metadata": {},
   "source": [
    "#"
   ]
  }
 ],
 "metadata": {
  "kernelspec": {
   "display_name": "mdof-dev-brew",
   "language": "python",
   "name": "python3"
  },
  "language_info": {
   "codemirror_mode": {
    "name": "ipython",
    "version": 3
   },
   "file_extension": ".py",
   "mimetype": "text/x-python",
   "name": "python",
   "nbconvert_exporter": "python",
   "pygments_lexer": "ipython3",
   "version": "3.11.11"
  }
 },
 "nbformat": 4,
 "nbformat_minor": 2
}
