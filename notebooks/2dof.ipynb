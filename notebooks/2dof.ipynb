{
 "cells": [
  {
   "cell_type": "code",
   "execution_count": 30,
   "metadata": {},
   "outputs": [],
   "source": [
    "# from sympy import symbols, Matrix, Inverse, simplify\n",
    "from sympy import *\n",
    "# init_printing() "
   ]
  },
  {
   "cell_type": "markdown",
   "metadata": {},
   "source": [
    "![2dof](./figures/2dof.png)"
   ]
  },
  {
   "cell_type": "markdown",
   "metadata": {},
   "source": [
    "$$a = \\frac{m_{1}}{m_{2}}$$\n",
    "$$b = \\frac{k_{1}}{k_{2}}$$\n",
    "\n",
    "$$M = \\begin{bmatrix} m_{1} & 0 \\\\ 0 & m_{2} \\end{bmatrix} = m_{2}\\begin{bmatrix} a & 0 \\\\ 0 & 1 \\end{bmatrix}$$\n",
    "\n",
    "$$K = \\begin{bmatrix} k_{1}+k_{2} & -k_{2} \\\\ -k_{2} & k_{2} \\end{bmatrix} = k_{2} \\begin{bmatrix} 1+b & -1 \\\\ -1 & 1 \\end{bmatrix}$$\n",
    "\n",
    "$$M^{-1}K = \\frac{k_{2}}{am_{2}}\\begin{bmatrix} 1+b & -1 \\\\ -a & a \\end{bmatrix}$$\n",
    "\n",
    "$$(1+b-\\lambda)(a-\\lambda)+a = 0$$\n",
    "$$\\lambda^{2}+(-b-a{m}-1)\\lambda+2a+ab = 0$$"
   ]
  },
  {
   "cell_type": "code",
   "execution_count": 31,
   "metadata": {},
   "outputs": [
    {
     "data": {
      "text/latex": [
       "$\\displaystyle \\left[\\begin{matrix}\\frac{k_{1} + k_{2}}{m_{1}} & - \\frac{k_{2}}{m_{1}}\\\\- \\frac{k_{2}}{m_{2}} & \\frac{k_{2}}{m_{2}}\\end{matrix}\\right]$"
      ],
      "text/plain": [
       "Matrix([\n",
       "[(k1 + k2)/m1, -k2/m1],\n",
       "[      -k2/m2,  k2/m2]])"
      ]
     },
     "execution_count": 31,
     "metadata": {},
     "output_type": "execute_result"
    }
   ],
   "source": [
    "m1, m2, k1, k2 = symbols('m1 m2 k1 k2')\n",
    "M = Matrix([[m1,0],[0,m2]])\n",
    "K = Matrix([[k1+k2,-k2],[-k2,k2]])\n",
    "MinvK = (Inverse(M)*K)\n",
    "MinvK"
   ]
  },
  {
   "cell_type": "code",
   "execution_count": 35,
   "metadata": {},
   "outputs": [
    {
     "data": {
      "text/latex": [
       "$\\displaystyle \\left[\\begin{matrix}\\frac{k_{1} m_{2} + k_{2} m_{1} + k_{2} m_{2}}{2 m_{1} m_{2}} - \\frac{\\sqrt{k_{1}^{2} m_{2}^{2} - 2 k_{1} k_{2} m_{1} m_{2} + 2 k_{1} k_{2} m_{2}^{2} + k_{2}^{2} m_{1}^{2} + 2 k_{2}^{2} m_{1} m_{2} + k_{2}^{2} m_{2}^{2}}}{2 m_{1} m_{2}} & 0\\\\0 & \\frac{k_{1} m_{2} + k_{2} m_{1} + k_{2} m_{2}}{2 m_{1} m_{2}} + \\frac{\\sqrt{k_{1}^{2} m_{2}^{2} - 2 k_{1} k_{2} m_{1} m_{2} + 2 k_{1} k_{2} m_{2}^{2} + k_{2}^{2} m_{1}^{2} + 2 k_{2}^{2} m_{1} m_{2} + k_{2}^{2} m_{2}^{2}}}{2 m_{1} m_{2}}\\end{matrix}\\right]$"
      ],
      "text/plain": [
       "Matrix([\n",
       "[(k1*m2 + k2*m1 + k2*m2)/(2*m1*m2) - sqrt(k1**2*m2**2 - 2*k1*k2*m1*m2 + 2*k1*k2*m2**2 + k2**2*m1**2 + 2*k2**2*m1*m2 + k2**2*m2**2)/(2*m1*m2),                                                                                                                                           0],\n",
       "[                                                                                                                                          0, (k1*m2 + k2*m1 + k2*m2)/(2*m1*m2) + sqrt(k1**2*m2**2 - 2*k1*k2*m1*m2 + 2*k1*k2*m2**2 + k2**2*m1**2 + 2*k2**2*m1*m2 + k2**2*m2**2)/(2*m1*m2)]])"
      ]
     },
     "execution_count": 35,
     "metadata": {},
     "output_type": "execute_result"
    }
   ],
   "source": [
    "eigvecs, eigvals = MinvK.diagonalize()\n",
    "eigvals"
   ]
  },
  {
   "cell_type": "code",
   "execution_count": 25,
   "metadata": {},
   "outputs": [
    {
     "data": {
      "text/plain": [
       "[((k1*m2 + k2*m1 + k2*m2)/(2*m1*m2) - sqrt(k1**2*m2**2 - 2*k1*k2*m1*m2 + 2*k1*k2*m2**2 + k2**2*m1**2 + 2*k2**2*m1*m2 + k2**2*m2**2)/(2*m1*m2),\n",
       "  1,\n",
       "  [Matrix([\n",
       "   [1 - m2*((k1*m2 + k2*m1 + k2*m2)/(2*m1*m2) - sqrt(k1**2*m2**2 - 2*k1*k2*m1*m2 + 2*k1*k2*m2**2 + k2**2*m1**2 + 2*k2**2*m1*m2 + k2**2*m2**2)/(2*m1*m2))/k2],\n",
       "   [                                                                                                                                                      1]])]),\n",
       " ((k1*m2 + k2*m1 + k2*m2)/(2*m1*m2) + sqrt(k1**2*m2**2 - 2*k1*k2*m1*m2 + 2*k1*k2*m2**2 + k2**2*m1**2 + 2*k2**2*m1*m2 + k2**2*m2**2)/(2*m1*m2),\n",
       "  1,\n",
       "  [Matrix([\n",
       "   [1 - m2*((k1*m2 + k2*m1 + k2*m2)/(2*m1*m2) + sqrt(k1**2*m2**2 - 2*k1*k2*m1*m2 + 2*k1*k2*m2**2 + k2**2*m1**2 + 2*k2**2*m1*m2 + k2**2*m2**2)/(2*m1*m2))/k2],\n",
       "   [                                                                                                                                                      1]])])]"
      ]
     },
     "execution_count": 25,
     "metadata": {},
     "output_type": "execute_result"
    }
   ],
   "source": [
    "MinvK.eigenvects()"
   ]
  },
  {
   "cell_type": "code",
   "execution_count": 26,
   "metadata": {},
   "outputs": [
    {
     "data": {
      "text/latex": [
       "$\\displaystyle \\left[\\begin{matrix}\\frac{b k + k}{a m} & - \\frac{k}{a m}\\\\- \\frac{k}{m} & \\frac{k}{m}\\end{matrix}\\right]$"
      ],
      "text/plain": [
       "Matrix([\n",
       "[(b*k + k)/(a*m), -k/(a*m)],\n",
       "[           -k/m,      k/m]])"
      ]
     },
     "execution_count": 26,
     "metadata": {},
     "output_type": "execute_result"
    }
   ],
   "source": [
    "k, m, a, b = symbols('k m a b')\n",
    "M = Matrix([[a*m,0],[0,m]])\n",
    "K = Matrix([[b*k+k,-k],[-k,k]])\n",
    "MinvK = (Inverse(M)*K)\n",
    "MinvK"
   ]
  },
  {
   "cell_type": "code",
   "execution_count": 27,
   "metadata": {},
   "outputs": [],
   "source": [
    "eigvecs, eigvals = MinvK.diagonalize()"
   ]
  },
  {
   "cell_type": "code",
   "execution_count": 28,
   "metadata": {},
   "outputs": [
    {
     "data": {
      "text/plain": [
       "[(k*(a + b + 1)/(2*a*m) - k*sqrt(a**2 - 2*a*b + 2*a + b**2 + 2*b + 1)/(2*a*m),\n",
       "  1,\n",
       "  [Matrix([\n",
       "   [1 - m*(k*(a + b + 1)/(2*a*m) - k*sqrt(a**2 - 2*a*b + 2*a + b**2 + 2*b + 1)/(2*a*m))/k],\n",
       "   [                                                                                    1]])]),\n",
       " (k*(a + b + 1)/(2*a*m) + k*sqrt(a**2 - 2*a*b + 2*a + b**2 + 2*b + 1)/(2*a*m),\n",
       "  1,\n",
       "  [Matrix([\n",
       "   [1 - m*(k*(a + b + 1)/(2*a*m) + k*sqrt(a**2 - 2*a*b + 2*a + b**2 + 2*b + 1)/(2*a*m))/k],\n",
       "   [                                                                                    1]])])]"
      ]
     },
     "execution_count": 28,
     "metadata": {},
     "output_type": "execute_result"
    }
   ],
   "source": [
    "MinvK.eigenvects()"
   ]
  }
 ],
 "metadata": {
  "kernelspec": {
   "display_name": "base",
   "language": "python",
   "name": "python3"
  },
  "language_info": {
   "codemirror_mode": {
    "name": "ipython",
    "version": 3
   },
   "file_extension": ".py",
   "mimetype": "text/x-python",
   "name": "python",
   "nbconvert_exporter": "python",
   "pygments_lexer": "ipython3",
   "version": "3.9.13"
  },
  "orig_nbformat": 4
 },
 "nbformat": 4,
 "nbformat_minor": 2
}
