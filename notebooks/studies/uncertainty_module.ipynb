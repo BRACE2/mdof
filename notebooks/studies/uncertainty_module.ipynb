{
 "cells": [
  {
   "cell_type": "code",
   "execution_count": null,
   "metadata": {},
   "outputs": [],
   "source": [
    "pip install datascience"
   ]
  },
  {
   "cell_type": "code",
   "execution_count": 1,
   "metadata": {},
   "outputs": [
    {
     "data": {
      "text/plain": [
       "array([], dtype=float64)"
      ]
     },
     "execution_count": 1,
     "metadata": {},
     "output_type": "execute_result"
    }
   ],
   "source": [
    "# Just an example of make_array\n",
    "from datascience import *\n",
    "make_array()"
   ]
  },
  {
   "cell_type": "code",
   "execution_count": 2,
   "metadata": {},
   "outputs": [
    {
     "data": {
      "text/plain": [
       "array([], dtype=float64)"
      ]
     },
     "execution_count": 2,
     "metadata": {},
     "output_type": "execute_result"
    }
   ],
   "source": [
    "# Just an example of np.array\n",
    "import numpy as np\n",
    "np.array([])"
   ]
  },
  {
   "cell_type": "code",
   "execution_count": 3,
   "metadata": {},
   "outputs": [],
   "source": [
    "# A helper function to quantify noise\n",
    "\n",
    "def quantify_noise(series, expected_series):\n",
    "    # Temporary stand-in for quantifying the noise.  We'll need a better function later.\n",
    "    return np.mean(series - expected_series)/np.max(expected_series)"
   ]
  },
  {
   "cell_type": "code",
   "execution_count": 10,
   "metadata": {},
   "outputs": [],
   "source": [
    "# A function to give a level of uncertainty based on amount of noise\n",
    "\n",
    "def determine_uncertainty(inputs: np.array, outputs: np.array, dt):\n",
    "    # Calculations for expected input\n",
    "    p, nt = outputs.shape\n",
    "    q, nt = inputs.shape\n",
    "    time = np.arange(0,nt*dt,dt)\n",
    "    expected_output = -0.172*np.exp(-0.05*time)*np.cos(3.16*time) + 0.025*np.exp(-0.05*time)*np.sin(3.16*time) + 0.172*np.exp(-time)*np.cos(np.pi*time) + 0.027*np.exp(-time)*np.sin(np.pi*time)\n",
    "    expected_input = np.exp(-time)*np.sin(np.pi*time)\n",
    "\n",
    "    # Calculations for amount of noise, comparing vibration to expected vibration\n",
    "    noise_output =  quantify_noise(outputs, expected_output)         \n",
    "    noise_input =   quantify_noise(inputs, expected_input)\n",
    "\n",
    "    # Give a level of uncertainty.\n",
    "\n",
    "    # Method 1: Give hard-coded numbers.\n",
    "    if noise_output >= 1 and noise_input >= 1:   # A lot of output noise AND a lot of input noise\n",
    "        level_of_certainty = ...\n",
    "    elif noise_output < 1 and noise_input < 1:   # A lot of output noise AND a lot of input noise\n",
    "        ...\n",
    "    elif ...:\n",
    "        ...\n",
    "    else:\n",
    "        ...\n",
    "\n",
    "    # Method 2: Calculate a level of certainty that decreases as noise increases\n",
    "    level_of_certainty = -noise_output + ...\n",
    "\n",
    "    return level_of_certainty\n",
    "\n"
   ]
  },
  {
   "cell_type": "code",
   "execution_count": 11,
   "metadata": {},
   "outputs": [
    {
     "data": {
      "text/plain": [
       "0.00014940220050658923"
      ]
     },
     "execution_count": 11,
     "metadata": {},
     "output_type": "execute_result"
    }
   ],
   "source": [
    "# Test it!\n",
    "time = np.array([np.arange(0,50,0.1)])\n",
    "inputs = np.exp(-time)*np.sin(np.pi*time) + np.random.normal(0,0.01,500)\n",
    "outputs = -0.172*np.exp(-0.05*time)*np.cos(3.16*time) + 0.025*np.exp(-0.05*time)*np.sin(3.16*time) + 0.172*np.exp(-time)*np.cos(np.pi*time) + 0.027*np.exp(-time)*np.sin(np.pi*time) + np.random.normal(0,0.0001,500)\n",
    "determine_uncertainty(inputs, outputs, 0.1)"
   ]
  },
  {
   "cell_type": "code",
   "execution_count": null,
   "metadata": {},
   "outputs": [],
   "source": []
  }
 ],
 "metadata": {
  "kernelspec": {
   "display_name": "mdof-dev",
   "language": "python",
   "name": "python3"
  },
  "language_info": {
   "codemirror_mode": {
    "name": "ipython",
    "version": 3
   },
   "file_extension": ".py",
   "mimetype": "text/x-python",
   "name": "python",
   "nbconvert_exporter": "python",
   "pygments_lexer": "ipython3",
   "version": "3.12.0"
  }
 },
 "nbformat": 4,
 "nbformat_minor": 2
}
