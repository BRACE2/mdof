{
 "cells": [
  {
   "attachments": {},
   "cell_type": "markdown",
   "id": "6cadac5c-e505-431c-9740-9268e17d2cf3",
   "metadata": {
    "tags": []
   },
   "source": [
    "# BRACE2 Structural System Identification Library (`ssid`)"
   ]
  },
  {
   "attachments": {},
   "cell_type": "markdown",
   "id": "4c369c63",
   "metadata": {},
   "source": [
    "[01_SISO_Intro.ipynb](01_SISO_Intro.ipynb): Introduction to system identification using the `ssid` package, with an example SDOF system, input, and output as a demonstration.\n",
    "\n",
    "[02_SISO_Event.ipynb](02_SISO_Event.ipynb): Perform system identification for a single event for a Single Input, Single Output (SISO) system.\n",
    "\n",
    "[03_SISO_History.ipynb](03_SISO_History.ipynb): Perform system identification for a set of events over time for a SISO system.\n",
    "\n",
    "[04_MIMO_Intro.ipynb](04_MIMO_Intro.ipynb): Introduction to Multiple Input, Multiple Output (MIMO) system identification using the `ssid` package.\n",
    "\n",
    "[05_MIMO_Event.ipynb](05_MIMO_Event.ipynb): Perform system identification for a single event for a MIMO system.\n",
    "\n",
    "[06_MIMO_History.ipynb](06_MIMO_History.ipynb): Perform system identification for a set of events over time for a MIMO system."
   ]
  },
  {
   "attachments": {},
   "cell_type": "markdown",
   "id": "fafa29bc",
   "metadata": {},
   "source": [
    "### Getting Started\n",
    "\n",
    "To upload:\n",
    "\n",
    "![Upload button](figures/uploads.png)\n",
    "\n",
    "To run:\n",
    "\n",
    "![Run button](figures/run_cells.png)\n"
   ]
  },
  {
   "attachments": {},
   "cell_type": "markdown",
   "id": "b54883ff",
   "metadata": {},
   "source": []
  }
 ],
 "metadata": {
  "kernelspec": {
   "display_name": "Python 3 (ipykernel)",
   "language": "python",
   "name": "python3"
  },
  "language_info": {
   "codemirror_mode": {
    "name": "ipython",
    "version": 3
   },
   "file_extension": ".py",
   "mimetype": "text/x-python",
   "name": "python",
   "nbconvert_exporter": "python",
   "pygments_lexer": "ipython3",
   "version": "3.9.10"
  },
  "toc-showtags": false
 },
 "nbformat": 4,
 "nbformat_minor": 5
}
