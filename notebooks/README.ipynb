{
 "cells": [
  {
   "cell_type": "markdown",
   "id": "6cadac5c-e505-431c-9740-9268e17d2cf3",
   "metadata": {
    "tags": []
   },
   "source": [
    "# BRACE2 Structural System Identification Library (`ssid`)"
   ]
  },
  {
   "cell_type": "markdown",
   "id": "19cb2b7c-2886-4ced-b046-e45ac4b3c244",
   "metadata": {
    "tags": []
   },
   "source": [
    "## Methods\n",
    "#### Transfer Function Estimates\n",
    "\n",
    "- **Response Transfer** -- Response Spectrum Transfer Function Estimate ([`ssid.rstf`](TransferFunction.ipynb))"
   ]
  },
  {
   "cell_type": "markdown",
   "id": "67054b8b-f6e1-4468-b55e-2904736c694f",
   "metadata": {
    "tags": []
   },
   "source": [
    "#### State-Space Models\n",
    "\n",
    "- **OKID-ERA-DC** -- Observer/Kalman Identification with Eigen Realization Algorithm and Direct Correlations ([`ssid.okid_era_dc`](OKID_ERA_DC.ipynb))\n",
    "- **SRIM** -- System Realization with Information Matrix ([`ssid.srim`](SRIM.ipynb))"
   ]
  },
  {
   "cell_type": "markdown",
   "id": "4deadf69-783c-46e8-adb7-72e9533b6582",
   "metadata": {
    "tags": []
   },
   "source": [
    "#### Utilities\n",
    "\n",
    "- **ResponseSpectrum** -- Newmark-integrated response spectrum ([`ssid.ResponseSpectrum`](ResponseSpectrum.ipynb))"
   ]
  },
  {
   "cell_type": "markdown",
   "id": "e9817725-5f76-4da0-afff-97478fcf9157",
   "metadata": {
    "tags": []
   },
   "source": [
    "## Example Bridges\n",
    "\n",
    "Data is provided in the directories `bernardino/`, `painter/`, `meloland/` and `hayward/`. \n",
    "Sensor layouts for these bridges are illustrated below:"
   ]
  },
  {
   "cell_type": "markdown",
   "id": "b818efb7-5834-41f8-ab98-d379728eafd9",
   "metadata": {
    "tags": []
   },
   "source": [
    "### Hayward\n",
    "\n",
    "![Hayward bridge sensor layout](assets/ll58658_2.svg)"
   ]
  },
  {
   "cell_type": "markdown",
   "id": "565dc0b1-724c-44c3-aefe-b798713c9994",
   "metadata": {
    "tags": []
   },
   "source": [
    "### Meloland\n",
    "\n",
    "\n",
    "![Meloland Overpass schematic placement of sensors](assets/ll01336_1.svg)"
   ]
  },
  {
   "cell_type": "markdown",
   "id": "0787cf40-85e5-4416-a026-7ac3378d47b5",
   "metadata": {
    "tags": []
   },
   "source": [
    "### Painter St.\n",
    "\n",
    "![Painter Street Overpass (Rio Dell Hwy)](assets/ll89324_2.svg)"
   ]
  },
  {
   "cell_type": "markdown",
   "id": "aa6af015-0cb5-4e59-89ef-336ba7225785",
   "metadata": {
    "tags": []
   },
   "source": [
    "### San Bernardino\n",
    "\n",
    "![San Bernardino](assets/ll23631_1.svg)"
   ]
  },
  {
   "cell_type": "code",
   "execution_count": null,
   "id": "f101c726-4c19-4ee5-8c49-964d316a5c35",
   "metadata": {},
   "outputs": [],
   "source": []
  }
 ],
 "metadata": {
  "kernelspec": {
   "display_name": "Python 3 (ipykernel)",
   "language": "python",
   "name": "python3"
  },
  "language_info": {
   "codemirror_mode": {
    "name": "ipython",
    "version": 3
   },
   "file_extension": ".py",
   "mimetype": "text/x-python",
   "name": "python",
   "nbconvert_exporter": "python",
   "pygments_lexer": "ipython3",
   "version": "3.9.10"
  },
  "toc-showtags": false
 },
 "nbformat": 4,
 "nbformat_minor": 5
}
