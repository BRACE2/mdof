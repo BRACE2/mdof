{
 "cells": [
  {
   "attachments": {},
   "cell_type": "markdown",
   "id": "6cadac5c-e505-431c-9740-9268e17d2cf3",
   "metadata": {
    "tags": []
   },
   "source": [
    "# BRACE2 Structural System Identification Library (`ssid`)"
   ]
  },
  {
   "attachments": {},
   "cell_type": "markdown",
   "id": "a089497e",
   "metadata": {},
   "source": [
    "Run the following cell to install the BRACE2 packages:"
   ]
  },
  {
   "cell_type": "code",
   "execution_count": null,
   "id": "cff7d6c5",
   "metadata": {
    "vscode": {
     "languageId": "plaintext"
    }
   },
   "outputs": [],
   "source": [
    "!pip install -Ur requirements.txt"
   ]
  },
  {
   "attachments": {},
   "cell_type": "markdown",
   "id": "4c369c63",
   "metadata": {},
   "source": [
    "<!-- [01_SISO_Intro.ipynb](01_SISO_Intro.ipynb): Introduction to system identification using the `ssid` package, with an example SDOF system, input, and output as a demonstration.\n",
    "\n",
    "[02_SISO_Event.ipynb](02_SISO_Event.ipynb): Perform system identification for a single event for a Single Input, Single Output (SISO) system.\n",
    "\n",
    "[03_SISO_History.ipynb](03_SISO_History.ipynb): Perform system identification for a set of events over time for a SISO system.\n",
    "\n",
    "[04_MIMO_Intro.ipynb](04_MIMO_Intro.ipynb): Introduction to Multiple Input, Multiple Output (MIMO) system identification using the `ssid` package.\n",
    "\n",
    "[05_MIMO_Event.ipynb](05_MIMO_Event.ipynb): Perform system identification for a single event for a MIMO system.\n",
    "\n",
    "[06_MIMO_History.ipynb](06_MIMO_History.ipynb): Perform system identification for a set of events over time for a MIMO system. -->\n",
    "\n",
    "<dl>\n",
    "<dt><a href=\"01_SISO_Intro.ipynb\">01_SISO_Intro.ipynb</a></dt>\n",
    "<dd><p>Introduction to system identification using the <code>ssid</code> package, with an example SDOF system, input, and output as a demonstration.</p>\n",
    "</dd>\n",
    "<dt><a href=\"02_SISO_Event.ipynb\">02_SISO_Event.ipynb</a></dt>\n",
    "<dd><p>Perform system identification for a single event for a Single Input, Single Output (SISO) system.</p>\n",
    "</dd>\n",
    "<dt><a href=\"03_SISO_History.ipynb\">03_SISO_History.ipynb</a></dt>\n",
    "<dd><p>Perform system identification for a set of events over time for a SISO system.</p>\n",
    "</dd>\n",
    "<dt><a href=\"04_MIMO_Intro.ipynb\">04_MIMO_Intro.ipynb</a></dt>\n",
    "<dd><p>Introduction to Multiple Input, Multiple Output (MIMO) system identification using the <code>ssid</code> package.</p>\n",
    "</dd>\n",
    "<dt><a href=\"05_MIMO_Event.ipynb\">05_MIMO_Event.ipynb</a></dt>\n",
    "<dd><p>Perform system identification for a single event for a MIMO system.</p>\n",
    "</dd>\n",
    "<dt><a href=\"06_MIMO_History.ipynb\">06_MIMO_History.ipynb</a></dt>\n",
    "<dd><p>Perform system identification for a set of events over time for a MIMO system.</p>\n",
    "</dd>\n",
    "</dl>"
   ]
  },
  {
   "attachments": {},
   "cell_type": "markdown",
   "id": "b2fd8aa9",
   "metadata": {},
   "source": [
    "### Getting Started\n"
   ]
  },
  {
   "attachments": {},
   "cell_type": "markdown",
   "id": "fafa29bc",
   "metadata": {},
   "source": [
    "To upload:\n",
    "\n",
    "![Upload button](figures/uploads.png)\n",
    "\n",
    "To run:\n",
    "\n",
    "![Run button](figures/run_cells.png)\n"
   ]
  },
  {
   "attachments": {},
   "cell_type": "markdown",
   "id": "b54883ff",
   "metadata": {},
   "source": []
  }
 ],
 "metadata": {
  "kernelspec": {
   "display_name": "Python 3 (ipykernel)",
   "language": "python",
   "name": "python3"
  },
  "language_info": {
   "codemirror_mode": {
    "name": "ipython",
    "version": 3
   },
   "file_extension": ".py",
   "mimetype": "text/x-python",
   "name": "python",
   "nbconvert_exporter": "python",
   "pygments_lexer": "ipython3",
   "version": "3.9.10"
  },
  "toc-showtags": false
 },
 "nbformat": 4,
 "nbformat_minor": 5
}
