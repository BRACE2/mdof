{
 "cells": [
  {
   "attachments": {},
   "cell_type": "markdown",
   "id": "6cadac5c-e505-431c-9740-9268e17d2cf3",
   "metadata": {
    "tags": []
   },
   "source": [
    "# BRACE2 Structural System Identification Library (`mdof`)"
   ]
  },
  {
   "attachments": {},
   "cell_type": "markdown",
   "id": "4c369c63",
   "metadata": {},
   "source": [
    "<h3 id=\"siso\">SISO</h3>\n",
    "<dl>\n",
    "<dt><a href=\"01_SISO_Intro.ipynb\"><code>01_SISO_Intro.ipynb</code></a></dt>\n",
    "<dd><p>Introduction to system identification using the <code>mdof</code> package, with an example SDOF system, input, and output as a demonstration.</p>\n",
    "</dd>\n",
    "<dt><a href=\"02_SISO_Event.ipynb\"><code>02_SISO_Event.ipynb</code></a></dt>\n",
    "<dd><p>Perform system identification for a single event for a Single Input, Single Output (SISO) system.</p>\n",
    "</dd>\n",
    "<dt><a href=\"03_SISO_History.ipynb\"><code>03_SISO_History.ipynb</code></a></dt>\n",
    "<dd><p>Perform system identification for a set of events over time for a SISO system.</p>\n",
    "</dd>\n",
    "</dl>\n",
    "<h3 id=\"mimo\">MIMO (Under development)</h3>\n",
    "<dl>\n",
    "<dt><a href=\"04_SIMO_Event.ipynb\"><code>04_SIMO_Event.ipynb</code></a></dt>\n",
    "<dd><p>Perform system identification for a single event for a MIMO system.</p>\n",
    "</dd>\n",
    "<dt><a href=\"05_MIMO_Intro.ipynb\"><code>05_MIMO_Intro.ipynb</code></a></dt>\n",
    "<dd><p>Introduction to Multiple Input, Multiple Output (MIMO) system identification using the <code>mdof</code> package.</p>\n",
    "</dd>\n",
    "<dt><a href=\"06_MIMO_History.ipynb\"><code>06_MIMO_History.ipynb</code></a></dt>\n",
    "<dd><p>Perform system identification for a set of events over time for a MIMO system.</p>\n",
    "</dd>\n",
    "</dl>"
   ]
  },
  {
   "attachments": {},
   "cell_type": "markdown",
   "id": "a089497e",
   "metadata": {},
   "source": [
    "Run the following cell to install the BRACE2 packages:"
   ]
  },
  {
   "cell_type": "code",
   "execution_count": 1,
   "id": "cff7d6c5",
   "metadata": {
    "execution": {
     "iopub.execute_input": "2023-10-08T23:29:45.860521Z",
     "iopub.status.busy": "2023-10-08T23:29:45.859934Z",
     "iopub.status.idle": "2023-10-08T23:29:46.914264Z",
     "shell.execute_reply": "2023-10-08T23:29:46.913108Z"
    },
    "vscode": {
     "languageId": "plaintext"
    }
   },
   "outputs": [
    {
     "name": "stdout",
     "output_type": "stream",
     "text": [
      "Defaulting to user installation because normal site-packages is not writeable\r\n"
     ]
    },
    {
     "name": "stdout",
     "output_type": "stream",
     "text": [
      "\u001b[31mERROR: Could not open requirements file: [Errno 2] No such file or directory: 'requirements.txt'\u001b[0m\u001b[31m\r\n",
      "\u001b[0m"
     ]
    },
    {
     "name": "stdout",
     "output_type": "stream",
     "text": [
      "--- Logging error ---\r\n",
      "Traceback (most recent call last):\r\n",
      "  File \"/home/xstal/.local/lib/python3.8/site-packages/pip/_internal/utils/logging.py\", line 177, in emit\r\n",
      "    self.console.print(renderable, overflow=\"ignore\", crop=False, style=style)\r\n",
      "  File \"/home/xstal/.local/lib/python3.8/site-packages/pip/_vendor/rich/console.py\", line 1752, in print\r\n",
      "    extend(render(renderable, render_options))\r\n",
      "  File \"/home/xstal/.local/lib/python3.8/site-packages/pip/_vendor/rich/console.py\", line 1390, in render\r\n",
      "    for render_output in iter_render:\r\n",
      "  File \"/home/xstal/.local/lib/python3.8/site-packages/pip/_internal/utils/logging.py\", line 134, in __rich_console__\r\n",
      "    for line in lines:\r\n",
      "  File \"/home/xstal/.local/lib/python3.8/site-packages/pip/_vendor/rich/segment.py\", line 245, in split_lines\r\n",
      "    for segment in segments:\r\n",
      "  File \"/home/xstal/.local/lib/python3.8/site-packages/pip/_vendor/rich/console.py\", line 1368, in render\r\n",
      "    renderable = rich_cast(renderable)\r\n",
      "  File \"/home/xstal/.local/lib/python3.8/site-packages/pip/_vendor/rich/protocol.py\", line 36, in rich_cast\r\n",
      "    renderable = cast_method()\r\n",
      "  File \"/home/xstal/.local/lib/python3.8/site-packages/pip/_internal/self_outdated_check.py\", line 130, in __rich__\r\n",
      "    pip_cmd = get_best_invocation_for_this_pip()\r\n",
      "  File \"/home/xstal/.local/lib/python3.8/site-packages/pip/_internal/utils/entrypoints.py\", line 58, in get_best_invocation_for_this_pip\r\n",
      "    if found_executable and os.path.samefile(\r\n",
      "  File \"/usr/lib/python3.8/genericpath.py\", line 101, in samefile\r\n",
      "    s2 = os.stat(f2)\r\n",
      "FileNotFoundError: [Errno 2] No such file or directory: '/usr/bin/pip3.8'\r\n",
      "Call stack:\r\n",
      "  File \"/home/xstal/.local/bin/pip\", line 8, in <module>\r\n",
      "    sys.exit(main())\r\n",
      "  File \"/home/xstal/.local/lib/python3.8/site-packages/pip/_internal/cli/main.py\", line 70, in main\r\n",
      "    return command.main(cmd_args)\r\n",
      "  File \"/home/xstal/.local/lib/python3.8/site-packages/pip/_internal/cli/base_command.py\", line 101, in main\r\n",
      "    return self._main(args)\r\n",
      "  File \"/home/xstal/.local/lib/python3.8/site-packages/pip/_internal/cli/base_command.py\", line 223, in _main\r\n",
      "    self.handle_pip_version_check(options)\r\n",
      "  File \"/home/xstal/.local/lib/python3.8/site-packages/pip/_internal/cli/req_command.py\", line 148, in handle_pip_version_check\r\n",
      "    pip_self_version_check(session, options)\r\n",
      "  File \"/home/xstal/.local/lib/python3.8/site-packages/pip/_internal/self_outdated_check.py\", line 237, in pip_self_version_check\r\n",
      "    logger.info(\"[present-rich] %s\", upgrade_prompt)\r\n",
      "  File \"/usr/lib/python3.8/logging/__init__.py\", line 1446, in info\r\n",
      "    self._log(INFO, msg, args, **kwargs)\r\n",
      "  File \"/usr/lib/python3.8/logging/__init__.py\", line 1589, in _log\r\n",
      "    self.handle(record)\r\n",
      "  File \"/usr/lib/python3.8/logging/__init__.py\", line 1599, in handle\r\n",
      "    self.callHandlers(record)\r\n",
      "  File \"/usr/lib/python3.8/logging/__init__.py\", line 1661, in callHandlers\r\n",
      "    hdlr.handle(record)\r\n",
      "  File \"/usr/lib/python3.8/logging/__init__.py\", line 954, in handle\r\n",
      "    self.emit(record)\r\n",
      "  File \"/home/xstal/.local/lib/python3.8/site-packages/pip/_internal/utils/logging.py\", line 179, in emit\r\n",
      "    self.handleError(record)\r\n",
      "Message: '[present-rich] %s'\r\n",
      "Arguments: (UpgradePrompt(old='22.1.2', new='23.2.1'),)\r\n"
     ]
    }
   ],
   "source": [
    "!pip install -Ur requirements.txt"
   ]
  },
  {
   "attachments": {},
   "cell_type": "markdown",
   "id": "b2fd8aa9",
   "metadata": {},
   "source": [
    "### Getting Started\n"
   ]
  },
  {
   "attachments": {},
   "cell_type": "markdown",
   "id": "fafa29bc",
   "metadata": {},
   "source": [
    "To upload:\n",
    "\n",
    "![Upload button](figures/uploads.png)\n",
    "\n",
    "To run:\n",
    "\n",
    "![Run button](figures/run_cells.png)\n"
   ]
  }
 ],
 "metadata": {
  "kernelspec": {
   "display_name": "Python 3 (ipykernel)",
   "language": "python",
   "name": "python3"
  },
  "language_info": {
   "codemirror_mode": {
    "name": "ipython",
    "version": 3
   },
   "file_extension": ".py",
   "mimetype": "text/x-python",
   "name": "python",
   "nbconvert_exporter": "python",
   "pygments_lexer": "ipython3",
   "version": "3.8.10"
  },
  "toc-showtags": false
 },
 "nbformat": 4,
 "nbformat_minor": 5
}
